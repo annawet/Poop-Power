{
 "cells": [
  {
   "cell_type": "code",
   "execution_count": 2,
   "id": "ef73e945-45b6-4906-8611-faf4d178157e",
   "metadata": {},
   "outputs": [],
   "source": [
    "import os\n",
    "import math\n",
    "import matplotlib.pyplot as plt\n",
    "import numpy as np\n",
    "import pandas as pd\n",
    "import seaborn as sns\n",
    "\n",
    "from scipy import stats\n",
    "\n",
    "data_dir = 'poop_data'\n",
    "\n",
    "# this is to silence pandas' warnings\n",
    "import warnings\n",
    "warnings.simplefilter(action='ignore')\n",
    "    \n",
    "%matplotlib inline"
   ]
  },
  {
   "cell_type": "code",
   "execution_count": 3,
   "id": "fd6cee66-74f8-4d01-b47f-19339b2ab21a",
   "metadata": {
    "tags": []
   },
   "outputs": [
    {
     "data": {
      "text/html": [
       "<div>\n",
       "<style scoped>\n",
       "    .dataframe tbody tr th:only-of-type {\n",
       "        vertical-align: middle;\n",
       "    }\n",
       "\n",
       "    .dataframe tbody tr th {\n",
       "        vertical-align: top;\n",
       "    }\n",
       "\n",
       "    .dataframe thead th {\n",
       "        text-align: right;\n",
       "    }\n",
       "</style>\n",
       "<table border=\"1\" class=\"dataframe\">\n",
       "  <thead>\n",
       "    <tr style=\"text-align: right;\">\n",
       "      <th></th>\n",
       "      <th>sampleid</th>\n",
       "      <th>GEN_age_cat</th>\n",
       "      <th>GEN_age_corrected</th>\n",
       "      <th>GEN_bmi_cat</th>\n",
       "      <th>GEN_bmi_corrected</th>\n",
       "      <th>GEN_cat</th>\n",
       "      <th>GEN_collection_timestamp</th>\n",
       "      <th>GEN_country</th>\n",
       "      <th>GEN_dog</th>\n",
       "      <th>GEN_elevation</th>\n",
       "      <th>...</th>\n",
       "      <th>HEA_lung_disease</th>\n",
       "      <th>HEA_mental_illness</th>\n",
       "      <th>HEA_migraine</th>\n",
       "      <th>HEA_seasonal_allergies</th>\n",
       "      <th>HEA_sibo</th>\n",
       "      <th>HEA_skin_condition</th>\n",
       "      <th>HEA_sleep_duration</th>\n",
       "      <th>HEA_smoking_frequency</th>\n",
       "      <th>HEA_thyroid</th>\n",
       "      <th>HEA_weight_change</th>\n",
       "    </tr>\n",
       "  </thead>\n",
       "  <tbody>\n",
       "    <tr>\n",
       "      <th>0</th>\n",
       "      <td>10317.000046</td>\n",
       "      <td>20s</td>\n",
       "      <td>20.0</td>\n",
       "      <td>Normal</td>\n",
       "      <td>23.75</td>\n",
       "      <td>False</td>\n",
       "      <td>2016-08-25 18:30:00</td>\n",
       "      <td>USA</td>\n",
       "      <td>True</td>\n",
       "      <td>1919.3</td>\n",
       "      <td>...</td>\n",
       "      <td>False</td>\n",
       "      <td>False</td>\n",
       "      <td>False</td>\n",
       "      <td>True</td>\n",
       "      <td>False</td>\n",
       "      <td>False</td>\n",
       "      <td>8 or more hours</td>\n",
       "      <td>Never</td>\n",
       "      <td>False</td>\n",
       "      <td>Decreased more than 10 pounds</td>\n",
       "    </tr>\n",
       "    <tr>\n",
       "      <th>1</th>\n",
       "      <td>10317.000050</td>\n",
       "      <td>Not provided</td>\n",
       "      <td>NaN</td>\n",
       "      <td>Overweight</td>\n",
       "      <td>25.61</td>\n",
       "      <td>False</td>\n",
       "      <td>2016-07-06 09:00:00</td>\n",
       "      <td>United Kingdom</td>\n",
       "      <td>False</td>\n",
       "      <td>65.5</td>\n",
       "      <td>...</td>\n",
       "      <td>False</td>\n",
       "      <td>False</td>\n",
       "      <td>False</td>\n",
       "      <td>False</td>\n",
       "      <td>False</td>\n",
       "      <td>True</td>\n",
       "      <td>7-8 hours</td>\n",
       "      <td>Never</td>\n",
       "      <td>False</td>\n",
       "      <td>Remained stable</td>\n",
       "    </tr>\n",
       "    <tr>\n",
       "      <th>2</th>\n",
       "      <td>10317.000038</td>\n",
       "      <td>30s</td>\n",
       "      <td>39.0</td>\n",
       "      <td>Overweight</td>\n",
       "      <td>27.67</td>\n",
       "      <td>False</td>\n",
       "      <td>2016-06-29 09:30:00</td>\n",
       "      <td>United Kingdom</td>\n",
       "      <td>False</td>\n",
       "      <td>44.5</td>\n",
       "      <td>...</td>\n",
       "      <td>False</td>\n",
       "      <td>False</td>\n",
       "      <td>False</td>\n",
       "      <td>False</td>\n",
       "      <td>False</td>\n",
       "      <td>False</td>\n",
       "      <td>7-8 hours</td>\n",
       "      <td>Not provided</td>\n",
       "      <td>False</td>\n",
       "      <td>Remained stable</td>\n",
       "    </tr>\n",
       "    <tr>\n",
       "      <th>3</th>\n",
       "      <td>10317.000047</td>\n",
       "      <td>50s</td>\n",
       "      <td>56.0</td>\n",
       "      <td>Normal</td>\n",
       "      <td>19.71</td>\n",
       "      <td>False</td>\n",
       "      <td>2016-07-12 17:30:00</td>\n",
       "      <td>Germany</td>\n",
       "      <td>False</td>\n",
       "      <td>8.7</td>\n",
       "      <td>...</td>\n",
       "      <td>False</td>\n",
       "      <td>False</td>\n",
       "      <td>True</td>\n",
       "      <td>False</td>\n",
       "      <td>False</td>\n",
       "      <td>True</td>\n",
       "      <td>6-7 hours</td>\n",
       "      <td>Never</td>\n",
       "      <td>True</td>\n",
       "      <td>Decreased more than 10 pounds</td>\n",
       "    </tr>\n",
       "    <tr>\n",
       "      <th>4</th>\n",
       "      <td>10317.000046</td>\n",
       "      <td>40s</td>\n",
       "      <td>45.0</td>\n",
       "      <td>Normal</td>\n",
       "      <td>23.15</td>\n",
       "      <td>False</td>\n",
       "      <td>2016-05-24 19:00:00</td>\n",
       "      <td>United Kingdom</td>\n",
       "      <td>True</td>\n",
       "      <td>68.8</td>\n",
       "      <td>...</td>\n",
       "      <td>False</td>\n",
       "      <td>False</td>\n",
       "      <td>False</td>\n",
       "      <td>True</td>\n",
       "      <td>False</td>\n",
       "      <td>True</td>\n",
       "      <td>6-7 hours</td>\n",
       "      <td>Never</td>\n",
       "      <td>False</td>\n",
       "      <td>Remained stable</td>\n",
       "    </tr>\n",
       "  </tbody>\n",
       "</table>\n",
       "<p>5 rows × 52 columns</p>\n",
       "</div>"
      ],
      "text/plain": [
       "       sampleid   GEN_age_cat  GEN_age_corrected GEN_bmi_cat  \\\n",
       "0  10317.000046           20s               20.0      Normal   \n",
       "1  10317.000050  Not provided                NaN  Overweight   \n",
       "2  10317.000038           30s               39.0  Overweight   \n",
       "3  10317.000047           50s               56.0      Normal   \n",
       "4  10317.000046           40s               45.0      Normal   \n",
       "\n",
       "   GEN_bmi_corrected  GEN_cat GEN_collection_timestamp     GEN_country  \\\n",
       "0              23.75    False      2016-08-25 18:30:00             USA   \n",
       "1              25.61    False      2016-07-06 09:00:00  United Kingdom   \n",
       "2              27.67    False      2016-06-29 09:30:00  United Kingdom   \n",
       "3              19.71    False      2016-07-12 17:30:00         Germany   \n",
       "4              23.15    False      2016-05-24 19:00:00  United Kingdom   \n",
       "\n",
       "   GEN_dog  GEN_elevation  ... HEA_lung_disease  HEA_mental_illness  \\\n",
       "0     True         1919.3  ...            False               False   \n",
       "1    False           65.5  ...            False               False   \n",
       "2    False           44.5  ...            False               False   \n",
       "3    False            8.7  ...            False               False   \n",
       "4     True           68.8  ...            False               False   \n",
       "\n",
       "  HEA_migraine HEA_seasonal_allergies HEA_sibo  HEA_skin_condition  \\\n",
       "0        False                   True    False               False   \n",
       "1        False                  False    False                True   \n",
       "2        False                  False    False               False   \n",
       "3         True                  False    False                True   \n",
       "4        False                   True    False                True   \n",
       "\n",
       "  HEA_sleep_duration  HEA_smoking_frequency HEA_thyroid  \\\n",
       "0    8 or more hours                  Never       False   \n",
       "1          7-8 hours                  Never       False   \n",
       "2          7-8 hours           Not provided       False   \n",
       "3          6-7 hours                  Never        True   \n",
       "4          6-7 hours                  Never       False   \n",
       "\n",
       "               HEA_weight_change  \n",
       "0  Decreased more than 10 pounds  \n",
       "1                Remained stable  \n",
       "2                Remained stable  \n",
       "3  Decreased more than 10 pounds  \n",
       "4                Remained stable  \n",
       "\n",
       "[5 rows x 52 columns]"
      ]
     },
     "execution_count": 3,
     "metadata": {},
     "output_type": "execute_result"
    }
   ],
   "source": [
    "metadata = pd.read_csv(data_dir + '/metadata.tsv', sep='\\t')\n",
    "metadata.head(5)"
   ]
  },
  {
   "cell_type": "markdown",
   "id": "f41eabf2-5d2e-424b-8d23-9e995cc7bbdd",
   "metadata": {},
   "source": [
    "### Stacked bar"
   ]
  },
  {
   "cell_type": "markdown",
   "id": "042e3c1c-3c72-4bea-9c08-a751087235cc",
   "metadata": {},
   "source": [
    "### 5 diseases & Antibiotic history\n",
    "select top 5 diseases with True, the draw a graph with HEA_antibiotic_history"
   ]
  },
  {
   "cell_type": "code",
   "execution_count": 4,
   "id": "783d7ada-1910-4e81-b6b0-06aecc265bd3",
   "metadata": {
    "tags": []
   },
   "outputs": [
    {
     "data": {
      "text/plain": [
       "['HEA_ibd', 5, 4, 6, 3, 16, 0]"
      ]
     },
     "execution_count": 4,
     "metadata": {},
     "output_type": "execute_result"
    }
   ],
   "source": [
    "HEA_ibd=['HEA_ibd','HEA_antibiotic_history']\n",
    "ibd=metadata.loc[:, HEA_ibd]\n",
    "ibd_true=ibd[ibd.HEA_ibd==True]\n",
    "ibd_true['Catagory']='HEA_ibd'\n",
    "ibd_true\n",
    "\n",
    "year=ibd_true[ibd_true['HEA_antibiotic_history']=='Year']\n",
    "\n",
    "six_months=ibd_true[ibd_true['HEA_antibiotic_history']=='6 months']\n",
    "\n",
    "Month=ibd_true[ibd_true['HEA_antibiotic_history']=='Month']\n",
    "\n",
    "Week=ibd_true[ibd_true['HEA_antibiotic_history']=='Week']\n",
    "\n",
    "not_taken_in_the_past_year=ibd_true[ibd_true['HEA_antibiotic_history']=='I have not taken antibiotics in the past year.']\n",
    "\n",
    "Not_provided=ibd_true[ibd_true['HEA_antibiotic_history']=='Not provided']\n",
    "\n",
    "\n",
    "data1=['HEA_ibd',year['Catagory'].count(),six_months['Catagory'].count(),Month['Catagory'].count()\n",
    ",Week['Catagory'].count(),not_taken_in_the_past_year['Catagory'].count(),Not_provided['Catagory'].count()]\n",
    "data1"
   ]
  },
  {
   "cell_type": "code",
   "execution_count": 5,
   "id": "d5681747-893e-4c56-a69a-21698db2a1ab",
   "metadata": {
    "tags": []
   },
   "outputs": [
    {
     "data": {
      "text/plain": [
       "['HEA_cdiff', 2, 2, 1, 0, 2, 0]"
      ]
     },
     "execution_count": 5,
     "metadata": {},
     "output_type": "execute_result"
    }
   ],
   "source": [
    "HEA_cdiff=['HEA_cdiff','HEA_antibiotic_history']\n",
    "cdiff=metadata.loc[:, HEA_cdiff]\n",
    "cdiff_true=cdiff[cdiff.HEA_cdiff==True]\n",
    "cdiff_true['Catagory']='HEA_cdiff'\n",
    "\n",
    "year=cdiff_true[cdiff_true['HEA_antibiotic_history']=='Year']\n",
    "\n",
    "six_months=cdiff_true[cdiff_true['HEA_antibiotic_history']=='6 months']\n",
    "\n",
    "Month=cdiff_true[cdiff_true['HEA_antibiotic_history']=='Month']\n",
    "\n",
    "Week=cdiff_true[cdiff_true['HEA_antibiotic_history']=='Week']\n",
    "\n",
    "not_taken_in_the_past_year=cdiff_true[cdiff_true['HEA_antibiotic_history']=='I have not taken antibiotics in the past year.']\n",
    "\n",
    "Not_provided=cdiff_true[cdiff_true['HEA_antibiotic_history']=='Not provided']\n",
    "\n",
    "\n",
    "data2=['HEA_cdiff',year['Catagory'].count(),six_months['Catagory'].count(),Month['Catagory'].count()\n",
    ",Week['Catagory'].count(),not_taken_in_the_past_year['Catagory'].count(),Not_provided['Catagory'].count()]\n",
    "data2"
   ]
  },
  {
   "cell_type": "code",
   "execution_count": 6,
   "id": "64663db1-98ba-4b0b-a816-93ef3a00b1fb",
   "metadata": {
    "tags": []
   },
   "outputs": [
    {
     "data": {
      "text/plain": [
       "['HEA_sibo', 0, 5, 3, 3, 16, 0]"
      ]
     },
     "execution_count": 6,
     "metadata": {},
     "output_type": "execute_result"
    }
   ],
   "source": [
    "HEA_sibo=['HEA_sibo','HEA_antibiotic_history']\n",
    "sibo=metadata.loc[:, HEA_sibo]\n",
    "sibo_true=sibo[sibo.HEA_sibo==True]\n",
    "sibo_true['Catagory']='HEA_sibo'\n",
    "\n",
    "year=sibo_true[sibo_true['HEA_antibiotic_history']=='Year']\n",
    "\n",
    "six_months=sibo_true[sibo_true['HEA_antibiotic_history']=='6 months']\n",
    "\n",
    "Month=sibo_true[sibo_true['HEA_antibiotic_history']=='Month']\n",
    "\n",
    "Week=sibo_true[sibo_true['HEA_antibiotic_history']=='Week']\n",
    "\n",
    "not_taken_in_the_past_year=sibo_true[sibo_true['HEA_antibiotic_history']=='I have not taken antibiotics in the past year.']\n",
    "\n",
    "Not_provided=sibo_true[sibo_true['HEA_antibiotic_history']=='Not provided']\n",
    "\n",
    "\n",
    "data3=['HEA_sibo',year['Catagory'].count(),six_months['Catagory'].count(),Month['Catagory'].count()\n",
    ",Week['Catagory'].count(),not_taken_in_the_past_year['Catagory'].count(),Not_provided['Catagory'].count()]\n",
    "data3"
   ]
  },
  {
   "cell_type": "code",
   "execution_count": 7,
   "id": "8dd229f8-19bb-4e52-8971-59573536bf0f",
   "metadata": {
    "tags": []
   },
   "outputs": [
    {
     "data": {
      "text/plain": [
       "['HEA_acid_reflux', 17, 20, 4, 2, 50, 0]"
      ]
     },
     "execution_count": 7,
     "metadata": {},
     "output_type": "execute_result"
    }
   ],
   "source": [
    "HEA_acid_reflux=['HEA_acid_reflux','HEA_antibiotic_history']\n",
    "acid_reflux=metadata.loc[:, HEA_acid_reflux]\n",
    "acid_reflux_true=acid_reflux[acid_reflux.HEA_acid_reflux==True]\n",
    "acid_reflux_true['Catagory']='HEA_acid_reflux'\n",
    "\n",
    "year=acid_reflux_true[acid_reflux_true['HEA_antibiotic_history']=='Year']\n",
    "\n",
    "six_months=acid_reflux_true[acid_reflux_true['HEA_antibiotic_history']=='6 months']\n",
    "\n",
    "Month=acid_reflux_true[acid_reflux_true['HEA_antibiotic_history']=='Month']\n",
    "\n",
    "Week=acid_reflux_true[acid_reflux_true['HEA_antibiotic_history']=='Week']\n",
    "\n",
    "not_taken_in_the_past_year=acid_reflux_true[acid_reflux_true['HEA_antibiotic_history']=='I have not taken antibiotics in the past year.']\n",
    "\n",
    "Not_provided=acid_reflux_true[acid_reflux_true['HEA_antibiotic_history']=='Not provided']\n",
    "\n",
    "\n",
    "data4=['HEA_acid_reflux',year['Catagory'].count(),six_months['Catagory'].count(),Month['Catagory'].count()\n",
    ",Week['Catagory'].count(),not_taken_in_the_past_year['Catagory'].count(),Not_provided['Catagory'].count()]\n",
    "data4"
   ]
  },
  {
   "cell_type": "code",
   "execution_count": 8,
   "id": "8c6fb534-41e1-46d2-91b7-7110343998cd",
   "metadata": {
    "tags": []
   },
   "outputs": [
    {
     "data": {
      "text/plain": [
       "['HEA_thyroid', 9, 9, 1, 1, 33, 0]"
      ]
     },
     "execution_count": 8,
     "metadata": {},
     "output_type": "execute_result"
    }
   ],
   "source": [
    "HEA_thyroid=['HEA_thyroid','HEA_antibiotic_history']\n",
    "thyroid=metadata.loc[:, HEA_thyroid]\n",
    "thyroid_true=thyroid[thyroid.HEA_thyroid==True]\n",
    "thyroid_true['Catagory']='HEA_thyroid'\n",
    "\n",
    "year=thyroid_true[thyroid_true['HEA_antibiotic_history']=='Year']\n",
    "\n",
    "six_months=thyroid_true[thyroid_true['HEA_antibiotic_history']=='6 months']\n",
    "\n",
    "Month=thyroid_true[thyroid_true['HEA_antibiotic_history']=='Month']\n",
    "\n",
    "Week=thyroid_true[thyroid_true['HEA_antibiotic_history']=='Week']\n",
    "\n",
    "not_taken_in_the_past_year=thyroid_true[thyroid_true['HEA_antibiotic_history']=='I have not taken antibiotics in the past year.']\n",
    "\n",
    "Not_provided=thyroid_true[thyroid_true['HEA_antibiotic_history']=='Not provided']\n",
    "\n",
    "\n",
    "data5=['HEA_thyroid',year['Catagory'].count(),six_months['Catagory'].count(),Month['Catagory'].count()\n",
    ",Week['Catagory'].count(),not_taken_in_the_past_year['Catagory'].count(),Not_provided['Catagory'].count()]\n",
    "data5"
   ]
  },
  {
   "cell_type": "code",
   "execution_count": 9,
   "id": "e96204e2-7120-47ad-98b3-7aedf6c07e08",
   "metadata": {
    "tags": []
   },
   "outputs": [
    {
     "data": {
      "text/html": [
       "<div>\n",
       "<style scoped>\n",
       "    .dataframe tbody tr th:only-of-type {\n",
       "        vertical-align: middle;\n",
       "    }\n",
       "\n",
       "    .dataframe tbody tr th {\n",
       "        vertical-align: top;\n",
       "    }\n",
       "\n",
       "    .dataframe thead th {\n",
       "        text-align: right;\n",
       "    }\n",
       "</style>\n",
       "<table border=\"1\" class=\"dataframe\">\n",
       "  <thead>\n",
       "    <tr style=\"text-align: right;\">\n",
       "      <th></th>\n",
       "      <th>Catagory</th>\n",
       "      <th>Year</th>\n",
       "      <th>6 months</th>\n",
       "      <th>Month</th>\n",
       "      <th>Week</th>\n",
       "      <th>I have not taken antibiotics in the past year.</th>\n",
       "      <th>Not provided</th>\n",
       "    </tr>\n",
       "  </thead>\n",
       "  <tbody>\n",
       "    <tr>\n",
       "      <th>0</th>\n",
       "      <td>HEA_ibd</td>\n",
       "      <td>5</td>\n",
       "      <td>4</td>\n",
       "      <td>6</td>\n",
       "      <td>3</td>\n",
       "      <td>16</td>\n",
       "      <td>0</td>\n",
       "    </tr>\n",
       "    <tr>\n",
       "      <th>1</th>\n",
       "      <td>HEA_cdiff</td>\n",
       "      <td>2</td>\n",
       "      <td>2</td>\n",
       "      <td>1</td>\n",
       "      <td>0</td>\n",
       "      <td>2</td>\n",
       "      <td>0</td>\n",
       "    </tr>\n",
       "    <tr>\n",
       "      <th>2</th>\n",
       "      <td>HEA_sibo</td>\n",
       "      <td>0</td>\n",
       "      <td>5</td>\n",
       "      <td>3</td>\n",
       "      <td>3</td>\n",
       "      <td>16</td>\n",
       "      <td>0</td>\n",
       "    </tr>\n",
       "    <tr>\n",
       "      <th>3</th>\n",
       "      <td>HEA_acid_reflux</td>\n",
       "      <td>17</td>\n",
       "      <td>20</td>\n",
       "      <td>4</td>\n",
       "      <td>2</td>\n",
       "      <td>50</td>\n",
       "      <td>0</td>\n",
       "    </tr>\n",
       "    <tr>\n",
       "      <th>4</th>\n",
       "      <td>HEA_thyroid</td>\n",
       "      <td>9</td>\n",
       "      <td>9</td>\n",
       "      <td>1</td>\n",
       "      <td>1</td>\n",
       "      <td>33</td>\n",
       "      <td>0</td>\n",
       "    </tr>\n",
       "  </tbody>\n",
       "</table>\n",
       "</div>"
      ],
      "text/plain": [
       "          Catagory  Year  6 months  Month  Week  \\\n",
       "0          HEA_ibd     5         4      6     3   \n",
       "1        HEA_cdiff     2         2      1     0   \n",
       "2         HEA_sibo     0         5      3     3   \n",
       "3  HEA_acid_reflux    17        20      4     2   \n",
       "4      HEA_thyroid     9         9      1     1   \n",
       "\n",
       "   I have not taken antibiotics in the past year.  Not provided  \n",
       "0                                              16             0  \n",
       "1                                               2             0  \n",
       "2                                              16             0  \n",
       "3                                              50             0  \n",
       "4                                              33             0  "
      ]
     },
     "execution_count": 9,
     "metadata": {},
     "output_type": "execute_result"
    }
   ],
   "source": [
    "data=[data1,data2,data3,data4,data5]\n",
    "df=pd.DataFrame(data,columns=['Catagory','Year','6 months','Month','Week','I have not taken antibiotics in the past year.','Not provided'])\n",
    "df"
   ]
  },
  {
   "cell_type": "code",
   "execution_count": 13,
   "id": "bd057f92-7094-4d72-b9f7-00e00cf33d55",
   "metadata": {},
   "outputs": [
    {
     "data": {
      "image/png": "[encoded data removed]",
      "text/plain": [
       "<Figure size 432x432 with 1 Axes>"
      ]
     },
     "metadata": {
      "needs_background": "light"
     },
     "output_type": "display_data"
    }
   ],
   "source": [
    "x = df['Catagory']\n",
    "y1 = df['Year']\n",
    "y2 = df['6 months']\n",
    "y3 =df['Month']\n",
    "y4 =df['Week']\n",
    "y5 =df['I have not taken antibiotics in the past year.']\n",
    "y6 =df['Not provided']\n",
    "plt.figure(figsize=(6, 6))\n",
    "plt.bar(x,y1,width=0.4,label='Year',color='indigo',edgecolor='black')\n",
    "plt.bar(x,y2,width=0.4,bottom=y1,label='6 months',color='orange',edgecolor='black')\n",
    "plt.bar(x,y3,width=0.4,bottom=y1+y2,label='Month',color='lightblue',edgecolor='black')\n",
    "plt.bar(x,y4,width=0.4,bottom=y1+y2+y3,label='Week',color='lightgreen',edgecolor='black')\n",
    "plt.bar(x,y5,width=0.4,bottom=y1+y2+y3+y4,label='have not taken in the past year',color='pink',edgecolor='black')\n",
    "plt.bar(x,y6,width=0.4,bottom=y1+y2+y3+y4+y5,label='Not provided',color='grey',edgecolor='black')\n",
    "\n",
    "\n",
    "plt.tick_params(axis='x',length=0)\n",
    "plt.yticks(rotation=45)\n",
    "plt.xticks(rotation=45)\n",
    "plt.ylim(0,100)\n",
    "\n",
    "plt.xlabel('Top 5 Diseases',fontsize=13)\n",
    "plt.ylabel('Antibiotic History',fontsize=13)\n",
    "plt.title('(c) Dependence of Antibiotic History on the Disease',fontsize=15,pad=20)\n",
    "plt.legend(loc=2,frameon=False,fontsize=10)\n",
    "plt.show()"
   ]
  },
  {
   "cell_type": "markdown",
   "id": "568eb755-d69c-440e-9b20-96bcbb92a124",
   "metadata": {},
   "source": [
    "### 5 diseases & SEX"
   ]
  },
  {
   "cell_type": "code",
   "execution_count": 15,
   "id": "643755a6-3199-409a-9bc2-2edce3114044",
   "metadata": {},
   "outputs": [
    {
     "data": {
      "text/plain": [
       "['HEA_ibd', 16, 18, 0, 0]"
      ]
     },
     "execution_count": 15,
     "metadata": {},
     "output_type": "execute_result"
    }
   ],
   "source": [
    "sex_HEA_ibd=['HEA_ibd','GEN_sex']\n",
    "sex_ibd=metadata.loc[:, sex_HEA_ibd]\n",
    "sex_ibd_true=sex_ibd[sex_ibd.HEA_ibd==True]\n",
    "sex_ibd_true['Cata']='HEA_ibd'\n",
    "\n",
    "female=sex_ibd_true[sex_ibd_true['GEN_sex']=='female']\n",
    "\n",
    "male=sex_ibd_true[sex_ibd_true['GEN_sex']=='male']\n",
    "\n",
    "other=sex_ibd_true[sex_ibd_true['GEN_sex']=='other']\n",
    "\n",
    "Not_provided=sex_ibd_true[sex_ibd_true['GEN_sex']=='Not provided']\n",
    "\n",
    "\n",
    "datas1=['HEA_ibd',female['Cata'].count(),male['Cata'].count()\n",
    ",other['Cata'].count(),Not_provided['Cata'].count()]\n",
    "datas1"
   ]
  },
  {
   "cell_type": "code",
   "execution_count": 16,
   "id": "1fc3bcd8-8f48-4b1e-ba61-e4f4553551e0",
   "metadata": {},
   "outputs": [
    {
     "data": {
      "text/plain": [
       "['HEA_cdiff', 5, 2, 0, 0]"
      ]
     },
     "execution_count": 16,
     "metadata": {},
     "output_type": "execute_result"
    }
   ],
   "source": [
    "sex_HEA_cdiff=['HEA_cdiff','GEN_sex']\n",
    "sex_cdiff=metadata.loc[:, sex_HEA_cdiff]\n",
    "sex_cdiff_true=sex_cdiff[sex_cdiff.HEA_cdiff==True]\n",
    "sex_cdiff_true['Cata']='HEA_cdiff'\n",
    "\n",
    "female=sex_cdiff_true[sex_cdiff_true['GEN_sex']=='female']\n",
    "\n",
    "male=sex_cdiff_true[sex_cdiff_true['GEN_sex']=='male']\n",
    "\n",
    "other=sex_cdiff_true[sex_cdiff_true['GEN_sex']=='other']\n",
    "\n",
    "Not_provided=sex_cdiff_true[sex_cdiff_true['GEN_sex']=='Not provided']\n",
    "\n",
    "\n",
    "datas2=['HEA_cdiff',female['Cata'].count(),male['Cata'].count()\n",
    ",other['Cata'].count(),Not_provided['Cata'].count()]\n",
    "datas2"
   ]
  },
  {
   "cell_type": "code",
   "execution_count": 17,
   "id": "9f699dbd-0b75-4f29-b3a4-14eb11dcd6d1",
   "metadata": {},
   "outputs": [
    {
     "data": {
      "text/plain": [
       "['HEA_sibo', 18, 9, 0, 0]"
      ]
     },
     "execution_count": 17,
     "metadata": {},
     "output_type": "execute_result"
    }
   ],
   "source": [
    "sex_HEA_sibo=['HEA_sibo','GEN_sex']\n",
    "sex_sibo=metadata.loc[:, sex_HEA_sibo]\n",
    "sex_sibo_true=sex_sibo[sex_sibo.HEA_sibo==True]\n",
    "sex_sibo_true['Cata']='HEA_sibo'\n",
    "\n",
    "female=sex_sibo_true[sex_sibo_true['GEN_sex']=='female']\n",
    "\n",
    "male=sex_sibo_true[sex_sibo_true['GEN_sex']=='male']\n",
    "\n",
    "other=sex_sibo_true[sex_sibo_true['GEN_sex']=='other']\n",
    "\n",
    "Not_provided=sex_sibo_true[sex_sibo_true['GEN_sex']=='Not provided']\n",
    "\n",
    "\n",
    "datas3=['HEA_sibo',female['Cata'].count(),male['Cata'].count()\n",
    ",other['Cata'].count(),Not_provided['Cata'].count()]\n",
    "datas3"
   ]
  },
  {
   "cell_type": "code",
   "execution_count": 18,
   "id": "9940b327-6583-4dfd-9f0d-de5d0d1b48b2",
   "metadata": {},
   "outputs": [
    {
     "data": {
      "text/plain": [
       "['HEA_acid_reflux', 54, 39, 0, 0]"
      ]
     },
     "execution_count": 18,
     "metadata": {},
     "output_type": "execute_result"
    }
   ],
   "source": [
    "sex_HEA_acid_reflux=['HEA_acid_reflux','GEN_sex']\n",
    "sex_acid_reflux=metadata.loc[:, sex_HEA_acid_reflux]\n",
    "sex_acid_reflux_true=sex_acid_reflux[sex_acid_reflux.HEA_acid_reflux==True]\n",
    "sex_acid_reflux_true['Cata']='HEA_acid_reflux'\n",
    "\n",
    "female=sex_acid_reflux_true[sex_acid_reflux_true['GEN_sex']=='female']\n",
    "\n",
    "male=sex_acid_reflux_true[sex_acid_reflux_true['GEN_sex']=='male']\n",
    "\n",
    "other=sex_acid_reflux_true[sex_acid_reflux_true['GEN_sex']=='other']\n",
    "\n",
    "Not_provided=sex_acid_reflux_true[sex_acid_reflux_true['GEN_sex']=='Not provided']\n",
    "\n",
    "\n",
    "datas4=['HEA_acid_reflux',female['Cata'].count(),male['Cata'].count()\n",
    ",other['Cata'].count(),Not_provided['Cata'].count()]\n",
    "datas4"
   ]
  },
  {
   "cell_type": "code",
   "execution_count": 19,
   "id": "fbd8e980-425c-4e13-8d19-e7a8b0604153",
   "metadata": {},
   "outputs": [
    {
     "data": {
      "text/plain": [
       "['HEA_thyroid', 46, 6, 0, 1]"
      ]
     },
     "execution_count": 19,
     "metadata": {},
     "output_type": "execute_result"
    }
   ],
   "source": [
    "sex_HEA_thyroid=['HEA_thyroid','GEN_sex']\n",
    "sex_thyroid=metadata.loc[:, sex_HEA_thyroid]\n",
    "sex_thyroid_true=sex_acid_reflux[sex_thyroid.HEA_thyroid==True]\n",
    "sex_thyroid_true['Cata']='HEA_thyroid'\n",
    "\n",
    "female=sex_thyroid_true[sex_thyroid_true['GEN_sex']=='female']\n",
    "\n",
    "male=sex_thyroid_true[sex_thyroid_true['GEN_sex']=='male']\n",
    "\n",
    "other=sex_thyroid_true[sex_thyroid_true['GEN_sex']=='other']\n",
    "\n",
    "Not_provided=sex_thyroid_true[sex_thyroid_true['GEN_sex']=='Not provided']\n",
    "\n",
    "\n",
    "datas5=['HEA_thyroid',female['Cata'].count(),male['Cata'].count()\n",
    ",other['Cata'].count(),Not_provided['Cata'].count()]\n",
    "datas5"
   ]
  },
  {
   "cell_type": "code",
   "execution_count": 20,
   "id": "df8672ea-ed6c-4b57-b11c-2bb3711b1460",
   "metadata": {
    "tags": []
   },
   "outputs": [
    {
     "data": {
      "text/html": [
       "<div>\n",
       "<style scoped>\n",
       "    .dataframe tbody tr th:only-of-type {\n",
       "        vertical-align: middle;\n",
       "    }\n",
       "\n",
       "    .dataframe tbody tr th {\n",
       "        vertical-align: top;\n",
       "    }\n",
       "\n",
       "    .dataframe thead th {\n",
       "        text-align: right;\n",
       "    }\n",
       "</style>\n",
       "<table border=\"1\" class=\"dataframe\">\n",
       "  <thead>\n",
       "    <tr style=\"text-align: right;\">\n",
       "      <th></th>\n",
       "      <th>Cata</th>\n",
       "      <th>female</th>\n",
       "      <th>male</th>\n",
       "      <th>other</th>\n",
       "      <th>Not provided</th>\n",
       "    </tr>\n",
       "  </thead>\n",
       "  <tbody>\n",
       "    <tr>\n",
       "      <th>0</th>\n",
       "      <td>HEA_ibd</td>\n",
       "      <td>16</td>\n",
       "      <td>18</td>\n",
       "      <td>0</td>\n",
       "      <td>0</td>\n",
       "    </tr>\n",
       "    <tr>\n",
       "      <th>1</th>\n",
       "      <td>HEA_cdiff</td>\n",
       "      <td>5</td>\n",
       "      <td>2</td>\n",
       "      <td>0</td>\n",
       "      <td>0</td>\n",
       "    </tr>\n",
       "    <tr>\n",
       "      <th>2</th>\n",
       "      <td>HEA_sibo</td>\n",
       "      <td>18</td>\n",
       "      <td>9</td>\n",
       "      <td>0</td>\n",
       "      <td>0</td>\n",
       "    </tr>\n",
       "    <tr>\n",
       "      <th>3</th>\n",
       "      <td>HEA_acid_reflux</td>\n",
       "      <td>54</td>\n",
       "      <td>39</td>\n",
       "      <td>0</td>\n",
       "      <td>0</td>\n",
       "    </tr>\n",
       "    <tr>\n",
       "      <th>4</th>\n",
       "      <td>HEA_thyroid</td>\n",
       "      <td>46</td>\n",
       "      <td>6</td>\n",
       "      <td>0</td>\n",
       "      <td>1</td>\n",
       "    </tr>\n",
       "  </tbody>\n",
       "</table>\n",
       "</div>"
      ],
      "text/plain": [
       "              Cata  female  male  other  Not provided\n",
       "0          HEA_ibd      16    18      0             0\n",
       "1        HEA_cdiff       5     2      0             0\n",
       "2         HEA_sibo      18     9      0             0\n",
       "3  HEA_acid_reflux      54    39      0             0\n",
       "4      HEA_thyroid      46     6      0             1"
      ]
     },
     "execution_count": 20,
     "metadata": {},
     "output_type": "execute_result"
    }
   ],
   "source": [
    "datas=[datas1,datas2,datas3,datas4,datas5]\n",
    "dfs=pd.DataFrame(datas,columns=['Cata','female','male','other','Not provided'])\n",
    "dfs"
   ]
  },
  {
   "cell_type": "code",
   "execution_count": 21,
   "id": "c35208e2-7f62-4621-bb2e-a5b7cb64671f",
   "metadata": {},
   "outputs": [
    {
     "data": {
      "image/png": "[encoded data removed]",
      "text/plain": [
       "<Figure size 432x432 with 1 Axes>"
      ]
     },
     "metadata": {
      "needs_background": "light"
     },
     "output_type": "display_data"
    }
   ],
   "source": [
    "x = dfs['Cata']\n",
    "y1 = dfs['female']\n",
    "y2 = dfs['male']\n",
    "y3 =dfs['other']\n",
    "y4 =dfs['Not provided']\n",
    "plt.figure(figsize=(6, 6))\n",
    "plt.bar(x,y1,width=0.4,label='Female',color='orange',edgecolor='black')\n",
    "plt.bar(x,y2,width=0.4,bottom=y1,label='Male',color='pink',edgecolor='black')\n",
    "plt.bar(x,y3,width=0.4,bottom=y1+y2,label='Other',color='blue',edgecolor='black')\n",
    "plt.bar(x,y4,width=0.4,bottom=y1+y2+y3,label='Not provided',color='purple',edgecolor='black')\n",
    "\n",
    "\n",
    "plt.tick_params(axis='x',length=0)\n",
    "plt.yticks(rotation=45)\n",
    "plt.xticks(rotation=45)\n",
    "plt.ylim(0,100)\n",
    "\n",
    "plt.xlabel('Top 5 Diseases',fontsize=13)\n",
    "plt.ylabel('Gender',fontsize=13)\n",
    "plt.title('(a) Dependence of Gender on the Disease',fontsize=15, pad=20)\n",
    "plt.legend(loc=2,frameon=False,fontsize=10)\n",
    "plt.show()"
   ]
  },
  {
   "cell_type": "markdown",
   "id": "d5a7709e-3e81-4e52-bd81-f4e55b2b6f6f",
   "metadata": {},
   "source": [
    "### 5 diseases & BMI_CAT"
   ]
  },
  {
   "cell_type": "code",
   "execution_count": 22,
   "id": "19e616b4-acc2-43b6-8a9e-07fc9a3bfb09",
   "metadata": {},
   "outputs": [
    {
     "data": {
      "text/plain": [
       "['HEA_ibd', 14, 2, 16, 1, 1]"
      ]
     },
     "execution_count": 22,
     "metadata": {},
     "output_type": "execute_result"
    }
   ],
   "source": [
    "bmi_HEA_ibd=['HEA_ibd','GEN_bmi_cat']\n",
    "bmi_ibd=metadata.loc[:, bmi_HEA_ibd]\n",
    "bmi_ibd_true=bmi_ibd[bmi_ibd.HEA_ibd==True]\n",
    "bmi_ibd_true['Catab']='HEA_ibd'\n",
    "\n",
    "Normal=bmi_ibd_true[bmi_ibd_true['GEN_bmi_cat']=='Normal']\n",
    "\n",
    "Underweight=bmi_ibd_true[bmi_ibd_true['GEN_bmi_cat']=='Underweight']\n",
    "\n",
    "Overweight=bmi_ibd_true[bmi_ibd_true['GEN_bmi_cat']=='Overweight']\n",
    "\n",
    "Obese=bmi_ibd_true[bmi_ibd_true['GEN_bmi_cat']=='Obese']\n",
    "\n",
    "Not_provided=bmi_ibd_true[bmi_ibd_true['GEN_bmi_cat']=='Not provided']\n",
    "\n",
    "\n",
    "datab1=['HEA_ibd',Normal['Catab'].count(),Underweight['Catab'].count(),Overweight['Catab'].count()\n",
    ",Obese['Catab'].count(),Not_provided['Catab'].count()]\n",
    "datab1"
   ]
  },
  {
   "cell_type": "code",
   "execution_count": 23,
   "id": "b144b054-c604-49cf-87db-bf180b81350c",
   "metadata": {},
   "outputs": [
    {
     "data": {
      "text/plain": [
       "['HEA_cdiff', 3, 0, 3, 1, 0]"
      ]
     },
     "execution_count": 23,
     "metadata": {},
     "output_type": "execute_result"
    }
   ],
   "source": [
    "bmi_HEA_cdiff=['HEA_cdiff','GEN_bmi_cat']\n",
    "bmi_cdiff=metadata.loc[:, bmi_HEA_cdiff]\n",
    "bmi_cdiff_true=bmi_cdiff[bmi_cdiff.HEA_cdiff==True]\n",
    "bmi_cdiff_true['Catab']='HEA_cdiff'\n",
    "\n",
    "Normal=bmi_cdiff_true[bmi_cdiff_true['GEN_bmi_cat']=='Normal']\n",
    "\n",
    "Underweight=bmi_cdiff_true[bmi_cdiff_true['GEN_bmi_cat']=='Underweight']\n",
    "\n",
    "Overweight=bmi_cdiff_true[bmi_cdiff_true['GEN_bmi_cat']=='Overweight']\n",
    "\n",
    "Obese=bmi_cdiff_true[bmi_cdiff_true['GEN_bmi_cat']=='Obese']\n",
    "\n",
    "Not_provided=bmi_cdiff_true[bmi_cdiff_true['GEN_bmi_cat']=='Not provided']\n",
    "\n",
    "\n",
    "datab2=['HEA_cdiff',Normal['Catab'].count(),Underweight['Catab'].count(),Overweight['Catab'].count()\n",
    ",Obese['Catab'].count(),Not_provided['Catab'].count()]\n",
    "datab2"
   ]
  },
  {
   "cell_type": "code",
   "execution_count": 33,
   "id": "e6012e63-4857-4717-8e25-ac3dda5591d0",
   "metadata": {},
   "outputs": [
    {
     "data": {
      "text/plain": [
       "['HEA_acid_reflux', 38, 4, 30, 20, 1]"
      ]
     },
     "execution_count": 33,
     "metadata": {},
     "output_type": "execute_result"
    }
   ],
   "source": [
    "bmi_HEA_acid_reflux=['HEA_acid_reflux','GEN_bmi_cat']\n",
    "bmi_acid_reflux=metadata.loc[:, bmi_HEA_acid_reflux]\n",
    "bmi_acid_reflux_true=bmi_acid_reflux[bmi_acid_reflux.HEA_acid_reflux==True]\n",
    "bmi_acid_reflux_true['Catab']='HEA_cdiff'\n",
    "\n",
    "Normal=bmi_acid_reflux_true[bmi_acid_reflux_true['GEN_bmi_cat']=='Normal']\n",
    "\n",
    "Underweight=bmi_acid_reflux_true[bmi_acid_reflux_true['GEN_bmi_cat']=='Underweight']\n",
    "\n",
    "Overweight=bmi_acid_reflux_true[bmi_acid_reflux_true['GEN_bmi_cat']=='Overweight']\n",
    "\n",
    "Obese=bmi_acid_reflux_true[bmi_acid_reflux_true['GEN_bmi_cat']=='Obese']\n",
    "\n",
    "Not_provided=bmi_acid_reflux_true[bmi_acid_reflux_true['GEN_bmi_cat']=='Not provided']\n",
    "\n",
    "\n",
    "datab4=['HEA_acid_reflux',Normal['Catab'].count(),Underweight['Catab'].count(),Overweight['Catab'].count()\n",
    ",Obese['Catab'].count(),Not_provided['Catab'].count()]\n",
    "datab4"
   ]
  },
  {
   "cell_type": "code",
   "execution_count": 34,
   "id": "48e5ba4a-26d5-4242-be72-0ca82495ba66",
   "metadata": {},
   "outputs": [
    {
     "data": {
      "text/plain": [
       "['HEA_sibo', 20, 1, 1, 4, 1]"
      ]
     },
     "execution_count": 34,
     "metadata": {},
     "output_type": "execute_result"
    }
   ],
   "source": [
    "bmi_HEA_sibo=['HEA_sibo','GEN_bmi_cat']\n",
    "bmi_sibo=metadata.loc[:, bmi_HEA_sibo]\n",
    "bmi_sibo_true=bmi_sibo[bmi_sibo.HEA_sibo==True]\n",
    "bmi_sibo_true['Catab']='HEA_sibo'\n",
    "\n",
    "Normal=bmi_sibo_true[bmi_sibo_true['GEN_bmi_cat']=='Normal']\n",
    "\n",
    "Underweight=bmi_sibo_true[bmi_sibo_true['GEN_bmi_cat']=='Underweight']\n",
    "\n",
    "Overweight=bmi_sibo_true[bmi_sibo_true['GEN_bmi_cat']=='Overweight']\n",
    "\n",
    "Obese=bmi_sibo_true[bmi_sibo_true['GEN_bmi_cat']=='Obese']\n",
    "\n",
    "Not_provided=bmi_sibo_true[bmi_sibo_true['GEN_bmi_cat']=='Not provided']\n",
    "\n",
    "\n",
    "datab3=['HEA_sibo',Normal['Catab'].count(),Underweight['Catab'].count(),Overweight['Catab'].count()\n",
    ",Obese['Catab'].count(),Not_provided['Catab'].count()]\n",
    "datab3"
   ]
  },
  {
   "cell_type": "code",
   "execution_count": 35,
   "id": "5f74cb1f-c283-4ea9-8de8-acbb8c8f09a1",
   "metadata": {},
   "outputs": [
    {
     "data": {
      "text/plain": [
       "['HEA_thyroid', 22, 3, 21, 6, 1]"
      ]
     },
     "execution_count": 35,
     "metadata": {},
     "output_type": "execute_result"
    }
   ],
   "source": [
    "bmi_HEA_thyroid=['HEA_thyroid','GEN_bmi_cat']\n",
    "bmi_thyroid=metadata.loc[:, bmi_HEA_thyroid]\n",
    "bmi_thyroid_true=bmi_thyroid[bmi_thyroid.HEA_thyroid==True]\n",
    "bmi_thyroid_true['Catab']='HEA_thyroid'\n",
    "\n",
    "Normal=bmi_thyroid_true[bmi_thyroid_true['GEN_bmi_cat']=='Normal']\n",
    "\n",
    "Underweight=bmi_thyroid_true[bmi_thyroid_true['GEN_bmi_cat']=='Underweight']\n",
    "\n",
    "Overweight=bmi_thyroid_true[bmi_thyroid_true['GEN_bmi_cat']=='Overweight']\n",
    "\n",
    "Obese=bmi_thyroid_true[bmi_thyroid_true['GEN_bmi_cat']=='Obese']\n",
    "\n",
    "Not_provided=bmi_thyroid_true[bmi_thyroid_true['GEN_bmi_cat']=='Not provided']\n",
    "\n",
    "\n",
    "datab5=['HEA_thyroid',Normal['Catab'].count(),Underweight['Catab'].count(),Overweight['Catab'].count()\n",
    ",Obese['Catab'].count(),Not_provided['Catab'].count()]\n",
    "datab5"
   ]
  },
  {
   "cell_type": "code",
   "execution_count": 36,
   "id": "425d0e1a-1c31-4572-82e4-9c20be675e71",
   "metadata": {},
   "outputs": [
    {
     "data": {
      "text/html": [
       "<div>\n",
       "<style scoped>\n",
       "    .dataframe tbody tr th:only-of-type {\n",
       "        vertical-align: middle;\n",
       "    }\n",
       "\n",
       "    .dataframe tbody tr th {\n",
       "        vertical-align: top;\n",
       "    }\n",
       "\n",
       "    .dataframe thead th {\n",
       "        text-align: right;\n",
       "    }\n",
       "</style>\n",
       "<table border=\"1\" class=\"dataframe\">\n",
       "  <thead>\n",
       "    <tr style=\"text-align: right;\">\n",
       "      <th></th>\n",
       "      <th>Catab</th>\n",
       "      <th>Normal</th>\n",
       "      <th>Underweight</th>\n",
       "      <th>Overweight</th>\n",
       "      <th>Obese</th>\n",
       "      <th>Not provided</th>\n",
       "    </tr>\n",
       "  </thead>\n",
       "  <tbody>\n",
       "    <tr>\n",
       "      <th>0</th>\n",
       "      <td>HEA_ibd</td>\n",
       "      <td>14</td>\n",
       "      <td>2</td>\n",
       "      <td>16</td>\n",
       "      <td>1</td>\n",
       "      <td>1</td>\n",
       "    </tr>\n",
       "    <tr>\n",
       "      <th>1</th>\n",
       "      <td>HEA_cdiff</td>\n",
       "      <td>3</td>\n",
       "      <td>0</td>\n",
       "      <td>3</td>\n",
       "      <td>1</td>\n",
       "      <td>0</td>\n",
       "    </tr>\n",
       "    <tr>\n",
       "      <th>2</th>\n",
       "      <td>HEA_sibo</td>\n",
       "      <td>20</td>\n",
       "      <td>1</td>\n",
       "      <td>1</td>\n",
       "      <td>4</td>\n",
       "      <td>1</td>\n",
       "    </tr>\n",
       "    <tr>\n",
       "      <th>3</th>\n",
       "      <td>HEA_acid_reflux</td>\n",
       "      <td>38</td>\n",
       "      <td>4</td>\n",
       "      <td>30</td>\n",
       "      <td>20</td>\n",
       "      <td>1</td>\n",
       "    </tr>\n",
       "    <tr>\n",
       "      <th>4</th>\n",
       "      <td>HEA_thyroid</td>\n",
       "      <td>22</td>\n",
       "      <td>3</td>\n",
       "      <td>21</td>\n",
       "      <td>6</td>\n",
       "      <td>1</td>\n",
       "    </tr>\n",
       "  </tbody>\n",
       "</table>\n",
       "</div>"
      ],
      "text/plain": [
       "             Catab  Normal  Underweight  Overweight  Obese  Not provided\n",
       "0          HEA_ibd      14            2          16      1             1\n",
       "1        HEA_cdiff       3            0           3      1             0\n",
       "2         HEA_sibo      20            1           1      4             1\n",
       "3  HEA_acid_reflux      38            4          30     20             1\n",
       "4      HEA_thyroid      22            3          21      6             1"
      ]
     },
     "execution_count": 36,
     "metadata": {},
     "output_type": "execute_result"
    }
   ],
   "source": [
    "datas=[datab1,datab2,datab3,datab4,datab5]\n",
    "dfb=pd.DataFrame(datas,columns=['Catab','Normal','Underweight','Overweight','Obese','Not provided'])\n",
    "dfb"
   ]
  },
  {
   "cell_type": "code",
   "execution_count": 38,
   "id": "d635e317-1117-48e8-b829-75d40562aecf",
   "metadata": {},
   "outputs": [
    {
     "data": {
      "image/png": "[encoded data removed]",
      "text/plain": [
       "<Figure size 432x432 with 1 Axes>"
      ]
     },
     "metadata": {
      "needs_background": "light"
     },
     "output_type": "display_data"
    }
   ],
   "source": [
    "x = dfb['Catab']\n",
    "y1 = dfb['Normal']\n",
    "y2 = dfb['Underweight']\n",
    "y3 =dfb['Overweight']\n",
    "y4 =dfb['Obese']\n",
    "y5 =dfb['Not provided']\n",
    "plt.figure(figsize=(6, 6))\n",
    "plt.bar(x,y1,width=0.4,label='Normal',color='olivedrab',edgecolor='black')\n",
    "plt.bar(x,y2,width=0.4,bottom=y1,label='Underweight',color='darkcyan',edgecolor='black')\n",
    "plt.bar(x,y3,width=0.4,bottom=y1+y2,label='Overweight',color='lightblue',edgecolor='black')\n",
    "plt.bar(x,y4,width=0.4,bottom=y1+y2+y3,label='Obese',color='goldenrod',edgecolor='black')\n",
    "plt.bar(x,y5,width=0.4,bottom=y1+y2+y3,label='Not provided',color='grey',edgecolor='black')\n",
    "\n",
    "plt.tick_params(axis='x',length=0)\n",
    "plt.yticks(rotation=45)\n",
    "plt.xticks(rotation=45)\n",
    "plt.ylim(0,100)\n",
    "\n",
    "plt.xlabel('Top 5 Diseases',fontsize=13)\n",
    "plt.ylabel('BMI',fontsize=13)\n",
    "plt.title('(b) Dependence of BMI on the Disease',fontsize=15, pad=20)\n",
    "plt.legend(loc=2,frameon=False,fontsize=10)\n",
    "plt.show()"
   ]
  },
  {
   "cell_type": "code",
   "execution_count": null,
   "id": "a9d4117c-33ea-4e6b-9e4a-cd81e1195b83",
   "metadata": {},
   "outputs": [],
   "source": []
  }
 ],
 "metadata": {
  "kernelspec": {
   "display_name": "Python 3 (ipykernel)",
   "language": "python",
   "name": "python3"
  },
  "language_info": {
   "codemirror_mode": {
    "name": "ipython",
    "version": 3
   },
   "file_extension": ".py",
   "mimetype": "text/x-python",
   "name": "python",
   "nbconvert_exporter": "python",
   "pygments_lexer": "ipython3",
   "version": "3.8.13"
  }
 },
 "nbformat": 4,
 "nbformat_minor": 5
}
