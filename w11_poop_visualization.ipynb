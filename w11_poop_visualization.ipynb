{
 "cells": [
  {
   "cell_type": "code",
   "execution_count": 1,
   "id": "ef73e945-45b6-4906-8611-faf4d178157e",
   "metadata": {},
   "outputs": [],
   "source": [
    "import os\n",
    "import math\n",
    "import matplotlib.pyplot as plt\n",
    "import numpy as np\n",
    "import pandas as pd\n",
    "import seaborn as sns\n",
    "\n",
    "from scipy import stats\n",
    "\n",
    "data_dir = 'poop_data'\n",
    "\n",
    "# this is to silence pandas' warnings\n",
    "import warnings\n",
    "warnings.simplefilter(action='ignore')\n",
    "    \n",
    "%matplotlib inline"
   ]
  },
  {
   "cell_type": "code",
   "execution_count": 2,
   "id": "fd6cee66-74f8-4d01-b47f-19339b2ab21a",
   "metadata": {
    "tags": []
   },
   "outputs": [
    {
     "data": {
      "text/html": [
       "<div>\n",
       "<style scoped>\n",
       "    .dataframe tbody tr th:only-of-type {\n",
       "        vertical-align: middle;\n",
       "    }\n",
       "\n",
       "    .dataframe tbody tr th {\n",
       "        vertical-align: top;\n",
       "    }\n",
       "\n",
       "    .dataframe thead th {\n",
       "        text-align: right;\n",
       "    }\n",
       "</style>\n",
       "<table border=\"1\" class=\"dataframe\">\n",
       "  <thead>\n",
       "    <tr style=\"text-align: right;\">\n",
       "      <th></th>\n",
       "      <th>sampleid</th>\n",
       "      <th>GEN_age_cat</th>\n",
       "      <th>GEN_age_corrected</th>\n",
       "      <th>GEN_bmi_cat</th>\n",
       "      <th>GEN_bmi_corrected</th>\n",
       "      <th>GEN_cat</th>\n",
       "      <th>GEN_collection_timestamp</th>\n",
       "      <th>GEN_country</th>\n",
       "      <th>GEN_dog</th>\n",
       "      <th>GEN_elevation</th>\n",
       "      <th>...</th>\n",
       "      <th>HEA_lung_disease</th>\n",
       "      <th>HEA_mental_illness</th>\n",
       "      <th>HEA_migraine</th>\n",
       "      <th>HEA_seasonal_allergies</th>\n",
       "      <th>HEA_sibo</th>\n",
       "      <th>HEA_skin_condition</th>\n",
       "      <th>HEA_sleep_duration</th>\n",
       "      <th>HEA_smoking_frequency</th>\n",
       "      <th>HEA_thyroid</th>\n",
       "      <th>HEA_weight_change</th>\n",
       "    </tr>\n",
       "  </thead>\n",
       "  <tbody>\n",
       "    <tr>\n",
       "      <th>0</th>\n",
       "      <td>10317.000046</td>\n",
       "      <td>20s</td>\n",
       "      <td>20.0</td>\n",
       "      <td>Normal</td>\n",
       "      <td>23.75</td>\n",
       "      <td>False</td>\n",
       "      <td>2016-08-25 18:30:00</td>\n",
       "      <td>USA</td>\n",
       "      <td>True</td>\n",
       "      <td>1919.3</td>\n",
       "      <td>...</td>\n",
       "      <td>False</td>\n",
       "      <td>False</td>\n",
       "      <td>False</td>\n",
       "      <td>True</td>\n",
       "      <td>False</td>\n",
       "      <td>False</td>\n",
       "      <td>8 or more hours</td>\n",
       "      <td>Never</td>\n",
       "      <td>False</td>\n",
       "      <td>Decreased more than 10 pounds</td>\n",
       "    </tr>\n",
       "    <tr>\n",
       "      <th>1</th>\n",
       "      <td>10317.000050</td>\n",
       "      <td>Not provided</td>\n",
       "      <td>NaN</td>\n",
       "      <td>Overweight</td>\n",
       "      <td>25.61</td>\n",
       "      <td>False</td>\n",
       "      <td>2016-07-06 09:00:00</td>\n",
       "      <td>United Kingdom</td>\n",
       "      <td>False</td>\n",
       "      <td>65.5</td>\n",
       "      <td>...</td>\n",
       "      <td>False</td>\n",
       "      <td>False</td>\n",
       "      <td>False</td>\n",
       "      <td>False</td>\n",
       "      <td>False</td>\n",
       "      <td>True</td>\n",
       "      <td>7-8 hours</td>\n",
       "      <td>Never</td>\n",
       "      <td>False</td>\n",
       "      <td>Remained stable</td>\n",
       "    </tr>\n",
       "    <tr>\n",
       "      <th>2</th>\n",
       "      <td>10317.000038</td>\n",
       "      <td>30s</td>\n",
       "      <td>39.0</td>\n",
       "      <td>Overweight</td>\n",
       "      <td>27.67</td>\n",
       "      <td>False</td>\n",
       "      <td>2016-06-29 09:30:00</td>\n",
       "      <td>United Kingdom</td>\n",
       "      <td>False</td>\n",
       "      <td>44.5</td>\n",
       "      <td>...</td>\n",
       "      <td>False</td>\n",
       "      <td>False</td>\n",
       "      <td>False</td>\n",
       "      <td>False</td>\n",
       "      <td>False</td>\n",
       "      <td>False</td>\n",
       "      <td>7-8 hours</td>\n",
       "      <td>Not provided</td>\n",
       "      <td>False</td>\n",
       "      <td>Remained stable</td>\n",
       "    </tr>\n",
       "    <tr>\n",
       "      <th>3</th>\n",
       "      <td>10317.000047</td>\n",
       "      <td>50s</td>\n",
       "      <td>56.0</td>\n",
       "      <td>Normal</td>\n",
       "      <td>19.71</td>\n",
       "      <td>False</td>\n",
       "      <td>2016-07-12 17:30:00</td>\n",
       "      <td>Germany</td>\n",
       "      <td>False</td>\n",
       "      <td>8.7</td>\n",
       "      <td>...</td>\n",
       "      <td>False</td>\n",
       "      <td>False</td>\n",
       "      <td>True</td>\n",
       "      <td>False</td>\n",
       "      <td>False</td>\n",
       "      <td>True</td>\n",
       "      <td>6-7 hours</td>\n",
       "      <td>Never</td>\n",
       "      <td>True</td>\n",
       "      <td>Decreased more than 10 pounds</td>\n",
       "    </tr>\n",
       "    <tr>\n",
       "      <th>4</th>\n",
       "      <td>10317.000046</td>\n",
       "      <td>40s</td>\n",
       "      <td>45.0</td>\n",
       "      <td>Normal</td>\n",
       "      <td>23.15</td>\n",
       "      <td>False</td>\n",
       "      <td>2016-05-24 19:00:00</td>\n",
       "      <td>United Kingdom</td>\n",
       "      <td>True</td>\n",
       "      <td>68.8</td>\n",
       "      <td>...</td>\n",
       "      <td>False</td>\n",
       "      <td>False</td>\n",
       "      <td>False</td>\n",
       "      <td>True</td>\n",
       "      <td>False</td>\n",
       "      <td>True</td>\n",
       "      <td>6-7 hours</td>\n",
       "      <td>Never</td>\n",
       "      <td>False</td>\n",
       "      <td>Remained stable</td>\n",
       "    </tr>\n",
       "  </tbody>\n",
       "</table>\n",
       "<p>5 rows × 52 columns</p>\n",
       "</div>"
      ],
      "text/plain": [
       "       sampleid   GEN_age_cat  GEN_age_corrected GEN_bmi_cat  \\\n",
       "0  10317.000046           20s               20.0      Normal   \n",
       "1  10317.000050  Not provided                NaN  Overweight   \n",
       "2  10317.000038           30s               39.0  Overweight   \n",
       "3  10317.000047           50s               56.0      Normal   \n",
       "4  10317.000046           40s               45.0      Normal   \n",
       "\n",
       "   GEN_bmi_corrected  GEN_cat GEN_collection_timestamp     GEN_country  \\\n",
       "0              23.75    False      2016-08-25 18:30:00             USA   \n",
       "1              25.61    False      2016-07-06 09:00:00  United Kingdom   \n",
       "2              27.67    False      2016-06-29 09:30:00  United Kingdom   \n",
       "3              19.71    False      2016-07-12 17:30:00         Germany   \n",
       "4              23.15    False      2016-05-24 19:00:00  United Kingdom   \n",
       "\n",
       "   GEN_dog  GEN_elevation  ... HEA_lung_disease  HEA_mental_illness  \\\n",
       "0     True         1919.3  ...            False               False   \n",
       "1    False           65.5  ...            False               False   \n",
       "2    False           44.5  ...            False               False   \n",
       "3    False            8.7  ...            False               False   \n",
       "4     True           68.8  ...            False               False   \n",
       "\n",
       "  HEA_migraine HEA_seasonal_allergies HEA_sibo  HEA_skin_condition  \\\n",
       "0        False                   True    False               False   \n",
       "1        False                  False    False                True   \n",
       "2        False                  False    False               False   \n",
       "3         True                  False    False                True   \n",
       "4        False                   True    False                True   \n",
       "\n",
       "  HEA_sleep_duration  HEA_smoking_frequency HEA_thyroid  \\\n",
       "0    8 or more hours                  Never       False   \n",
       "1          7-8 hours                  Never       False   \n",
       "2          7-8 hours           Not provided       False   \n",
       "3          6-7 hours                  Never        True   \n",
       "4          6-7 hours                  Never       False   \n",
       "\n",
       "               HEA_weight_change  \n",
       "0  Decreased more than 10 pounds  \n",
       "1                Remained stable  \n",
       "2                Remained stable  \n",
       "3  Decreased more than 10 pounds  \n",
       "4                Remained stable  \n",
       "\n",
       "[5 rows x 52 columns]"
      ]
     },
     "execution_count": 2,
     "metadata": {},
     "output_type": "execute_result"
    }
   ],
   "source": [
    "metadata = pd.read_csv(data_dir + '/metadata.tsv', sep='\\t')\n",
    "metadata.head(5)"
   ]
  },
  {
   "cell_type": "markdown",
   "id": "f41eabf2-5d2e-424b-8d23-9e995cc7bbdd",
   "metadata": {},
   "source": [
    "### Stacked bar"
   ]
  },
  {
   "cell_type": "markdown",
   "id": "042e3c1c-3c72-4bea-9c08-a751087235cc",
   "metadata": {},
   "source": [
    "### 5 diseases & Antibiotic history\n",
    "select top 5 diseases with True, the draw a graph with HEA_antibiotic_history"
   ]
  },
  {
   "cell_type": "code",
   "execution_count": 3,
   "id": "783d7ada-1910-4e81-b6b0-06aecc265bd3",
   "metadata": {
    "tags": []
   },
   "outputs": [
    {
     "data": {
      "text/plain": [
       "['HEA_ibd', 5, 4, 6, 3, 16, 0]"
      ]
     },
     "execution_count": 3,
     "metadata": {},
     "output_type": "execute_result"
    }
   ],
   "source": [
    "HEA_ibd=['HEA_ibd','HEA_antibiotic_history']\n",
    "ibd=metadata.loc[:, HEA_ibd]\n",
    "ibd_true=ibd[ibd.HEA_ibd==True]\n",
    "ibd_true['Catagory']='HEA_ibd'\n",
    "ibd_true\n",
    "\n",
    "year=ibd_true[ibd_true['HEA_antibiotic_history']=='Year']\n",
    "\n",
    "six_months=ibd_true[ibd_true['HEA_antibiotic_history']=='6 months']\n",
    "\n",
    "Month=ibd_true[ibd_true['HEA_antibiotic_history']=='Month']\n",
    "\n",
    "Week=ibd_true[ibd_true['HEA_antibiotic_history']=='Week']\n",
    "\n",
    "not_taken_in_the_past_year=ibd_true[ibd_true['HEA_antibiotic_history']=='I have not taken antibiotics in the past year.']\n",
    "\n",
    "Not_provided=ibd_true[ibd_true['HEA_antibiotic_history']=='Not provided']\n",
    "\n",
    "\n",
    "data1=['HEA_ibd',year['Catagory'].count(),six_months['Catagory'].count(),Month['Catagory'].count()\n",
    ",Week['Catagory'].count(),not_taken_in_the_past_year['Catagory'].count(),Not_provided['Catagory'].count()]\n",
    "data1"
   ]
  },
  {
   "cell_type": "code",
   "execution_count": 4,
   "id": "d5681747-893e-4c56-a69a-21698db2a1ab",
   "metadata": {
    "tags": []
   },
   "outputs": [
    {
     "data": {
      "text/plain": [
       "['HEA_cdiff', 2, 2, 1, 0, 2, 0]"
      ]
     },
     "execution_count": 4,
     "metadata": {},
     "output_type": "execute_result"
    }
   ],
   "source": [
    "HEA_cdiff=['HEA_cdiff','HEA_antibiotic_history']\n",
    "cdiff=metadata.loc[:, HEA_cdiff]\n",
    "cdiff_true=cdiff[cdiff.HEA_cdiff==True]\n",
    "cdiff_true['Catagory']='HEA_cdiff'\n",
    "\n",
    "year=cdiff_true[cdiff_true['HEA_antibiotic_history']=='Year']\n",
    "\n",
    "six_months=cdiff_true[cdiff_true['HEA_antibiotic_history']=='6 months']\n",
    "\n",
    "Month=cdiff_true[cdiff_true['HEA_antibiotic_history']=='Month']\n",
    "\n",
    "Week=cdiff_true[cdiff_true['HEA_antibiotic_history']=='Week']\n",
    "\n",
    "not_taken_in_the_past_year=cdiff_true[cdiff_true['HEA_antibiotic_history']=='I have not taken antibiotics in the past year.']\n",
    "\n",
    "Not_provided=cdiff_true[cdiff_true['HEA_antibiotic_history']=='Not provided']\n",
    "\n",
    "\n",
    "data2=['HEA_cdiff',year['Catagory'].count(),six_months['Catagory'].count(),Month['Catagory'].count()\n",
    ",Week['Catagory'].count(),not_taken_in_the_past_year['Catagory'].count(),Not_provided['Catagory'].count()]\n",
    "data2"
   ]
  },
  {
   "cell_type": "code",
   "execution_count": 5,
   "id": "64663db1-98ba-4b0b-a816-93ef3a00b1fb",
   "metadata": {
    "tags": []
   },
   "outputs": [
    {
     "data": {
      "text/plain": [
       "['HEA_sibo', 0, 5, 3, 3, 16, 0]"
      ]
     },
     "execution_count": 5,
     "metadata": {},
     "output_type": "execute_result"
    }
   ],
   "source": [
    "HEA_sibo=['HEA_sibo','HEA_antibiotic_history']\n",
    "sibo=metadata.loc[:, HEA_sibo]\n",
    "sibo_true=sibo[sibo.HEA_sibo==True]\n",
    "sibo_true['Catagory']='HEA_sibo'\n",
    "\n",
    "year=sibo_true[sibo_true['HEA_antibiotic_history']=='Year']\n",
    "\n",
    "six_months=sibo_true[sibo_true['HEA_antibiotic_history']=='6 months']\n",
    "\n",
    "Month=sibo_true[sibo_true['HEA_antibiotic_history']=='Month']\n",
    "\n",
    "Week=sibo_true[sibo_true['HEA_antibiotic_history']=='Week']\n",
    "\n",
    "not_taken_in_the_past_year=sibo_true[sibo_true['HEA_antibiotic_history']=='I have not taken antibiotics in the past year.']\n",
    "\n",
    "Not_provided=sibo_true[sibo_true['HEA_antibiotic_history']=='Not provided']\n",
    "\n",
    "\n",
    "data3=['HEA_sibo',year['Catagory'].count(),six_months['Catagory'].count(),Month['Catagory'].count()\n",
    ",Week['Catagory'].count(),not_taken_in_the_past_year['Catagory'].count(),Not_provided['Catagory'].count()]\n",
    "data3"
   ]
  },
  {
   "cell_type": "code",
   "execution_count": 6,
   "id": "8dd229f8-19bb-4e52-8971-59573536bf0f",
   "metadata": {
    "tags": []
   },
   "outputs": [
    {
     "data": {
      "text/plain": [
       "['HEA_acid_reflux', 17, 20, 4, 2, 50, 0]"
      ]
     },
     "execution_count": 6,
     "metadata": {},
     "output_type": "execute_result"
    }
   ],
   "source": [
    "HEA_acid_reflux=['HEA_acid_reflux','HEA_antibiotic_history']\n",
    "acid_reflux=metadata.loc[:, HEA_acid_reflux]\n",
    "acid_reflux_true=acid_reflux[acid_reflux.HEA_acid_reflux==True]\n",
    "acid_reflux_true['Catagory']='HEA_acid_reflux'\n",
    "\n",
    "year=acid_reflux_true[acid_reflux_true['HEA_antibiotic_history']=='Year']\n",
    "\n",
    "six_months=acid_reflux_true[acid_reflux_true['HEA_antibiotic_history']=='6 months']\n",
    "\n",
    "Month=acid_reflux_true[acid_reflux_true['HEA_antibiotic_history']=='Month']\n",
    "\n",
    "Week=acid_reflux_true[acid_reflux_true['HEA_antibiotic_history']=='Week']\n",
    "\n",
    "not_taken_in_the_past_year=acid_reflux_true[acid_reflux_true['HEA_antibiotic_history']=='I have not taken antibiotics in the past year.']\n",
    "\n",
    "Not_provided=acid_reflux_true[acid_reflux_true['HEA_antibiotic_history']=='Not provided']\n",
    "\n",
    "\n",
    "data4=['HEA_acid_reflux',year['Catagory'].count(),six_months['Catagory'].count(),Month['Catagory'].count()\n",
    ",Week['Catagory'].count(),not_taken_in_the_past_year['Catagory'].count(),Not_provided['Catagory'].count()]\n",
    "data4"
   ]
  },
  {
   "cell_type": "code",
   "execution_count": 7,
   "id": "8c6fb534-41e1-46d2-91b7-7110343998cd",
   "metadata": {
    "tags": []
   },
   "outputs": [
    {
     "data": {
      "text/plain": [
       "['HEA_thyroid', 9, 9, 1, 1, 33, 0]"
      ]
     },
     "execution_count": 7,
     "metadata": {},
     "output_type": "execute_result"
    }
   ],
   "source": [
    "HEA_thyroid=['HEA_thyroid','HEA_antibiotic_history']\n",
    "thyroid=metadata.loc[:, HEA_thyroid]\n",
    "thyroid_true=thyroid[thyroid.HEA_thyroid==True]\n",
    "thyroid_true['Catagory']='HEA_thyroid'\n",
    "\n",
    "year=thyroid_true[thyroid_true['HEA_antibiotic_history']=='Year']\n",
    "\n",
    "six_months=thyroid_true[thyroid_true['HEA_antibiotic_history']=='6 months']\n",
    "\n",
    "Month=thyroid_true[thyroid_true['HEA_antibiotic_history']=='Month']\n",
    "\n",
    "Week=thyroid_true[thyroid_true['HEA_antibiotic_history']=='Week']\n",
    "\n",
    "not_taken_in_the_past_year=thyroid_true[thyroid_true['HEA_antibiotic_history']=='I have not taken antibiotics in the past year.']\n",
    "\n",
    "Not_provided=thyroid_true[thyroid_true['HEA_antibiotic_history']=='Not provided']\n",
    "\n",
    "\n",
    "data5=['HEA_thyroid',year['Catagory'].count(),six_months['Catagory'].count(),Month['Catagory'].count()\n",
    ",Week['Catagory'].count(),not_taken_in_the_past_year['Catagory'].count(),Not_provided['Catagory'].count()]\n",
    "data5"
   ]
  },
  {
   "cell_type": "code",
   "execution_count": 8,
   "id": "e96204e2-7120-47ad-98b3-7aedf6c07e08",
   "metadata": {
    "tags": []
   },
   "outputs": [
    {
     "data": {
      "text/html": [
       "<div>\n",
       "<style scoped>\n",
       "    .dataframe tbody tr th:only-of-type {\n",
       "        vertical-align: middle;\n",
       "    }\n",
       "\n",
       "    .dataframe tbody tr th {\n",
       "        vertical-align: top;\n",
       "    }\n",
       "\n",
       "    .dataframe thead th {\n",
       "        text-align: right;\n",
       "    }\n",
       "</style>\n",
       "<table border=\"1\" class=\"dataframe\">\n",
       "  <thead>\n",
       "    <tr style=\"text-align: right;\">\n",
       "      <th></th>\n",
       "      <th>Catagory</th>\n",
       "      <th>Year</th>\n",
       "      <th>6 months</th>\n",
       "      <th>Month</th>\n",
       "      <th>Week</th>\n",
       "      <th>I have not taken antibiotics in the past year.</th>\n",
       "      <th>Not provided</th>\n",
       "    </tr>\n",
       "  </thead>\n",
       "  <tbody>\n",
       "    <tr>\n",
       "      <th>0</th>\n",
       "      <td>HEA_ibd</td>\n",
       "      <td>5</td>\n",
       "      <td>4</td>\n",
       "      <td>6</td>\n",
       "      <td>3</td>\n",
       "      <td>16</td>\n",
       "      <td>0</td>\n",
       "    </tr>\n",
       "    <tr>\n",
       "      <th>1</th>\n",
       "      <td>HEA_cdiff</td>\n",
       "      <td>2</td>\n",
       "      <td>2</td>\n",
       "      <td>1</td>\n",
       "      <td>0</td>\n",
       "      <td>2</td>\n",
       "      <td>0</td>\n",
       "    </tr>\n",
       "    <tr>\n",
       "      <th>2</th>\n",
       "      <td>HEA_sibo</td>\n",
       "      <td>0</td>\n",
       "      <td>5</td>\n",
       "      <td>3</td>\n",
       "      <td>3</td>\n",
       "      <td>16</td>\n",
       "      <td>0</td>\n",
       "    </tr>\n",
       "    <tr>\n",
       "      <th>3</th>\n",
       "      <td>HEA_acid_reflux</td>\n",
       "      <td>17</td>\n",
       "      <td>20</td>\n",
       "      <td>4</td>\n",
       "      <td>2</td>\n",
       "      <td>50</td>\n",
       "      <td>0</td>\n",
       "    </tr>\n",
       "    <tr>\n",
       "      <th>4</th>\n",
       "      <td>HEA_thyroid</td>\n",
       "      <td>9</td>\n",
       "      <td>9</td>\n",
       "      <td>1</td>\n",
       "      <td>1</td>\n",
       "      <td>33</td>\n",
       "      <td>0</td>\n",
       "    </tr>\n",
       "  </tbody>\n",
       "</table>\n",
       "</div>"
      ],
      "text/plain": [
       "          Catagory  Year  6 months  Month  Week  \\\n",
       "0          HEA_ibd     5         4      6     3   \n",
       "1        HEA_cdiff     2         2      1     0   \n",
       "2         HEA_sibo     0         5      3     3   \n",
       "3  HEA_acid_reflux    17        20      4     2   \n",
       "4      HEA_thyroid     9         9      1     1   \n",
       "\n",
       "   I have not taken antibiotics in the past year.  Not provided  \n",
       "0                                              16             0  \n",
       "1                                               2             0  \n",
       "2                                              16             0  \n",
       "3                                              50             0  \n",
       "4                                              33             0  "
      ]
     },
     "execution_count": 8,
     "metadata": {},
     "output_type": "execute_result"
    }
   ],
   "source": [
    "data=[data1,data2,data3,data4,data5]\n",
    "df=pd.DataFrame(data,columns=['Catagory','Year','6 months','Month','Week','I have not taken antibiotics in the past year.','Not provided'])\n",
    "df"
   ]
  },
  {
   "cell_type": "code",
   "execution_count": 51,
   "id": "bd057f92-7094-4d72-b9f7-00e00cf33d55",
   "metadata": {},
   "outputs": [
    {
     "data": {
      "image/png": "[encoded data removed]",
      "text/plain": [
       "<Figure size 432x432 with 1 Axes>"
      ]
     },
     "metadata": {
      "needs_background": "light"
     },
     "output_type": "display_data"
    }
   ],
   "source": [
    "x = df['Catagory']\n",
    "y1 = df['Year']\n",
    "y2 = df['6 months']\n",
    "y3 =df['Month']\n",
    "y4 =df['Week']\n",
    "y5 =df['I have not taken antibiotics in the past year.']\n",
    "y6 =df['Not provided']\n",
    "plt.figure(figsize=(6, 6))\n",
    "plt.bar(x,y1,width=0.4,label='Year',color='orange',edgecolor='black')\n",
    "plt.bar(x,y2,width=0.4,bottom=y1,label='6 months',color='red',edgecolor='black')\n",
    "plt.bar(x,y3,width=0.4,bottom=y1+y2,label='Month',color='blue',edgecolor='black')\n",
    "plt.bar(x,y4,width=0.4,bottom=y1+y2+y3,label='Week',color='green',edgecolor='black')\n",
    "plt.bar(x,y5,width=0.4,bottom=y1+y2+y3+y4,label='have not taken in the past year',color='purple',edgecolor='black')\n",
    "plt.bar(x,y6,width=0.4,bottom=y1+y2+y3+y4+y5,label='Not provided',color='grey',edgecolor='black')\n",
    "\n",
    "\n",
    "plt.tick_params(axis='x',length=0)\n",
    "plt.yticks(rotation=45)\n",
    "plt.xticks(rotation=45)\n",
    "plt.ylim(0,100)\n",
    "\n",
    "plt.xlabel('top 5 disease',fontsize=12)\n",
    "plt.ylabel('antibiotic history',fontsize=12)\n",
    "plt.title('Dependence of Antibiotic History on the Disease',fontsize=13)\n",
    "plt.legend(loc=2,frameon=False,fontsize=10)\n",
    "plt.show()"
   ]
  },
  {
   "cell_type": "code",
   "execution_count": null,
   "id": "b428f95d-fe35-45a8-8030-4ce461f088f6",
   "metadata": {},
   "outputs": [],
   "source": []
  }
 ],
 "metadata": {
  "kernelspec": {
   "display_name": "Python 3 (ipykernel)",
   "language": "python",
   "name": "python3"
  },
  "language_info": {
   "codemirror_mode": {
    "name": "ipython",
    "version": 3
   },
   "file_extension": ".py",
   "mimetype": "text/x-python",
   "name": "python",
   "nbconvert_exporter": "python",
   "pygments_lexer": "ipython3",
   "version": "3.8.13"
  }
 },
 "nbformat": 4,
 "nbformat_minor": 5
}
