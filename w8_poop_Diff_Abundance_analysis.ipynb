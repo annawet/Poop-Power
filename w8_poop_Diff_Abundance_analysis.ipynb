{
 "cells": [
  {
   "cell_type": "markdown",
   "id": "ad0aa828-ed74-4c94-8fcf-6ef7b239a297",
   "metadata": {
    "tags": []
   },
   "source": [
    "# PoopPower: Differential abundance analysis"
   ]
  },
  {
   "cell_type": "markdown",
   "id": "9bd09b1e-c5e3-42ce-bbc0-b11338c8a9e6",
   "metadata": {},
   "source": [
    "In the previous exercise we saw how to compare samples using alpha and beta diversity metrics. Now we will see with  _differential abundance_ how to test whether individual ASVs/taxa differ in abundance between samples' groups.\n",
    "We are going to use the trustfull test  ANCOM : a compositionally aware alternative that allows to test for differentially abundant features. "
   ]
  },
  {
   "cell_type": "code",
   "execution_count": 7,
   "id": "733c8f6b-41db-4a05-9b78-51d3d77897bd",
   "metadata": {},
   "outputs": [],
   "source": [
    "# importing all required packages & notebook extensions at the start of the notebook\n",
    "import os\n",
    "import matplotlib.pyplot as plt\n",
    "import pandas as pd\n",
    "import qiime2 as q2\n",
    "from qiime2 import Visualization\n",
    "import seaborn as sns\n",
    "from scipy.stats import shapiro, kruskal, f_oneway"
   ]
  },
  {
   "cell_type": "code",
   "execution_count": 8,
   "id": "cc695a77-630b-4728-8b50-b964b5aa01ee",
   "metadata": {},
   "outputs": [],
   "source": [
    "div_dir = 'poop_data/Diversity'\n",
    "phy_dir = 'poop_data/Phylogeny'\n",
    "tox_dir = 'poop_data/Taxonomy'\n",
    "den_dir= 'poop_data/Denoising'\n",
    "diff_abu= 'poop_data/Differential_abundance'\n",
    "data_dir = 'poop_data'\n",
    "\n",
    "%matplotlib inline"
   ]
  },
  {
   "cell_type": "markdown",
   "id": "c72a12f0-cde2-4ca9-9206-956b8adc050a",
   "metadata": {},
   "source": [
    "##  ANCOM\n",
    "\n",
    "Analyze this dataset given its limitations: \n",
    "1.We will start by filtering our feature table and only retain features that are present at some minimal frequency (5000). This can improve resolution and limit the false discovery rate penalty on features that are too far below the noise threshhold to be applicable to a statistical test. We can use the `filter-features` action from the `feature-table` plugin. "
   ]
  },
  {
   "cell_type": "code",
   "execution_count": 33,
   "id": "8d5bd54a-1530-4024-8686-086330c6392b",
   "metadata": {},
   "outputs": [
    {
     "name": "stdout",
     "output_type": "stream",
     "text": [
      "\u001b[32mSaved FeatureTable[Frequency] to: poop_data/Differential_abundance/table_abund.qza\u001b[0m\n",
      "\u001b[0m"
     ]
    }
   ],
   "source": [
    "! qiime feature-table filter-features \\\n",
    "    --i-table $den_dir/dada2_table.qza \\\n",
    "    --p-min-frequency 5000 \\\n",
    "    --o-filtered-table $diff_abu/table_abund.qza"
   ]
  },
  {
   "cell_type": "code",
   "execution_count": 24,
   "id": "47a9a9d4-9f47-4c2b-b1eb-de4e408303f5",
   "metadata": {
    "collapsed": true,
    "jupyter": {
     "outputs_hidden": true
    },
    "tags": []
   },
   "outputs": [
    {
     "name": "stdout",
     "output_type": "stream",
     "text": [
      "Usage: \u001b[94mqiime feature-table filter-features\u001b[0m [OPTIONS]\n",
      "\n",
      "  Filter features from table based on frequency and/or metadata. Any samples\n",
      "  with a frequency of zero after feature filtering will also be removed. See\n",
      "  the filtering tutorial on https://docs.qiime2.org for additional details.\n",
      "\n",
      "\u001b[1mInputs\u001b[0m:\n",
      "  \u001b[94m\u001b[4m--i-table\u001b[0m ARTIFACT \u001b[32mFeatureTable[Frequency]\u001b[0m\n",
      "                       The feature table from which features should be\n",
      "                       filtered.                                    \u001b[35m[required]\u001b[0m\n",
      "\u001b[1mParameters\u001b[0m:\n",
      "  \u001b[94m--p-min-frequency\u001b[0m INTEGER\n",
      "                       The minimum total frequency that a feature must have\n",
      "                       to be retained.                            \u001b[35m[default: 0]\u001b[0m\n",
      "  \u001b[94m--p-max-frequency\u001b[0m INTEGER\n",
      "                       The maximum total frequency that a feature can have to\n",
      "                       be retained. If no value is provided this will default\n",
      "                       to infinity (i.e., no maximum frequency filter will be\n",
      "                       applied).                                    \u001b[35m[optional]\u001b[0m\n",
      "  \u001b[94m--p-min-samples\u001b[0m INTEGER\n",
      "                       The minimum number of samples that a feature must be\n",
      "                       observed in to be retained.                \u001b[35m[default: 0]\u001b[0m\n",
      "  \u001b[94m--p-max-samples\u001b[0m INTEGER\n",
      "                       The maximum number of samples that a feature can be\n",
      "                       observed in to be retained. If no value is provided\n",
      "                       this will default to infinity (i.e., no maximum sample\n",
      "                       filter will be applied).                     \u001b[35m[optional]\u001b[0m\n",
      "  \u001b[94m--m-metadata-file\u001b[0m METADATA...\n",
      "    (multiple          Feature metadata used with `where` parameter when\n",
      "     arguments will    selecting features to retain, or with `\u001b[4mexclude-ids\u001b[0m`\n",
      "     be merged)        when selecting features to discard.          \u001b[35m[optional]\u001b[0m\n",
      "  \u001b[94m--p-where\u001b[0m TEXT       SQLite WHERE clause specifying feature metadata\n",
      "                       criteria that must be met to be included in the\n",
      "                       filtered feature table. If not provided, all features\n",
      "                       in `metadata` that are also in the feature table will\n",
      "                       be retained.                                 \u001b[35m[optional]\u001b[0m\n",
      "  \u001b[94m--p-exclude-ids\u001b[0m / \u001b[94m--p-no-exclude-ids\u001b[0m\n",
      "                       If true, the features selected by `metadata` or\n",
      "                       `where` parameters will be excluded from the filtered\n",
      "                       table instead of being retained.       \u001b[35m[default: False]\u001b[0m\n",
      "  \u001b[94m--p-filter-empty-samples\u001b[0m / \u001b[94m--p-no-filter-empty-samples\u001b[0m\n",
      "                       If true, drop any samples where none of the retained\n",
      "                       features are present.                   \u001b[35m[default: True]\u001b[0m\n",
      "\u001b[1mOutputs\u001b[0m:\n",
      "  \u001b[94m\u001b[4m--o-filtered-table\u001b[0m ARTIFACT \u001b[32mFeatureTable[Frequency]\u001b[0m\n",
      "                       The resulting feature table filtered by feature.\n",
      "                                                                    \u001b[35m[required]\u001b[0m\n",
      "\u001b[1mMiscellaneous\u001b[0m:\n",
      "  \u001b[94m--output-dir\u001b[0m PATH    Output unspecified results to a directory\n",
      "  \u001b[94m--verbose\u001b[0m / \u001b[94m--quiet\u001b[0m  Display verbose output to stdout and/or stderr during\n",
      "                       execution of this action. Or silence output if\n",
      "                       execution is successful (silence is golden).\n",
      "  \u001b[94m--example-data\u001b[0m PATH  Write example data and exit.\n",
      "  \u001b[94m--citations\u001b[0m          Show citations and exit.\n",
      "  \u001b[94m--help\u001b[0m               Show this message and exit.\n"
     ]
    }
   ],
   "source": [
    "! qiime feature-table filter-features --help"
   ]
  },
  {
   "cell_type": "code",
   "execution_count": 9,
   "id": "f05474da-e886-453e-94b4-838324564f83",
   "metadata": {
    "collapsed": true,
    "jupyter": {
     "outputs_hidden": true
    },
    "tags": []
   },
   "outputs": [
    {
     "data": {
      "text/html": [
       "<div><img onload=\"(function(div, url){\n",
       "if (typeof require !== 'undefined') {\n",
       "    var baseURL = require.toUrl('').split('/').slice(0, -2).join('/');\n",
       "} else {\n",
       "    var baseURL = JSON.parse(\n",
       "        document.getElementById('jupyter-config-data').innerHTML\n",
       "    ).baseUrl.slice(0, -1);\n",
       "}\n",
       "url = baseURL + url;\n",
       "fetch(url).then(function(res) {\n",
       "    if (res.status === 404) {\n",
       "        div.innerHTML = 'Install QIIME 2 Jupyter extension with:<br />' +\n",
       "                        '<code>jupyter serverextension enable --py qiime2' +\n",
       "                        ' --sys-prefix</code><br />then restart your server.' +\n",
       "                        '<br /><br />(Interactive output not available on ' +\n",
       "                        'static notebook viewer services like nbviewer.)';\n",
       "    } else if (res.status === 409) {\n",
       "        div.innerHTML = 'Visualization no longer in scope. Re-run this cell' +\n",
       "                        ' to see the visualization.';\n",
       "    } else if (res.ok) {\n",
       "        url = res.url;\n",
       "        div.innerHTML = '<iframe src=\\'' + url + '\\' style=\\'' +\n",
       "                        'width: 100%; height: 700px; border: 0;\\'>' +\n",
       "                        '</iframe><hr />Open in a: <a href=\\'' + url + '\\'' +\n",
       "                        ' target=\\'_blank\\'>new window</a>'\n",
       "    } else {\n",
       "        div.innerHTML = 'Something has gone wrong. Check notebook server for' +\n",
       "                        ' errors.';\n",
       "    }\n",
       "});\n",
       "})(this.parentElement, '/qiime2/redirect?location=/tmp/qiime2-archive-om1ww991')\" src=\"data:image/gif;base64,R0lGODlhAQABAIAAAP///wAAACH5BAEAAAAALAAAAAABAAEAAAICRAEAOw==\" /></div>"
      ],
      "text/plain": [
       "<visualization: Visualization uuid: f33dc630-989c-4893-83ab-cc4579390091>"
      ]
     },
     "execution_count": 9,
     "metadata": {},
     "output_type": "execute_result"
    }
   ],
   "source": [
    "Visualization.load(f'{den_dir}/dada2_table.qzv') # we see that 5000 is a reasonable number to cutoff. But are we cutting off to many data? Now we compare the table before and after filtering it:"
   ]
  },
  {
   "cell_type": "code",
   "execution_count": 37,
   "id": "5126fc63-2481-45bf-ba7c-f8461ee51e6b",
   "metadata": {},
   "outputs": [
    {
     "name": "stdout",
     "output_type": "stream",
     "text": [
      "\u001b[32mSaved Visualization to: poop_data/Differential_abundance/table_abund.qzv\u001b[0m\n",
      "\u001b[0m"
     ]
    }
   ],
   "source": [
    "! qiime feature-table summarize \\\n",
    "    --i-table $diff_abu/table_abund.qza \\\n",
    "    --m-sample-metadata-file $data_dir/metadata.tsv \\\n",
    "    --o-visualization $diff_abu/table_abund.qzv"
   ]
  },
  {
   "cell_type": "code",
   "execution_count": 40,
   "id": "5ba1a8d0-5185-4e63-ad7b-ea65434266b6",
   "metadata": {
    "tags": []
   },
   "outputs": [
    {
     "data": {
      "text/html": [
       "<div><img onload=\"(function(div, url){\n",
       "if (typeof require !== 'undefined') {\n",
       "    var baseURL = require.toUrl('').split('/').slice(0, -2).join('/');\n",
       "} else {\n",
       "    var baseURL = JSON.parse(\n",
       "        document.getElementById('jupyter-config-data').innerHTML\n",
       "    ).baseUrl.slice(0, -1);\n",
       "}\n",
       "url = baseURL + url;\n",
       "fetch(url).then(function(res) {\n",
       "    if (res.status === 404) {\n",
       "        div.innerHTML = 'Install QIIME 2 Jupyter extension with:<br />' +\n",
       "                        '<code>jupyter serverextension enable --py qiime2' +\n",
       "                        ' --sys-prefix</code><br />then restart your server.' +\n",
       "                        '<br /><br />(Interactive output not available on ' +\n",
       "                        'static notebook viewer services like nbviewer.)';\n",
       "    } else if (res.status === 409) {\n",
       "        div.innerHTML = 'Visualization no longer in scope. Re-run this cell' +\n",
       "                        ' to see the visualization.';\n",
       "    } else if (res.ok) {\n",
       "        url = res.url;\n",
       "        div.innerHTML = '<iframe src=\\'' + url + '\\' style=\\'' +\n",
       "                        'width: 100%; height: 700px; border: 0;\\'>' +\n",
       "                        '</iframe><hr />Open in a: <a href=\\'' + url + '\\'' +\n",
       "                        ' target=\\'_blank\\'>new window</a>'\n",
       "    } else {\n",
       "        div.innerHTML = 'Something has gone wrong. Check notebook server for' +\n",
       "                        ' errors.';\n",
       "    }\n",
       "});\n",
       "})(this.parentElement, '/qiime2/redirect?location=/tmp/qiime2-archive-oxg2xmoz')\" src=\"data:image/gif;base64,R0lGODlhAQABAIAAAP///wAAACH5BAEAAAAALAAAAAABAAEAAAICRAEAOw==\" /></div>"
      ],
      "text/plain": [
       "<visualization: Visualization uuid: 0cdedb67-a135-4573-8b1c-f3ddbb7c25a6>"
      ]
     },
     "execution_count": 40,
     "metadata": {},
     "output_type": "execute_result"
    }
   ],
   "source": [
    "Visualization.load(f'{diff_abu}/table_abund.qzv') # Here we can observe that the data that we cutoff are not to many . They only decrease from 523 to 513 "
   ]
  },
  {
   "cell_type": "markdown",
   "id": "f8ea9e07-f704-42f8-b036-2d9ecbc1e458",
   "metadata": {},
   "source": [
    "##  ANCOM: GEN_sex"
   ]
  },
  {
   "cell_type": "code",
   "execution_count": 34,
   "id": "7755e6a3-3ba2-425d-8db0-105802a25971",
   "metadata": {},
   "outputs": [
    {
     "name": "stdout",
     "output_type": "stream",
     "text": [
      "\u001b[32mSaved FeatureTable[Frequency] to: poop_data/Differential_abundance/table_abund_female_male.qza\u001b[0m\n",
      "\u001b[0m\u001b[32mSaved FeatureTable[Composition] to: poop_data/Differential_abundance/table_abund_F_M_comp.qza\u001b[0m\n",
      "\u001b[0m\u001b[32mSaved Visualization to: poop_data/Differential_abundance/ancom_SEX.qzv\u001b[0m\n",
      "\u001b[0m"
     ]
    }
   ],
   "source": [
    "! qiime feature-table filter-samples \\\n",
    "    --i-table $diff_abu/table_abund.qza \\\n",
    "    --m-metadata-file $data_dir/metadata.tsv \\\n",
    "    --p-where \"[GEN_sex]='male' or [GEN_sex]='female'\" \\\n",
    "    --o-filtered-table $diff_abu/table_abund_female_male.qza\n",
    "\n",
    "! qiime composition add-pseudocount \\\n",
    "    --i-table $diff_abu/table_abund_female_male.qza \\\n",
    "    --o-composition-table $diff_abu/table_abund_F_M_comp.qza\n",
    "    \n",
    "! qiime composition ancom \\\n",
    "    --i-table $diff_abu/table_abund_F_M_comp.qza \\\n",
    "    --m-metadata-file $data_dir/metadata.tsv \\\n",
    "    --m-metadata-column GEN_sex \\\n",
    "    --p-transform-function log \\\n",
    "    --o-visualization $diff_abu/ancom_SEX.qzv"
   ]
  },
  {
   "cell_type": "code",
   "execution_count": 9,
   "id": "fed11fcd-91c9-4c93-9dd5-e588c86162ec",
   "metadata": {
    "tags": []
   },
   "outputs": [
    {
     "data": {
      "text/html": [
       "<div><img onload=\"(function(div, url){\n",
       "if (typeof require !== 'undefined') {\n",
       "    var baseURL = require.toUrl('').split('/').slice(0, -2).join('/');\n",
       "} else {\n",
       "    var baseURL = JSON.parse(\n",
       "        document.getElementById('jupyter-config-data').innerHTML\n",
       "    ).baseUrl.slice(0, -1);\n",
       "}\n",
       "url = baseURL + url;\n",
       "fetch(url).then(function(res) {\n",
       "    if (res.status === 404) {\n",
       "        div.innerHTML = 'Install QIIME 2 Jupyter extension with:<br />' +\n",
       "                        '<code>jupyter serverextension enable --py qiime2' +\n",
       "                        ' --sys-prefix</code><br />then restart your server.' +\n",
       "                        '<br /><br />(Interactive output not available on ' +\n",
       "                        'static notebook viewer services like nbviewer.)';\n",
       "    } else if (res.status === 409) {\n",
       "        div.innerHTML = 'Visualization no longer in scope. Re-run this cell' +\n",
       "                        ' to see the visualization.';\n",
       "    } else if (res.ok) {\n",
       "        url = res.url;\n",
       "        div.innerHTML = '<iframe src=\\'' + url + '\\' style=\\'' +\n",
       "                        'width: 100%; height: 700px; border: 0;\\'>' +\n",
       "                        '</iframe><hr />Open in a: <a href=\\'' + url + '\\'' +\n",
       "                        ' target=\\'_blank\\'>new window</a>'\n",
       "    } else {\n",
       "        div.innerHTML = 'Something has gone wrong. Check notebook server for' +\n",
       "                        ' errors.';\n",
       "    }\n",
       "});\n",
       "})(this.parentElement, '/qiime2/redirect?location=/tmp/qiime2-archive-jz8z0al7')\" src=\"data:image/gif;base64,R0lGODlhAQABAIAAAP///wAAACH5BAEAAAAALAAAAAABAAEAAAICRAEAOw==\" /></div>"
      ],
      "text/plain": [
       "<visualization: Visualization uuid: 7e88d072-7188-4257-8cb3-d5c028afb6d2>"
      ]
     },
     "execution_count": 9,
     "metadata": {},
     "output_type": "execute_result"
    }
   ],
   "source": [
    "Visualization.load(f'{diff_abu}/ancom_SEX.qzv')"
   ]
  },
  {
   "cell_type": "markdown",
   "id": "7b4ea319-7836-4dff-8852-6506e423ec2d",
   "metadata": {},
   "source": [
    "By looking at the ANCOM Volcano we can see only one statistically significant ASV at the right corner of the plot. This is **77c2dc197e6b3dbebc4ee240c6a1c559** with a **W=36**. Then we look the same feature in the table of percentile abundances of features by group:\n",
    "    **1)** in 75% of the samples in the female group, 18,25 or fewer sequences were observed and assigned to this feature\n",
    "    **2)** in 75% of the samples in the male group, 1 sequences were assigned to this feature\n",
    "\n",
    "That would suggest that this feature is more abundant in the female samples. To further investigate these results that we have done in an ASV level we are going to see the taxa down to the species and genus level."
   ]
  },
  {
   "cell_type": "code",
   "execution_count": 3,
   "id": "b7871831-ff89-4f7b-82a1-ec6279f3599b",
   "metadata": {},
   "outputs": [
    {
     "name": "stdout",
     "output_type": "stream",
     "text": [
      "\u001b[32mSaved FeatureTable[Frequency] to: poop_data/Differential_abundance/table_abund_species.qza\u001b[0m\n",
      "\u001b[0m\u001b[32mSaved FeatureTable[Frequency] to: poop_data/Differential_abundance/table_abund_F_M_spec.qza\u001b[0m\n",
      "\u001b[0m\u001b[32mSaved FeatureTable[Composition] to: poop_data/Differential_abundance/table_abund_F_M_spec_comp.qza\u001b[0m\n",
      "\u001b[0m\u001b[32mSaved Visualization to: poop_data/Differential_abundance/ancom_GEN_sex_spec.qzv\u001b[0m\n",
      "\u001b[0m"
     ]
    }
   ],
   "source": [
    "! qiime taxa collapse \\\n",
    "    --i-table $diff_abu/table_abund.qza \\\n",
    "    --i-taxonomy $tox_dir/taxonomy_new.qza \\\n",
    "    --p-level 7 \\\n",
    "    --o-collapsed-table $diff_abu/table_abund_species.qza\n",
    "\n",
    "! qiime feature-table filter-samples \\\n",
    "    --i-table $diff_abu/table_abund_species.qza \\\n",
    "    --m-metadata-file $data_dir/metadata.tsv \\\n",
    "    --p-where \"[GEN_sex]='male' or [GEN_sex]='female'\" \\\n",
    "    --o-filtered-table $diff_abu/table_abund_F_M_spec.qza\n",
    "\n",
    "! qiime composition add-pseudocount \\\n",
    "    --i-table $diff_abu/table_abund_F_M_spec.qza \\\n",
    "    --o-composition-table $diff_abu/table_abund_F_M_spec_comp.qza\n",
    "\n",
    "! qiime composition ancom \\\n",
    "    --i-table $diff_abu/table_abund_F_M_spec_comp.qza \\\n",
    "    --m-metadata-file $data_dir/metadata.tsv \\\n",
    "    --m-metadata-column GEN_sex \\\n",
    "    --o-visualization $diff_abu/ancom_GEN_sex_spec.qzv"
   ]
  },
  {
   "cell_type": "code",
   "execution_count": 10,
   "id": "abd58332-a6a3-43de-9a38-6bfcd8c0d16c",
   "metadata": {
    "collapsed": true,
    "jupyter": {
     "outputs_hidden": true
    },
    "tags": []
   },
   "outputs": [
    {
     "data": {
      "text/html": [
       "<div><img onload=\"(function(div, url){\n",
       "if (typeof require !== 'undefined') {\n",
       "    var baseURL = require.toUrl('').split('/').slice(0, -2).join('/');\n",
       "} else {\n",
       "    var baseURL = JSON.parse(\n",
       "        document.getElementById('jupyter-config-data').innerHTML\n",
       "    ).baseUrl.slice(0, -1);\n",
       "}\n",
       "url = baseURL + url;\n",
       "fetch(url).then(function(res) {\n",
       "    if (res.status === 404) {\n",
       "        div.innerHTML = 'Install QIIME 2 Jupyter extension with:<br />' +\n",
       "                        '<code>jupyter serverextension enable --py qiime2' +\n",
       "                        ' --sys-prefix</code><br />then restart your server.' +\n",
       "                        '<br /><br />(Interactive output not available on ' +\n",
       "                        'static notebook viewer services like nbviewer.)';\n",
       "    } else if (res.status === 409) {\n",
       "        div.innerHTML = 'Visualization no longer in scope. Re-run this cell' +\n",
       "                        ' to see the visualization.';\n",
       "    } else if (res.ok) {\n",
       "        url = res.url;\n",
       "        div.innerHTML = '<iframe src=\\'' + url + '\\' style=\\'' +\n",
       "                        'width: 100%; height: 700px; border: 0;\\'>' +\n",
       "                        '</iframe><hr />Open in a: <a href=\\'' + url + '\\'' +\n",
       "                        ' target=\\'_blank\\'>new window</a>'\n",
       "    } else {\n",
       "        div.innerHTML = 'Something has gone wrong. Check notebook server for' +\n",
       "                        ' errors.';\n",
       "    }\n",
       "});\n",
       "})(this.parentElement, '/qiime2/redirect?location=/tmp/qiime2-archive-xr_20xp2')\" src=\"data:image/gif;base64,R0lGODlhAQABAIAAAP///wAAACH5BAEAAAAALAAAAAABAAEAAAICRAEAOw==\" /></div>"
      ],
      "text/plain": [
       "<visualization: Visualization uuid: 9a100427-29dc-49ef-ab57-250aadb82225>"
      ]
     },
     "execution_count": 10,
     "metadata": {},
     "output_type": "execute_result"
    }
   ],
   "source": [
    "Visualization.load(f'{diff_abu}/ancom_GEN_sex_spec.qzv') "
   ]
  },
  {
   "cell_type": "code",
   "execution_count": 4,
   "id": "a2cf841c-de6a-4890-a6c9-8dde1291528b",
   "metadata": {},
   "outputs": [
    {
     "name": "stdout",
     "output_type": "stream",
     "text": [
      "\u001b[32mSaved FeatureTable[Frequency] to: poop_data/Differential_abundance/table_abund_genus.qza\u001b[0m\n",
      "\u001b[0m\u001b[32mSaved FeatureTable[Frequency] to: poop_data/Differential_abundance/table_abund_F_M_gen.qza\u001b[0m\n",
      "\u001b[0m\u001b[32mSaved FeatureTable[Composition] to: poop_data/Differential_abundance/table_abund_F_M_gen_comp.qza\u001b[0m\n",
      "\u001b[0m\u001b[32mSaved Visualization to: poop_data/Differential_abundance/ancom_GEN_sex_gen.qzv\u001b[0m\n",
      "\u001b[0m"
     ]
    }
   ],
   "source": [
    "! qiime taxa collapse \\\n",
    "    --i-table $diff_abu/table_abund.qza \\\n",
    "    --i-taxonomy $tox_dir/taxonomy_new.qza \\\n",
    "    --p-level 6 \\\n",
    "    --o-collapsed-table $diff_abu/table_abund_genus.qza\n",
    "\n",
    "! qiime feature-table filter-samples \\\n",
    "    --i-table $diff_abu/table_abund_genus.qza \\\n",
    "    --m-metadata-file $data_dir/metadata.tsv \\\n",
    "    --p-where \"[GEN_sex]='male' or [GEN_sex]='female'\" \\\n",
    "    --o-filtered-table $diff_abu/table_abund_F_M_gen.qza\n",
    "\n",
    "! qiime composition add-pseudocount \\\n",
    "    --i-table $diff_abu/table_abund_F_M_gen.qza \\\n",
    "    --o-composition-table $diff_abu/table_abund_F_M_gen_comp.qza\n",
    "\n",
    "! qiime composition ancom \\\n",
    "    --i-table $diff_abu/table_abund_F_M_gen_comp.qza \\\n",
    "    --m-metadata-file $data_dir/metadata.tsv \\\n",
    "    --m-metadata-column GEN_sex \\\n",
    "    --o-visualization $diff_abu/ancom_GEN_sex_gen.qzv"
   ]
  },
  {
   "cell_type": "code",
   "execution_count": 30,
   "id": "6db72d5f-0383-44e1-ae74-bf9679730a5d",
   "metadata": {
    "collapsed": true,
    "jupyter": {
     "outputs_hidden": true
    },
    "tags": []
   },
   "outputs": [
    {
     "data": {
      "text/html": [
       "<div><img onload=\"(function(div, url){\n",
       "if (typeof require !== 'undefined') {\n",
       "    var baseURL = require.toUrl('').split('/').slice(0, -2).join('/');\n",
       "} else {\n",
       "    var baseURL = JSON.parse(\n",
       "        document.getElementById('jupyter-config-data').innerHTML\n",
       "    ).baseUrl.slice(0, -1);\n",
       "}\n",
       "url = baseURL + url;\n",
       "fetch(url).then(function(res) {\n",
       "    if (res.status === 404) {\n",
       "        div.innerHTML = 'Install QIIME 2 Jupyter extension with:<br />' +\n",
       "                        '<code>jupyter serverextension enable --py qiime2' +\n",
       "                        ' --sys-prefix</code><br />then restart your server.' +\n",
       "                        '<br /><br />(Interactive output not available on ' +\n",
       "                        'static notebook viewer services like nbviewer.)';\n",
       "    } else if (res.status === 409) {\n",
       "        div.innerHTML = 'Visualization no longer in scope. Re-run this cell' +\n",
       "                        ' to see the visualization.';\n",
       "    } else if (res.ok) {\n",
       "        url = res.url;\n",
       "        div.innerHTML = '<iframe src=\\'' + url + '\\' style=\\'' +\n",
       "                        'width: 100%; height: 700px; border: 0;\\'>' +\n",
       "                        '</iframe><hr />Open in a: <a href=\\'' + url + '\\'' +\n",
       "                        ' target=\\'_blank\\'>new window</a>'\n",
       "    } else {\n",
       "        div.innerHTML = 'Something has gone wrong. Check notebook server for' +\n",
       "                        ' errors.';\n",
       "    }\n",
       "});\n",
       "})(this.parentElement, '/qiime2/redirect?location=/tmp/qiime2-archive-yqprwdmq')\" src=\"data:image/gif;base64,R0lGODlhAQABAIAAAP///wAAACH5BAEAAAAALAAAAAABAAEAAAICRAEAOw==\" /></div>"
      ],
      "text/plain": [
       "<visualization: Visualization uuid: dbe695d7-c599-4786-b0db-59f547d879e7>"
      ]
     },
     "execution_count": 30,
     "metadata": {},
     "output_type": "execute_result"
    }
   ],
   "source": [
    "Visualization.load(f'{diff_abu}/ancom_GEN_sex_gen.qzv')  #W=11"
   ]
  },
  {
   "cell_type": "markdown",
   "id": "379a8e33-30cb-4547-88bc-f30891c57403",
   "metadata": {},
   "source": [
    "Now by looking at the ANCOM Volcano we can see an higher statistically significant difference between the two gender at the both corner of the plot. \n",
    "Also by looking to this Percentile abundances of features by group we can confirm the previous assumption that would suggest that this feature is more abundant in the female samples. "
   ]
  },
  {
   "cell_type": "markdown",
   "id": "3c29e11c-5e7e-477b-8f30-26c98c7e03cb",
   "metadata": {},
   "source": [
    "**In our Poop Data we have many groups to compare. In order to select the most different and feasable groups we look at the value from the previous Beta Diversity analysis with weightet and unweigheted unifrac (df_w_significant and df_significant)**"
   ]
  },
  {
   "cell_type": "markdown",
   "id": "b952efb9-db31-4215-803c-67bd7aa15e77",
   "metadata": {},
   "source": [
    "**After we select from permanova table, where the q-value is below significance-level to find some comparison to make with ANCOM**"
   ]
  },
  {
   "cell_type": "markdown",
   "id": "5e5d3d2c-b79a-4913-9f57-351d3ad29cac",
   "metadata": {},
   "source": [
    "##  ANCOM: HEA_ibd"
   ]
  },
  {
   "cell_type": "code",
   "execution_count": 18,
   "id": "b44b0e94-e7b6-40ef-bc5b-93e4de97b1d9",
   "metadata": {},
   "outputs": [
    {
     "name": "stdout",
     "output_type": "stream",
     "text": [
      "\u001b[32mSaved FeatureTable[Frequency] to: poop_data/Differential_abundance/table_abund_HEA_ibd_spec.qza\u001b[0m\n",
      "\u001b[0m\u001b[32mSaved FeatureTable[Composition] to: poop_data/Differential_abundance/table_abund_HEA_ibd_spec_comp.qza\u001b[0m\n",
      "\u001b[0m\u001b[32mSaved Visualization to: poop_data/Differential_abundance/ancom_HEA_ibd_spec.qzv\u001b[0m\n",
      "\u001b[0m"
     ]
    }
   ],
   "source": [
    "! qiime feature-table filter-samples \\\n",
    "    --i-table $diff_abu/table_abund_species.qza \\\n",
    "    --m-metadata-file $data_dir/metadata.tsv \\\n",
    "    --p-where \"[HEA_ibd]='False' or [HEA_ibd]='True'\" \\\n",
    "    --o-filtered-table $diff_abu/table_abund_HEA_ibd_spec.qza\n",
    "\n",
    "! qiime composition add-pseudocount \\\n",
    "    --i-table $diff_abu/table_abund_HEA_ibd_spec.qza \\\n",
    "    --o-composition-table $diff_abu/table_abund_HEA_ibd_spec_comp.qza\n",
    "\n",
    "! qiime composition ancom \\\n",
    "    --i-table $diff_abu/table_abund_HEA_ibd_spec_comp.qza \\\n",
    "    --m-metadata-file $data_dir/metadata.tsv \\\n",
    "    --m-metadata-column HEA_ibd \\\n",
    "    --o-visualization $diff_abu/ancom_HEA_ibd_spec.qzv"
   ]
  },
  {
   "cell_type": "code",
   "execution_count": 28,
   "id": "ce6b1781-370d-4358-8a5f-03491495c3b8",
   "metadata": {
    "collapsed": true,
    "jupyter": {
     "outputs_hidden": true
    },
    "tags": []
   },
   "outputs": [
    {
     "data": {
      "text/html": [
       "<div><img onload=\"(function(div, url){\n",
       "if (typeof require !== 'undefined') {\n",
       "    var baseURL = require.toUrl('').split('/').slice(0, -2).join('/');\n",
       "} else {\n",
       "    var baseURL = JSON.parse(\n",
       "        document.getElementById('jupyter-config-data').innerHTML\n",
       "    ).baseUrl.slice(0, -1);\n",
       "}\n",
       "url = baseURL + url;\n",
       "fetch(url).then(function(res) {\n",
       "    if (res.status === 404) {\n",
       "        div.innerHTML = 'Install QIIME 2 Jupyter extension with:<br />' +\n",
       "                        '<code>jupyter serverextension enable --py qiime2' +\n",
       "                        ' --sys-prefix</code><br />then restart your server.' +\n",
       "                        '<br /><br />(Interactive output not available on ' +\n",
       "                        'static notebook viewer services like nbviewer.)';\n",
       "    } else if (res.status === 409) {\n",
       "        div.innerHTML = 'Visualization no longer in scope. Re-run this cell' +\n",
       "                        ' to see the visualization.';\n",
       "    } else if (res.ok) {\n",
       "        url = res.url;\n",
       "        div.innerHTML = '<iframe src=\\'' + url + '\\' style=\\'' +\n",
       "                        'width: 100%; height: 700px; border: 0;\\'>' +\n",
       "                        '</iframe><hr />Open in a: <a href=\\'' + url + '\\'' +\n",
       "                        ' target=\\'_blank\\'>new window</a>'\n",
       "    } else {\n",
       "        div.innerHTML = 'Something has gone wrong. Check notebook server for' +\n",
       "                        ' errors.';\n",
       "    }\n",
       "});\n",
       "})(this.parentElement, '/qiime2/redirect?location=/tmp/qiime2-archive-kevzxvan')\" src=\"data:image/gif;base64,R0lGODlhAQABAIAAAP///wAAACH5BAEAAAAALAAAAAABAAEAAAICRAEAOw==\" /></div>"
      ],
      "text/plain": [
       "<visualization: Visualization uuid: 432e426c-a902-4688-a088-76f3e9d41be2>"
      ]
     },
     "execution_count": 28,
     "metadata": {},
     "output_type": "execute_result"
    }
   ],
   "source": [
    "Visualization.load(f'{diff_abu}/ancom_HEA_ibd_spec.qzv') #W=43"
   ]
  },
  {
   "cell_type": "markdown",
   "id": "51701ad9-d2f7-4094-80c9-9824eba52ab3",
   "metadata": {},
   "source": [
    "##  ANCOM: HEA_cdiff"
   ]
  },
  {
   "cell_type": "code",
   "execution_count": 19,
   "id": "2fe56cab-9146-486c-8bcb-0c686a05666c",
   "metadata": {},
   "outputs": [
    {
     "name": "stdout",
     "output_type": "stream",
     "text": [
      "\u001b[32mSaved FeatureTable[Frequency] to: poop_data/Differential_abundance/table_abund_HEA_cdiff_spec.qza\u001b[0m\n",
      "\u001b[0m\u001b[32mSaved FeatureTable[Composition] to: poop_data/Differential_abundance/table_abund_HEA_cdiff_spec_comp.qza\u001b[0m\n",
      "\u001b[0m\u001b[32mSaved Visualization to: poop_data/Differential_abundance/ancom_HEA_cdiff_spec.qzv\u001b[0m\n",
      "\u001b[0m"
     ]
    }
   ],
   "source": [
    "! qiime feature-table filter-samples \\\n",
    "    --i-table $diff_abu/table_abund_species.qza \\\n",
    "    --m-metadata-file $data_dir/metadata.tsv \\\n",
    "    --p-where \"[HEA_cdiff]='False' or [HEA_cdiff]='True'\" \\\n",
    "    --o-filtered-table $diff_abu/table_abund_HEA_cdiff_spec.qza\n",
    "\n",
    "! qiime composition add-pseudocount \\\n",
    "    --i-table $diff_abu/table_abund_HEA_cdiff_spec.qza \\\n",
    "    --o-composition-table $diff_abu/table_abund_HEA_cdiff_spec_comp.qza\n",
    "\n",
    "! qiime composition ancom \\\n",
    "    --i-table $diff_abu/table_abund_HEA_cdiff_spec_comp.qza \\\n",
    "    --m-metadata-file $data_dir/metadata.tsv \\\n",
    "    --m-metadata-column HEA_cdiff \\\n",
    "    --o-visualization $diff_abu/ancom_HEA_cdiff_spec.qzv"
   ]
  },
  {
   "cell_type": "code",
   "execution_count": 27,
   "id": "24b84d98-78f0-42a8-b74b-f8fc855b2803",
   "metadata": {
    "collapsed": true,
    "jupyter": {
     "outputs_hidden": true
    },
    "tags": []
   },
   "outputs": [
    {
     "data": {
      "text/html": [
       "<div><img onload=\"(function(div, url){\n",
       "if (typeof require !== 'undefined') {\n",
       "    var baseURL = require.toUrl('').split('/').slice(0, -2).join('/');\n",
       "} else {\n",
       "    var baseURL = JSON.parse(\n",
       "        document.getElementById('jupyter-config-data').innerHTML\n",
       "    ).baseUrl.slice(0, -1);\n",
       "}\n",
       "url = baseURL + url;\n",
       "fetch(url).then(function(res) {\n",
       "    if (res.status === 404) {\n",
       "        div.innerHTML = 'Install QIIME 2 Jupyter extension with:<br />' +\n",
       "                        '<code>jupyter serverextension enable --py qiime2' +\n",
       "                        ' --sys-prefix</code><br />then restart your server.' +\n",
       "                        '<br /><br />(Interactive output not available on ' +\n",
       "                        'static notebook viewer services like nbviewer.)';\n",
       "    } else if (res.status === 409) {\n",
       "        div.innerHTML = 'Visualization no longer in scope. Re-run this cell' +\n",
       "                        ' to see the visualization.';\n",
       "    } else if (res.ok) {\n",
       "        url = res.url;\n",
       "        div.innerHTML = '<iframe src=\\'' + url + '\\' style=\\'' +\n",
       "                        'width: 100%; height: 700px; border: 0;\\'>' +\n",
       "                        '</iframe><hr />Open in a: <a href=\\'' + url + '\\'' +\n",
       "                        ' target=\\'_blank\\'>new window</a>'\n",
       "    } else {\n",
       "        div.innerHTML = 'Something has gone wrong. Check notebook server for' +\n",
       "                        ' errors.';\n",
       "    }\n",
       "});\n",
       "})(this.parentElement, '/qiime2/redirect?location=/tmp/qiime2-archive-frkogp57')\" src=\"data:image/gif;base64,R0lGODlhAQABAIAAAP///wAAACH5BAEAAAAALAAAAAABAAEAAAICRAEAOw==\" /></div>"
      ],
      "text/plain": [
       "<visualization: Visualization uuid: f248e66a-0eb7-4302-a2e4-a427610b2b40>"
      ]
     },
     "execution_count": 27,
     "metadata": {},
     "output_type": "execute_result"
    }
   ],
   "source": [
    "Visualization.load(f'{diff_abu}/ancom_HEA_cdiff_spec.qzv') #No significant features found"
   ]
  },
  {
   "cell_type": "markdown",
   "id": "2df8535e-4a5f-4e37-abb0-84f1d87a36bf",
   "metadata": {},
   "source": [
    "##  ANCOM: HEA_bowel_movement_quality"
   ]
  },
  {
   "cell_type": "code",
   "execution_count": 48,
   "id": "eeee114f-6117-4ce3-9149-fdf92cec5f48",
   "metadata": {},
   "outputs": [
    {
     "name": "stdout",
     "output_type": "stream",
     "text": [
      "\u001b[32mSaved FeatureTable[Frequency] to: poop_data/Differential_abundance/table_abund_HEA_bowel_movement_quality_spec.qza\u001b[0m\n",
      "\u001b[0m\u001b[32mSaved FeatureTable[Composition] to: poop_data/Differential_abundance/table_abund_HEA_bowel_movement_quality_spec_comp.qza\u001b[0m\n",
      "\u001b[0m\u001b[31m\u001b[1mPlugin error from composition:\n",
      "\n",
      "  `ids_to_keep` must contain at least one ID.\n",
      "\n",
      "Debug info has been saved to /tmp/qiime2-q2cli-err-nx7xq36s.log\u001b[0m\n",
      "\u001b[0m"
     ]
    }
   ],
   "source": [
    "! qiime feature-table filter-samples \\\n",
    "    --i-table $diff_abu/table_abund_species.qza \\\n",
    "    --m-metadata-file $data_dir/metadata.tsv \\\n",
    "    --p-where \"[HEA_bowel_movement_quality]='I tend to have normal formed stool-Type 3 and 4' or [HEA_bowel_movement_quality]='I tend to be constipated (have difficulty passing stool)-Type 1 and 2'\" \\\n",
    "    --o-filtered-table $diff_abu/table_abund_HEA_bowel_movement_quality_spec.qza\n",
    "\n",
    "! qiime composition add-pseudocount \\\n",
    "    --i-table $diff_abu/table_abund_HEA_bowel_movement_quality_spec.qza \\\n",
    "    --o-composition-table $diff_abu/table_abund_HEA_bowel_movement_quality_spec_comp.qza\n",
    "\n",
    "! qiime composition ancom \\\n",
    "    --i-table $diff_abu/table_abund_HEA_bowel_movement_quality_spec_comp.qza \\\n",
    "    --m-metadata-file $data_dir/metadata.tsv \\\n",
    "    --m-metadata-column HEA_bowel_movement_quality \\\n",
    "    --o-visualization $diff_abu/ancom_HEA_bowel_movement_quality_spec.qzv"
   ]
  },
  {
   "cell_type": "code",
   "execution_count": 35,
   "id": "f0125b18-42b6-4ad1-aab1-9eb5649dbfda",
   "metadata": {
    "collapsed": true,
    "jupyter": {
     "outputs_hidden": true
    },
    "tags": []
   },
   "outputs": [
    {
     "ename": "ValueError",
     "evalue": "poop_data/Differential_abundance/ancom_HEA_bowel_movement_quality_spec does not exist.",
     "output_type": "error",
     "traceback": [
      "\u001b[0;31m---------------------------------------------------------------------------\u001b[0m",
      "\u001b[0;31mValueError\u001b[0m                                Traceback (most recent call last)",
      "Input \u001b[0;32mIn [35]\u001b[0m, in \u001b[0;36m<cell line: 1>\u001b[0;34m()\u001b[0m\n\u001b[0;32m----> 1\u001b[0m \u001b[43mVisualization\u001b[49m\u001b[38;5;241;43m.\u001b[39;49m\u001b[43mload\u001b[49m\u001b[43m(\u001b[49m\u001b[38;5;124;43mf\u001b[39;49m\u001b[38;5;124;43m'\u001b[39;49m\u001b[38;5;132;43;01m{\u001b[39;49;00m\u001b[43mdiff_abu\u001b[49m\u001b[38;5;132;43;01m}\u001b[39;49;00m\u001b[38;5;124;43m/ancom_HEA_bowel_movement_quality_spec\u001b[39;49m\u001b[38;5;124;43m'\u001b[39;49m\u001b[43m)\u001b[49m\n",
      "File \u001b[0;32m/opt/conda/lib/python3.8/site-packages/qiime2/sdk/result.py:66\u001b[0m, in \u001b[0;36mResult.load\u001b[0;34m(cls, filepath)\u001b[0m\n\u001b[1;32m     63\u001b[0m \u001b[38;5;129m@classmethod\u001b[39m\n\u001b[1;32m     64\u001b[0m \u001b[38;5;28;01mdef\u001b[39;00m \u001b[38;5;21mload\u001b[39m(\u001b[38;5;28mcls\u001b[39m, filepath):\n\u001b[1;32m     65\u001b[0m     \u001b[38;5;124;03m\"\"\"Factory for loading Artifacts and Visualizations.\"\"\"\u001b[39;00m\n\u001b[0;32m---> 66\u001b[0m     archiver \u001b[38;5;241m=\u001b[39m \u001b[43marchive\u001b[49m\u001b[38;5;241;43m.\u001b[39;49m\u001b[43mArchiver\u001b[49m\u001b[38;5;241;43m.\u001b[39;49m\u001b[43mload\u001b[49m\u001b[43m(\u001b[49m\u001b[43mfilepath\u001b[49m\u001b[43m)\u001b[49m\n\u001b[1;32m     68\u001b[0m     \u001b[38;5;28;01mif\u001b[39;00m Artifact\u001b[38;5;241m.\u001b[39m_is_valid_type(archiver\u001b[38;5;241m.\u001b[39mtype):\n\u001b[1;32m     69\u001b[0m         result \u001b[38;5;241m=\u001b[39m Artifact\u001b[38;5;241m.\u001b[39m\u001b[38;5;21m__new__\u001b[39m(Artifact)\n",
      "File \u001b[0;32m/opt/conda/lib/python3.8/site-packages/qiime2/core/archive/archiver.py:299\u001b[0m, in \u001b[0;36mArchiver.load\u001b[0;34m(cls, filepath)\u001b[0m\n\u001b[1;32m    297\u001b[0m \u001b[38;5;129m@classmethod\u001b[39m\n\u001b[1;32m    298\u001b[0m \u001b[38;5;28;01mdef\u001b[39;00m \u001b[38;5;21mload\u001b[39m(\u001b[38;5;28mcls\u001b[39m, filepath):\n\u001b[0;32m--> 299\u001b[0m     archive \u001b[38;5;241m=\u001b[39m \u001b[38;5;28;43mcls\u001b[39;49m\u001b[38;5;241;43m.\u001b[39;49m\u001b[43mget_archive\u001b[49m\u001b[43m(\u001b[49m\u001b[43mfilepath\u001b[49m\u001b[43m)\u001b[49m\n\u001b[1;32m    300\u001b[0m     Format \u001b[38;5;241m=\u001b[39m \u001b[38;5;28mcls\u001b[39m\u001b[38;5;241m.\u001b[39mget_format_class(archive\u001b[38;5;241m.\u001b[39mversion)\n\u001b[1;32m    301\u001b[0m     \u001b[38;5;28;01mif\u001b[39;00m Format \u001b[38;5;129;01mis\u001b[39;00m \u001b[38;5;28;01mNone\u001b[39;00m:\n",
      "File \u001b[0;32m/opt/conda/lib/python3.8/site-packages/qiime2/core/archive/archiver.py:259\u001b[0m, in \u001b[0;36mArchiver.get_archive\u001b[0;34m(cls, filepath)\u001b[0m\n\u001b[1;32m    257\u001b[0m filepath \u001b[38;5;241m=\u001b[39m pathlib\u001b[38;5;241m.\u001b[39mPath(filepath)\n\u001b[1;32m    258\u001b[0m \u001b[38;5;28;01mif\u001b[39;00m \u001b[38;5;129;01mnot\u001b[39;00m filepath\u001b[38;5;241m.\u001b[39mexists():\n\u001b[0;32m--> 259\u001b[0m     \u001b[38;5;28;01mraise\u001b[39;00m \u001b[38;5;167;01mValueError\u001b[39;00m(\u001b[38;5;124m\"\u001b[39m\u001b[38;5;132;01m%s\u001b[39;00m\u001b[38;5;124m does not exist.\u001b[39m\u001b[38;5;124m\"\u001b[39m \u001b[38;5;241m%\u001b[39m filepath)\n\u001b[1;32m    261\u001b[0m \u001b[38;5;28;01mif\u001b[39;00m _ZipArchive\u001b[38;5;241m.\u001b[39mis_archive_type(filepath):\n\u001b[1;32m    262\u001b[0m     archive \u001b[38;5;241m=\u001b[39m _ZipArchive(filepath)\n",
      "\u001b[0;31mValueError\u001b[0m: poop_data/Differential_abundance/ancom_HEA_bowel_movement_quality_spec does not exist."
     ]
    }
   ],
   "source": [
    "Visualization.load(f'{diff_abu}/ancom_HEA_bowel_movement_quality_spec') #I can not understand why it doesn't function"
   ]
  },
  {
   "cell_type": "code",
   "execution_count": 43,
   "id": "88cfff22-6058-4a70-8ac4-3ff3603d1001",
   "metadata": {},
   "outputs": [
    {
     "name": "stdout",
     "output_type": "stream",
     "text": [
      "\u001b[32mSaved FeatureTable[Frequency] to: poop_data/Differential_abundance/table_abund_HEA_bowel_movement_quality2_spec.qza\u001b[0m\n",
      "\u001b[0m\u001b[32mSaved FeatureTable[Composition] to: poop_data/Differential_abundance/table_abund_HEA_bowel_movement_quality2_spec_comp.qza\u001b[0m\n",
      "\u001b[0m\u001b[31m\u001b[1mPlugin error from composition:\n",
      "\n",
      "  All values the `grouping` are the same. This method cannot operate on a grouping vector with only a single group of samples(e.g., there are no 'between' variance because there is only a single group).\n",
      "\n",
      "Debug info has been saved to /tmp/qiime2-q2cli-err-s9v11dyx.log\u001b[0m\n",
      "\u001b[0m"
     ]
    }
   ],
   "source": [
    "! qiime feature-table filter-samples \\\n",
    "    --i-table $diff_abu/table_abund_species.qza \\\n",
    "    --m-metadata-file $data_dir/metadata.tsv \\\n",
    "    --p-where \"[HEA_bowel_movement_quality]='I tend to have diarrhea (watery stool) - Type 5, 6 and 7' or [HEA_bowel_movement_quality]='I tend to be constipated (have difficulty passing stool)- Type 1 and 2'\" \\\n",
    "    --o-filtered-table $diff_abu/table_abund_HEA_bowel_movement_quality2_spec.qza\n",
    "\n",
    "! qiime composition add-pseudocount \\\n",
    "    --i-table $diff_abu/table_abund_HEA_bowel_movement_quality2_spec.qza \\\n",
    "    --o-composition-table $diff_abu/table_abund_HEA_bowel_movement_quality2_spec_comp.qza\n",
    "\n",
    "! qiime composition ancom \\\n",
    "    --i-table $diff_abu/table_abund_HEA_bowel_movement_quality2_spec_comp.qza \\\n",
    "    --m-metadata-file $data_dir/metadata.tsv \\\n",
    "    --m-metadata-column HEA_bowel_movement_quality \\\n",
    "    --o-visualization $diff_abu/ancom_HEA_bowel_movement_quality2_spec.qzv"
   ]
  },
  {
   "cell_type": "code",
   "execution_count": null,
   "id": "927a25b3-050b-47cc-b614-92f874ac34b7",
   "metadata": {},
   "outputs": [],
   "source": [
    "Visualization.load(f'{diff_abu}/ancom_HEA_bowel_movement_quality2_spec') #I can not understand why it doesn't function"
   ]
  },
  {
   "cell_type": "markdown",
   "id": "f985f4d8-ceda-44cf-86c3-1da8d3d10b9d",
   "metadata": {},
   "source": [
    "##  ANCOM: HEA_antibiotic_history"
   ]
  },
  {
   "cell_type": "code",
   "execution_count": 37,
   "id": "80757225-e6f1-43a7-bac9-f44e0c57dc0a",
   "metadata": {},
   "outputs": [
    {
     "name": "stdout",
     "output_type": "stream",
     "text": [
      "\u001b[32mSaved FeatureTable[Frequency] to: poop_data/Differential_abundance/table_abund_HEA_antibiotic_history_spec.qza\u001b[0m\n",
      "\u001b[0m\u001b[32mSaved FeatureTable[Composition] to: poop_data/Differential_abundance/table_abund_HEA_antibiotic_history_spec_comp.qza\u001b[0m\n",
      "\u001b[0m\u001b[32mSaved Visualization to: poop_data/Differential_abundance/ancom_HEA_antibiotic_history_spec.qzv\u001b[0m\n",
      "\u001b[0m"
     ]
    }
   ],
   "source": [
    "! qiime feature-table filter-samples \\\n",
    "    --i-table $diff_abu/table_abund_species.qza \\\n",
    "    --m-metadata-file $data_dir/metadata.tsv \\\n",
    "    --p-where \"[HEA_antibiotic_history]='Year' or [HEA_antibiotic_history]='I have not taken antibiotics in the past year.'\" \\\n",
    "    --o-filtered-table $diff_abu/table_abund_HEA_antibiotic_history_spec.qza\n",
    "\n",
    "! qiime composition add-pseudocount \\\n",
    "    --i-table $diff_abu/table_abund_HEA_antibiotic_history_spec.qza \\\n",
    "    --o-composition-table $diff_abu/table_abund_HEA_antibiotic_history_spec_comp.qza\n",
    "\n",
    "! qiime composition ancom \\\n",
    "    --i-table $diff_abu/table_abund_HEA_antibiotic_history_spec_comp.qza \\\n",
    "    --m-metadata-file $data_dir/metadata.tsv \\\n",
    "    --m-metadata-column HEA_antibiotic_history \\\n",
    "    --o-visualization $diff_abu/ancom_HEA_antibiotic_history_spec.qzv"
   ]
  },
  {
   "cell_type": "code",
   "execution_count": 38,
   "id": "4874a723-ff77-4796-ab40-3c21811b6aee",
   "metadata": {
    "collapsed": true,
    "jupyter": {
     "outputs_hidden": true
    },
    "tags": []
   },
   "outputs": [
    {
     "data": {
      "text/html": [
       "<div><img onload=\"(function(div, url){\n",
       "if (typeof require !== 'undefined') {\n",
       "    var baseURL = require.toUrl('').split('/').slice(0, -2).join('/');\n",
       "} else {\n",
       "    var baseURL = JSON.parse(\n",
       "        document.getElementById('jupyter-config-data').innerHTML\n",
       "    ).baseUrl.slice(0, -1);\n",
       "}\n",
       "url = baseURL + url;\n",
       "fetch(url).then(function(res) {\n",
       "    if (res.status === 404) {\n",
       "        div.innerHTML = 'Install QIIME 2 Jupyter extension with:<br />' +\n",
       "                        '<code>jupyter serverextension enable --py qiime2' +\n",
       "                        ' --sys-prefix</code><br />then restart your server.' +\n",
       "                        '<br /><br />(Interactive output not available on ' +\n",
       "                        'static notebook viewer services like nbviewer.)';\n",
       "    } else if (res.status === 409) {\n",
       "        div.innerHTML = 'Visualization no longer in scope. Re-run this cell' +\n",
       "                        ' to see the visualization.';\n",
       "    } else if (res.ok) {\n",
       "        url = res.url;\n",
       "        div.innerHTML = '<iframe src=\\'' + url + '\\' style=\\'' +\n",
       "                        'width: 100%; height: 700px; border: 0;\\'>' +\n",
       "                        '</iframe><hr />Open in a: <a href=\\'' + url + '\\'' +\n",
       "                        ' target=\\'_blank\\'>new window</a>'\n",
       "    } else {\n",
       "        div.innerHTML = 'Something has gone wrong. Check notebook server for' +\n",
       "                        ' errors.';\n",
       "    }\n",
       "});\n",
       "})(this.parentElement, '/qiime2/redirect?location=/tmp/qiime2-archive-7hvcipl8')\" src=\"data:image/gif;base64,R0lGODlhAQABAIAAAP///wAAACH5BAEAAAAALAAAAAABAAEAAAICRAEAOw==\" /></div>"
      ],
      "text/plain": [
       "<visualization: Visualization uuid: 6cc41a75-75e3-4feb-b243-7a15f9852193>"
      ]
     },
     "execution_count": 38,
     "metadata": {},
     "output_type": "execute_result"
    }
   ],
   "source": [
    "Visualization.load(f'{diff_abu}/ancom_HEA_antibiotic_history_spec.qzv')  #W=84"
   ]
  },
  {
   "cell_type": "code",
   "execution_count": 39,
   "id": "f5ca3ae1-86bc-4ca8-ad7c-c0ba4a5424ac",
   "metadata": {},
   "outputs": [
    {
     "name": "stdout",
     "output_type": "stream",
     "text": [
      "\u001b[32mSaved FeatureTable[Frequency] to: poop_data/Differential_abundance/table_abund_HEA_antibiotic_week_spec.qza\u001b[0m\n",
      "\u001b[0m\u001b[32mSaved FeatureTable[Composition] to: poop_data/Differential_abundance/table_abund_HEA_antibiotic_week_spec_comp.qza\u001b[0m\n",
      "\u001b[0m\u001b[32mSaved Visualization to: poop_data/Differential_abundance/ancom_HEA_antibiotic_week_spec.qzv\u001b[0m\n",
      "\u001b[0m"
     ]
    }
   ],
   "source": [
    "! qiime feature-table filter-samples \\\n",
    "    --i-table $diff_abu/table_abund_species.qza \\\n",
    "    --m-metadata-file $data_dir/metadata.tsv \\\n",
    "    --p-where \"[HEA_antibiotic_history]='Week' or [HEA_antibiotic_history]='I have not taken antibiotics in the past year.'\" \\\n",
    "    --o-filtered-table $diff_abu/table_abund_HEA_antibiotic_week_spec.qza\n",
    "\n",
    "! qiime composition add-pseudocount \\\n",
    "    --i-table $diff_abu/table_abund_HEA_antibiotic_week_spec.qza \\\n",
    "    --o-composition-table $diff_abu/table_abund_HEA_antibiotic_week_spec_comp.qza\n",
    "\n",
    "! qiime composition ancom \\\n",
    "    --i-table $diff_abu/table_abund_HEA_antibiotic_week_spec_comp.qza \\\n",
    "    --m-metadata-file $data_dir/metadata.tsv \\\n",
    "    --m-metadata-column HEA_antibiotic_history \\\n",
    "    --o-visualization $diff_abu/ancom_HEA_antibiotic_week_spec.qzv"
   ]
  },
  {
   "cell_type": "code",
   "execution_count": 40,
   "id": "90b9eebf-08d7-4be4-91e0-35d8988d6ae7",
   "metadata": {
    "collapsed": true,
    "jupyter": {
     "outputs_hidden": true
    },
    "tags": []
   },
   "outputs": [
    {
     "data": {
      "text/html": [
       "<div><img onload=\"(function(div, url){\n",
       "if (typeof require !== 'undefined') {\n",
       "    var baseURL = require.toUrl('').split('/').slice(0, -2).join('/');\n",
       "} else {\n",
       "    var baseURL = JSON.parse(\n",
       "        document.getElementById('jupyter-config-data').innerHTML\n",
       "    ).baseUrl.slice(0, -1);\n",
       "}\n",
       "url = baseURL + url;\n",
       "fetch(url).then(function(res) {\n",
       "    if (res.status === 404) {\n",
       "        div.innerHTML = 'Install QIIME 2 Jupyter extension with:<br />' +\n",
       "                        '<code>jupyter serverextension enable --py qiime2' +\n",
       "                        ' --sys-prefix</code><br />then restart your server.' +\n",
       "                        '<br /><br />(Interactive output not available on ' +\n",
       "                        'static notebook viewer services like nbviewer.)';\n",
       "    } else if (res.status === 409) {\n",
       "        div.innerHTML = 'Visualization no longer in scope. Re-run this cell' +\n",
       "                        ' to see the visualization.';\n",
       "    } else if (res.ok) {\n",
       "        url = res.url;\n",
       "        div.innerHTML = '<iframe src=\\'' + url + '\\' style=\\'' +\n",
       "                        'width: 100%; height: 700px; border: 0;\\'>' +\n",
       "                        '</iframe><hr />Open in a: <a href=\\'' + url + '\\'' +\n",
       "                        ' target=\\'_blank\\'>new window</a>'\n",
       "    } else {\n",
       "        div.innerHTML = 'Something has gone wrong. Check notebook server for' +\n",
       "                        ' errors.';\n",
       "    }\n",
       "});\n",
       "})(this.parentElement, '/qiime2/redirect?location=/tmp/qiime2-archive-e8msu4ps')\" src=\"data:image/gif;base64,R0lGODlhAQABAIAAAP///wAAACH5BAEAAAAALAAAAAABAAEAAAICRAEAOw==\" /></div>"
      ],
      "text/plain": [
       "<visualization: Visualization uuid: f1ffc805-447b-4786-9a78-67bc530909da>"
      ]
     },
     "execution_count": 40,
     "metadata": {},
     "output_type": "execute_result"
    }
   ],
   "source": [
    "Visualization.load(f'{diff_abu}/ancom_HEA_antibiotic_week_spec.qzv') #W=85"
   ]
  },
  {
   "cell_type": "markdown",
   "id": "7fe18eea-5ffd-42cc-885b-a5824c319d15",
   "metadata": {},
   "source": [
    "from Nina folder"
   ]
  },
  {
   "cell_type": "code",
   "execution_count": 41,
   "id": "f0db446e-5d23-40a4-9418-6b7f8523eeaf",
   "metadata": {},
   "outputs": [
    {
     "name": "stdout",
     "output_type": "stream",
     "text": [
      "\u001b[32mSaved FeatureTable[Frequency] to: poop_data/Differential_abundance/table_abund_HEA_antibiotic_6months_spec.qza\u001b[0m\n",
      "\u001b[0m\u001b[32mSaved FeatureTable[Composition] to: poop_data/Differential_abundance/table_abund_HEA_antibiotic_6months_spec_comp.qza\u001b[0m\n",
      "\u001b[0m\u001b[32mSaved Visualization to: poop_data/Differential_abundance/ancom_HEA_antibiotic_6months_spec.qzv\u001b[0m\n",
      "\u001b[0m"
     ]
    }
   ],
   "source": [
    "! qiime feature-table filter-samples \\\n",
    "    --i-table $diff_abu/table_abund_species.qza \\\n",
    "    --m-metadata-file $data_dir/metadata.tsv \\\n",
    "    --p-where \"[HEA_antibiotic_history]='6 months' or [HEA_antibiotic_history]='I have not taken antibiotics in the past year.'\" \\\n",
    "    --o-filtered-table $diff_abu/table_abund_HEA_antibiotic_6months_spec.qza\n",
    "\n",
    "! qiime composition add-pseudocount \\\n",
    "    --i-table $diff_abu/table_abund_HEA_antibiotic_6months_spec.qza \\\n",
    "    --o-composition-table $diff_abu/table_abund_HEA_antibiotic_6months_spec_comp.qza\n",
    "\n",
    "! qiime composition ancom \\\n",
    "    --i-table $diff_abu/table_abund_HEA_antibiotic_6months_spec_comp.qza \\\n",
    "    --m-metadata-file $data_dir/metadata.tsv \\\n",
    "    --m-metadata-column HEA_antibiotic_history \\\n",
    "    --o-visualization $diff_abu/ancom_HEA_antibiotic_6months_spec.qzv"
   ]
  },
  {
   "cell_type": "code",
   "execution_count": 42,
   "id": "b6c00cd3-0ba0-41c8-a67c-2c848ac953cd",
   "metadata": {
    "collapsed": true,
    "jupyter": {
     "outputs_hidden": true
    },
    "tags": []
   },
   "outputs": [
    {
     "data": {
      "text/html": [
       "<div><img onload=\"(function(div, url){\n",
       "if (typeof require !== 'undefined') {\n",
       "    var baseURL = require.toUrl('').split('/').slice(0, -2).join('/');\n",
       "} else {\n",
       "    var baseURL = JSON.parse(\n",
       "        document.getElementById('jupyter-config-data').innerHTML\n",
       "    ).baseUrl.slice(0, -1);\n",
       "}\n",
       "url = baseURL + url;\n",
       "fetch(url).then(function(res) {\n",
       "    if (res.status === 404) {\n",
       "        div.innerHTML = 'Install QIIME 2 Jupyter extension with:<br />' +\n",
       "                        '<code>jupyter serverextension enable --py qiime2' +\n",
       "                        ' --sys-prefix</code><br />then restart your server.' +\n",
       "                        '<br /><br />(Interactive output not available on ' +\n",
       "                        'static notebook viewer services like nbviewer.)';\n",
       "    } else if (res.status === 409) {\n",
       "        div.innerHTML = 'Visualization no longer in scope. Re-run this cell' +\n",
       "                        ' to see the visualization.';\n",
       "    } else if (res.ok) {\n",
       "        url = res.url;\n",
       "        div.innerHTML = '<iframe src=\\'' + url + '\\' style=\\'' +\n",
       "                        'width: 100%; height: 700px; border: 0;\\'>' +\n",
       "                        '</iframe><hr />Open in a: <a href=\\'' + url + '\\'' +\n",
       "                        ' target=\\'_blank\\'>new window</a>'\n",
       "    } else {\n",
       "        div.innerHTML = 'Something has gone wrong. Check notebook server for' +\n",
       "                        ' errors.';\n",
       "    }\n",
       "});\n",
       "})(this.parentElement, '/qiime2/redirect?location=/tmp/qiime2-archive-49by2wt3')\" src=\"data:image/gif;base64,R0lGODlhAQABAIAAAP///wAAACH5BAEAAAAALAAAAAABAAEAAAICRAEAOw==\" /></div>"
      ],
      "text/plain": [
       "<visualization: Visualization uuid: 14f70d91-eddb-49dd-9ca2-0c51e39605b5>"
      ]
     },
     "execution_count": 42,
     "metadata": {},
     "output_type": "execute_result"
    }
   ],
   "source": [
    "Visualization.load(f'{diff_abu}/ancom_HEA_antibiotic_6months_spec.qzv') #W=77"
   ]
  },
  {
   "cell_type": "markdown",
   "id": "b52390b4-d911-4227-ac5e-8c9616662f48",
   "metadata": {},
   "source": [
    "##  ANCOM: HEA_weight_change"
   ]
  },
  {
   "cell_type": "code",
   "execution_count": 45,
   "id": "0b13a976-95a6-4fde-ae54-367d893365fa",
   "metadata": {},
   "outputs": [
    {
     "name": "stdout",
     "output_type": "stream",
     "text": [
      "\u001b[32mSaved FeatureTable[Frequency] to: poop_data/Differential_abundance/table_abund_HEA_weight_change_spec.qza\u001b[0m\n",
      "\u001b[0m\u001b[32mSaved FeatureTable[Composition] to: poop_data/Differential_abundance/table_abund_HEA_weight_change_spec_comp.qza\u001b[0m\n",
      "\u001b[0m\u001b[32mSaved Visualization to: poop_data/Differential_abundance/ancom_HEA_weight_change_spec.qzv\u001b[0m\n",
      "\u001b[0m"
     ]
    }
   ],
   "source": [
    "! qiime feature-table filter-samples \\\n",
    "    --i-table $diff_abu/table_abund_species.qza \\\n",
    "    --m-metadata-file $data_dir/metadata.tsv \\\n",
    "    --p-where \"[HEA_weight_change]='Remained stable' or [HEA_weight_change]='Decreased more than 10 pounds'\" \\\n",
    "    --o-filtered-table $diff_abu/table_abund_HEA_weight_change_spec.qza\n",
    "\n",
    "! qiime composition add-pseudocount \\\n",
    "    --i-table $diff_abu/table_abund_HEA_weight_change_spec.qza \\\n",
    "    --o-composition-table $diff_abu/table_abund_HEA_weight_change_spec_comp.qza\n",
    "\n",
    "! qiime composition ancom \\\n",
    "    --i-table $diff_abu/table_abund_HEA_weight_change_spec_comp.qza \\\n",
    "    --m-metadata-file $data_dir/metadata.tsv \\\n",
    "    --m-metadata-column HEA_weight_change \\\n",
    "    --o-visualization $diff_abu/ancom_HEA_weight_change_spec.qzv"
   ]
  },
  {
   "cell_type": "code",
   "execution_count": 46,
   "id": "3adbe289-c512-41a0-8fb6-60ff500b9468",
   "metadata": {
    "collapsed": true,
    "jupyter": {
     "outputs_hidden": true
    },
    "tags": []
   },
   "outputs": [
    {
     "data": {
      "text/html": [
       "<div><img onload=\"(function(div, url){\n",
       "if (typeof require !== 'undefined') {\n",
       "    var baseURL = require.toUrl('').split('/').slice(0, -2).join('/');\n",
       "} else {\n",
       "    var baseURL = JSON.parse(\n",
       "        document.getElementById('jupyter-config-data').innerHTML\n",
       "    ).baseUrl.slice(0, -1);\n",
       "}\n",
       "url = baseURL + url;\n",
       "fetch(url).then(function(res) {\n",
       "    if (res.status === 404) {\n",
       "        div.innerHTML = 'Install QIIME 2 Jupyter extension with:<br />' +\n",
       "                        '<code>jupyter serverextension enable --py qiime2' +\n",
       "                        ' --sys-prefix</code><br />then restart your server.' +\n",
       "                        '<br /><br />(Interactive output not available on ' +\n",
       "                        'static notebook viewer services like nbviewer.)';\n",
       "    } else if (res.status === 409) {\n",
       "        div.innerHTML = 'Visualization no longer in scope. Re-run this cell' +\n",
       "                        ' to see the visualization.';\n",
       "    } else if (res.ok) {\n",
       "        url = res.url;\n",
       "        div.innerHTML = '<iframe src=\\'' + url + '\\' style=\\'' +\n",
       "                        'width: 100%; height: 700px; border: 0;\\'>' +\n",
       "                        '</iframe><hr />Open in a: <a href=\\'' + url + '\\'' +\n",
       "                        ' target=\\'_blank\\'>new window</a>'\n",
       "    } else {\n",
       "        div.innerHTML = 'Something has gone wrong. Check notebook server for' +\n",
       "                        ' errors.';\n",
       "    }\n",
       "});\n",
       "})(this.parentElement, '/qiime2/redirect?location=/tmp/qiime2-archive-wr4t2838')\" src=\"data:image/gif;base64,R0lGODlhAQABAIAAAP///wAAACH5BAEAAAAALAAAAAABAAEAAAICRAEAOw==\" /></div>"
      ],
      "text/plain": [
       "<visualization: Visualization uuid: b6f29ac9-2381-44e9-9dbe-1cde81df08de>"
      ]
     },
     "execution_count": 46,
     "metadata": {},
     "output_type": "execute_result"
    }
   ],
   "source": [
    "Visualization.load(f'{diff_abu}/ancom_HEA_weight_change_spec.qzv') #W=12"
   ]
  },
  {
   "cell_type": "markdown",
   "id": "ce58107e-687e-4a28-86af-b28cbde7d4e0",
   "metadata": {},
   "source": [
    "##  ANCOM: HEA_HEA_sibo"
   ]
  },
  {
   "cell_type": "code",
   "execution_count": 49,
   "id": "673f3340-f504-4b82-b9f5-f5ec54120193",
   "metadata": {},
   "outputs": [
    {
     "name": "stdout",
     "output_type": "stream",
     "text": [
      "\u001b[32mSaved FeatureTable[Frequency] to: poop_data/Differential_abundance/table_abund_HEA_sibo_spec.qza\u001b[0m\n",
      "\u001b[0m\u001b[32mSaved FeatureTable[Composition] to: poop_data/Differential_abundance/table_abund_HEA_sibo_spec_comp.qza\u001b[0m\n",
      "\u001b[0m\u001b[32mSaved Visualization to: poop_data/Differential_abundance/ancom_HEA_sibo_spec.qzv\u001b[0m\n",
      "\u001b[0m"
     ]
    }
   ],
   "source": [
    "! qiime feature-table filter-samples \\\n",
    "    --i-table $diff_abu/table_abund_species.qza \\\n",
    "    --m-metadata-file $data_dir/metadata.tsv \\\n",
    "    --p-where \"[HEA_sibo]='True' or [HEA_sibo]='False'\" \\\n",
    "    --o-filtered-table $diff_abu/table_abund_HEA_sibo_spec.qza\n",
    "\n",
    "! qiime composition add-pseudocount \\\n",
    "    --i-table $diff_abu/table_abund_HEA_sibo_spec.qza \\\n",
    "    --o-composition-table $diff_abu/table_abund_HEA_sibo_spec_comp.qza\n",
    "\n",
    "! qiime composition ancom \\\n",
    "    --i-table $diff_abu/table_abund_HEA_sibo_spec_comp.qza \\\n",
    "    --m-metadata-file $data_dir/metadata.tsv \\\n",
    "    --m-metadata-column HEA_sibo \\\n",
    "    --o-visualization $diff_abu/ancom_HEA_sibo_spec.qzv"
   ]
  },
  {
   "cell_type": "code",
   "execution_count": 50,
   "id": "36086eab-09cb-4774-a4cf-e96fd82ef385",
   "metadata": {
    "collapsed": true,
    "jupyter": {
     "outputs_hidden": true
    },
    "tags": []
   },
   "outputs": [
    {
     "data": {
      "text/html": [
       "<div><img onload=\"(function(div, url){\n",
       "if (typeof require !== 'undefined') {\n",
       "    var baseURL = require.toUrl('').split('/').slice(0, -2).join('/');\n",
       "} else {\n",
       "    var baseURL = JSON.parse(\n",
       "        document.getElementById('jupyter-config-data').innerHTML\n",
       "    ).baseUrl.slice(0, -1);\n",
       "}\n",
       "url = baseURL + url;\n",
       "fetch(url).then(function(res) {\n",
       "    if (res.status === 404) {\n",
       "        div.innerHTML = 'Install QIIME 2 Jupyter extension with:<br />' +\n",
       "                        '<code>jupyter serverextension enable --py qiime2' +\n",
       "                        ' --sys-prefix</code><br />then restart your server.' +\n",
       "                        '<br /><br />(Interactive output not available on ' +\n",
       "                        'static notebook viewer services like nbviewer.)';\n",
       "    } else if (res.status === 409) {\n",
       "        div.innerHTML = 'Visualization no longer in scope. Re-run this cell' +\n",
       "                        ' to see the visualization.';\n",
       "    } else if (res.ok) {\n",
       "        url = res.url;\n",
       "        div.innerHTML = '<iframe src=\\'' + url + '\\' style=\\'' +\n",
       "                        'width: 100%; height: 700px; border: 0;\\'>' +\n",
       "                        '</iframe><hr />Open in a: <a href=\\'' + url + '\\'' +\n",
       "                        ' target=\\'_blank\\'>new window</a>'\n",
       "    } else {\n",
       "        div.innerHTML = 'Something has gone wrong. Check notebook server for' +\n",
       "                        ' errors.';\n",
       "    }\n",
       "});\n",
       "})(this.parentElement, '/qiime2/redirect?location=/tmp/qiime2-archive-jshqszbr')\" src=\"data:image/gif;base64,R0lGODlhAQABAIAAAP///wAAACH5BAEAAAAALAAAAAABAAEAAAICRAEAOw==\" /></div>"
      ],
      "text/plain": [
       "<visualization: Visualization uuid: 0810bb77-52bb-4cde-95b0-605c38a1f840>"
      ]
     },
     "execution_count": 50,
     "metadata": {},
     "output_type": "execute_result"
    }
   ],
   "source": [
    "Visualization.load(f'{diff_abu}/ancom_HEA_sibo_spec.qzv') #No significant features found"
   ]
  },
  {
   "cell_type": "markdown",
   "id": "9c0d9597-c964-4a86-96d8-fd36633b0673",
   "metadata": {},
   "source": [
    "##  ANCOM: HEA_bowel_movement_frequency"
   ]
  },
  {
   "cell_type": "code",
   "execution_count": 51,
   "id": "c5eefd78-d966-44ae-b12b-c1f98caa25ff",
   "metadata": {},
   "outputs": [
    {
     "name": "stdout",
     "output_type": "stream",
     "text": [
      "\u001b[32mSaved FeatureTable[Frequency] to: poop_data/Differential_abundance/table_abund_HEA_bowel_movement_frequency_spec.qza\u001b[0m\n",
      "\u001b[0m\u001b[32mSaved FeatureTable[Composition] to: poop_data/Differential_abundance/table_abund_HEA_bowel_movement_frequency_spec_comp.qza\u001b[0m\n",
      "\u001b[0m\u001b[32mSaved Visualization to: poop_data/Differential_abundance/ancom_HEA_bowel_movement_frequency_spec.qzv\u001b[0m\n",
      "\u001b[0m"
     ]
    }
   ],
   "source": [
    "! qiime feature-table filter-samples \\\n",
    "    --i-table $diff_abu/table_abund_species.qza \\\n",
    "    --m-metadata-file $data_dir/metadata.tsv \\\n",
    "    --p-where \"[HEA_bowel_movement_frequency]='Less than one' or [HEA_bowel_movement_frequency]='Two'\" \\\n",
    "    --o-filtered-table $diff_abu/table_abund_HEA_bowel_movement_frequency_spec.qza\n",
    "\n",
    "! qiime composition add-pseudocount \\\n",
    "    --i-table $diff_abu/table_abund_HEA_bowel_movement_frequency_spec.qza \\\n",
    "    --o-composition-table $diff_abu/table_abund_HEA_bowel_movement_frequency_spec_comp.qza\n",
    "\n",
    "! qiime composition ancom \\\n",
    "    --i-table $diff_abu/table_abund_HEA_bowel_movement_frequency_spec_comp.qza \\\n",
    "    --m-metadata-file $data_dir/metadata.tsv \\\n",
    "    --m-metadata-column HEA_bowel_movement_frequency \\\n",
    "    --o-visualization $diff_abu/ancom_HEA_bowel_movement_frequency_spec.qzv"
   ]
  },
  {
   "cell_type": "code",
   "execution_count": 52,
   "id": "372208ba-e2b8-4a8e-b24e-dea07656bbf5",
   "metadata": {
    "collapsed": true,
    "jupyter": {
     "outputs_hidden": true
    },
    "tags": []
   },
   "outputs": [
    {
     "data": {
      "text/html": [
       "<div><img onload=\"(function(div, url){\n",
       "if (typeof require !== 'undefined') {\n",
       "    var baseURL = require.toUrl('').split('/').slice(0, -2).join('/');\n",
       "} else {\n",
       "    var baseURL = JSON.parse(\n",
       "        document.getElementById('jupyter-config-data').innerHTML\n",
       "    ).baseUrl.slice(0, -1);\n",
       "}\n",
       "url = baseURL + url;\n",
       "fetch(url).then(function(res) {\n",
       "    if (res.status === 404) {\n",
       "        div.innerHTML = 'Install QIIME 2 Jupyter extension with:<br />' +\n",
       "                        '<code>jupyter serverextension enable --py qiime2' +\n",
       "                        ' --sys-prefix</code><br />then restart your server.' +\n",
       "                        '<br /><br />(Interactive output not available on ' +\n",
       "                        'static notebook viewer services like nbviewer.)';\n",
       "    } else if (res.status === 409) {\n",
       "        div.innerHTML = 'Visualization no longer in scope. Re-run this cell' +\n",
       "                        ' to see the visualization.';\n",
       "    } else if (res.ok) {\n",
       "        url = res.url;\n",
       "        div.innerHTML = '<iframe src=\\'' + url + '\\' style=\\'' +\n",
       "                        'width: 100%; height: 700px; border: 0;\\'>' +\n",
       "                        '</iframe><hr />Open in a: <a href=\\'' + url + '\\'' +\n",
       "                        ' target=\\'_blank\\'>new window</a>'\n",
       "    } else {\n",
       "        div.innerHTML = 'Something has gone wrong. Check notebook server for' +\n",
       "                        ' errors.';\n",
       "    }\n",
       "});\n",
       "})(this.parentElement, '/qiime2/redirect?location=/tmp/qiime2-archive-cpu4yuxr')\" src=\"data:image/gif;base64,R0lGODlhAQABAIAAAP///wAAACH5BAEAAAAALAAAAAABAAEAAAICRAEAOw==\" /></div>"
      ],
      "text/plain": [
       "<visualization: Visualization uuid: 45107469-0463-4619-83a9-4e99970338bc>"
      ]
     },
     "execution_count": 52,
     "metadata": {},
     "output_type": "execute_result"
    }
   ],
   "source": [
    "Visualization.load(f'{diff_abu}/ancom_HEA_bowel_movement_frequency_spec.qzv') #W=32"
   ]
  },
  {
   "cell_type": "code",
   "execution_count": null,
   "id": "473b866a-de91-4433-a887-d1ff79cd77c8",
   "metadata": {
    "jupyter": {
     "source_hidden": true
    },
    "tags": []
   },
   "outputs": [],
   "source": []
  },
  {
   "cell_type": "markdown",
   "id": "4f5e1a22-53ec-4031-8ed2-a61da2996d3b",
   "metadata": {},
   "source": [
    "##  ANCOM: HEA_migraine"
   ]
  },
  {
   "cell_type": "code",
   "execution_count": 21,
   "id": "5b70c5bb-81cb-4b39-9460-cced0b4f19f6",
   "metadata": {},
   "outputs": [
    {
     "name": "stdout",
     "output_type": "stream",
     "text": [
      "\u001b[32mSaved FeatureTable[Frequency] to: poop_data/Differential_abundance/table_abund_HEA_migraine_spec.qza\u001b[0m\n",
      "\u001b[0m\u001b[32mSaved FeatureTable[Composition] to: poop_data/Differential_abundance/table_abund_HEA_migraine_spec_comp.qza\u001b[0m\n",
      "\u001b[0m\u001b[32mSaved Visualization to: poop_data/Differential_abundance/ancom_HEA_migraine_spec.qzv\u001b[0m\n",
      "\u001b[0m"
     ]
    }
   ],
   "source": [
    "! qiime feature-table filter-samples \\\n",
    "    --i-table $diff_abu/table_abund_species.qza \\\n",
    "    --m-metadata-file $data_dir/metadata.tsv \\\n",
    "    --p-where \"[HEA_migraine]='False' or [HEA_migraine]='True'\" \\\n",
    "    --o-filtered-table $diff_abu/table_abund_HEA_migraine_spec.qza\n",
    "\n",
    "! qiime composition add-pseudocount \\\n",
    "    --i-table $diff_abu/table_abund_HEA_migraine_spec.qza \\\n",
    "    --o-composition-table $diff_abu/table_abund_HEA_migraine_spec_comp.qza\n",
    "\n",
    "! qiime composition ancom \\\n",
    "    --i-table $diff_abu/table_abund_HEA_migraine_spec_comp.qza \\\n",
    "    --m-metadata-file $data_dir/metadata.tsv \\\n",
    "    --m-metadata-column HEA_migraine \\\n",
    "    --o-visualization $diff_abu/ancom_HEA_migraine_spec.qzv"
   ]
  },
  {
   "cell_type": "code",
   "execution_count": 24,
   "id": "9ae2c522-53a9-48e5-b5af-70b015e4786c",
   "metadata": {
    "collapsed": true,
    "jupyter": {
     "outputs_hidden": true
    },
    "tags": []
   },
   "outputs": [
    {
     "data": {
      "text/html": [
       "<div><img onload=\"(function(div, url){\n",
       "if (typeof require !== 'undefined') {\n",
       "    var baseURL = require.toUrl('').split('/').slice(0, -2).join('/');\n",
       "} else {\n",
       "    var baseURL = JSON.parse(\n",
       "        document.getElementById('jupyter-config-data').innerHTML\n",
       "    ).baseUrl.slice(0, -1);\n",
       "}\n",
       "url = baseURL + url;\n",
       "fetch(url).then(function(res) {\n",
       "    if (res.status === 404) {\n",
       "        div.innerHTML = 'Install QIIME 2 Jupyter extension with:<br />' +\n",
       "                        '<code>jupyter serverextension enable --py qiime2' +\n",
       "                        ' --sys-prefix</code><br />then restart your server.' +\n",
       "                        '<br /><br />(Interactive output not available on ' +\n",
       "                        'static notebook viewer services like nbviewer.)';\n",
       "    } else if (res.status === 409) {\n",
       "        div.innerHTML = 'Visualization no longer in scope. Re-run this cell' +\n",
       "                        ' to see the visualization.';\n",
       "    } else if (res.ok) {\n",
       "        url = res.url;\n",
       "        div.innerHTML = '<iframe src=\\'' + url + '\\' style=\\'' +\n",
       "                        'width: 100%; height: 700px; border: 0;\\'>' +\n",
       "                        '</iframe><hr />Open in a: <a href=\\'' + url + '\\'' +\n",
       "                        ' target=\\'_blank\\'>new window</a>'\n",
       "    } else {\n",
       "        div.innerHTML = 'Something has gone wrong. Check notebook server for' +\n",
       "                        ' errors.';\n",
       "    }\n",
       "});\n",
       "})(this.parentElement, '/qiime2/redirect?location=/tmp/qiime2-archive-3j9ung2l')\" src=\"data:image/gif;base64,R0lGODlhAQABAIAAAP///wAAACH5BAEAAAAALAAAAAABAAEAAAICRAEAOw==\" /></div>"
      ],
      "text/plain": [
       "<visualization: Visualization uuid: 8a68931e-fd3f-4461-ac92-ab3dc098ae90>"
      ]
     },
     "execution_count": 24,
     "metadata": {},
     "output_type": "execute_result"
    }
   ],
   "source": [
    "Visualization.load(f'{diff_abu}/ancom_HEA_migraine_spec.qzv') #No significant features found"
   ]
  },
  {
   "cell_type": "markdown",
   "id": "6ff20ef6-a763-4b4d-b89b-801653a4e2f3",
   "metadata": {},
   "source": [
    "##  ANCOM: HEA_mental_illness"
   ]
  },
  {
   "cell_type": "code",
   "execution_count": 22,
   "id": "3647bcbb-e077-4ff7-9bbc-749c0891909c",
   "metadata": {},
   "outputs": [
    {
     "name": "stdout",
     "output_type": "stream",
     "text": [
      "\u001b[32mSaved FeatureTable[Frequency] to: poop_data/Differential_abundance/table_abund_HEA_mental_illness_spec.qza\u001b[0m\n",
      "\u001b[0m\u001b[32mSaved FeatureTable[Composition] to: poop_data/Differential_abundance/table_abund_HEA_mental_illness_spec_comp.qza\u001b[0m\n",
      "\u001b[0m\u001b[32mSaved Visualization to: poop_data/Differential_abundance/ancom_HEA_mental_illness_spec.qzv\u001b[0m\n",
      "\u001b[0m"
     ]
    }
   ],
   "source": [
    "! qiime feature-table filter-samples \\\n",
    "    --i-table $diff_abu/table_abund_species.qza \\\n",
    "    --m-metadata-file $data_dir/metadata.tsv \\\n",
    "    --p-where \"[HEA_mental_illness]='False' or [HEA_mental_illness]='True'\" \\\n",
    "    --o-filtered-table $diff_abu/table_abund_HEA_mental_illness_spec.qza\n",
    "\n",
    "! qiime composition add-pseudocount \\\n",
    "    --i-table $diff_abu/table_abund_HEA_mental_illness_spec.qza \\\n",
    "    --o-composition-table $diff_abu/table_abund_HEA_mental_illness_spec_comp.qza\n",
    "\n",
    "! qiime composition ancom \\\n",
    "    --i-table $diff_abu/table_abund_HEA_mental_illness_spec_comp.qza \\\n",
    "    --m-metadata-file $data_dir/metadata.tsv \\\n",
    "    --m-metadata-column HEA_mental_illness \\\n",
    "    --o-visualization $diff_abu/ancom_HEA_mental_illness_spec.qzv"
   ]
  },
  {
   "cell_type": "code",
   "execution_count": 23,
   "id": "be8c7be3-6c67-4a56-9058-143c09b4b042",
   "metadata": {
    "collapsed": true,
    "jupyter": {
     "outputs_hidden": true
    },
    "tags": []
   },
   "outputs": [
    {
     "data": {
      "text/html": [
       "<div><img onload=\"(function(div, url){\n",
       "if (typeof require !== 'undefined') {\n",
       "    var baseURL = require.toUrl('').split('/').slice(0, -2).join('/');\n",
       "} else {\n",
       "    var baseURL = JSON.parse(\n",
       "        document.getElementById('jupyter-config-data').innerHTML\n",
       "    ).baseUrl.slice(0, -1);\n",
       "}\n",
       "url = baseURL + url;\n",
       "fetch(url).then(function(res) {\n",
       "    if (res.status === 404) {\n",
       "        div.innerHTML = 'Install QIIME 2 Jupyter extension with:<br />' +\n",
       "                        '<code>jupyter serverextension enable --py qiime2' +\n",
       "                        ' --sys-prefix</code><br />then restart your server.' +\n",
       "                        '<br /><br />(Interactive output not available on ' +\n",
       "                        'static notebook viewer services like nbviewer.)';\n",
       "    } else if (res.status === 409) {\n",
       "        div.innerHTML = 'Visualization no longer in scope. Re-run this cell' +\n",
       "                        ' to see the visualization.';\n",
       "    } else if (res.ok) {\n",
       "        url = res.url;\n",
       "        div.innerHTML = '<iframe src=\\'' + url + '\\' style=\\'' +\n",
       "                        'width: 100%; height: 700px; border: 0;\\'>' +\n",
       "                        '</iframe><hr />Open in a: <a href=\\'' + url + '\\'' +\n",
       "                        ' target=\\'_blank\\'>new window</a>'\n",
       "    } else {\n",
       "        div.innerHTML = 'Something has gone wrong. Check notebook server for' +\n",
       "                        ' errors.';\n",
       "    }\n",
       "});\n",
       "})(this.parentElement, '/qiime2/redirect?location=/tmp/qiime2-archive-u5ytajy2')\" src=\"data:image/gif;base64,R0lGODlhAQABAIAAAP///wAAACH5BAEAAAAALAAAAAABAAEAAAICRAEAOw==\" /></div>"
      ],
      "text/plain": [
       "<visualization: Visualization uuid: fa3cb52e-5918-4e75-b700-ebdf6c8a8291>"
      ]
     },
     "execution_count": 23,
     "metadata": {},
     "output_type": "execute_result"
    }
   ],
   "source": [
    "Visualization.load(f'{diff_abu}/ancom_HEA_mental_illness_spec.qzv') #No significant features found"
   ]
  },
  {
   "cell_type": "code",
   "execution_count": null,
   "id": "fce55240-ab4c-4ada-8d9e-a6562813b7ec",
   "metadata": {},
   "outputs": [],
   "source": []
  },
  {
   "cell_type": "code",
   "execution_count": null,
   "id": "08ef4893-d90e-447a-8fe9-659e0983dbc8",
   "metadata": {},
   "outputs": [],
   "source": []
  },
  {
   "cell_type": "code",
   "execution_count": null,
   "id": "92d1b739-cdff-4954-b5f8-851fc3907e18",
   "metadata": {},
   "outputs": [],
   "source": []
  },
  {
   "cell_type": "markdown",
   "id": "ca4e4f1d-d36c-433e-b5b5-8c4beb74696b",
   "metadata": {
    "tags": []
   },
   "source": [
    "##  ANCOM: GEN_bmi_cat"
   ]
  },
  {
   "cell_type": "code",
   "execution_count": 12,
   "id": "82a4e63e-d40d-458e-a38a-4a6956791de6",
   "metadata": {
    "tags": []
   },
   "outputs": [
    {
     "name": "stdout",
     "output_type": "stream",
     "text": [
      "\u001b[32mSaved FeatureTable[Frequency] to: poop_data/Differential_abundance/table_abund_bmi_spec.qza\u001b[0m\n",
      "\u001b[0m\u001b[32mSaved FeatureTable[Composition] to: poop_data/Differential_abundance/table_abund_bmi_spec_comp.qza\u001b[0m\n",
      "\u001b[0m\u001b[32mSaved Visualization to: poop_data/Differential_abundance/ancom_GEN_bmi_spec.qzv\u001b[0m\n",
      "\u001b[0m"
     ]
    }
   ],
   "source": [
    "! qiime feature-table filter-samples \\\n",
    "    --i-table $diff_abu/table_abund_species.qza \\\n",
    "    --m-metadata-file $data_dir/metadata.tsv \\\n",
    "    --p-where \"[GEN_bmi_cat]='Overweight' or [GEN_bmi_cat]='Normal'\" \\\n",
    "    --o-filtered-table $diff_abu/table_abund_bmi_spec.qza\n",
    "\n",
    "! qiime composition add-pseudocount \\\n",
    "    --i-table $diff_abu/table_abund_bmi_spec.qza \\\n",
    "    --o-composition-table $diff_abu/table_abund_bmi_spec_comp.qza\n",
    "\n",
    "! qiime composition ancom \\\n",
    "    --i-table $diff_abu/table_abund_bmi_spec_comp.qza \\\n",
    "    --m-metadata-file $data_dir/metadata.tsv \\\n",
    "    --m-metadata-column GEN_bmi_cat \\\n",
    "    --o-visualization $diff_abu/ancom_GEN_bmi_spec.qzv"
   ]
  },
  {
   "cell_type": "code",
   "execution_count": 29,
   "id": "79c8e2b4-5ac4-4faf-97b5-f82153b616d5",
   "metadata": {
    "collapsed": true,
    "jupyter": {
     "outputs_hidden": true
    },
    "tags": []
   },
   "outputs": [
    {
     "data": {
      "text/html": [
       "<div><img onload=\"(function(div, url){\n",
       "if (typeof require !== 'undefined') {\n",
       "    var baseURL = require.toUrl('').split('/').slice(0, -2).join('/');\n",
       "} else {\n",
       "    var baseURL = JSON.parse(\n",
       "        document.getElementById('jupyter-config-data').innerHTML\n",
       "    ).baseUrl.slice(0, -1);\n",
       "}\n",
       "url = baseURL + url;\n",
       "fetch(url).then(function(res) {\n",
       "    if (res.status === 404) {\n",
       "        div.innerHTML = 'Install QIIME 2 Jupyter extension with:<br />' +\n",
       "                        '<code>jupyter serverextension enable --py qiime2' +\n",
       "                        ' --sys-prefix</code><br />then restart your server.' +\n",
       "                        '<br /><br />(Interactive output not available on ' +\n",
       "                        'static notebook viewer services like nbviewer.)';\n",
       "    } else if (res.status === 409) {\n",
       "        div.innerHTML = 'Visualization no longer in scope. Re-run this cell' +\n",
       "                        ' to see the visualization.';\n",
       "    } else if (res.ok) {\n",
       "        url = res.url;\n",
       "        div.innerHTML = '<iframe src=\\'' + url + '\\' style=\\'' +\n",
       "                        'width: 100%; height: 700px; border: 0;\\'>' +\n",
       "                        '</iframe><hr />Open in a: <a href=\\'' + url + '\\'' +\n",
       "                        ' target=\\'_blank\\'>new window</a>'\n",
       "    } else {\n",
       "        div.innerHTML = 'Something has gone wrong. Check notebook server for' +\n",
       "                        ' errors.';\n",
       "    }\n",
       "});\n",
       "})(this.parentElement, '/qiime2/redirect?location=/tmp/qiime2-archive-cci4s2y7')\" src=\"data:image/gif;base64,R0lGODlhAQABAIAAAP///wAAACH5BAEAAAAALAAAAAABAAEAAAICRAEAOw==\" /></div>"
      ],
      "text/plain": [
       "<visualization: Visualization uuid: cb4eaa37-5ea8-4374-a964-4e63e706c376>"
      ]
     },
     "execution_count": 29,
     "metadata": {},
     "output_type": "execute_result"
    }
   ],
   "source": [
    "Visualization.load(f'{diff_abu}/ancom_GEN_bmi_gen.qzv')  #no significant features found"
   ]
  }
 ],
 "metadata": {
  "kernelspec": {
   "display_name": "Python 3 (ipykernel)",
   "language": "python",
   "name": "python3"
  },
  "language_info": {
   "codemirror_mode": {
    "name": "ipython",
    "version": 3
   },
   "file_extension": ".py",
   "mimetype": "text/x-python",
   "name": "python",
   "nbconvert_exporter": "python",
   "pygments_lexer": "ipython3",
   "version": "3.8.13"
  }
 },
 "nbformat": 4,
 "nbformat_minor": 5
}
