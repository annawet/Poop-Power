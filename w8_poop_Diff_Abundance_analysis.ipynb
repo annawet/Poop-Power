{
 "cells": [
  {
   "cell_type": "markdown",
   "id": "ad0aa828-ed74-4c94-8fcf-6ef7b239a297",
   "metadata": {
    "tags": []
   },
   "source": [
    "# PoopPower: Differential abundance analysis"
   ]
  },
  {
   "cell_type": "markdown",
   "id": "9bd09b1e-c5e3-42ce-bbc0-b11338c8a9e6",
   "metadata": {},
   "source": [
    "In the previous exercise we saw how to compare samples using alpha and beta diversity metrics. Now we will see with  _differential abundance_ how to test whether individual ASVs/taxa differ in abundance between samples' groups.\n",
    "We are going to use the trustfull test  ANCOM : a compositionally aware alternative that allows to test for differentially abundant features. "
   ]
  },
  {
   "cell_type": "code",
   "execution_count": 7,
   "id": "733c8f6b-41db-4a05-9b78-51d3d77897bd",
   "metadata": {},
   "outputs": [],
   "source": [
    "# importing all required packages & notebook extensions at the start of the notebook\n",
    "import os\n",
    "import matplotlib.pyplot as plt\n",
    "import pandas as pd\n",
    "import qiime2 as q2\n",
    "from qiime2 import Visualization\n",
    "import seaborn as sns\n",
    "from scipy.stats import shapiro, kruskal, f_oneway"
   ]
  },
  {
   "cell_type": "code",
   "execution_count": 8,
   "id": "cc695a77-630b-4728-8b50-b964b5aa01ee",
   "metadata": {},
   "outputs": [],
   "source": [
    "div_dir = 'poop_data/Diversity'\n",
    "phy_dir = 'poop_data/Phylogeny'\n",
    "tox_dir = 'poop_data/Taxonomy'\n",
    "den_dir= 'poop_data/Denoising'\n",
    "diff_abu= 'poop_data/Differential_abundance'\n",
    "data_dir = 'poop_data'\n",
    "\n",
    "%matplotlib inline"
   ]
  },
  {
   "cell_type": "markdown",
   "id": "c72a12f0-cde2-4ca9-9206-956b8adc050a",
   "metadata": {},
   "source": [
    "##  ANCOM\n",
    "\n",
    "Analyze this dataset given its limitations: \n",
    "1.We will start by filtering our feature table and only retain features that are present at some minimal frequency (5000). This can improve resolution and limit the false discovery rate penalty on features that are too far below the noise threshhold to be applicable to a statistical test. We can use the `filter-features` action from the `feature-table` plugin. "
   ]
  },
  {
   "cell_type": "code",
   "execution_count": 33,
   "id": "8d5bd54a-1530-4024-8686-086330c6392b",
   "metadata": {},
   "outputs": [
    {
     "name": "stdout",
     "output_type": "stream",
     "text": [
      "\u001b[32mSaved FeatureTable[Frequency] to: poop_data/Differential_abundance/table_abund.qza\u001b[0m\n",
      "\u001b[0m"
     ]
    }
   ],
   "source": [
    "! qiime feature-table filter-features \\\n",
    "    --i-table $den_dir/dada2_table.qza \\\n",
    "    --p-min-frequency 5000 \\\n",
    "    --o-filtered-table $diff_abu/table_abund.qza"
   ]
  },
  {
   "cell_type": "code",
   "execution_count": 24,
   "id": "47a9a9d4-9f47-4c2b-b1eb-de4e408303f5",
   "metadata": {
    "collapsed": true,
    "jupyter": {
     "outputs_hidden": true
    },
    "tags": []
   },
   "outputs": [
    {
     "name": "stdout",
     "output_type": "stream",
     "text": [
      "Usage: \u001b[94mqiime feature-table filter-features\u001b[0m [OPTIONS]\n",
      "\n",
      "  Filter features from table based on frequency and/or metadata. Any samples\n",
      "  with a frequency of zero after feature filtering will also be removed. See\n",
      "  the filtering tutorial on https://docs.qiime2.org for additional details.\n",
      "\n",
      "\u001b[1mInputs\u001b[0m:\n",
      "  \u001b[94m\u001b[4m--i-table\u001b[0m ARTIFACT \u001b[32mFeatureTable[Frequency]\u001b[0m\n",
      "                       The feature table from which features should be\n",
      "                       filtered.                                    \u001b[35m[required]\u001b[0m\n",
      "\u001b[1mParameters\u001b[0m:\n",
      "  \u001b[94m--p-min-frequency\u001b[0m INTEGER\n",
      "                       The minimum total frequency that a feature must have\n",
      "                       to be retained.                            \u001b[35m[default: 0]\u001b[0m\n",
      "  \u001b[94m--p-max-frequency\u001b[0m INTEGER\n",
      "                       The maximum total frequency that a feature can have to\n",
      "                       be retained. If no value is provided this will default\n",
      "                       to infinity (i.e., no maximum frequency filter will be\n",
      "                       applied).                                    \u001b[35m[optional]\u001b[0m\n",
      "  \u001b[94m--p-min-samples\u001b[0m INTEGER\n",
      "                       The minimum number of samples that a feature must be\n",
      "                       observed in to be retained.                \u001b[35m[default: 0]\u001b[0m\n",
      "  \u001b[94m--p-max-samples\u001b[0m INTEGER\n",
      "                       The maximum number of samples that a feature can be\n",
      "                       observed in to be retained. If no value is provided\n",
      "                       this will default to infinity (i.e., no maximum sample\n",
      "                       filter will be applied).                     \u001b[35m[optional]\u001b[0m\n",
      "  \u001b[94m--m-metadata-file\u001b[0m METADATA...\n",
      "    (multiple          Feature metadata used with `where` parameter when\n",
      "     arguments will    selecting features to retain, or with `\u001b[4mexclude-ids\u001b[0m`\n",
      "     be merged)        when selecting features to discard.          \u001b[35m[optional]\u001b[0m\n",
      "  \u001b[94m--p-where\u001b[0m TEXT       SQLite WHERE clause specifying feature metadata\n",
      "                       criteria that must be met to be included in the\n",
      "                       filtered feature table. If not provided, all features\n",
      "                       in `metadata` that are also in the feature table will\n",
      "                       be retained.                                 \u001b[35m[optional]\u001b[0m\n",
      "  \u001b[94m--p-exclude-ids\u001b[0m / \u001b[94m--p-no-exclude-ids\u001b[0m\n",
      "                       If true, the features selected by `metadata` or\n",
      "                       `where` parameters will be excluded from the filtered\n",
      "                       table instead of being retained.       \u001b[35m[default: False]\u001b[0m\n",
      "  \u001b[94m--p-filter-empty-samples\u001b[0m / \u001b[94m--p-no-filter-empty-samples\u001b[0m\n",
      "                       If true, drop any samples where none of the retained\n",
      "                       features are present.                   \u001b[35m[default: True]\u001b[0m\n",
      "\u001b[1mOutputs\u001b[0m:\n",
      "  \u001b[94m\u001b[4m--o-filtered-table\u001b[0m ARTIFACT \u001b[32mFeatureTable[Frequency]\u001b[0m\n",
      "                       The resulting feature table filtered by feature.\n",
      "                                                                    \u001b[35m[required]\u001b[0m\n",
      "\u001b[1mMiscellaneous\u001b[0m:\n",
      "  \u001b[94m--output-dir\u001b[0m PATH    Output unspecified results to a directory\n",
      "  \u001b[94m--verbose\u001b[0m / \u001b[94m--quiet\u001b[0m  Display verbose output to stdout and/or stderr during\n",
      "                       execution of this action. Or silence output if\n",
      "                       execution is successful (silence is golden).\n",
      "  \u001b[94m--example-data\u001b[0m PATH  Write example data and exit.\n",
      "  \u001b[94m--citations\u001b[0m          Show citations and exit.\n",
      "  \u001b[94m--help\u001b[0m               Show this message and exit.\n"
     ]
    }
   ],
   "source": [
    "! qiime feature-table filter-features --help"
   ]
  },
  {
   "cell_type": "code",
   "execution_count": 9,
   "id": "f05474da-e886-453e-94b4-838324564f83",
   "metadata": {
    "collapsed": true,
    "jupyter": {
     "outputs_hidden": true
    },
    "tags": []
   },
   "outputs": [
    {
     "data": {
      "text/html": [
       "<div><img onload=\"(function(div, url){\n",
       "if (typeof require !== 'undefined') {\n",
       "    var baseURL = require.toUrl('').split('/').slice(0, -2).join('/');\n",
       "} else {\n",
       "    var baseURL = JSON.parse(\n",
       "        document.getElementById('jupyter-config-data').innerHTML\n",
       "    ).baseUrl.slice(0, -1);\n",
       "}\n",
       "url = baseURL + url;\n",
       "fetch(url).then(function(res) {\n",
       "    if (res.status === 404) {\n",
       "        div.innerHTML = 'Install QIIME 2 Jupyter extension with:<br />' +\n",
       "                        '<code>jupyter serverextension enable --py qiime2' +\n",
       "                        ' --sys-prefix</code><br />then restart your server.' +\n",
       "                        '<br /><br />(Interactive output not available on ' +\n",
       "                        'static notebook viewer services like nbviewer.)';\n",
       "    } else if (res.status === 409) {\n",
       "        div.innerHTML = 'Visualization no longer in scope. Re-run this cell' +\n",
       "                        ' to see the visualization.';\n",
       "    } else if (res.ok) {\n",
       "        url = res.url;\n",
       "        div.innerHTML = '<iframe src=\\'' + url + '\\' style=\\'' +\n",
       "                        'width: 100%; height: 700px; border: 0;\\'>' +\n",
       "                        '</iframe><hr />Open in a: <a href=\\'' + url + '\\'' +\n",
       "                        ' target=\\'_blank\\'>new window</a>'\n",
       "    } else {\n",
       "        div.innerHTML = 'Something has gone wrong. Check notebook server for' +\n",
       "                        ' errors.';\n",
       "    }\n",
       "});\n",
       "})(this.parentElement, '/qiime2/redirect?location=/tmp/qiime2-archive-om1ww991')\" src=\"data:image/gif;base64,R0lGODlhAQABAIAAAP///wAAACH5BAEAAAAALAAAAAABAAEAAAICRAEAOw==\" /></div>"
      ],
      "text/plain": [
       "<visualization: Visualization uuid: f33dc630-989c-4893-83ab-cc4579390091>"
      ]
     },
     "execution_count": 9,
     "metadata": {},
     "output_type": "execute_result"
    }
   ],
   "source": [
    "Visualization.load(f'{den_dir}/dada2_table.qzv') # we see that 5000 is a reasonable number to cutoff. But are we cutting off to many data? Now we compare the table before and after filtering it:"
   ]
  },
  {
   "cell_type": "code",
   "execution_count": 37,
   "id": "5126fc63-2481-45bf-ba7c-f8461ee51e6b",
   "metadata": {},
   "outputs": [
    {
     "name": "stdout",
     "output_type": "stream",
     "text": [
      "\u001b[32mSaved Visualization to: poop_data/Differential_abundance/table_abund.qzv\u001b[0m\n",
      "\u001b[0m"
     ]
    }
   ],
   "source": [
    "! qiime feature-table summarize \\\n",
    "    --i-table $diff_abu/table_abund.qza \\\n",
    "    --m-sample-metadata-file $data_dir/metadata.tsv \\\n",
    "    --o-visualization $diff_abu/table_abund.qzv"
   ]
  },
  {
   "cell_type": "code",
   "execution_count": 40,
   "id": "5ba1a8d0-5185-4e63-ad7b-ea65434266b6",
   "metadata": {
    "tags": []
   },
   "outputs": [
    {
     "data": {
      "text/html": [
       "<div><img onload=\"(function(div, url){\n",
       "if (typeof require !== 'undefined') {\n",
       "    var baseURL = require.toUrl('').split('/').slice(0, -2).join('/');\n",
       "} else {\n",
       "    var baseURL = JSON.parse(\n",
       "        document.getElementById('jupyter-config-data').innerHTML\n",
       "    ).baseUrl.slice(0, -1);\n",
       "}\n",
       "url = baseURL + url;\n",
       "fetch(url).then(function(res) {\n",
       "    if (res.status === 404) {\n",
       "        div.innerHTML = 'Install QIIME 2 Jupyter extension with:<br />' +\n",
       "                        '<code>jupyter serverextension enable --py qiime2' +\n",
       "                        ' --sys-prefix</code><br />then restart your server.' +\n",
       "                        '<br /><br />(Interactive output not available on ' +\n",
       "                        'static notebook viewer services like nbviewer.)';\n",
       "    } else if (res.status === 409) {\n",
       "        div.innerHTML = 'Visualization no longer in scope. Re-run this cell' +\n",
       "                        ' to see the visualization.';\n",
       "    } else if (res.ok) {\n",
       "        url = res.url;\n",
       "        div.innerHTML = '<iframe src=\\'' + url + '\\' style=\\'' +\n",
       "                        'width: 100%; height: 700px; border: 0;\\'>' +\n",
       "                        '</iframe><hr />Open in a: <a href=\\'' + url + '\\'' +\n",
       "                        ' target=\\'_blank\\'>new window</a>'\n",
       "    } else {\n",
       "        div.innerHTML = 'Something has gone wrong. Check notebook server for' +\n",
       "                        ' errors.';\n",
       "    }\n",
       "});\n",
       "})(this.parentElement, '/qiime2/redirect?location=/tmp/qiime2-archive-oxg2xmoz')\" src=\"data:image/gif;base64,R0lGODlhAQABAIAAAP///wAAACH5BAEAAAAALAAAAAABAAEAAAICRAEAOw==\" /></div>"
      ],
      "text/plain": [
       "<visualization: Visualization uuid: 0cdedb67-a135-4573-8b1c-f3ddbb7c25a6>"
      ]
     },
     "execution_count": 40,
     "metadata": {},
     "output_type": "execute_result"
    }
   ],
   "source": [
    "Visualization.load(f'{diff_abu}/table_abund.qzv') # Here we can observe that the data that we cutoff are not to many . They only decrease from 523 to 513 "
   ]
  },
  {
   "cell_type": "markdown",
   "id": "f8ea9e07-f704-42f8-b036-2d9ecbc1e458",
   "metadata": {},
   "source": [
    "##  ANCOM: GEN_sex"
   ]
  },
  {
   "cell_type": "code",
   "execution_count": 34,
   "id": "7755e6a3-3ba2-425d-8db0-105802a25971",
   "metadata": {},
   "outputs": [
    {
     "name": "stdout",
     "output_type": "stream",
     "text": [
      "\u001b[32mSaved FeatureTable[Frequency] to: poop_data/Differential_abundance/table_abund_female_male.qza\u001b[0m\n",
      "\u001b[0m\u001b[32mSaved FeatureTable[Composition] to: poop_data/Differential_abundance/table_abund_F_M_comp.qza\u001b[0m\n",
      "\u001b[0m\u001b[32mSaved Visualization to: poop_data/Differential_abundance/ancom_SEX.qzv\u001b[0m\n",
      "\u001b[0m"
     ]
    }
   ],
   "source": [
    "! qiime feature-table filter-samples \\\n",
    "    --i-table $diff_abu/table_abund.qza \\\n",
    "    --m-metadata-file $data_dir/metadata.tsv \\\n",
    "    --p-where \"[GEN_sex]='male' or [GEN_sex]='female'\" \\\n",
    "    --o-filtered-table $diff_abu/table_abund_female_male.qza\n",
    "\n",
    "! qiime composition add-pseudocount \\\n",
    "    --i-table $diff_abu/table_abund_female_male.qza \\\n",
    "    --o-composition-table $diff_abu/table_abund_F_M_comp.qza\n",
    "    \n",
    "! qiime composition ancom \\\n",
    "    --i-table $diff_abu/table_abund_F_M_comp.qza \\\n",
    "    --m-metadata-file $data_dir/metadata.tsv \\\n",
    "    --m-metadata-column GEN_sex \\\n",
    "    --p-transform-function log \\\n",
    "    --o-visualization $diff_abu/ancom_SEX.qzv"
   ]
  },
  {
   "cell_type": "code",
   "execution_count": 9,
   "id": "fed11fcd-91c9-4c93-9dd5-e588c86162ec",
   "metadata": {
    "tags": []
   },
   "outputs": [
    {
     "data": {
      "text/html": [
       "<div><img onload=\"(function(div, url){\n",
       "if (typeof require !== 'undefined') {\n",
       "    var baseURL = require.toUrl('').split('/').slice(0, -2).join('/');\n",
       "} else {\n",
       "    var baseURL = JSON.parse(\n",
       "        document.getElementById('jupyter-config-data').innerHTML\n",
       "    ).baseUrl.slice(0, -1);\n",
       "}\n",
       "url = baseURL + url;\n",
       "fetch(url).then(function(res) {\n",
       "    if (res.status === 404) {\n",
       "        div.innerHTML = 'Install QIIME 2 Jupyter extension with:<br />' +\n",
       "                        '<code>jupyter serverextension enable --py qiime2' +\n",
       "                        ' --sys-prefix</code><br />then restart your server.' +\n",
       "                        '<br /><br />(Interactive output not available on ' +\n",
       "                        'static notebook viewer services like nbviewer.)';\n",
       "    } else if (res.status === 409) {\n",
       "        div.innerHTML = 'Visualization no longer in scope. Re-run this cell' +\n",
       "                        ' to see the visualization.';\n",
       "    } else if (res.ok) {\n",
       "        url = res.url;\n",
       "        div.innerHTML = '<iframe src=\\'' + url + '\\' style=\\'' +\n",
       "                        'width: 100%; height: 700px; border: 0;\\'>' +\n",
       "                        '</iframe><hr />Open in a: <a href=\\'' + url + '\\'' +\n",
       "                        ' target=\\'_blank\\'>new window</a>'\n",
       "    } else {\n",
       "        div.innerHTML = 'Something has gone wrong. Check notebook server for' +\n",
       "                        ' errors.';\n",
       "    }\n",
       "});\n",
       "})(this.parentElement, '/qiime2/redirect?location=/tmp/qiime2-archive-jz8z0al7')\" src=\"data:image/gif;base64,R0lGODlhAQABAIAAAP///wAAACH5BAEAAAAALAAAAAABAAEAAAICRAEAOw==\" /></div>"
      ],
      "text/plain": [
       "<visualization: Visualization uuid: 7e88d072-7188-4257-8cb3-d5c028afb6d2>"
      ]
     },
     "execution_count": 9,
     "metadata": {},
     "output_type": "execute_result"
    }
   ],
   "source": [
    "Visualization.load(f'{diff_abu}/ancom_SEX.qzv')"
   ]
  },
  {
   "cell_type": "markdown",
   "id": "7b4ea319-7836-4dff-8852-6506e423ec2d",
   "metadata": {},
   "source": [
    "By looking at the ANCOM Volcano we can see only one statistically significant ASV at the right corner of the plot. This is **77c2dc197e6b3dbebc4ee240c6a1c559** with a **W=36**. Then we look the same feature in the table of percentile abundances of features by group:\n",
    "    **1)** in 75% of the samples in the female group, 18,25 or fewer sequences were observed and assigned to this feature\n",
    "    **2)** in 75% of the samples in the male group, 1 sequences were assigned to this feature\n",
    "\n",
    "That would suggest that this feature is more abundant in the female samples. To further investigate these results that we have done in an ASV level we are going to see the taxa down to the species and genus level."
   ]
  },
  {
   "cell_type": "code",
   "execution_count": 3,
   "id": "b7871831-ff89-4f7b-82a1-ec6279f3599b",
   "metadata": {},
   "outputs": [
    {
     "name": "stdout",
     "output_type": "stream",
     "text": [
      "\u001b[32mSaved FeatureTable[Frequency] to: poop_data/Differential_abundance/table_abund_species.qza\u001b[0m\n",
      "\u001b[0m\u001b[32mSaved FeatureTable[Frequency] to: poop_data/Differential_abundance/table_abund_F_M_spec.qza\u001b[0m\n",
      "\u001b[0m\u001b[32mSaved FeatureTable[Composition] to: poop_data/Differential_abundance/table_abund_F_M_spec_comp.qza\u001b[0m\n",
      "\u001b[0m\u001b[32mSaved Visualization to: poop_data/Differential_abundance/ancom_GEN_sex_spec.qzv\u001b[0m\n",
      "\u001b[0m"
     ]
    }
   ],
   "source": [
    "! qiime taxa collapse \\\n",
    "    --i-table $diff_abu/table_abund.qza \\\n",
    "    --i-taxonomy $tox_dir/taxonomy_new.qza \\\n",
    "    --p-level 7 \\\n",
    "    --o-collapsed-table $diff_abu/table_abund_species.qza\n",
    "\n",
    "! qiime feature-table filter-samples \\\n",
    "    --i-table $diff_abu/table_abund_species.qza \\\n",
    "    --m-metadata-file $data_dir/metadata.tsv \\\n",
    "    --p-where \"[GEN_sex]='male' or [GEN_sex]='female'\" \\\n",
    "    --o-filtered-table $diff_abu/table_abund_F_M_spec.qza\n",
    "\n",
    "! qiime composition add-pseudocount \\\n",
    "    --i-table $diff_abu/table_abund_F_M_spec.qza \\\n",
    "    --o-composition-table $diff_abu/table_abund_F_M_spec_comp.qza\n",
    "\n",
    "! qiime composition ancom \\\n",
    "    --i-table $diff_abu/table_abund_F_M_spec_comp.qza \\\n",
    "    --m-metadata-file $data_dir/metadata.tsv \\\n",
    "    --m-metadata-column GEN_sex \\\n",
    "    --o-visualization $diff_abu/ancom_GEN_sex_spec.qzv"
   ]
  },
  {
   "cell_type": "code",
   "execution_count": 10,
   "id": "abd58332-a6a3-43de-9a38-6bfcd8c0d16c",
   "metadata": {
    "collapsed": true,
    "jupyter": {
     "outputs_hidden": true
    },
    "tags": []
   },
   "outputs": [
    {
     "data": {
      "text/html": [
       "<div><img onload=\"(function(div, url){\n",
       "if (typeof require !== 'undefined') {\n",
       "    var baseURL = require.toUrl('').split('/').slice(0, -2).join('/');\n",
       "} else {\n",
       "    var baseURL = JSON.parse(\n",
       "        document.getElementById('jupyter-config-data').innerHTML\n",
       "    ).baseUrl.slice(0, -1);\n",
       "}\n",
       "url = baseURL + url;\n",
       "fetch(url).then(function(res) {\n",
       "    if (res.status === 404) {\n",
       "        div.innerHTML = 'Install QIIME 2 Jupyter extension with:<br />' +\n",
       "                        '<code>jupyter serverextension enable --py qiime2' +\n",
       "                        ' --sys-prefix</code><br />then restart your server.' +\n",
       "                        '<br /><br />(Interactive output not available on ' +\n",
       "                        'static notebook viewer services like nbviewer.)';\n",
       "    } else if (res.status === 409) {\n",
       "        div.innerHTML = 'Visualization no longer in scope. Re-run this cell' +\n",
       "                        ' to see the visualization.';\n",
       "    } else if (res.ok) {\n",
       "        url = res.url;\n",
       "        div.innerHTML = '<iframe src=\\'' + url + '\\' style=\\'' +\n",
       "                        'width: 100%; height: 700px; border: 0;\\'>' +\n",
       "                        '</iframe><hr />Open in a: <a href=\\'' + url + '\\'' +\n",
       "                        ' target=\\'_blank\\'>new window</a>'\n",
       "    } else {\n",
       "        div.innerHTML = 'Something has gone wrong. Check notebook server for' +\n",
       "                        ' errors.';\n",
       "    }\n",
       "});\n",
       "})(this.parentElement, '/qiime2/redirect?location=/tmp/qiime2-archive-xr_20xp2')\" src=\"data:image/gif;base64,R0lGODlhAQABAIAAAP///wAAACH5BAEAAAAALAAAAAABAAEAAAICRAEAOw==\" /></div>"
      ],
      "text/plain": [
       "<visualization: Visualization uuid: 9a100427-29dc-49ef-ab57-250aadb82225>"
      ]
     },
     "execution_count": 10,
     "metadata": {},
     "output_type": "execute_result"
    }
   ],
   "source": [
    "Visualization.load(f'{diff_abu}/ancom_GEN_sex_spec.qzv') "
   ]
  },
  {
   "cell_type": "code",
   "execution_count": 4,
   "id": "a2cf841c-de6a-4890-a6c9-8dde1291528b",
   "metadata": {},
   "outputs": [
    {
     "name": "stdout",
     "output_type": "stream",
     "text": [
      "\u001b[32mSaved FeatureTable[Frequency] to: poop_data/Differential_abundance/table_abund_genus.qza\u001b[0m\n",
      "\u001b[0m\u001b[32mSaved FeatureTable[Frequency] to: poop_data/Differential_abundance/table_abund_F_M_gen.qza\u001b[0m\n",
      "\u001b[0m\u001b[32mSaved FeatureTable[Composition] to: poop_data/Differential_abundance/table_abund_F_M_gen_comp.qza\u001b[0m\n",
      "\u001b[0m\u001b[32mSaved Visualization to: poop_data/Differential_abundance/ancom_GEN_sex_gen.qzv\u001b[0m\n",
      "\u001b[0m"
     ]
    }
   ],
   "source": [
    "! qiime taxa collapse \\\n",
    "    --i-table $diff_abu/table_abund.qza \\\n",
    "    --i-taxonomy $tox_dir/taxonomy_new.qza \\\n",
    "    --p-level 6 \\\n",
    "    --o-collapsed-table $diff_abu/table_abund_genus.qza\n",
    "\n",
    "! qiime feature-table filter-samples \\\n",
    "    --i-table $diff_abu/table_abund_genus.qza \\\n",
    "    --m-metadata-file $data_dir/metadata.tsv \\\n",
    "    --p-where \"[GEN_sex]='male' or [GEN_sex]='female'\" \\\n",
    "    --o-filtered-table $diff_abu/table_abund_F_M_gen.qza\n",
    "\n",
    "! qiime composition add-pseudocount \\\n",
    "    --i-table $diff_abu/table_abund_F_M_gen.qza \\\n",
    "    --o-composition-table $diff_abu/table_abund_F_M_gen_comp.qza\n",
    "\n",
    "! qiime composition ancom \\\n",
    "    --i-table $diff_abu/table_abund_F_M_gen_comp.qza \\\n",
    "    --m-metadata-file $data_dir/metadata.tsv \\\n",
    "    --m-metadata-column GEN_sex \\\n",
    "    --o-visualization $diff_abu/ancom_GEN_sex_gen.qzv"
   ]
  },
  {
   "cell_type": "code",
   "execution_count": 30,
   "id": "6db72d5f-0383-44e1-ae74-bf9679730a5d",
   "metadata": {
    "collapsed": true,
    "jupyter": {
     "outputs_hidden": true
    },
    "tags": []
   },
   "outputs": [
    {
     "data": {
      "text/html": [
       "<div><img onload=\"(function(div, url){\n",
       "if (typeof require !== 'undefined') {\n",
       "    var baseURL = require.toUrl('').split('/').slice(0, -2).join('/');\n",
       "} else {\n",
       "    var baseURL = JSON.parse(\n",
       "        document.getElementById('jupyter-config-data').innerHTML\n",
       "    ).baseUrl.slice(0, -1);\n",
       "}\n",
       "url = baseURL + url;\n",
       "fetch(url).then(function(res) {\n",
       "    if (res.status === 404) {\n",
       "        div.innerHTML = 'Install QIIME 2 Jupyter extension with:<br />' +\n",
       "                        '<code>jupyter serverextension enable --py qiime2' +\n",
       "                        ' --sys-prefix</code><br />then restart your server.' +\n",
       "                        '<br /><br />(Interactive output not available on ' +\n",
       "                        'static notebook viewer services like nbviewer.)';\n",
       "    } else if (res.status === 409) {\n",
       "        div.innerHTML = 'Visualization no longer in scope. Re-run this cell' +\n",
       "                        ' to see the visualization.';\n",
       "    } else if (res.ok) {\n",
       "        url = res.url;\n",
       "        div.innerHTML = '<iframe src=\\'' + url + '\\' style=\\'' +\n",
       "                        'width: 100%; height: 700px; border: 0;\\'>' +\n",
       "                        '</iframe><hr />Open in a: <a href=\\'' + url + '\\'' +\n",
       "                        ' target=\\'_blank\\'>new window</a>'\n",
       "    } else {\n",
       "        div.innerHTML = 'Something has gone wrong. Check notebook server for' +\n",
       "                        ' errors.';\n",
       "    }\n",
       "});\n",
       "})(this.parentElement, '/qiime2/redirect?location=/tmp/qiime2-archive-yqprwdmq')\" src=\"data:image/gif;base64,R0lGODlhAQABAIAAAP///wAAACH5BAEAAAAALAAAAAABAAEAAAICRAEAOw==\" /></div>"
      ],
      "text/plain": [
       "<visualization: Visualization uuid: dbe695d7-c599-4786-b0db-59f547d879e7>"
      ]
     },
     "execution_count": 30,
     "metadata": {},
     "output_type": "execute_result"
    }
   ],
   "source": [
    "Visualization.load(f'{diff_abu}/ancom_GEN_sex_gen.qzv')  #W=11"
   ]
  },
  {
   "cell_type": "markdown",
   "id": "379a8e33-30cb-4547-88bc-f30891c57403",
   "metadata": {},
   "source": [
    "Now by looking at the ANCOM Volcano we can see an higher statistically significant difference between the two gender at the both corner of the plot. \n",
    "Also by looking to this Percentile abundances of features by group we can confirm the previous assumption that would suggest that this feature is more abundant in the female samples. "
   ]
  },
  {
   "cell_type": "markdown",
   "id": "a5269f57-cc1c-4dbb-96ac-e6d1cd448f0d",
   "metadata": {},
   "source": [
    "##  ANCOM: GEN_bmi_cat"
   ]
  },
  {
   "cell_type": "code",
   "execution_count": 12,
   "id": "f2dbb7cb-4036-4c2a-b933-27a36abf0dec",
   "metadata": {
    "tags": []
   },
   "outputs": [
    {
     "name": "stdout",
     "output_type": "stream",
     "text": [
      "\u001b[32mSaved FeatureTable[Frequency] to: poop_data/Differential_abundance/table_abund_bmi_spec.qza\u001b[0m\n",
      "\u001b[0m\u001b[32mSaved FeatureTable[Composition] to: poop_data/Differential_abundance/table_abund_bmi_spec_comp.qza\u001b[0m\n",
      "\u001b[0m\u001b[32mSaved Visualization to: poop_data/Differential_abundance/ancom_GEN_bmi_spec.qzv\u001b[0m\n",
      "\u001b[0m"
     ]
    }
   ],
   "source": [
    "! qiime feature-table filter-samples \\\n",
    "    --i-table $diff_abu/table_abund_species.qza \\\n",
    "    --m-metadata-file $data_dir/metadata.tsv \\\n",
    "    --p-where \"[GEN_bmi_cat]='Overweight' or [GEN_bmi_cat]='Normal'\" \\\n",
    "    --o-filtered-table $diff_abu/table_abund_bmi_spec.qza\n",
    "\n",
    "! qiime composition add-pseudocount \\\n",
    "    --i-table $diff_abu/table_abund_bmi_spec.qza \\\n",
    "    --o-composition-table $diff_abu/table_abund_bmi_spec_comp.qza\n",
    "\n",
    "! qiime composition ancom \\\n",
    "    --i-table $diff_abu/table_abund_bmi_spec_comp.qza \\\n",
    "    --m-metadata-file $data_dir/metadata.tsv \\\n",
    "    --m-metadata-column GEN_bmi_cat \\\n",
    "    --o-visualization $diff_abu/ancom_GEN_bmi_spec.qzv"
   ]
  },
  {
   "cell_type": "code",
   "execution_count": 29,
   "id": "03fe95c9-fb0e-42d7-a90f-9d99cee2272a",
   "metadata": {
    "collapsed": true,
    "jupyter": {
     "outputs_hidden": true
    },
    "tags": []
   },
   "outputs": [
    {
     "data": {
      "text/html": [
       "<div><img onload=\"(function(div, url){\n",
       "if (typeof require !== 'undefined') {\n",
       "    var baseURL = require.toUrl('').split('/').slice(0, -2).join('/');\n",
       "} else {\n",
       "    var baseURL = JSON.parse(\n",
       "        document.getElementById('jupyter-config-data').innerHTML\n",
       "    ).baseUrl.slice(0, -1);\n",
       "}\n",
       "url = baseURL + url;\n",
       "fetch(url).then(function(res) {\n",
       "    if (res.status === 404) {\n",
       "        div.innerHTML = 'Install QIIME 2 Jupyter extension with:<br />' +\n",
       "                        '<code>jupyter serverextension enable --py qiime2' +\n",
       "                        ' --sys-prefix</code><br />then restart your server.' +\n",
       "                        '<br /><br />(Interactive output not available on ' +\n",
       "                        'static notebook viewer services like nbviewer.)';\n",
       "    } else if (res.status === 409) {\n",
       "        div.innerHTML = 'Visualization no longer in scope. Re-run this cell' +\n",
       "                        ' to see the visualization.';\n",
       "    } else if (res.ok) {\n",
       "        url = res.url;\n",
       "        div.innerHTML = '<iframe src=\\'' + url + '\\' style=\\'' +\n",
       "                        'width: 100%; height: 700px; border: 0;\\'>' +\n",
       "                        '</iframe><hr />Open in a: <a href=\\'' + url + '\\'' +\n",
       "                        ' target=\\'_blank\\'>new window</a>'\n",
       "    } else {\n",
       "        div.innerHTML = 'Something has gone wrong. Check notebook server for' +\n",
       "                        ' errors.';\n",
       "    }\n",
       "});\n",
       "})(this.parentElement, '/qiime2/redirect?location=/tmp/qiime2-archive-cci4s2y7')\" src=\"data:image/gif;base64,R0lGODlhAQABAIAAAP///wAAACH5BAEAAAAALAAAAAABAAEAAAICRAEAOw==\" /></div>"
      ],
      "text/plain": [
       "<visualization: Visualization uuid: cb4eaa37-5ea8-4374-a964-4e63e706c376>"
      ]
     },
     "execution_count": 29,
     "metadata": {},
     "output_type": "execute_result"
    }
   ],
   "source": [
    "Visualization.load(f'{diff_abu}/ancom_GEN_bmi_gen.qzv')  #no significant features found"
   ]
  },
  {
   "cell_type": "markdown",
   "id": "0352f4e7-c198-4065-b89f-5a19147d4567",
   "metadata": {
    "tags": []
   },
   "source": [
    "No significant features found"
   ]
  },
  {
   "cell_type": "markdown",
   "id": "b952efb9-db31-4215-803c-67bd7aa15e77",
   "metadata": {},
   "source": [
    "We select from permanova table, where the q-value is below significance-level to find some comparison to make with ANCOM"
   ]
  },
  {
   "cell_type": "markdown",
   "id": "5e5d3d2c-b79a-4913-9f57-351d3ad29cac",
   "metadata": {},
   "source": [
    "##  ANCOM: HEA_ibd"
   ]
  },
  {
   "cell_type": "code",
   "execution_count": 18,
   "id": "b44b0e94-e7b6-40ef-bc5b-93e4de97b1d9",
   "metadata": {},
   "outputs": [
    {
     "name": "stdout",
     "output_type": "stream",
     "text": [
      "\u001b[32mSaved FeatureTable[Frequency] to: poop_data/Differential_abundance/table_abund_HEA_ibd_spec.qza\u001b[0m\n",
      "\u001b[0m\u001b[32mSaved FeatureTable[Composition] to: poop_data/Differential_abundance/table_abund_HEA_ibd_spec_comp.qza\u001b[0m\n",
      "\u001b[0m\u001b[32mSaved Visualization to: poop_data/Differential_abundance/ancom_HEA_ibd_spec.qzv\u001b[0m\n",
      "\u001b[0m"
     ]
    }
   ],
   "source": [
    "! qiime feature-table filter-samples \\\n",
    "    --i-table $diff_abu/table_abund_species.qza \\\n",
    "    --m-metadata-file $data_dir/metadata.tsv \\\n",
    "    --p-where \"[HEA_ibd]='False' or [HEA_ibd]='True'\" \\\n",
    "    --o-filtered-table $diff_abu/table_abund_HEA_ibd_spec.qza\n",
    "\n",
    "! qiime composition add-pseudocount \\\n",
    "    --i-table $diff_abu/table_abund_HEA_ibd_spec.qza \\\n",
    "    --o-composition-table $diff_abu/table_abund_HEA_ibd_spec_comp.qza\n",
    "\n",
    "! qiime composition ancom \\\n",
    "    --i-table $diff_abu/table_abund_HEA_ibd_spec_comp.qza \\\n",
    "    --m-metadata-file $data_dir/metadata.tsv \\\n",
    "    --m-metadata-column HEA_ibd \\\n",
    "    --o-visualization $diff_abu/ancom_HEA_ibd_spec.qzv"
   ]
  },
  {
   "cell_type": "code",
   "execution_count": 28,
   "id": "ce6b1781-370d-4358-8a5f-03491495c3b8",
   "metadata": {
    "collapsed": true,
    "jupyter": {
     "outputs_hidden": true
    },
    "tags": []
   },
   "outputs": [
    {
     "data": {
      "text/html": [
       "<div><img onload=\"(function(div, url){\n",
       "if (typeof require !== 'undefined') {\n",
       "    var baseURL = require.toUrl('').split('/').slice(0, -2).join('/');\n",
       "} else {\n",
       "    var baseURL = JSON.parse(\n",
       "        document.getElementById('jupyter-config-data').innerHTML\n",
       "    ).baseUrl.slice(0, -1);\n",
       "}\n",
       "url = baseURL + url;\n",
       "fetch(url).then(function(res) {\n",
       "    if (res.status === 404) {\n",
       "        div.innerHTML = 'Install QIIME 2 Jupyter extension with:<br />' +\n",
       "                        '<code>jupyter serverextension enable --py qiime2' +\n",
       "                        ' --sys-prefix</code><br />then restart your server.' +\n",
       "                        '<br /><br />(Interactive output not available on ' +\n",
       "                        'static notebook viewer services like nbviewer.)';\n",
       "    } else if (res.status === 409) {\n",
       "        div.innerHTML = 'Visualization no longer in scope. Re-run this cell' +\n",
       "                        ' to see the visualization.';\n",
       "    } else if (res.ok) {\n",
       "        url = res.url;\n",
       "        div.innerHTML = '<iframe src=\\'' + url + '\\' style=\\'' +\n",
       "                        'width: 100%; height: 700px; border: 0;\\'>' +\n",
       "                        '</iframe><hr />Open in a: <a href=\\'' + url + '\\'' +\n",
       "                        ' target=\\'_blank\\'>new window</a>'\n",
       "    } else {\n",
       "        div.innerHTML = 'Something has gone wrong. Check notebook server for' +\n",
       "                        ' errors.';\n",
       "    }\n",
       "});\n",
       "})(this.parentElement, '/qiime2/redirect?location=/tmp/qiime2-archive-kevzxvan')\" src=\"data:image/gif;base64,R0lGODlhAQABAIAAAP///wAAACH5BAEAAAAALAAAAAABAAEAAAICRAEAOw==\" /></div>"
      ],
      "text/plain": [
       "<visualization: Visualization uuid: 432e426c-a902-4688-a088-76f3e9d41be2>"
      ]
     },
     "execution_count": 28,
     "metadata": {},
     "output_type": "execute_result"
    }
   ],
   "source": [
    "Visualization.load(f'{diff_abu}/ancom_HEA_ibd_spec.qzv') #W=43"
   ]
  },
  {
   "cell_type": "markdown",
   "id": "5fdd2525-178c-4fcb-a3a6-d7d9eb4e0062",
   "metadata": {},
   "source": [
    "##  ANCOM: HEA_cdiff"
   ]
  },
  {
   "cell_type": "code",
   "execution_count": 19,
   "id": "0000e71a-385e-45ac-86df-2ea8a6131a03",
   "metadata": {},
   "outputs": [
    {
     "name": "stdout",
     "output_type": "stream",
     "text": [
      "\u001b[32mSaved FeatureTable[Frequency] to: poop_data/Differential_abundance/table_abund_HEA_cdiff_spec.qza\u001b[0m\n",
      "\u001b[0m\u001b[32mSaved FeatureTable[Composition] to: poop_data/Differential_abundance/table_abund_HEA_cdiff_spec_comp.qza\u001b[0m\n",
      "\u001b[0m\u001b[32mSaved Visualization to: poop_data/Differential_abundance/ancom_HEA_cdiff_spec.qzv\u001b[0m\n",
      "\u001b[0m"
     ]
    }
   ],
   "source": [
    "! qiime feature-table filter-samples \\\n",
    "    --i-table $diff_abu/table_abund_species.qza \\\n",
    "    --m-metadata-file $data_dir/metadata.tsv \\\n",
    "    --p-where \"[HEA_cdiff]='False' or [HEA_cdiff]='True'\" \\\n",
    "    --o-filtered-table $diff_abu/table_abund_HEA_cdiff_spec.qza\n",
    "\n",
    "! qiime composition add-pseudocount \\\n",
    "    --i-table $diff_abu/table_abund_HEA_cdiff_spec.qza \\\n",
    "    --o-composition-table $diff_abu/table_abund_HEA_cdiff_spec_comp.qza\n",
    "\n",
    "! qiime composition ancom \\\n",
    "    --i-table $diff_abu/table_abund_HEA_cdiff_spec_comp.qza \\\n",
    "    --m-metadata-file $data_dir/metadata.tsv \\\n",
    "    --m-metadata-column HEA_cdiff \\\n",
    "    --o-visualization $diff_abu/ancom_HEA_cdiff_spec.qzv"
   ]
  },
  {
   "cell_type": "code",
   "execution_count": 27,
   "id": "bd9e7738-a84a-43f1-8766-88223254d8ce",
   "metadata": {
    "tags": []
   },
   "outputs": [
    {
     "data": {
      "text/html": [
       "<div><img onload=\"(function(div, url){\n",
       "if (typeof require !== 'undefined') {\n",
       "    var baseURL = require.toUrl('').split('/').slice(0, -2).join('/');\n",
       "} else {\n",
       "    var baseURL = JSON.parse(\n",
       "        document.getElementById('jupyter-config-data').innerHTML\n",
       "    ).baseUrl.slice(0, -1);\n",
       "}\n",
       "url = baseURL + url;\n",
       "fetch(url).then(function(res) {\n",
       "    if (res.status === 404) {\n",
       "        div.innerHTML = 'Install QIIME 2 Jupyter extension with:<br />' +\n",
       "                        '<code>jupyter serverextension enable --py qiime2' +\n",
       "                        ' --sys-prefix</code><br />then restart your server.' +\n",
       "                        '<br /><br />(Interactive output not available on ' +\n",
       "                        'static notebook viewer services like nbviewer.)';\n",
       "    } else if (res.status === 409) {\n",
       "        div.innerHTML = 'Visualization no longer in scope. Re-run this cell' +\n",
       "                        ' to see the visualization.';\n",
       "    } else if (res.ok) {\n",
       "        url = res.url;\n",
       "        div.innerHTML = '<iframe src=\\'' + url + '\\' style=\\'' +\n",
       "                        'width: 100%; height: 700px; border: 0;\\'>' +\n",
       "                        '</iframe><hr />Open in a: <a href=\\'' + url + '\\'' +\n",
       "                        ' target=\\'_blank\\'>new window</a>'\n",
       "    } else {\n",
       "        div.innerHTML = 'Something has gone wrong. Check notebook server for' +\n",
       "                        ' errors.';\n",
       "    }\n",
       "});\n",
       "})(this.parentElement, '/qiime2/redirect?location=/tmp/qiime2-archive-frkogp57')\" src=\"data:image/gif;base64,R0lGODlhAQABAIAAAP///wAAACH5BAEAAAAALAAAAAABAAEAAAICRAEAOw==\" /></div>"
      ],
      "text/plain": [
       "<visualization: Visualization uuid: f248e66a-0eb7-4302-a2e4-a427610b2b40>"
      ]
     },
     "execution_count": 27,
     "metadata": {},
     "output_type": "execute_result"
    }
   ],
   "source": [
    "Visualization.load(f'{diff_abu}/ancom_HEA_cdiff_spec.qzv') #No significant features found"
   ]
  },
  {
   "cell_type": "markdown",
   "id": "f985f4d8-ceda-44cf-86c3-1da8d3d10b9d",
   "metadata": {},
   "source": [
    "##  ANCOM: HEA_antibiotic_history"
   ]
  },
  {
   "cell_type": "code",
   "execution_count": 25,
   "id": "80757225-e6f1-43a7-bac9-f44e0c57dc0a",
   "metadata": {},
   "outputs": [
    {
     "name": "stdout",
     "output_type": "stream",
     "text": [
      "\u001b[32mSaved FeatureTable[Frequency] to: poop_data/Differential_abundance/table_abund_HEA_antibiotic_history_spec.qza\u001b[0m\n",
      "\u001b[0m\u001b[32mSaved FeatureTable[Composition] to: poop_data/Differential_abundance/table_abund_HEA_antibiotic_history_spec_comp.qza\u001b[0m\n",
      "\u001b[0m\u001b[32mSaved Visualization to: poop_data/Differential_abundance/ancom_HEA_antibiotic_history_spec.qzv\u001b[0m\n",
      "\u001b[0m"
     ]
    }
   ],
   "source": [
    "! qiime feature-table filter-samples \\\n",
    "    --i-table $diff_abu/table_abund_species.qza \\\n",
    "    --m-metadata-file $data_dir/metadata.tsv \\\n",
    "    --p-where \"[HEA_antibiotic_history]='Year' or [HEA_antibiotic_history]='I have not taken antibiotics in the past year.'\" \\\n",
    "    --o-filtered-table $diff_abu/table_abund_HEA_antibiotic_history_spec.qza\n",
    "\n",
    "! qiime composition add-pseudocount \\\n",
    "    --i-table $diff_abu/table_abund_HEA_antibiotic_history_spec.qza \\\n",
    "    --o-composition-table $diff_abu/table_abund_HEA_antibiotic_history_spec_comp.qza\n",
    "\n",
    "! qiime composition ancom \\\n",
    "    --i-table $diff_abu/table_abund_HEA_antibiotic_history_spec_comp.qza \\\n",
    "    --m-metadata-file $data_dir/metadata.tsv \\\n",
    "    --m-metadata-column HEA_cdiff \\\n",
    "    --o-visualization $diff_abu/ancom_HEA_antibiotic_history_spec.qzv"
   ]
  },
  {
   "cell_type": "code",
   "execution_count": 26,
   "id": "4874a723-ff77-4796-ab40-3c21811b6aee",
   "metadata": {
    "collapsed": true,
    "jupyter": {
     "outputs_hidden": true
    },
    "tags": []
   },
   "outputs": [
    {
     "data": {
      "text/html": [
       "<div><img onload=\"(function(div, url){\n",
       "if (typeof require !== 'undefined') {\n",
       "    var baseURL = require.toUrl('').split('/').slice(0, -2).join('/');\n",
       "} else {\n",
       "    var baseURL = JSON.parse(\n",
       "        document.getElementById('jupyter-config-data').innerHTML\n",
       "    ).baseUrl.slice(0, -1);\n",
       "}\n",
       "url = baseURL + url;\n",
       "fetch(url).then(function(res) {\n",
       "    if (res.status === 404) {\n",
       "        div.innerHTML = 'Install QIIME 2 Jupyter extension with:<br />' +\n",
       "                        '<code>jupyter serverextension enable --py qiime2' +\n",
       "                        ' --sys-prefix</code><br />then restart your server.' +\n",
       "                        '<br /><br />(Interactive output not available on ' +\n",
       "                        'static notebook viewer services like nbviewer.)';\n",
       "    } else if (res.status === 409) {\n",
       "        div.innerHTML = 'Visualization no longer in scope. Re-run this cell' +\n",
       "                        ' to see the visualization.';\n",
       "    } else if (res.ok) {\n",
       "        url = res.url;\n",
       "        div.innerHTML = '<iframe src=\\'' + url + '\\' style=\\'' +\n",
       "                        'width: 100%; height: 700px; border: 0;\\'>' +\n",
       "                        '</iframe><hr />Open in a: <a href=\\'' + url + '\\'' +\n",
       "                        ' target=\\'_blank\\'>new window</a>'\n",
       "    } else {\n",
       "        div.innerHTML = 'Something has gone wrong. Check notebook server for' +\n",
       "                        ' errors.';\n",
       "    }\n",
       "});\n",
       "})(this.parentElement, '/qiime2/redirect?location=/tmp/qiime2-archive-x1bgc_d3')\" src=\"data:image/gif;base64,R0lGODlhAQABAIAAAP///wAAACH5BAEAAAAALAAAAAABAAEAAAICRAEAOw==\" /></div>"
      ],
      "text/plain": [
       "<visualization: Visualization uuid: e3801244-6b42-4de4-aac4-24e5fc3787e5>"
      ]
     },
     "execution_count": 26,
     "metadata": {},
     "output_type": "execute_result"
    }
   ],
   "source": [
    "Visualization.load(f'{diff_abu}/ancom_HEA_antibiotic_history_spec.qzv')  #No significant features found"
   ]
  },
  {
   "cell_type": "markdown",
   "id": "7fe18eea-5ffd-42cc-885b-a5824c319d15",
   "metadata": {},
   "source": [
    "from Nina folder"
   ]
  },
  {
   "cell_type": "markdown",
   "id": "4f5e1a22-53ec-4031-8ed2-a61da2996d3b",
   "metadata": {},
   "source": [
    "##  ANCOM: HEA_migraine"
   ]
  },
  {
   "cell_type": "code",
   "execution_count": 21,
   "id": "5b70c5bb-81cb-4b39-9460-cced0b4f19f6",
   "metadata": {},
   "outputs": [
    {
     "name": "stdout",
     "output_type": "stream",
     "text": [
      "\u001b[32mSaved FeatureTable[Frequency] to: poop_data/Differential_abundance/table_abund_HEA_migraine_spec.qza\u001b[0m\n",
      "\u001b[0m\u001b[32mSaved FeatureTable[Composition] to: poop_data/Differential_abundance/table_abund_HEA_migraine_spec_comp.qza\u001b[0m\n",
      "\u001b[0m\u001b[32mSaved Visualization to: poop_data/Differential_abundance/ancom_HEA_migraine_spec.qzv\u001b[0m\n",
      "\u001b[0m"
     ]
    }
   ],
   "source": [
    "! qiime feature-table filter-samples \\\n",
    "    --i-table $diff_abu/table_abund_species.qza \\\n",
    "    --m-metadata-file $data_dir/metadata.tsv \\\n",
    "    --p-where \"[HEA_migraine]='False' or [HEA_migraine]='True'\" \\\n",
    "    --o-filtered-table $diff_abu/table_abund_HEA_migraine_spec.qza\n",
    "\n",
    "! qiime composition add-pseudocount \\\n",
    "    --i-table $diff_abu/table_abund_HEA_migraine_spec.qza \\\n",
    "    --o-composition-table $diff_abu/table_abund_HEA_migraine_spec_comp.qza\n",
    "\n",
    "! qiime composition ancom \\\n",
    "    --i-table $diff_abu/table_abund_HEA_migraine_spec_comp.qza \\\n",
    "    --m-metadata-file $data_dir/metadata.tsv \\\n",
    "    --m-metadata-column HEA_migraine \\\n",
    "    --o-visualization $diff_abu/ancom_HEA_migraine_spec.qzv"
   ]
  },
  {
   "cell_type": "code",
   "execution_count": 24,
   "id": "9ae2c522-53a9-48e5-b5af-70b015e4786c",
   "metadata": {
    "collapsed": true,
    "jupyter": {
     "outputs_hidden": true
    },
    "tags": []
   },
   "outputs": [
    {
     "data": {
      "text/html": [
       "<div><img onload=\"(function(div, url){\n",
       "if (typeof require !== 'undefined') {\n",
       "    var baseURL = require.toUrl('').split('/').slice(0, -2).join('/');\n",
       "} else {\n",
       "    var baseURL = JSON.parse(\n",
       "        document.getElementById('jupyter-config-data').innerHTML\n",
       "    ).baseUrl.slice(0, -1);\n",
       "}\n",
       "url = baseURL + url;\n",
       "fetch(url).then(function(res) {\n",
       "    if (res.status === 404) {\n",
       "        div.innerHTML = 'Install QIIME 2 Jupyter extension with:<br />' +\n",
       "                        '<code>jupyter serverextension enable --py qiime2' +\n",
       "                        ' --sys-prefix</code><br />then restart your server.' +\n",
       "                        '<br /><br />(Interactive output not available on ' +\n",
       "                        'static notebook viewer services like nbviewer.)';\n",
       "    } else if (res.status === 409) {\n",
       "        div.innerHTML = 'Visualization no longer in scope. Re-run this cell' +\n",
       "                        ' to see the visualization.';\n",
       "    } else if (res.ok) {\n",
       "        url = res.url;\n",
       "        div.innerHTML = '<iframe src=\\'' + url + '\\' style=\\'' +\n",
       "                        'width: 100%; height: 700px; border: 0;\\'>' +\n",
       "                        '</iframe><hr />Open in a: <a href=\\'' + url + '\\'' +\n",
       "                        ' target=\\'_blank\\'>new window</a>'\n",
       "    } else {\n",
       "        div.innerHTML = 'Something has gone wrong. Check notebook server for' +\n",
       "                        ' errors.';\n",
       "    }\n",
       "});\n",
       "})(this.parentElement, '/qiime2/redirect?location=/tmp/qiime2-archive-3j9ung2l')\" src=\"data:image/gif;base64,R0lGODlhAQABAIAAAP///wAAACH5BAEAAAAALAAAAAABAAEAAAICRAEAOw==\" /></div>"
      ],
      "text/plain": [
       "<visualization: Visualization uuid: 8a68931e-fd3f-4461-ac92-ab3dc098ae90>"
      ]
     },
     "execution_count": 24,
     "metadata": {},
     "output_type": "execute_result"
    }
   ],
   "source": [
    "Visualization.load(f'{diff_abu}/ancom_HEA_migraine_spec.qzv') #No significant features found"
   ]
  },
  {
   "cell_type": "markdown",
   "id": "6ff20ef6-a763-4b4d-b89b-801653a4e2f3",
   "metadata": {},
   "source": [
    "##  ANCOM: HEA_mental_illness"
   ]
  },
  {
   "cell_type": "code",
   "execution_count": 22,
   "id": "3647bcbb-e077-4ff7-9bbc-749c0891909c",
   "metadata": {},
   "outputs": [
    {
     "name": "stdout",
     "output_type": "stream",
     "text": [
      "\u001b[32mSaved FeatureTable[Frequency] to: poop_data/Differential_abundance/table_abund_HEA_mental_illness_spec.qza\u001b[0m\n",
      "\u001b[0m\u001b[32mSaved FeatureTable[Composition] to: poop_data/Differential_abundance/table_abund_HEA_mental_illness_spec_comp.qza\u001b[0m\n",
      "\u001b[0m\u001b[32mSaved Visualization to: poop_data/Differential_abundance/ancom_HEA_mental_illness_spec.qzv\u001b[0m\n",
      "\u001b[0m"
     ]
    }
   ],
   "source": [
    "! qiime feature-table filter-samples \\\n",
    "    --i-table $diff_abu/table_abund_species.qza \\\n",
    "    --m-metadata-file $data_dir/metadata.tsv \\\n",
    "    --p-where \"[HEA_mental_illness]='False' or [HEA_mental_illness]='True'\" \\\n",
    "    --o-filtered-table $diff_abu/table_abund_HEA_mental_illness_spec.qza\n",
    "\n",
    "! qiime composition add-pseudocount \\\n",
    "    --i-table $diff_abu/table_abund_HEA_mental_illness_spec.qza \\\n",
    "    --o-composition-table $diff_abu/table_abund_HEA_mental_illness_spec_comp.qza\n",
    "\n",
    "! qiime composition ancom \\\n",
    "    --i-table $diff_abu/table_abund_HEA_mental_illness_spec_comp.qza \\\n",
    "    --m-metadata-file $data_dir/metadata.tsv \\\n",
    "    --m-metadata-column HEA_mental_illness \\\n",
    "    --o-visualization $diff_abu/ancom_HEA_mental_illness_spec.qzv"
   ]
  },
  {
   "cell_type": "code",
   "execution_count": 23,
   "id": "be8c7be3-6c67-4a56-9058-143c09b4b042",
   "metadata": {
    "collapsed": true,
    "jupyter": {
     "outputs_hidden": true
    },
    "tags": []
   },
   "outputs": [
    {
     "data": {
      "text/html": [
       "<div><img onload=\"(function(div, url){\n",
       "if (typeof require !== 'undefined') {\n",
       "    var baseURL = require.toUrl('').split('/').slice(0, -2).join('/');\n",
       "} else {\n",
       "    var baseURL = JSON.parse(\n",
       "        document.getElementById('jupyter-config-data').innerHTML\n",
       "    ).baseUrl.slice(0, -1);\n",
       "}\n",
       "url = baseURL + url;\n",
       "fetch(url).then(function(res) {\n",
       "    if (res.status === 404) {\n",
       "        div.innerHTML = 'Install QIIME 2 Jupyter extension with:<br />' +\n",
       "                        '<code>jupyter serverextension enable --py qiime2' +\n",
       "                        ' --sys-prefix</code><br />then restart your server.' +\n",
       "                        '<br /><br />(Interactive output not available on ' +\n",
       "                        'static notebook viewer services like nbviewer.)';\n",
       "    } else if (res.status === 409) {\n",
       "        div.innerHTML = 'Visualization no longer in scope. Re-run this cell' +\n",
       "                        ' to see the visualization.';\n",
       "    } else if (res.ok) {\n",
       "        url = res.url;\n",
       "        div.innerHTML = '<iframe src=\\'' + url + '\\' style=\\'' +\n",
       "                        'width: 100%; height: 700px; border: 0;\\'>' +\n",
       "                        '</iframe><hr />Open in a: <a href=\\'' + url + '\\'' +\n",
       "                        ' target=\\'_blank\\'>new window</a>'\n",
       "    } else {\n",
       "        div.innerHTML = 'Something has gone wrong. Check notebook server for' +\n",
       "                        ' errors.';\n",
       "    }\n",
       "});\n",
       "})(this.parentElement, '/qiime2/redirect?location=/tmp/qiime2-archive-u5ytajy2')\" src=\"data:image/gif;base64,R0lGODlhAQABAIAAAP///wAAACH5BAEAAAAALAAAAAABAAEAAAICRAEAOw==\" /></div>"
      ],
      "text/plain": [
       "<visualization: Visualization uuid: fa3cb52e-5918-4e75-b700-ebdf6c8a8291>"
      ]
     },
     "execution_count": 23,
     "metadata": {},
     "output_type": "execute_result"
    }
   ],
   "source": [
    "Visualization.load(f'{diff_abu}/ancom_HEA_mental_illness_spec.qzv') #No significant features found"
   ]
  },
  {
   "cell_type": "markdown",
   "id": "1e6b8b56-4424-48a9-8280-3f356e17de4c",
   "metadata": {},
   "source": [
    "##  ANCOM: HEA_HEA_sibo"
   ]
  },
  {
   "cell_type": "code",
   "execution_count": null,
   "id": "fce55240-ab4c-4ada-8d9e-a6562813b7ec",
   "metadata": {},
   "outputs": [],
   "source": []
  },
  {
   "cell_type": "code",
   "execution_count": null,
   "id": "08ef4893-d90e-447a-8fe9-659e0983dbc8",
   "metadata": {},
   "outputs": [],
   "source": []
  },
  {
   "cell_type": "code",
   "execution_count": null,
   "id": "92d1b739-cdff-4954-b5f8-851fc3907e18",
   "metadata": {},
   "outputs": [],
   "source": []
  }
 ],
 "metadata": {
  "kernelspec": {
   "display_name": "Python 3 (ipykernel)",
   "language": "python",
   "name": "python3"
  },
  "language_info": {
   "codemirror_mode": {
    "name": "ipython",
    "version": 3
   },
   "file_extension": ".py",
   "mimetype": "text/x-python",
   "name": "python",
   "nbconvert_exporter": "python",
   "pygments_lexer": "ipython3",
   "version": "3.8.13"
  }
 },
 "nbformat": 4,
 "nbformat_minor": 5
}
