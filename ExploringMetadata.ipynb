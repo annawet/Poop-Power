{
 "cells": [
  {
   "cell_type": "markdown",
   "id": "1576f87a-e2c4-49ba-8179-bba7f2ee824c",
   "metadata": {},
   "source": [
    "### Exploring the Patient Metadata"
   ]
  },
  {
   "cell_type": "markdown",
   "id": "b1ee78c6-9055-4a43-89ef-a91ed79c1713",
   "metadata": {},
   "source": [
    "1.a) Which health conditions (including diseases, allergies, treatment history) are most prevalent in your\n",
    "cohort? "
   ]
  },
  {
   "cell_type": "code",
   "execution_count": 1,
   "id": "ccaed706-b7f1-429e-998b-1386e66214cb",
   "metadata": {},
   "outputs": [],
   "source": [
    "#package import\n",
    "import os\n",
    "import pandas as pd\n",
    "from qiime2 import Visualization\n",
    "import matplotlib.pyplot as plt\n",
    "\n",
    "%matplotlib inline"
   ]
  },
  {
   "cell_type": "code",
   "execution_count": 2,
   "id": "6e936b56-3fdf-4822-b73f-26c86adc5335",
   "metadata": {},
   "outputs": [],
   "source": [
    "# location of this week's data and all the results produced by this notebook \n",
    "# - this should be a path relative to your working directory\n",
    "data_dir = 'poop_data' \n",
    "\n",
    "if not os.path.isdir(data_dir):\n",
    "    os.makedirs(data_dir)"
   ]
  },
  {
   "cell_type": "code",
   "execution_count": 3,
   "id": "08e85bad-e89d-4f96-8457-eaacea7b3465",
   "metadata": {},
   "outputs": [
    {
     "data": {
      "text/html": [
       "<div>\n",
       "<style scoped>\n",
       "    .dataframe tbody tr th:only-of-type {\n",
       "        vertical-align: middle;\n",
       "    }\n",
       "\n",
       "    .dataframe tbody tr th {\n",
       "        vertical-align: top;\n",
       "    }\n",
       "\n",
       "    .dataframe thead th {\n",
       "        text-align: right;\n",
       "    }\n",
       "</style>\n",
       "<table border=\"1\" class=\"dataframe\">\n",
       "  <thead>\n",
       "    <tr style=\"text-align: right;\">\n",
       "      <th></th>\n",
       "      <th>sampleid</th>\n",
       "      <th>GEN_age_cat</th>\n",
       "      <th>GEN_age_corrected</th>\n",
       "      <th>GEN_bmi_cat</th>\n",
       "      <th>GEN_bmi_corrected</th>\n",
       "      <th>GEN_cat</th>\n",
       "      <th>GEN_collection_timestamp</th>\n",
       "      <th>GEN_country</th>\n",
       "      <th>GEN_dog</th>\n",
       "      <th>GEN_elevation</th>\n",
       "      <th>...</th>\n",
       "      <th>HEA_lung_disease</th>\n",
       "      <th>HEA_mental_illness</th>\n",
       "      <th>HEA_migraine</th>\n",
       "      <th>HEA_seasonal_allergies</th>\n",
       "      <th>HEA_sibo</th>\n",
       "      <th>HEA_skin_condition</th>\n",
       "      <th>HEA_sleep_duration</th>\n",
       "      <th>HEA_smoking_frequency</th>\n",
       "      <th>HEA_thyroid</th>\n",
       "      <th>HEA_weight_change</th>\n",
       "    </tr>\n",
       "  </thead>\n",
       "  <tbody>\n",
       "    <tr>\n",
       "      <th>0</th>\n",
       "      <td>10317.000046</td>\n",
       "      <td>20s</td>\n",
       "      <td>20.0</td>\n",
       "      <td>Normal</td>\n",
       "      <td>23.75</td>\n",
       "      <td>False</td>\n",
       "      <td>2016-08-25 18:30:00</td>\n",
       "      <td>USA</td>\n",
       "      <td>True</td>\n",
       "      <td>1919.3</td>\n",
       "      <td>...</td>\n",
       "      <td>False</td>\n",
       "      <td>False</td>\n",
       "      <td>False</td>\n",
       "      <td>True</td>\n",
       "      <td>False</td>\n",
       "      <td>False</td>\n",
       "      <td>8 or more hours</td>\n",
       "      <td>Never</td>\n",
       "      <td>False</td>\n",
       "      <td>Decreased more than 10 pounds</td>\n",
       "    </tr>\n",
       "    <tr>\n",
       "      <th>1</th>\n",
       "      <td>10317.000050</td>\n",
       "      <td>Not provided</td>\n",
       "      <td>NaN</td>\n",
       "      <td>Overweight</td>\n",
       "      <td>25.61</td>\n",
       "      <td>False</td>\n",
       "      <td>2016-07-06 09:00:00</td>\n",
       "      <td>United Kingdom</td>\n",
       "      <td>False</td>\n",
       "      <td>65.5</td>\n",
       "      <td>...</td>\n",
       "      <td>False</td>\n",
       "      <td>False</td>\n",
       "      <td>False</td>\n",
       "      <td>False</td>\n",
       "      <td>False</td>\n",
       "      <td>True</td>\n",
       "      <td>7-8 hours</td>\n",
       "      <td>Never</td>\n",
       "      <td>False</td>\n",
       "      <td>Remained stable</td>\n",
       "    </tr>\n",
       "    <tr>\n",
       "      <th>2</th>\n",
       "      <td>10317.000038</td>\n",
       "      <td>30s</td>\n",
       "      <td>39.0</td>\n",
       "      <td>Overweight</td>\n",
       "      <td>27.67</td>\n",
       "      <td>False</td>\n",
       "      <td>2016-06-29 09:30:00</td>\n",
       "      <td>United Kingdom</td>\n",
       "      <td>False</td>\n",
       "      <td>44.5</td>\n",
       "      <td>...</td>\n",
       "      <td>False</td>\n",
       "      <td>False</td>\n",
       "      <td>False</td>\n",
       "      <td>False</td>\n",
       "      <td>False</td>\n",
       "      <td>False</td>\n",
       "      <td>7-8 hours</td>\n",
       "      <td>Not provided</td>\n",
       "      <td>False</td>\n",
       "      <td>Remained stable</td>\n",
       "    </tr>\n",
       "    <tr>\n",
       "      <th>3</th>\n",
       "      <td>10317.000047</td>\n",
       "      <td>50s</td>\n",
       "      <td>56.0</td>\n",
       "      <td>Normal</td>\n",
       "      <td>19.71</td>\n",
       "      <td>False</td>\n",
       "      <td>2016-07-12 17:30:00</td>\n",
       "      <td>Germany</td>\n",
       "      <td>False</td>\n",
       "      <td>8.7</td>\n",
       "      <td>...</td>\n",
       "      <td>False</td>\n",
       "      <td>False</td>\n",
       "      <td>True</td>\n",
       "      <td>False</td>\n",
       "      <td>False</td>\n",
       "      <td>True</td>\n",
       "      <td>6-7 hours</td>\n",
       "      <td>Never</td>\n",
       "      <td>True</td>\n",
       "      <td>Decreased more than 10 pounds</td>\n",
       "    </tr>\n",
       "    <tr>\n",
       "      <th>4</th>\n",
       "      <td>10317.000046</td>\n",
       "      <td>40s</td>\n",
       "      <td>45.0</td>\n",
       "      <td>Normal</td>\n",
       "      <td>23.15</td>\n",
       "      <td>False</td>\n",
       "      <td>2016-05-24 19:00:00</td>\n",
       "      <td>United Kingdom</td>\n",
       "      <td>True</td>\n",
       "      <td>68.8</td>\n",
       "      <td>...</td>\n",
       "      <td>False</td>\n",
       "      <td>False</td>\n",
       "      <td>False</td>\n",
       "      <td>True</td>\n",
       "      <td>False</td>\n",
       "      <td>True</td>\n",
       "      <td>6-7 hours</td>\n",
       "      <td>Never</td>\n",
       "      <td>False</td>\n",
       "      <td>Remained stable</td>\n",
       "    </tr>\n",
       "  </tbody>\n",
       "</table>\n",
       "<p>5 rows × 52 columns</p>\n",
       "</div>"
      ],
      "text/plain": [
       "       sampleid   GEN_age_cat  GEN_age_corrected GEN_bmi_cat  \\\n",
       "0  10317.000046           20s               20.0      Normal   \n",
       "1  10317.000050  Not provided                NaN  Overweight   \n",
       "2  10317.000038           30s               39.0  Overweight   \n",
       "3  10317.000047           50s               56.0      Normal   \n",
       "4  10317.000046           40s               45.0      Normal   \n",
       "\n",
       "   GEN_bmi_corrected  GEN_cat GEN_collection_timestamp     GEN_country  \\\n",
       "0              23.75    False      2016-08-25 18:30:00             USA   \n",
       "1              25.61    False      2016-07-06 09:00:00  United Kingdom   \n",
       "2              27.67    False      2016-06-29 09:30:00  United Kingdom   \n",
       "3              19.71    False      2016-07-12 17:30:00         Germany   \n",
       "4              23.15    False      2016-05-24 19:00:00  United Kingdom   \n",
       "\n",
       "   GEN_dog  GEN_elevation  ... HEA_lung_disease  HEA_mental_illness  \\\n",
       "0     True         1919.3  ...            False               False   \n",
       "1    False           65.5  ...            False               False   \n",
       "2    False           44.5  ...            False               False   \n",
       "3    False            8.7  ...            False               False   \n",
       "4     True           68.8  ...            False               False   \n",
       "\n",
       "  HEA_migraine HEA_seasonal_allergies HEA_sibo  HEA_skin_condition  \\\n",
       "0        False                   True    False               False   \n",
       "1        False                  False    False                True   \n",
       "2        False                  False    False               False   \n",
       "3         True                  False    False                True   \n",
       "4        False                   True    False                True   \n",
       "\n",
       "  HEA_sleep_duration  HEA_smoking_frequency HEA_thyroid  \\\n",
       "0    8 or more hours                  Never       False   \n",
       "1          7-8 hours                  Never       False   \n",
       "2          7-8 hours           Not provided       False   \n",
       "3          6-7 hours                  Never        True   \n",
       "4          6-7 hours                  Never       False   \n",
       "\n",
       "               HEA_weight_change  \n",
       "0  Decreased more than 10 pounds  \n",
       "1                Remained stable  \n",
       "2                Remained stable  \n",
       "3  Decreased more than 10 pounds  \n",
       "4                Remained stable  \n",
       "\n",
       "[5 rows x 52 columns]"
      ]
     },
     "execution_count": 3,
     "metadata": {},
     "output_type": "execute_result"
    }
   ],
   "source": [
    "#making a dataframe out of the metadata\n",
    "df_metadata = pd.read_csv(data_dir + '/metadata.tsv', sep='\\t')\n",
    "df_metadata.head(5)"
   ]
  },
  {
   "cell_type": "code",
   "execution_count": 4,
   "id": "412476d5-b76c-49ee-85a9-04a7294b1b84",
   "metadata": {},
   "outputs": [
    {
     "data": {
      "text/plain": [
       "Index(['sampleid', 'GEN_age_cat', 'GEN_age_corrected', 'GEN_bmi_cat',\n",
       "       'GEN_bmi_corrected', 'GEN_cat', 'GEN_collection_timestamp',\n",
       "       'GEN_country', 'GEN_dog', 'GEN_elevation', 'GEN_geo_loc_name',\n",
       "       'GEN_height_cm', 'GEN_host_common_name', 'GEN_last_move',\n",
       "       'GEN_last_travel', 'GEN_latitude', 'GEN_level_of_education',\n",
       "       'GEN_longitude', 'GEN_race', 'GEN_sample_type', 'GEN_sex',\n",
       "       'GEN_weight_kg', 'HEA_acid_reflux', 'HEA_add_adhd',\n",
       "       'HEA_allergic_to_peanuts', 'HEA_antibiotic_history',\n",
       "       'HEA_appendix_removed', 'HEA_autoimmune',\n",
       "       'HEA_bowel_movement_frequency', 'HEA_bowel_movement_quality',\n",
       "       'HEA_cancer', 'HEA_cancer_treatment', 'HEA_cardiovascular_disease',\n",
       "       'HEA_cdiff', 'HEA_chickenpox', 'HEA_contraceptive', 'HEA_csection',\n",
       "       'HEA_diabetes', 'HEA_exercise_frequency', 'HEA_ibd', 'HEA_ibs',\n",
       "       'HEA_liver_disease', 'HEA_lung_disease', 'HEA_mental_illness',\n",
       "       'HEA_migraine', 'HEA_seasonal_allergies', 'HEA_sibo',\n",
       "       'HEA_skin_condition', 'HEA_sleep_duration', 'HEA_smoking_frequency',\n",
       "       'HEA_thyroid', 'HEA_weight_change'],\n",
       "      dtype='object')"
      ]
     },
     "execution_count": 4,
     "metadata": {},
     "output_type": "execute_result"
    }
   ],
   "source": [
    "df_metadata.columns"
   ]
  },
  {
   "cell_type": "code",
   "execution_count": 20,
   "id": "4e87b0b8-ec18-4cc5-9db6-a359c2e2461b",
   "metadata": {},
   "outputs": [],
   "source": [
    "#making a list for all columns which are disease-related\n",
    "diseases = ['HEA_acid_reflux', 'HEA_add_adhd', 'HEA_cancer', 'HEA_autoimmune', 'HEA_ibd', 'HEA_ibs',\n",
    "           'HEA_cardiovascular_disease', 'HEA_chickenpox', 'HEA_csection', 'HEA_diabetes',\n",
    "            'HEA_liver_disease', 'HEA_lung_disease', 'HEA_mental_illness', 'HEA_migraine', 'HEA_sibo', \n",
    "            'HEA_cdiff']\n",
    "#separate list without chickenpox because the number is so high that it 'dominates' the plot (i guess it refers not to an \n",
    "#ongoing illness but to an infection in the past)\n",
    "diseases_no_chicken = ['HEA_acid_reflux', 'HEA_add_adhd', 'HEA_cancer', 'HEA_autoimmune', 'HEA_ibd', 'HEA_ibs',\n",
    "           'HEA_cardiovascular_disease', 'HEA_csection', 'HEA_diabetes',\n",
    "            'HEA_liver_disease', 'HEA_lung_disease', 'HEA_mental_illness', 'HEA_migraine', 'HEA_sibo', \n",
    "            'HEA_cdiff']"
   ]
  },
  {
   "cell_type": "code",
   "execution_count": 21,
   "id": "94f172db-c08f-4ba0-915a-1ea457aee067",
   "metadata": {},
   "outputs": [],
   "source": [
    "#getting only the disease-related columns out of the whole metadata-dataframe\n",
    "df_diseases = df_metadata.loc[:, diseases]\n",
    "\n",
    "#same for the no chickenpox variant\n",
    "df_diseases_no_chicken = df_metadata.loc[:, diseases_no_chicken]"
   ]
  },
  {
   "cell_type": "code",
   "execution_count": 22,
   "id": "4ffe5639-00a3-48c1-ba58-e5a74643a9f2",
   "metadata": {},
   "outputs": [],
   "source": [
    "#count the diseases with value 'True', put them into dataframe calling the sum-column 'sum'\n",
    "#Then sort by sum-values in an ascending way\n",
    "df_summary = pd.DataFrame(df_diseases.sum(), columns = ['sum'])\n",
    "df_summary = df_summary.sort_values('sum')\n",
    "\n",
    "#same for the no chickenpox variant\n",
    "df_summary_no_chicken = pd.DataFrame(df_diseases_no_chicken.sum(), columns = ['sum'])\n",
    "df_summary_no_chicken = df_summary_no_chicken.sort_values('sum')\n"
   ]
  },
  {
   "cell_type": "code",
   "execution_count": 28,
   "id": "99fec3ee-0ff4-4ca2-9b30-bd7ac7a715e1",
   "metadata": {},
   "outputs": [
    {
     "data": {
      "text/plain": [
       "<AxesSubplot:title={'center':'prevalence of diseases in participants'}>"
      ]
     },
     "execution_count": 28,
     "metadata": {},
     "output_type": "execute_result"
    },
    {
     "data": {
      "image/png": "[encoded data removed]",
      "text/plain": [
       "<Figure size 432x288 with 1 Axes>"
      ]
     },
     "metadata": {
      "needs_background": "light"
     },
     "output_type": "display_data"
    }
   ],
   "source": [
    "df_summary.plot(kind = 'bar', title = 'prevalence of diseases in participants', color = 'maroon') "
   ]
  },
  {
   "cell_type": "code",
   "execution_count": 31,
   "id": "e155f456-017c-49b2-a145-f13279fa602f",
   "metadata": {},
   "outputs": [
    {
     "data": {
      "text/plain": [
       "<AxesSubplot:title={'center':'prevalence of diseases in participants without chickenpox'}>"
      ]
     },
     "execution_count": 31,
     "metadata": {},
     "output_type": "execute_result"
    },
    {
     "data": {
      "image/png": "[encoded data removed]",
      "text/plain": [
       "<Figure size 432x288 with 1 Axes>"
      ]
     },
     "metadata": {
      "needs_background": "light"
     },
     "output_type": "display_data"
    }
   ],
   "source": [
    "df_summary_no_chicken.plot(kind = 'bar', title = 'prevalence of diseases in participants without chickenpox', \n",
    "                           color = 'olivedrab') "
   ]
  },
  {
   "cell_type": "code",
   "execution_count": 7,
   "id": "059486dc-c256-4b1b-9743-141775c161e8",
   "metadata": {},
   "outputs": [],
   "source": [
    "allergies = ['HEA_allergic_to_peanuts','HEA_seasonal_allergies' ]"
   ]
  },
  {
   "cell_type": "code",
   "execution_count": 8,
   "id": "4de8e92e-e661-4e15-9b19-ceeb507ec240",
   "metadata": {},
   "outputs": [],
   "source": [
    "treatment_history = ['HEA_antibiotic_history', 'HEA_appendix_removed', 'HEA_cancer_treatment']"
   ]
  },
  {
   "cell_type": "code",
   "execution_count": null,
   "id": "c7b03f8b-3993-46e8-aec4-9740bc9acf73",
   "metadata": {},
   "outputs": [],
   "source": []
  },
  {
   "cell_type": "code",
   "execution_count": null,
   "id": "963cd8e6-847a-4f31-ad2a-4299a2e52f3a",
   "metadata": {},
   "outputs": [],
   "source": []
  },
  {
   "cell_type": "markdown",
   "id": "eb5de447-6ffa-4264-8fc0-1317ea5a9ce2",
   "metadata": {},
   "source": [
    "1.b) Is there existing scientific evidence that some conditions in your cohort could be linked to the gut\n",
    "microbiome?"
   ]
  },
  {
   "cell_type": "code",
   "execution_count": null,
   "id": "5e9e7838-84b5-44f5-873d-6485d1a73926",
   "metadata": {},
   "outputs": [],
   "source": []
  }
 ],
 "metadata": {
  "kernelspec": {
   "display_name": "Python 3 (ipykernel)",
   "language": "python",
   "name": "python3"
  },
  "language_info": {
   "codemirror_mode": {
    "name": "ipython",
    "version": 3
   },
   "file_extension": ".py",
   "mimetype": "text/x-python",
   "name": "python",
   "nbconvert_exporter": "python",
   "pygments_lexer": "ipython3",
   "version": "3.8.13"
  }
 },
 "nbformat": 4,
 "nbformat_minor": 5
}
