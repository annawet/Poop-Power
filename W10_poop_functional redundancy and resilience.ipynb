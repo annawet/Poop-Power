{
 "cells": [
  {
   "cell_type": "code",
   "execution_count": 1,
   "id": "f9365fb9",
   "metadata": {},
   "outputs": [],
   "source": [
    "import os\n",
    "import qiime2 as q2\n",
    "import pandas as pd\n",
    "from qiime2 import Visualization\n",
    "\n",
    "data_dir = 'poop_data'\n",
    "if not os.path.isdir(data_dir):\n",
    "    os.makedirs(data_dir)\n",
    "    \n",
    "# do not increase this value!\n",
    "n_jobs = 3\n",
    "    \n",
    "%matplotlib inline"
   ]
  },
  {
   "cell_type": "markdown",
   "id": "c86eb265",
   "metadata": {},
   "source": [
    "<a id='function'></a>\n",
    "## Functional redundancy: GEN_sex"
   ]
  },
  {
   "cell_type": "code",
   "execution_count": 16,
   "id": "eb2aac38-d1d4-40cc-8166-66dcd11c57f1",
   "metadata": {},
   "outputs": [
    {
     "name": "stdout",
     "output_type": "stream",
     "text": [
      "\u001b[32mSaved FeatureTable[Frequency] to: poop_data/Functional/pathway_abundance_female.qza\u001b[0m\n",
      "\u001b[0m"
     ]
    }
   ],
   "source": [
    "! qiime feature-table filter-samples \\\n",
    "    --i-table $data_dir/Differential_abundance/table_abund_species.qza \\\n",
    "    --m-metadata-file $data_dir/metadata.tsv \\\n",
    "    --p-where \"[GEN_sex]='female'\" \\\n",
    "    --o-filtered-table $data_dir/Functional/pathway_abundance_female.qza"
   ]
  },
  {
   "cell_type": "code",
   "execution_count": 18,
   "id": "a4bd8034-2c1f-4f94-9cae-d5feee531781",
   "metadata": {},
   "outputs": [
    {
     "name": "stdout",
     "output_type": "stream",
     "text": [
      "\u001b[32mSaved FeatureTable[Frequency] to: poop_data/Functional/core-metrics-picrust2-GEN_sex/rarefied_table.qza\u001b[0m\n",
      "\u001b[32mSaved SampleData[AlphaDiversity] to: poop_data/Functional/core-metrics-picrust2-GEN_sex/observed_features_vector.qza\u001b[0m\n",
      "\u001b[32mSaved SampleData[AlphaDiversity] to: poop_data/Functional/core-metrics-picrust2-GEN_sex/shannon_vector.qza\u001b[0m\n",
      "\u001b[32mSaved SampleData[AlphaDiversity] to: poop_data/Functional/core-metrics-picrust2-GEN_sex/evenness_vector.qza\u001b[0m\n",
      "\u001b[32mSaved DistanceMatrix to: poop_data/Functional/core-metrics-picrust2-GEN_sex/jaccard_distance_matrix.qza\u001b[0m\n",
      "\u001b[32mSaved DistanceMatrix to: poop_data/Functional/core-metrics-picrust2-GEN_sex/bray_curtis_distance_matrix.qza\u001b[0m\n",
      "\u001b[32mSaved PCoAResults to: poop_data/Functional/core-metrics-picrust2-GEN_sex/jaccard_pcoa_results.qza\u001b[0m\n",
      "\u001b[32mSaved PCoAResults to: poop_data/Functional/core-metrics-picrust2-GEN_sex/bray_curtis_pcoa_results.qza\u001b[0m\n",
      "\u001b[32mSaved Visualization to: poop_data/Functional/core-metrics-picrust2-GEN_sex/jaccard_emperor.qzv\u001b[0m\n",
      "\u001b[32mSaved Visualization to: poop_data/Functional/core-metrics-picrust2-GEN_sex/bray_curtis_emperor.qzv\u001b[0m\n",
      "\u001b[0m"
     ]
    }
   ],
   "source": [
    "! qiime diversity core-metrics \\\n",
    "  --i-table $data_dir/Functional/pathway_abundance_female.qza \\\n",
    "  --m-metadata-file $data_dir/metadata.tsv \\\n",
    "  --p-sampling-depth 10000 \\\n",
    "  --p-n-jobs $n_jobs \\\n",
    "  --output-dir $data_dir/Functional/core-metrics-picrust2-GEN_sex"
   ]
  },
  {
   "cell_type": "code",
   "execution_count": 19,
   "id": "e23b5ed3-189c-4564-9114-e6bacee518a8",
   "metadata": {},
   "outputs": [
    {
     "name": "stdout",
     "output_type": "stream",
     "text": [
      "\u001b[32mSaved Visualization to: poop_data/Functional/core-metrics-picrust2-GEN_sex/adonis-results.qzv\u001b[0m\n",
      "\u001b[0m"
     ]
    }
   ],
   "source": [
    "! qiime diversity adonis \\\n",
    "  --i-distance-matrix $data_dir/Functional/core-metrics-picrust2-GEN_sex/jaccard_distance_matrix.qza \\\n",
    "  --m-metadata-file $data_dir/metadata.tsv \\\n",
    "  --p-formula 'HEA_ibd*HEA_cdiff*HEA_antibiotic_history*HEA_bowel_movement_quality' \\\n",
    "  --o-visualization $data_dir/Functional/core-metrics-picrust2-GEN_sex/adonis-results.qzv"
   ]
  },
  {
   "cell_type": "code",
   "execution_count": 20,
   "id": "1ec9b14c",
   "metadata": {},
   "outputs": [
    {
     "data": {
      "text/html": [
       "<div><img onload=\"(function(div, url){\n",
       "if (typeof require !== 'undefined') {\n",
       "    var baseURL = require.toUrl('').split('/').slice(0, -2).join('/');\n",
       "} else {\n",
       "    var baseURL = JSON.parse(\n",
       "        document.getElementById('jupyter-config-data').innerHTML\n",
       "    ).baseUrl.slice(0, -1);\n",
       "}\n",
       "url = baseURL + url;\n",
       "fetch(url).then(function(res) {\n",
       "    if (res.status === 404) {\n",
       "        div.innerHTML = 'Install QIIME 2 Jupyter extension with:<br />' +\n",
       "                        '<code>jupyter serverextension enable --py qiime2' +\n",
       "                        ' --sys-prefix</code><br />then restart your server.' +\n",
       "                        '<br /><br />(Interactive output not available on ' +\n",
       "                        'static notebook viewer services like nbviewer.)';\n",
       "    } else if (res.status === 409) {\n",
       "        div.innerHTML = 'Visualization no longer in scope. Re-run this cell' +\n",
       "                        ' to see the visualization.';\n",
       "    } else if (res.ok) {\n",
       "        url = res.url;\n",
       "        div.innerHTML = '<iframe src=\\'' + url + '\\' style=\\'' +\n",
       "                        'width: 100%; height: 700px; border: 0;\\'>' +\n",
       "                        '</iframe><hr />Open in a: <a href=\\'' + url + '\\'' +\n",
       "                        ' target=\\'_blank\\'>new window</a>'\n",
       "    } else {\n",
       "        div.innerHTML = 'Something has gone wrong. Check notebook server for' +\n",
       "                        ' errors.';\n",
       "    }\n",
       "});\n",
       "})(this.parentElement, '/qiime2/redirect?location=/tmp/qiime2-archive-x7zvrkxl')\" src=\"data:image/gif;base64,R0lGODlhAQABAIAAAP///wAAACH5BAEAAAAALAAAAAABAAEAAAICRAEAOw==\" /></div>"
      ],
      "text/plain": [
       "<visualization: Visualization uuid: 919dc2d6-4cff-42cb-ae2d-6b055bed205b>"
      ]
     },
     "execution_count": 20,
     "metadata": {},
     "output_type": "execute_result"
    }
   ],
   "source": [
    "Visualization.load(f'{data_dir}/Functional/core-metrics-picrust2-GEN_sex/jaccard_emperor.qzv')"
   ]
  },
  {
   "cell_type": "code",
   "execution_count": 21,
   "id": "814fd73c",
   "metadata": {},
   "outputs": [
    {
     "data": {
      "text/html": [
       "<div><img onload=\"(function(div, url){\n",
       "if (typeof require !== 'undefined') {\n",
       "    var baseURL = require.toUrl('').split('/').slice(0, -2).join('/');\n",
       "} else {\n",
       "    var baseURL = JSON.parse(\n",
       "        document.getElementById('jupyter-config-data').innerHTML\n",
       "    ).baseUrl.slice(0, -1);\n",
       "}\n",
       "url = baseURL + url;\n",
       "fetch(url).then(function(res) {\n",
       "    if (res.status === 404) {\n",
       "        div.innerHTML = 'Install QIIME 2 Jupyter extension with:<br />' +\n",
       "                        '<code>jupyter serverextension enable --py qiime2' +\n",
       "                        ' --sys-prefix</code><br />then restart your server.' +\n",
       "                        '<br /><br />(Interactive output not available on ' +\n",
       "                        'static notebook viewer services like nbviewer.)';\n",
       "    } else if (res.status === 409) {\n",
       "        div.innerHTML = 'Visualization no longer in scope. Re-run this cell' +\n",
       "                        ' to see the visualization.';\n",
       "    } else if (res.ok) {\n",
       "        url = res.url;\n",
       "        div.innerHTML = '<iframe src=\\'' + url + '\\' style=\\'' +\n",
       "                        'width: 100%; height: 700px; border: 0;\\'>' +\n",
       "                        '</iframe><hr />Open in a: <a href=\\'' + url + '\\'' +\n",
       "                        ' target=\\'_blank\\'>new window</a>'\n",
       "    } else {\n",
       "        div.innerHTML = 'Something has gone wrong. Check notebook server for' +\n",
       "                        ' errors.';\n",
       "    }\n",
       "});\n",
       "})(this.parentElement, '/qiime2/redirect?location=/tmp/qiime2-archive-z00t59ey')\" src=\"data:image/gif;base64,R0lGODlhAQABAIAAAP///wAAACH5BAEAAAAALAAAAAABAAEAAAICRAEAOw==\" /></div>"
      ],
      "text/plain": [
       "<visualization: Visualization uuid: bbfd9b0e-9d56-431d-88ef-6768e1b4b4fc>"
      ]
     },
     "execution_count": 21,
     "metadata": {},
     "output_type": "execute_result"
    }
   ],
   "source": [
    "Visualization.load(f'{data_dir}/Functional/core-metrics-picrust2-GEN_sex/adonis-results.qzv')"
   ]
  },
  {
   "cell_type": "markdown",
   "id": "7a4bc20c-cb4b-493b-af16-ffd6eff08dfa",
   "metadata": {},
   "source": [
    "<a id='function'></a>\n",
    "## Functional redundancy: GEN_bmi_cat"
   ]
  },
  {
   "cell_type": "code",
   "execution_count": 23,
   "id": "d4c12da4-7d2a-4d90-b4a0-d0d2d6835e66",
   "metadata": {},
   "outputs": [
    {
     "name": "stdout",
     "output_type": "stream",
     "text": [
      "\u001b[32mSaved FeatureTable[Frequency] to: poop_data/Functional/pathway_abundance_Overweight.qza\u001b[0m\n",
      "\u001b[0m"
     ]
    }
   ],
   "source": [
    "! qiime feature-table filter-samples \\\n",
    "    --i-table $data_dir/Differential_abundance/table_abund_species.qza \\\n",
    "    --m-metadata-file $data_dir/metadata.tsv \\\n",
    "    --p-where \"[GEN_bmi_cat]='Overweight'\" \\\n",
    "    --o-filtered-table $data_dir/Functional/pathway_abundance_Overweight.qza"
   ]
  },
  {
   "cell_type": "code",
   "execution_count": 25,
   "id": "80664d59-26d8-4527-8205-ff819f19d663",
   "metadata": {},
   "outputs": [
    {
     "name": "stdout",
     "output_type": "stream",
     "text": [
      "\u001b[32mSaved FeatureTable[Frequency] to: poop_data/Functional/core-metrics-picrust2-GEN_bmi_cat/rarefied_table.qza\u001b[0m\n",
      "\u001b[32mSaved SampleData[AlphaDiversity] to: poop_data/Functional/core-metrics-picrust2-GEN_bmi_cat/observed_features_vector.qza\u001b[0m\n",
      "\u001b[32mSaved SampleData[AlphaDiversity] to: poop_data/Functional/core-metrics-picrust2-GEN_bmi_cat/shannon_vector.qza\u001b[0m\n",
      "\u001b[32mSaved SampleData[AlphaDiversity] to: poop_data/Functional/core-metrics-picrust2-GEN_bmi_cat/evenness_vector.qza\u001b[0m\n",
      "\u001b[32mSaved DistanceMatrix to: poop_data/Functional/core-metrics-picrust2-GEN_bmi_cat/jaccard_distance_matrix.qza\u001b[0m\n",
      "\u001b[32mSaved DistanceMatrix to: poop_data/Functional/core-metrics-picrust2-GEN_bmi_cat/bray_curtis_distance_matrix.qza\u001b[0m\n",
      "\u001b[32mSaved PCoAResults to: poop_data/Functional/core-metrics-picrust2-GEN_bmi_cat/jaccard_pcoa_results.qza\u001b[0m\n",
      "\u001b[32mSaved PCoAResults to: poop_data/Functional/core-metrics-picrust2-GEN_bmi_cat/bray_curtis_pcoa_results.qza\u001b[0m\n",
      "\u001b[32mSaved Visualization to: poop_data/Functional/core-metrics-picrust2-GEN_bmi_cat/jaccard_emperor.qzv\u001b[0m\n",
      "\u001b[32mSaved Visualization to: poop_data/Functional/core-metrics-picrust2-GEN_bmi_cat/bray_curtis_emperor.qzv\u001b[0m\n",
      "\u001b[0m"
     ]
    }
   ],
   "source": [
    "! qiime diversity core-metrics \\\n",
    "  --i-table $data_dir/Functional/pathway_abundance_Overweight.qza \\\n",
    "  --m-metadata-file $data_dir/metadata.tsv \\\n",
    "  --p-sampling-depth 10000 \\\n",
    "  --p-n-jobs $n_jobs \\\n",
    "  --output-dir $data_dir/Functional/core-metrics-picrust2-GEN_bmi_cat"
   ]
  },
  {
   "cell_type": "code",
   "execution_count": 26,
   "id": "cc21abe0-dbd1-4c95-b137-0512e4ad86fe",
   "metadata": {},
   "outputs": [
    {
     "name": "stdout",
     "output_type": "stream",
     "text": [
      "\u001b[32mSaved Visualization to: poop_data/Functional/core-metrics-picrust2-GEN_bmi_cat/adonis-results.qzv\u001b[0m\n",
      "\u001b[0m"
     ]
    }
   ],
   "source": [
    "! qiime diversity adonis \\\n",
    "  --i-distance-matrix $data_dir/Functional/core-metrics-picrust2-GEN_bmi_cat/jaccard_distance_matrix.qza \\\n",
    "  --m-metadata-file $data_dir/metadata.tsv \\\n",
    "  --p-formula 'HEA_ibd*HEA_cdiff*HEA_antibiotic_history*HEA_bowel_movement_quality' \\\n",
    "  --o-visualization $data_dir/Functional/core-metrics-picrust2-GEN_bmi_cat/adonis-results.qzv"
   ]
  },
  {
   "cell_type": "code",
   "execution_count": 27,
   "id": "21d36c10-d2ed-4f03-8e95-9eb08db03630",
   "metadata": {},
   "outputs": [
    {
     "data": {
      "text/html": [
       "<div><img onload=\"(function(div, url){\n",
       "if (typeof require !== 'undefined') {\n",
       "    var baseURL = require.toUrl('').split('/').slice(0, -2).join('/');\n",
       "} else {\n",
       "    var baseURL = JSON.parse(\n",
       "        document.getElementById('jupyter-config-data').innerHTML\n",
       "    ).baseUrl.slice(0, -1);\n",
       "}\n",
       "url = baseURL + url;\n",
       "fetch(url).then(function(res) {\n",
       "    if (res.status === 404) {\n",
       "        div.innerHTML = 'Install QIIME 2 Jupyter extension with:<br />' +\n",
       "                        '<code>jupyter serverextension enable --py qiime2' +\n",
       "                        ' --sys-prefix</code><br />then restart your server.' +\n",
       "                        '<br /><br />(Interactive output not available on ' +\n",
       "                        'static notebook viewer services like nbviewer.)';\n",
       "    } else if (res.status === 409) {\n",
       "        div.innerHTML = 'Visualization no longer in scope. Re-run this cell' +\n",
       "                        ' to see the visualization.';\n",
       "    } else if (res.ok) {\n",
       "        url = res.url;\n",
       "        div.innerHTML = '<iframe src=\\'' + url + '\\' style=\\'' +\n",
       "                        'width: 100%; height: 700px; border: 0;\\'>' +\n",
       "                        '</iframe><hr />Open in a: <a href=\\'' + url + '\\'' +\n",
       "                        ' target=\\'_blank\\'>new window</a>'\n",
       "    } else {\n",
       "        div.innerHTML = 'Something has gone wrong. Check notebook server for' +\n",
       "                        ' errors.';\n",
       "    }\n",
       "});\n",
       "})(this.parentElement, '/qiime2/redirect?location=/tmp/qiime2-archive-lyo710do')\" src=\"data:image/gif;base64,R0lGODlhAQABAIAAAP///wAAACH5BAEAAAAALAAAAAABAAEAAAICRAEAOw==\" /></div>"
      ],
      "text/plain": [
       "<visualization: Visualization uuid: fe9bdbf5-49e1-4ce6-92c4-5445bedf0c05>"
      ]
     },
     "execution_count": 27,
     "metadata": {},
     "output_type": "execute_result"
    }
   ],
   "source": [
    "Visualization.load(f'{data_dir}/Functional/core-metrics-picrust2-GEN_bmi_cat/jaccard_emperor.qzv')"
   ]
  },
  {
   "cell_type": "code",
   "execution_count": 28,
   "id": "8653b870-96b1-43e1-848f-b6b9921c8496",
   "metadata": {},
   "outputs": [
    {
     "data": {
      "text/html": [
       "<div><img onload=\"(function(div, url){\n",
       "if (typeof require !== 'undefined') {\n",
       "    var baseURL = require.toUrl('').split('/').slice(0, -2).join('/');\n",
       "} else {\n",
       "    var baseURL = JSON.parse(\n",
       "        document.getElementById('jupyter-config-data').innerHTML\n",
       "    ).baseUrl.slice(0, -1);\n",
       "}\n",
       "url = baseURL + url;\n",
       "fetch(url).then(function(res) {\n",
       "    if (res.status === 404) {\n",
       "        div.innerHTML = 'Install QIIME 2 Jupyter extension with:<br />' +\n",
       "                        '<code>jupyter serverextension enable --py qiime2' +\n",
       "                        ' --sys-prefix</code><br />then restart your server.' +\n",
       "                        '<br /><br />(Interactive output not available on ' +\n",
       "                        'static notebook viewer services like nbviewer.)';\n",
       "    } else if (res.status === 409) {\n",
       "        div.innerHTML = 'Visualization no longer in scope. Re-run this cell' +\n",
       "                        ' to see the visualization.';\n",
       "    } else if (res.ok) {\n",
       "        url = res.url;\n",
       "        div.innerHTML = '<iframe src=\\'' + url + '\\' style=\\'' +\n",
       "                        'width: 100%; height: 700px; border: 0;\\'>' +\n",
       "                        '</iframe><hr />Open in a: <a href=\\'' + url + '\\'' +\n",
       "                        ' target=\\'_blank\\'>new window</a>'\n",
       "    } else {\n",
       "        div.innerHTML = 'Something has gone wrong. Check notebook server for' +\n",
       "                        ' errors.';\n",
       "    }\n",
       "});\n",
       "})(this.parentElement, '/qiime2/redirect?location=/tmp/qiime2-archive-b68aif4y')\" src=\"data:image/gif;base64,R0lGODlhAQABAIAAAP///wAAACH5BAEAAAAALAAAAAABAAEAAAICRAEAOw==\" /></div>"
      ],
      "text/plain": [
       "<visualization: Visualization uuid: 26d8b073-6914-40b0-8c3a-5adbe650a8ef>"
      ]
     },
     "execution_count": 28,
     "metadata": {},
     "output_type": "execute_result"
    }
   ],
   "source": [
    "Visualization.load(f'{data_dir}/Functional/core-metrics-picrust2-GEN_bmi_cat/adonis-results.qzv')"
   ]
  },
  {
   "cell_type": "markdown",
   "id": "fdce8403",
   "metadata": {},
   "source": [
    "<a id='longitudinal'></a>\n",
    "## Longitudinal resilience analysis: GEN_sex"
   ]
  },
  {
   "cell_type": "code",
   "execution_count": 31,
   "id": "cd6d0e74-b505-405d-b723-1dd7d77a9a16",
   "metadata": {},
   "outputs": [
    {
     "name": "stdout",
     "output_type": "stream",
     "text": [
      "\u001b[32mSaved FeatureTable[Frequency] to: poop_data/Functional/core-metrics-Gen_sex-with-male/rarefied_table.qza\u001b[0m\n",
      "\u001b[32mSaved SampleData[AlphaDiversity] to: poop_data/Functional/core-metrics-Gen_sex-with-male/observed_features_vector.qza\u001b[0m\n",
      "\u001b[32mSaved SampleData[AlphaDiversity] to: poop_data/Functional/core-metrics-Gen_sex-with-male/shannon_vector.qza\u001b[0m\n",
      "\u001b[32mSaved SampleData[AlphaDiversity] to: poop_data/Functional/core-metrics-Gen_sex-with-male/evenness_vector.qza\u001b[0m\n",
      "\u001b[32mSaved DistanceMatrix to: poop_data/Functional/core-metrics-Gen_sex-with-male/jaccard_distance_matrix.qza\u001b[0m\n",
      "\u001b[32mSaved DistanceMatrix to: poop_data/Functional/core-metrics-Gen_sex-with-male/bray_curtis_distance_matrix.qza\u001b[0m\n",
      "\u001b[32mSaved PCoAResults to: poop_data/Functional/core-metrics-Gen_sex-with-male/jaccard_pcoa_results.qza\u001b[0m\n",
      "\u001b[32mSaved PCoAResults to: poop_data/Functional/core-metrics-Gen_sex-with-male/bray_curtis_pcoa_results.qza\u001b[0m\n",
      "\u001b[32mSaved Visualization to: poop_data/Functional/core-metrics-Gen_sex-with-male/jaccard_emperor.qzv\u001b[0m\n",
      "\u001b[32mSaved Visualization to: poop_data/Functional/core-metrics-Gen_sex-with-male/bray_curtis_emperor.qzv\u001b[0m\n",
      "\u001b[0m"
     ]
    }
   ],
   "source": [
    "! qiime diversity core-metrics \\\n",
    "  --i-table $data_dir/Differential_abundance/table_abund_F_M_spec.qza\\\n",
    "  --m-metadata-file $data_dir/metadata.tsv \\\n",
    "  --p-sampling-depth 1800 \\\n",
    "  --p-n-jobs $n_jobs \\\n",
    "  --output-dir $data_dir/Functional/core-metrics-Gen_sex-with-male"
   ]
  },
  {
   "cell_type": "code",
   "execution_count": 9,
   "id": "5a9b0316-152d-4734-9aab-0cfaaf195c1d",
   "metadata": {},
   "outputs": [
    {
     "name": "stdout",
     "output_type": "stream",
     "text": [
      "\u001b[32mSaved FeatureTable[Frequency] to: w10_data/filtered-table-deblur-with-mothers.qza\u001b[0m\n",
      "\u001b[0mUsage: \u001b[94mqiime diversity core-metrics\u001b[0m [OPTIONS]\n",
      "\n",
      "  Applies a collection of diversity metrics (non-phylogenetic) to a feature\n",
      "  table.\n",
      "\n",
      "\u001b[1mInputs\u001b[0m:\n",
      "  \u001b[94m\u001b[4m--i-table\u001b[0m ARTIFACT \u001b[32mFeatureTable[Frequency]\u001b[0m\n",
      "                       The feature table containing the samples over which\n",
      "                       diversity metrics should be computed.        \u001b[35m[required]\u001b[0m\n",
      "\u001b[1mParameters\u001b[0m:\n",
      "  \u001b[94m\u001b[4m--p-sampling-depth\u001b[0m INTEGER\n",
      "    \u001b[32mRange(1, None)\u001b[0m     The total frequency that each sample should be\n",
      "                       rarefied to prior to computing diversity metrics.\n",
      "                                                                    \u001b[35m[required]\u001b[0m\n",
      "  \u001b[94m\u001b[4m--m-metadata-file\u001b[0m METADATA...\n",
      "    (multiple          The sample metadata to use in the emperor plots.\n",
      "     arguments will    \n",
      "     be merged)                                                     \u001b[35m[required]\u001b[0m\n",
      "  \u001b[94m--p-with-replacement\u001b[0m / \u001b[94m--p-no-with-replacement\u001b[0m\n",
      "                       Rarefy with replacement by sampling from the\n",
      "                       multinomial distribution instead of rarefying without\n",
      "                       replacement.                           \u001b[35m[default: False]\u001b[0m\n",
      "  \u001b[94m--p-n-jobs\u001b[0m VALUE \u001b[32mInt % Range(1, None) | Str % Choices('auto')\u001b[0m\n",
      "                       [beta methods only] - The number of concurrent jobs to\n",
      "                       use in performing this calculation. May not exceed the\n",
      "                       number of available physical cores. If \u001b[4mn-jobs\u001b[0m = 'auto',\n",
      "                       one job will be launched for each identified CPU core\n",
      "                       on the host.                               \u001b[35m[default: 1]\u001b[0m\n",
      "\u001b[1mOutputs\u001b[0m:\n",
      "  \u001b[94m\u001b[4m--o-rarefied-table\u001b[0m ARTIFACT \u001b[32mFeatureTable[Frequency]\u001b[0m\n",
      "                       The resulting rarefied feature table.        \u001b[35m[required]\u001b[0m\n",
      "  \u001b[94m\u001b[4m--o-observed-features-vector\u001b[0m ARTIFACT \u001b[32mSampleData[AlphaDiversity]\u001b[0m\n",
      "                       Vector of Observed Features values by sample.\n",
      "                                                                    \u001b[35m[required]\u001b[0m\n",
      "  \u001b[94m\u001b[4m--o-shannon-vector\u001b[0m ARTIFACT \u001b[32mSampleData[AlphaDiversity]\u001b[0m\n",
      "                       Vector of Shannon diversity values by sample.\n",
      "                                                                    \u001b[35m[required]\u001b[0m\n",
      "  \u001b[94m\u001b[4m--o-evenness-vector\u001b[0m ARTIFACT \u001b[32mSampleData[AlphaDiversity]\u001b[0m\n",
      "                       Vector of Pielou's evenness values by sample.\n",
      "                                                                    \u001b[35m[required]\u001b[0m\n",
      "  \u001b[94m\u001b[4m--o-jaccard-distance-matrix\u001b[0m ARTIFACT\n",
      "    \u001b[32mDistanceMatrix\u001b[0m     Matrix of Jaccard distances between pairs of samples.\n",
      "                                                                    \u001b[35m[required]\u001b[0m\n",
      "  \u001b[94m\u001b[4m--o-bray-curtis-distance-matrix\u001b[0m ARTIFACT\n",
      "    \u001b[32mDistanceMatrix\u001b[0m     Matrix of Bray-Curtis distances between pairs of\n",
      "                       samples.                                     \u001b[35m[required]\u001b[0m\n",
      "  \u001b[94m\u001b[4m--o-jaccard-pcoa-results\u001b[0m ARTIFACT\n",
      "    \u001b[32mPCoAResults\u001b[0m        PCoA matrix computed from Jaccard distances between\n",
      "                       samples.                                     \u001b[35m[required]\u001b[0m\n",
      "  \u001b[94m\u001b[4m--o-bray-curtis-pcoa-results\u001b[0m ARTIFACT\n",
      "    \u001b[32mPCoAResults\u001b[0m        PCoA matrix computed from Bray-Curtis distances\n",
      "                       between samples.                             \u001b[35m[required]\u001b[0m\n",
      "  \u001b[94m\u001b[4m--o-jaccard-emperor\u001b[0m VISUALIZATION\n",
      "                       Emperor plot of the PCoA matrix computed from Jaccard.\n",
      "                                                                    \u001b[35m[required]\u001b[0m\n",
      "  \u001b[94m\u001b[4m--o-bray-curtis-emperor\u001b[0m VISUALIZATION\n",
      "                       Emperor plot of the PCoA matrix computed from\n",
      "                       Bray-Curtis.                                 \u001b[35m[required]\u001b[0m\n",
      "\u001b[1mMiscellaneous\u001b[0m:\n",
      "  \u001b[94m--output-dir\u001b[0m PATH    Output unspecified results to a directory\n",
      "  \u001b[94m--verbose\u001b[0m / \u001b[94m--quiet\u001b[0m  Display verbose output to stdout and/or stderr during\n",
      "                       execution of this action. Or silence output if\n",
      "                       execution is successful (silence is golden).\n",
      "  \u001b[94m--example-data\u001b[0m PATH  Write example data and exit.\n",
      "  \u001b[94m--citations\u001b[0m          Show citations and exit.\n",
      "  \u001b[94m--help\u001b[0m               Show this message and exit.\n",
      "\n",
      "\u001b[33m                  There were some problems with the command:                  \u001b[0m\n",
      "\u001b[31m\u001b[1m (1/11) Invalid value for '--output-dir': 'w10_data/core-metrics-with-mothers'\n",
      "  already exists, will not overwrite.\u001b[0m\n",
      "\u001b[31m\u001b[1m (2/11) Missing option '--o-rarefied-table'.  (\"--output-dir\" may also be\n",
      "  used)\u001b[0m\n",
      "\u001b[31m\u001b[1m (3/11) Missing option '--o-observed-features-vector'.  (\"--output-dir\" may\n",
      "  also be used)\u001b[0m\n",
      "\u001b[31m\u001b[1m (4/11) Missing option '--o-shannon-vector'.  (\"--output-dir\" may also be\n",
      "  used)\u001b[0m\n",
      "\u001b[31m\u001b[1m (5/11) Missing option '--o-evenness-vector'.  (\"--output-dir\" may also be\n",
      "  used)\u001b[0m\n",
      "\u001b[31m\u001b[1m (6/11) Missing option '--o-jaccard-distance-matrix'.  (\"--output-dir\" may\n",
      "  also be used)\u001b[0m\n",
      "\u001b[31m\u001b[1m (7/11) Missing option '--o-bray-curtis-distance-matrix'.  (\"--output-dir\" may\n",
      "  also be used)\u001b[0m\n",
      "\u001b[31m\u001b[1m (8/11) Missing option '--o-jaccard-pcoa-results'.  (\"--output-dir\" may also\n",
      "  be used)\u001b[0m\n",
      "\u001b[31m\u001b[1m (9/11) Missing option '--o-bray-curtis-pcoa-results'.  (\"--output-dir\" may\n",
      "  also be used)\u001b[0m\n",
      "\u001b[31m\u001b[1m (10/11) Missing option '--o-jaccard-emperor'.  (\"--output-dir\" may also be\n",
      "  used)\u001b[0m\n",
      "\u001b[31m\u001b[1m (11/11) Missing option '--o-bray-curtis-emperor'.  (\"--output-dir\" may also\n",
      "  be used)\u001b[0m\n",
      "\u001b[0m\u001b[32mSaved Visualization to: w10_data/core-metrics-with-mothers/volatility.qzv\u001b[0m\n",
      "\u001b[0m"
     ]
    },
    {
     "data": {
      "text/html": [
       "<div><img onload=\"(function(div, url){\n",
       "if (typeof require !== 'undefined') {\n",
       "    var baseURL = require.toUrl('').split('/').slice(0, -2).join('/');\n",
       "} else {\n",
       "    var baseURL = JSON.parse(\n",
       "        document.getElementById('jupyter-config-data').innerHTML\n",
       "    ).baseUrl.slice(0, -1);\n",
       "}\n",
       "url = baseURL + url;\n",
       "fetch(url).then(function(res) {\n",
       "    if (res.status === 404) {\n",
       "        div.innerHTML = 'Install QIIME 2 Jupyter extension with:<br />' +\n",
       "                        '<code>jupyter serverextension enable --py qiime2' +\n",
       "                        ' --sys-prefix</code><br />then restart your server.' +\n",
       "                        '<br /><br />(Interactive output not available on ' +\n",
       "                        'static notebook viewer services like nbviewer.)';\n",
       "    } else if (res.status === 409) {\n",
       "        div.innerHTML = 'Visualization no longer in scope. Re-run this cell' +\n",
       "                        ' to see the visualization.';\n",
       "    } else if (res.ok) {\n",
       "        url = res.url;\n",
       "        div.innerHTML = '<iframe src=\\'' + url + '\\' style=\\'' +\n",
       "                        'width: 100%; height: 700px; border: 0;\\'>' +\n",
       "                        '</iframe><hr />Open in a: <a href=\\'' + url + '\\'' +\n",
       "                        ' target=\\'_blank\\'>new window</a>'\n",
       "    } else {\n",
       "        div.innerHTML = 'Something has gone wrong. Check notebook server for' +\n",
       "                        ' errors.';\n",
       "    }\n",
       "});\n",
       "})(this.parentElement, '/qiime2/redirect?location=/tmp/qiime2-archive-rfomtuyh')\" src=\"data:image/gif;base64,R0lGODlhAQABAIAAAP///wAAACH5BAEAAAAALAAAAAABAAEAAAICRAEAOw==\" /></div>"
      ],
      "text/plain": [
       "<visualization: Visualization uuid: 3ae8a4eb-d59a-4935-88d3-0d90bf8c00bf>"
      ]
     },
     "execution_count": 9,
     "metadata": {},
     "output_type": "execute_result"
    }
   ],
   "source": [
    "# this creates an interactive line plot — useful for looking at changes in alpha and beta diversity across time\n",
    "! qiime longitudinal volatility \\\n",
    "  --m-metadata-file $data_dir/metadata.tsv \\\n",
    "  --m-metadata-file $data_dir/Functional/core-metrics-Gen_sex-with-male/observed_features_vector.qza \\\n",
    "  --m-metadata-file $data_dir/Functional/core-metrics-Gen_sex-with-male/shannon_vector.qza \\\n",
    "  --m-metadata-file $data_dir/Functional/core-metrics-Gen_sex-with-male/jaccard_pcoa_results.qza \\\n",
    "  --p-default-group-column 'diet'\\\n",
    "  --p-default-metric 'observed_features' \\\n",
    "  --p-state-column 'month' \\\n",
    "  --p-individual-id-column 'host_subject_id' \\\n",
    "  --o-visualization $data_dir/core-metrics-with-mothers/volatility.qzv"
   ]
  },
  {
   "cell_type": "markdown",
   "id": "d871b895",
   "metadata": {},
   "source": [
    "<a id='lme'></a>\n",
    "## 4.1 applying a statistical test to longitudinal data\n",
    "\n",
    "We will probably not get to this in class, but this section will show you how to apply a statistical test to quantitatively answer some of the questions posed above regarding longitudinal variation and resilience. You only need to run the code below and examine the results; there are no questions for you to answer.\n",
    "\n",
    "From our analysis above, it looks like there is an initial \"disruption\" in the composition of the microbiota following birth (i.e., the microbiota of infants are very dissimilar to their mothers during an initial chaotic period), and an eventual \"return\" to normalcy (i.e., the microbiota form a stable community that better resembles an adult gut). However, the rate of return differs between some groups, which we can view here as an indication that some groups are more \"resilient\" than others (or more properly they develop an adult-like microbiome and stabilize more quickly). \n",
    "\n",
    "Here we will use a [linear mixed effects model](https://en.wikipedia.org/wiki/Mixed_model) as a statistical test to examine individual infants' trajectories of development as a comparison of resilience. We will examine developmental trajectories in infants only, not in their mothers, so will use our initial `core-metrics` results. We specify a formula consisting of a dependent variable (here `observed_features`, i.e., ASV richness) and several independent variables and their interactions (`month*diet*delivery`) to test their association with variation in the dependent variable. We also specify random effects to incorporate in the model to account for individual variation in baseline and slope: a random intercept for each individual is included by default, and we specify `month` to include a random slope for each individual. \n",
    "\n",
    "You can read more about the QIIME 2 implementation of this test, and its interpretation, [here](https://docs.qiime2.org/2022.8/tutorials/longitudinal/#linear-mixed-effect-models).\n",
    "\n",
    "Run the code below. The results should indicate that delivery mode has a significant impact on Shannon diversity (see the `delivery[T.Vaginal]` row in the model results section), and that there is a signficant interaction between delivery mode and age on Shannon diversity (see the `month:delivery[T.Vaginal]` row in the model results).\n"
   ]
  },
  {
   "cell_type": "code",
   "execution_count": 38,
   "id": "bbe0b6f1",
   "metadata": {},
   "outputs": [
    {
     "name": "stdout",
     "output_type": "stream",
     "text": [
      "\u001b[32mSaved Visualization to: w10_data/core-metrics-results/lme-shannon.qzv\u001b[0m\n",
      "\u001b[0m"
     ]
    },
    {
     "data": {
      "text/html": [
       "<div><img onload=\"(function(div, url){\n",
       "if (typeof require !== 'undefined') {\n",
       "    var baseURL = require.toUrl('').split('/').slice(0, -2).join('/');\n",
       "} else {\n",
       "    var baseURL = JSON.parse(\n",
       "        document.getElementById('jupyter-config-data').innerHTML\n",
       "    ).baseUrl.slice(0, -1);\n",
       "}\n",
       "url = baseURL + url;\n",
       "fetch(url).then(function(res) {\n",
       "    if (res.status === 404) {\n",
       "        div.innerHTML = 'Install QIIME 2 Jupyter extension with:<br />' +\n",
       "                        '<code>jupyter serverextension enable --py qiime2' +\n",
       "                        ' --sys-prefix</code><br />then restart your server.' +\n",
       "                        '<br /><br />(Interactive output not available on ' +\n",
       "                        'static notebook viewer services like nbviewer.)';\n",
       "    } else if (res.status === 409) {\n",
       "        div.innerHTML = 'Visualization no longer in scope. Re-run this cell' +\n",
       "                        ' to see the visualization.';\n",
       "    } else if (res.ok) {\n",
       "        url = res.url;\n",
       "        div.innerHTML = '<iframe src=\\'' + url + '\\' style=\\'' +\n",
       "                        'width: 100%; height: 700px; border: 0;\\'>' +\n",
       "                        '</iframe><hr />Open in a: <a href=\\'' + url + '\\'' +\n",
       "                        ' target=\\'_blank\\'>new window</a>'\n",
       "    } else {\n",
       "        div.innerHTML = 'Something has gone wrong. Check notebook server for' +\n",
       "                        ' errors.';\n",
       "    }\n",
       "});\n",
       "})(this.parentElement, '/qiime2/redirect?location=/tmp/qiime2-archive-tysfi15h')\" src=\"data:image/gif;base64,R0lGODlhAQABAIAAAP///wAAACH5BAEAAAAALAAAAAABAAEAAAICRAEAOw==\" /></div>"
      ],
      "text/plain": [
       "<visualization: Visualization uuid: 3b11a342-5faf-438c-b387-7c272eed4414>"
      ]
     },
     "execution_count": 38,
     "metadata": {},
     "output_type": "execute_result"
    }
   ],
   "source": [
    "! qiime longitudinal linear-mixed-effects \\\n",
    "  --m-metadata-file $data_dir/metadata.tsv \\\n",
    "  --m-metadata-file $data_dir/Diversity/core-metrics-results/shannon_vector.qza \\\n",
    "  --p-random-effects 'month'\\\n",
    "  --p-formula 'shannon_entropy~month*diet*delivery' \\\n",
    "  --p-state-column 'month' \\\n",
    "  --p-individual-id-column 'host_subject_id' \\\n",
    "  --o-visualization $data_dir/core-metrics-results/lme-shannon.qzv\n",
    "\n"
   ]
  },
  {
   "cell_type": "code",
   "execution_count": 18,
   "id": "4100ce43-7a13-4d24-ae3c-16d4dc66e3f2",
   "metadata": {},
   "outputs": [
    {
     "data": {
      "text/html": [
       "<div><img onload=\"(function(div, url){\n",
       "if (typeof require !== 'undefined') {\n",
       "    var baseURL = require.toUrl('').split('/').slice(0, -2).join('/');\n",
       "} else {\n",
       "    var baseURL = JSON.parse(\n",
       "        document.getElementById('jupyter-config-data').innerHTML\n",
       "    ).baseUrl.slice(0, -1);\n",
       "}\n",
       "url = baseURL + url;\n",
       "fetch(url).then(function(res) {\n",
       "    if (res.status === 404) {\n",
       "        div.innerHTML = 'Install QIIME 2 Jupyter extension with:<br />' +\n",
       "                        '<code>jupyter serverextension enable --py qiime2' +\n",
       "                        ' --sys-prefix</code><br />then restart your server.' +\n",
       "                        '<br /><br />(Interactive output not available on ' +\n",
       "                        'static notebook viewer services like nbviewer.)';\n",
       "    } else if (res.status === 409) {\n",
       "        div.innerHTML = 'Visualization no longer in scope. Re-run this cell' +\n",
       "                        ' to see the visualization.';\n",
       "    } else if (res.ok) {\n",
       "        url = res.url;\n",
       "        div.innerHTML = '<iframe src=\\'' + url + '\\' style=\\'' +\n",
       "                        'width: 100%; height: 700px; border: 0;\\'>' +\n",
       "                        '</iframe><hr />Open in a: <a href=\\'' + url + '\\'' +\n",
       "                        ' target=\\'_blank\\'>new window</a>'\n",
       "    } else {\n",
       "        div.innerHTML = 'Something has gone wrong. Check notebook server for' +\n",
       "                        ' errors.';\n",
       "    }\n",
       "});\n",
       "})(this.parentElement, '/qiime2/redirect?location=/tmp/qiime2-archive-c_rdikb0')\" src=\"data:image/gif;base64,R0lGODlhAQABAIAAAP///wAAACH5BAEAAAAALAAAAAABAAEAAAICRAEAOw==\" /></div>"
      ],
      "text/plain": [
       "<visualization: Visualization uuid: 3b11a342-5faf-438c-b387-7c272eed4414>"
      ]
     },
     "execution_count": 18,
     "metadata": {},
     "output_type": "execute_result"
    }
   ],
   "source": [
    "Visualization.load(f'{data_dir}/core-metrics-results/lme-shannon.qzv')"
   ]
  },
  {
   "cell_type": "code",
   "execution_count": null,
   "id": "b906d141-f1ac-4e0c-aa66-849e45391245",
   "metadata": {},
   "outputs": [],
   "source": []
  }
 ],
 "metadata": {
  "kernelspec": {
   "display_name": "Python 3 (ipykernel)",
   "language": "python",
   "name": "python3"
  },
  "language_info": {
   "codemirror_mode": {
    "name": "ipython",
    "version": 3
   },
   "file_extension": ".py",
   "mimetype": "text/x-python",
   "name": "python",
   "nbconvert_exporter": "python",
   "pygments_lexer": "ipython3",
   "version": "3.8.13"
  }
 },
 "nbformat": 4,
 "nbformat_minor": 5
}
