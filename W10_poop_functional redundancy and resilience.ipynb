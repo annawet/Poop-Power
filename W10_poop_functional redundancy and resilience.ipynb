{
 "cells": [
  {
   "cell_type": "code",
   "execution_count": 1,
   "id": "f9365fb9",
   "metadata": {},
   "outputs": [],
   "source": [
    "import os\n",
    "import qiime2 as q2\n",
    "import pandas as pd\n",
    "from qiime2 import Visualization\n",
    "\n",
    "data_dir = 'poop_data'\n",
    "if not os.path.isdir(data_dir):\n",
    "    os.makedirs(data_dir)\n",
    "    \n",
    "# do not increase this value!\n",
    "n_jobs = 3\n",
    "    \n",
    "%matplotlib inline"
   ]
  },
  {
   "cell_type": "markdown",
   "id": "c86eb265",
   "metadata": {},
   "source": [
    "<a id='function'></a>\n",
    "## Functional redundancy: GEN_sex_female"
   ]
  },
  {
   "cell_type": "code",
   "execution_count": 15,
   "id": "eb2aac38-d1d4-40cc-8166-66dcd11c57f1",
   "metadata": {},
   "outputs": [
    {
     "name": "stdout",
     "output_type": "stream",
     "text": [
      "\u001b[32mSaved FeatureTable[Frequency] to: poop_data/Functional/pathway_abundance_GEN_sex_female.qza\u001b[0m\n",
      "\u001b[0m"
     ]
    }
   ],
   "source": [
    "! qiime feature-table filter-samples \\\n",
    "    --i-table $data_dir/Differential_abundance/table_abund_species.qza \\\n",
    "    --m-metadata-file $data_dir/metadata.tsv \\\n",
    "    --p-where \"[GEN_sex]='female'\" \\\n",
    "    --o-filtered-table $data_dir/Functional/pathway_abundance_GEN_sex_female.qza"
   ]
  },
  {
   "cell_type": "code",
   "execution_count": 16,
   "id": "a4bd8034-2c1f-4f94-9cae-d5feee531781",
   "metadata": {},
   "outputs": [
    {
     "name": "stdout",
     "output_type": "stream",
     "text": [
      "\u001b[32mSaved FeatureTable[Frequency] to: poop_data/Functional/core-metrics-picrust2-GEN_sex_female/rarefied_table.qza\u001b[0m\n",
      "\u001b[32mSaved SampleData[AlphaDiversity] to: poop_data/Functional/core-metrics-picrust2-GEN_sex_female/observed_features_vector.qza\u001b[0m\n",
      "\u001b[32mSaved SampleData[AlphaDiversity] to: poop_data/Functional/core-metrics-picrust2-GEN_sex_female/shannon_vector.qza\u001b[0m\n",
      "\u001b[32mSaved SampleData[AlphaDiversity] to: poop_data/Functional/core-metrics-picrust2-GEN_sex_female/evenness_vector.qza\u001b[0m\n",
      "\u001b[32mSaved DistanceMatrix to: poop_data/Functional/core-metrics-picrust2-GEN_sex_female/jaccard_distance_matrix.qza\u001b[0m\n",
      "\u001b[32mSaved DistanceMatrix to: poop_data/Functional/core-metrics-picrust2-GEN_sex_female/bray_curtis_distance_matrix.qza\u001b[0m\n",
      "\u001b[32mSaved PCoAResults to: poop_data/Functional/core-metrics-picrust2-GEN_sex_female/jaccard_pcoa_results.qza\u001b[0m\n",
      "\u001b[32mSaved PCoAResults to: poop_data/Functional/core-metrics-picrust2-GEN_sex_female/bray_curtis_pcoa_results.qza\u001b[0m\n",
      "\u001b[32mSaved Visualization to: poop_data/Functional/core-metrics-picrust2-GEN_sex_female/jaccard_emperor.qzv\u001b[0m\n",
      "\u001b[32mSaved Visualization to: poop_data/Functional/core-metrics-picrust2-GEN_sex_female/bray_curtis_emperor.qzv\u001b[0m\n",
      "\u001b[0m"
     ]
    }
   ],
   "source": [
    "! qiime diversity core-metrics \\\n",
    "  --i-table $data_dir/Functional/pathway_abundance_GEN_sex_female.qza \\\n",
    "  --m-metadata-file $data_dir/metadata.tsv \\\n",
    "  --p-sampling-depth 1000 \\\n",
    "  --p-n-jobs $n_jobs \\\n",
    "  --output-dir $data_dir/Functional/core-metrics-picrust2-GEN_sex_female"
   ]
  },
  {
   "cell_type": "code",
   "execution_count": 17,
   "id": "e23b5ed3-189c-4564-9114-e6bacee518a8",
   "metadata": {},
   "outputs": [
    {
     "name": "stdout",
     "output_type": "stream",
     "text": [
      "\u001b[32mSaved Visualization to: poop_data/Functional/core-metrics-picrust2-GEN_sex_female/adonis-results.qzv\u001b[0m\n",
      "\u001b[0m"
     ]
    }
   ],
   "source": [
    "! qiime diversity adonis \\\n",
    "  --i-distance-matrix $data_dir/Functional/core-metrics-picrust2-GEN_sex_female/jaccard_distance_matrix.qza \\\n",
    "  --m-metadata-file $data_dir/metadata.tsv \\\n",
    "  --p-formula 'HEA_ibd*HEA_cdiff*HEA_sibo*HEA_acid_reflux*HEA_thyroid' \\\n",
    "  --o-visualization $data_dir/Functional/core-metrics-picrust2-GEN_sex_female/adonis-results.qzv"
   ]
  },
  {
   "cell_type": "code",
   "execution_count": 2,
   "id": "1ec9b14c",
   "metadata": {},
   "outputs": [
    {
     "data": {
      "text/html": [
       "<div><img onload=\"(function(div, url){\n",
       "if (typeof require !== 'undefined') {\n",
       "    var baseURL = require.toUrl('').split('/').slice(0, -2).join('/');\n",
       "} else {\n",
       "    var baseURL = JSON.parse(\n",
       "        document.getElementById('jupyter-config-data').innerHTML\n",
       "    ).baseUrl.slice(0, -1);\n",
       "}\n",
       "url = baseURL + url;\n",
       "fetch(url).then(function(res) {\n",
       "    if (res.status === 404) {\n",
       "        div.innerHTML = 'Install QIIME 2 Jupyter extension with:<br />' +\n",
       "                        '<code>jupyter serverextension enable --py qiime2' +\n",
       "                        ' --sys-prefix</code><br />then restart your server.' +\n",
       "                        '<br /><br />(Interactive output not available on ' +\n",
       "                        'static notebook viewer services like nbviewer.)';\n",
       "    } else if (res.status === 409) {\n",
       "        div.innerHTML = 'Visualization no longer in scope. Re-run this cell' +\n",
       "                        ' to see the visualization.';\n",
       "    } else if (res.ok) {\n",
       "        url = res.url;\n",
       "        div.innerHTML = '<iframe src=\\'' + url + '\\' style=\\'' +\n",
       "                        'width: 100%; height: 700px; border: 0;\\'>' +\n",
       "                        '</iframe><hr />Open in a: <a href=\\'' + url + '\\'' +\n",
       "                        ' target=\\'_blank\\'>new window</a>'\n",
       "    } else {\n",
       "        div.innerHTML = 'Something has gone wrong. Check notebook server for' +\n",
       "                        ' errors.';\n",
       "    }\n",
       "});\n",
       "})(this.parentElement, '/qiime2/redirect?location=/tmp/qiime2-archive-48c95d_q')\" src=\"data:image/gif;base64,R0lGODlhAQABAIAAAP///wAAACH5BAEAAAAALAAAAAABAAEAAAICRAEAOw==\" /></div>"
      ],
      "text/plain": [
       "<visualization: Visualization uuid: 5a7efdc5-a528-43d0-80a9-2a0f9288819e>"
      ]
     },
     "execution_count": 2,
     "metadata": {},
     "output_type": "execute_result"
    }
   ],
   "source": [
    "Visualization.load(f'{data_dir}/Functional/core-metrics-picrust2-GEN_sex_female/jaccard_emperor.qzv')"
   ]
  },
  {
   "cell_type": "code",
   "execution_count": 3,
   "id": "814fd73c",
   "metadata": {},
   "outputs": [
    {
     "data": {
      "text/html": [
       "<div><img onload=\"(function(div, url){\n",
       "if (typeof require !== 'undefined') {\n",
       "    var baseURL = require.toUrl('').split('/').slice(0, -2).join('/');\n",
       "} else {\n",
       "    var baseURL = JSON.parse(\n",
       "        document.getElementById('jupyter-config-data').innerHTML\n",
       "    ).baseUrl.slice(0, -1);\n",
       "}\n",
       "url = baseURL + url;\n",
       "fetch(url).then(function(res) {\n",
       "    if (res.status === 404) {\n",
       "        div.innerHTML = 'Install QIIME 2 Jupyter extension with:<br />' +\n",
       "                        '<code>jupyter serverextension enable --py qiime2' +\n",
       "                        ' --sys-prefix</code><br />then restart your server.' +\n",
       "                        '<br /><br />(Interactive output not available on ' +\n",
       "                        'static notebook viewer services like nbviewer.)';\n",
       "    } else if (res.status === 409) {\n",
       "        div.innerHTML = 'Visualization no longer in scope. Re-run this cell' +\n",
       "                        ' to see the visualization.';\n",
       "    } else if (res.ok) {\n",
       "        url = res.url;\n",
       "        div.innerHTML = '<iframe src=\\'' + url + '\\' style=\\'' +\n",
       "                        'width: 100%; height: 700px; border: 0;\\'>' +\n",
       "                        '</iframe><hr />Open in a: <a href=\\'' + url + '\\'' +\n",
       "                        ' target=\\'_blank\\'>new window</a>'\n",
       "    } else {\n",
       "        div.innerHTML = 'Something has gone wrong. Check notebook server for' +\n",
       "                        ' errors.';\n",
       "    }\n",
       "});\n",
       "})(this.parentElement, '/qiime2/redirect?location=/tmp/qiime2-archive-ls9os9gw')\" src=\"data:image/gif;base64,R0lGODlhAQABAIAAAP///wAAACH5BAEAAAAALAAAAAABAAEAAAICRAEAOw==\" /></div>"
      ],
      "text/plain": [
       "<visualization: Visualization uuid: 61f0acad-30cf-4e06-a0dc-1b363a91dfd3>"
      ]
     },
     "execution_count": 3,
     "metadata": {},
     "output_type": "execute_result"
    }
   ],
   "source": [
    "Visualization.load(f'{data_dir}/Functional/core-metrics-picrust2-GEN_sex_female/adonis-results.qzv')"
   ]
  },
  {
   "cell_type": "code",
   "execution_count": 6,
   "id": "3b19f7b3-e9cc-434b-af34-75d0303d2a33",
   "metadata": {},
   "outputs": [
    {
     "name": "stdout",
     "output_type": "stream",
     "text": [
      "\u001b[32mSaved Visualization to: poop_data/Functional/core-metrics-picrust2-GEN_sex_female/adonis-results_1.qzv\u001b[0m\n",
      "\u001b[0m"
     ]
    }
   ],
   "source": [
    "! qiime diversity adonis \\\n",
    "  --i-distance-matrix $data_dir/Functional/core-metrics-picrust2-GEN_sex_female/jaccard_distance_matrix.qza \\\n",
    "  --m-metadata-file $data_dir/metadata.tsv \\\n",
    "  --p-formula '(HEA_ibd+HEA_cdiff+HEA_sibo+HEA_acid_reflux+HEA_thyroid)*HEA_antibiotic_history' \\\n",
    "  --o-visualization $data_dir/Functional/core-metrics-picrust2-GEN_sex_female/adonis-results_1.qzv"
   ]
  },
  {
   "cell_type": "code",
   "execution_count": 7,
   "id": "cd2cfa55-574a-4b26-a2d1-0e29d1422a57",
   "metadata": {},
   "outputs": [
    {
     "data": {
      "text/html": [
       "<div><img onload=\"(function(div, url){\n",
       "if (typeof require !== 'undefined') {\n",
       "    var baseURL = require.toUrl('').split('/').slice(0, -2).join('/');\n",
       "} else {\n",
       "    var baseURL = JSON.parse(\n",
       "        document.getElementById('jupyter-config-data').innerHTML\n",
       "    ).baseUrl.slice(0, -1);\n",
       "}\n",
       "url = baseURL + url;\n",
       "fetch(url).then(function(res) {\n",
       "    if (res.status === 404) {\n",
       "        div.innerHTML = 'Install QIIME 2 Jupyter extension with:<br />' +\n",
       "                        '<code>jupyter serverextension enable --py qiime2' +\n",
       "                        ' --sys-prefix</code><br />then restart your server.' +\n",
       "                        '<br /><br />(Interactive output not available on ' +\n",
       "                        'static notebook viewer services like nbviewer.)';\n",
       "    } else if (res.status === 409) {\n",
       "        div.innerHTML = 'Visualization no longer in scope. Re-run this cell' +\n",
       "                        ' to see the visualization.';\n",
       "    } else if (res.ok) {\n",
       "        url = res.url;\n",
       "        div.innerHTML = '<iframe src=\\'' + url + '\\' style=\\'' +\n",
       "                        'width: 100%; height: 700px; border: 0;\\'>' +\n",
       "                        '</iframe><hr />Open in a: <a href=\\'' + url + '\\'' +\n",
       "                        ' target=\\'_blank\\'>new window</a>'\n",
       "    } else {\n",
       "        div.innerHTML = 'Something has gone wrong. Check notebook server for' +\n",
       "                        ' errors.';\n",
       "    }\n",
       "});\n",
       "})(this.parentElement, '/qiime2/redirect?location=/tmp/qiime2-archive-fod33y8b')\" src=\"data:image/gif;base64,R0lGODlhAQABAIAAAP///wAAACH5BAEAAAAALAAAAAABAAEAAAICRAEAOw==\" /></div>"
      ],
      "text/plain": [
       "<visualization: Visualization uuid: ec15e23a-fbf0-4aa8-a1a6-124a4fcdbec4>"
      ]
     },
     "execution_count": 7,
     "metadata": {},
     "output_type": "execute_result"
    }
   ],
   "source": [
    "Visualization.load(f'{data_dir}/Functional/core-metrics-picrust2-GEN_sex_female/adonis-results_1.qzv')"
   ]
  },
  {
   "cell_type": "markdown",
   "id": "2d4188f9-be1f-4ef3-b08d-27990dd91d9f",
   "metadata": {},
   "source": [
    "<a id='function'></a>\n",
    "## Functional redundancy: GEN_sex_male"
   ]
  },
  {
   "cell_type": "code",
   "execution_count": 21,
   "id": "d6b20745-1edb-4b41-8b84-d5fa33a6463f",
   "metadata": {},
   "outputs": [
    {
     "name": "stdout",
     "output_type": "stream",
     "text": [
      "\u001b[32mSaved FeatureTable[Frequency] to: poop_data/Functional/pathway_abundance_GEN_sex_male.qza\u001b[0m\n",
      "\u001b[0m"
     ]
    }
   ],
   "source": [
    "! qiime feature-table filter-samples \\\n",
    "    --i-table $data_dir/Differential_abundance/table_abund_species.qza \\\n",
    "    --m-metadata-file $data_dir/metadata.tsv \\\n",
    "    --p-where \"[GEN_sex]='male'\" \\\n",
    "    --o-filtered-table $data_dir/Functional/pathway_abundance_GEN_sex_male.qza"
   ]
  },
  {
   "cell_type": "code",
   "execution_count": 22,
   "id": "ba7a49c6-5a0f-4cf9-947a-4cad2dba1514",
   "metadata": {},
   "outputs": [
    {
     "name": "stdout",
     "output_type": "stream",
     "text": [
      "\u001b[32mSaved FeatureTable[Frequency] to: poop_data/Functional/core-metrics-picrust2-GEN_sex_male/rarefied_table.qza\u001b[0m\n",
      "\u001b[32mSaved SampleData[AlphaDiversity] to: poop_data/Functional/core-metrics-picrust2-GEN_sex_male/observed_features_vector.qza\u001b[0m\n",
      "\u001b[32mSaved SampleData[AlphaDiversity] to: poop_data/Functional/core-metrics-picrust2-GEN_sex_male/shannon_vector.qza\u001b[0m\n",
      "\u001b[32mSaved SampleData[AlphaDiversity] to: poop_data/Functional/core-metrics-picrust2-GEN_sex_male/evenness_vector.qza\u001b[0m\n",
      "\u001b[32mSaved DistanceMatrix to: poop_data/Functional/core-metrics-picrust2-GEN_sex_male/jaccard_distance_matrix.qza\u001b[0m\n",
      "\u001b[32mSaved DistanceMatrix to: poop_data/Functional/core-metrics-picrust2-GEN_sex_male/bray_curtis_distance_matrix.qza\u001b[0m\n",
      "\u001b[32mSaved PCoAResults to: poop_data/Functional/core-metrics-picrust2-GEN_sex_male/jaccard_pcoa_results.qza\u001b[0m\n",
      "\u001b[32mSaved PCoAResults to: poop_data/Functional/core-metrics-picrust2-GEN_sex_male/bray_curtis_pcoa_results.qza\u001b[0m\n",
      "\u001b[32mSaved Visualization to: poop_data/Functional/core-metrics-picrust2-GEN_sex_male/jaccard_emperor.qzv\u001b[0m\n",
      "\u001b[32mSaved Visualization to: poop_data/Functional/core-metrics-picrust2-GEN_sex_male/bray_curtis_emperor.qzv\u001b[0m\n",
      "\u001b[0m"
     ]
    }
   ],
   "source": [
    "! qiime diversity core-metrics \\\n",
    "  --i-table $data_dir/Functional/pathway_abundance_GEN_sex_male.qza \\\n",
    "  --m-metadata-file $data_dir/metadata.tsv \\\n",
    "  --p-sampling-depth 1000 \\\n",
    "  --p-n-jobs $n_jobs \\\n",
    "  --output-dir $data_dir/Functional/core-metrics-picrust2-GEN_sex_male"
   ]
  },
  {
   "cell_type": "code",
   "execution_count": 23,
   "id": "5c0916ff-b4ce-49c5-a08a-a94b33d62262",
   "metadata": {},
   "outputs": [
    {
     "name": "stdout",
     "output_type": "stream",
     "text": [
      "\u001b[32mSaved Visualization to: poop_data/Functional/core-metrics-picrust2-GEN_sex_male/adonis-results.qzv\u001b[0m\n",
      "\u001b[0m"
     ]
    }
   ],
   "source": [
    "! qiime diversity adonis \\\n",
    "  --i-distance-matrix $data_dir/Functional/core-metrics-picrust2-GEN_sex_male/jaccard_distance_matrix.qza \\\n",
    "  --m-metadata-file $data_dir/metadata.tsv \\\n",
    "  --p-formula 'HEA_ibd*HEA_cdiff*HEA_sibo*HEA_acid_reflux*HEA_thyroid' \\\n",
    "  --o-visualization $data_dir/Functional/core-metrics-picrust2-GEN_sex_male/adonis-results.qzv"
   ]
  },
  {
   "cell_type": "code",
   "execution_count": 4,
   "id": "4d134427-e318-423c-8f76-3f3279ee9020",
   "metadata": {},
   "outputs": [
    {
     "data": {
      "text/html": [
       "<div><img onload=\"(function(div, url){\n",
       "if (typeof require !== 'undefined') {\n",
       "    var baseURL = require.toUrl('').split('/').slice(0, -2).join('/');\n",
       "} else {\n",
       "    var baseURL = JSON.parse(\n",
       "        document.getElementById('jupyter-config-data').innerHTML\n",
       "    ).baseUrl.slice(0, -1);\n",
       "}\n",
       "url = baseURL + url;\n",
       "fetch(url).then(function(res) {\n",
       "    if (res.status === 404) {\n",
       "        div.innerHTML = 'Install QIIME 2 Jupyter extension with:<br />' +\n",
       "                        '<code>jupyter serverextension enable --py qiime2' +\n",
       "                        ' --sys-prefix</code><br />then restart your server.' +\n",
       "                        '<br /><br />(Interactive output not available on ' +\n",
       "                        'static notebook viewer services like nbviewer.)';\n",
       "    } else if (res.status === 409) {\n",
       "        div.innerHTML = 'Visualization no longer in scope. Re-run this cell' +\n",
       "                        ' to see the visualization.';\n",
       "    } else if (res.ok) {\n",
       "        url = res.url;\n",
       "        div.innerHTML = '<iframe src=\\'' + url + '\\' style=\\'' +\n",
       "                        'width: 100%; height: 700px; border: 0;\\'>' +\n",
       "                        '</iframe><hr />Open in a: <a href=\\'' + url + '\\'' +\n",
       "                        ' target=\\'_blank\\'>new window</a>'\n",
       "    } else {\n",
       "        div.innerHTML = 'Something has gone wrong. Check notebook server for' +\n",
       "                        ' errors.';\n",
       "    }\n",
       "});\n",
       "})(this.parentElement, '/qiime2/redirect?location=/tmp/qiime2-archive-uta3nq5m')\" src=\"data:image/gif;base64,R0lGODlhAQABAIAAAP///wAAACH5BAEAAAAALAAAAAABAAEAAAICRAEAOw==\" /></div>"
      ],
      "text/plain": [
       "<visualization: Visualization uuid: 3332bcb3-85a8-45d1-b526-a8465e88f7bb>"
      ]
     },
     "execution_count": 4,
     "metadata": {},
     "output_type": "execute_result"
    }
   ],
   "source": [
    "Visualization.load(f'{data_dir}/Functional/core-metrics-picrust2-GEN_sex_male/jaccard_emperor.qzv')"
   ]
  },
  {
   "cell_type": "code",
   "execution_count": 5,
   "id": "add01f6d-5277-4940-adcb-980397e1377a",
   "metadata": {},
   "outputs": [
    {
     "data": {
      "text/html": [
       "<div><img onload=\"(function(div, url){\n",
       "if (typeof require !== 'undefined') {\n",
       "    var baseURL = require.toUrl('').split('/').slice(0, -2).join('/');\n",
       "} else {\n",
       "    var baseURL = JSON.parse(\n",
       "        document.getElementById('jupyter-config-data').innerHTML\n",
       "    ).baseUrl.slice(0, -1);\n",
       "}\n",
       "url = baseURL + url;\n",
       "fetch(url).then(function(res) {\n",
       "    if (res.status === 404) {\n",
       "        div.innerHTML = 'Install QIIME 2 Jupyter extension with:<br />' +\n",
       "                        '<code>jupyter serverextension enable --py qiime2' +\n",
       "                        ' --sys-prefix</code><br />then restart your server.' +\n",
       "                        '<br /><br />(Interactive output not available on ' +\n",
       "                        'static notebook viewer services like nbviewer.)';\n",
       "    } else if (res.status === 409) {\n",
       "        div.innerHTML = 'Visualization no longer in scope. Re-run this cell' +\n",
       "                        ' to see the visualization.';\n",
       "    } else if (res.ok) {\n",
       "        url = res.url;\n",
       "        div.innerHTML = '<iframe src=\\'' + url + '\\' style=\\'' +\n",
       "                        'width: 100%; height: 700px; border: 0;\\'>' +\n",
       "                        '</iframe><hr />Open in a: <a href=\\'' + url + '\\'' +\n",
       "                        ' target=\\'_blank\\'>new window</a>'\n",
       "    } else {\n",
       "        div.innerHTML = 'Something has gone wrong. Check notebook server for' +\n",
       "                        ' errors.';\n",
       "    }\n",
       "});\n",
       "})(this.parentElement, '/qiime2/redirect?location=/tmp/qiime2-archive-lnb0zxae')\" src=\"data:image/gif;base64,R0lGODlhAQABAIAAAP///wAAACH5BAEAAAAALAAAAAABAAEAAAICRAEAOw==\" /></div>"
      ],
      "text/plain": [
       "<visualization: Visualization uuid: e40fad31-592b-4228-9fc2-54bf4cac3e15>"
      ]
     },
     "execution_count": 5,
     "metadata": {},
     "output_type": "execute_result"
    }
   ],
   "source": [
    "Visualization.load(f'{data_dir}/Functional/core-metrics-picrust2-GEN_sex_male/adonis-results.qzv')"
   ]
  },
  {
   "cell_type": "code",
   "execution_count": 8,
   "id": "3ce76b8d-18a3-435d-ac4a-b99e477656e3",
   "metadata": {},
   "outputs": [
    {
     "name": "stdout",
     "output_type": "stream",
     "text": [
      "\u001b[32mSaved Visualization to: poop_data/Functional/core-metrics-picrust2-GEN_sex_male/adonis-results_1.qzv\u001b[0m\n",
      "\u001b[0m"
     ]
    }
   ],
   "source": [
    "! qiime diversity adonis \\\n",
    "  --i-distance-matrix $data_dir/Functional/core-metrics-picrust2-GEN_sex_male/jaccard_distance_matrix.qza \\\n",
    "  --m-metadata-file $data_dir/metadata.tsv \\\n",
    "  --p-formula '(HEA_ibd+HEA_cdiff+HEA_sibo+HEA_acid_reflux+HEA_thyroid)*HEA_antibiotic_history' \\\n",
    "  --o-visualization $data_dir/Functional/core-metrics-picrust2-GEN_sex_male/adonis-results_1.qzv"
   ]
  },
  {
   "cell_type": "code",
   "execution_count": 9,
   "id": "33020314-8228-4ded-a8c6-059077ba37fa",
   "metadata": {},
   "outputs": [
    {
     "data": {
      "text/html": [
       "<div><img onload=\"(function(div, url){\n",
       "if (typeof require !== 'undefined') {\n",
       "    var baseURL = require.toUrl('').split('/').slice(0, -2).join('/');\n",
       "} else {\n",
       "    var baseURL = JSON.parse(\n",
       "        document.getElementById('jupyter-config-data').innerHTML\n",
       "    ).baseUrl.slice(0, -1);\n",
       "}\n",
       "url = baseURL + url;\n",
       "fetch(url).then(function(res) {\n",
       "    if (res.status === 404) {\n",
       "        div.innerHTML = 'Install QIIME 2 Jupyter extension with:<br />' +\n",
       "                        '<code>jupyter serverextension enable --py qiime2' +\n",
       "                        ' --sys-prefix</code><br />then restart your server.' +\n",
       "                        '<br /><br />(Interactive output not available on ' +\n",
       "                        'static notebook viewer services like nbviewer.)';\n",
       "    } else if (res.status === 409) {\n",
       "        div.innerHTML = 'Visualization no longer in scope. Re-run this cell' +\n",
       "                        ' to see the visualization.';\n",
       "    } else if (res.ok) {\n",
       "        url = res.url;\n",
       "        div.innerHTML = '<iframe src=\\'' + url + '\\' style=\\'' +\n",
       "                        'width: 100%; height: 700px; border: 0;\\'>' +\n",
       "                        '</iframe><hr />Open in a: <a href=\\'' + url + '\\'' +\n",
       "                        ' target=\\'_blank\\'>new window</a>'\n",
       "    } else {\n",
       "        div.innerHTML = 'Something has gone wrong. Check notebook server for' +\n",
       "                        ' errors.';\n",
       "    }\n",
       "});\n",
       "})(this.parentElement, '/qiime2/redirect?location=/tmp/qiime2-archive-e33hvmcx')\" src=\"data:image/gif;base64,R0lGODlhAQABAIAAAP///wAAACH5BAEAAAAALAAAAAABAAEAAAICRAEAOw==\" /></div>"
      ],
      "text/plain": [
       "<visualization: Visualization uuid: f810ae60-b66c-4ad1-89b8-abb7cb4bf383>"
      ]
     },
     "execution_count": 9,
     "metadata": {},
     "output_type": "execute_result"
    }
   ],
   "source": [
    "Visualization.load(f'{data_dir}/Functional/core-metrics-picrust2-GEN_sex_male/adonis-results_1.qzv')"
   ]
  },
  {
   "cell_type": "markdown",
   "id": "7a4bc20c-cb4b-493b-af16-ffd6eff08dfa",
   "metadata": {},
   "source": [
    "<a id='function'></a>\n",
    "## Functional redundancy: GEN_bmi_cat_Overweight"
   ]
  },
  {
   "cell_type": "code",
   "execution_count": 10,
   "id": "d4c12da4-7d2a-4d90-b4a0-d0d2d6835e66",
   "metadata": {},
   "outputs": [
    {
     "name": "stdout",
     "output_type": "stream",
     "text": [
      "\u001b[32mSaved FeatureTable[Frequency] to: poop_data/Functional/pathway_abundance_Overweight.qza\u001b[0m\n",
      "\u001b[0m"
     ]
    }
   ],
   "source": [
    "! qiime feature-table filter-samples \\\n",
    "    --i-table $data_dir/Differential_abundance/table_abund_species.qza \\\n",
    "    --m-metadata-file $data_dir/metadata.tsv \\\n",
    "    --p-where \"[GEN_bmi_cat]='Overweight'\" \\\n",
    "    --o-filtered-table $data_dir/Functional/pathway_abundance_Overweight.qza"
   ]
  },
  {
   "cell_type": "code",
   "execution_count": 11,
   "id": "80664d59-26d8-4527-8205-ff819f19d663",
   "metadata": {},
   "outputs": [
    {
     "name": "stdout",
     "output_type": "stream",
     "text": [
      "\u001b[32mSaved FeatureTable[Frequency] to: poop_data/Functional/core-metrics-picrust2-GEN_bmi_cat_Overweight/rarefied_table.qza\u001b[0m\n",
      "\u001b[32mSaved SampleData[AlphaDiversity] to: poop_data/Functional/core-metrics-picrust2-GEN_bmi_cat_Overweight/observed_features_vector.qza\u001b[0m\n",
      "\u001b[32mSaved SampleData[AlphaDiversity] to: poop_data/Functional/core-metrics-picrust2-GEN_bmi_cat_Overweight/shannon_vector.qza\u001b[0m\n",
      "\u001b[32mSaved SampleData[AlphaDiversity] to: poop_data/Functional/core-metrics-picrust2-GEN_bmi_cat_Overweight/evenness_vector.qza\u001b[0m\n",
      "\u001b[32mSaved DistanceMatrix to: poop_data/Functional/core-metrics-picrust2-GEN_bmi_cat_Overweight/jaccard_distance_matrix.qza\u001b[0m\n",
      "\u001b[32mSaved DistanceMatrix to: poop_data/Functional/core-metrics-picrust2-GEN_bmi_cat_Overweight/bray_curtis_distance_matrix.qza\u001b[0m\n",
      "\u001b[32mSaved PCoAResults to: poop_data/Functional/core-metrics-picrust2-GEN_bmi_cat_Overweight/jaccard_pcoa_results.qza\u001b[0m\n",
      "\u001b[32mSaved PCoAResults to: poop_data/Functional/core-metrics-picrust2-GEN_bmi_cat_Overweight/bray_curtis_pcoa_results.qza\u001b[0m\n",
      "\u001b[32mSaved Visualization to: poop_data/Functional/core-metrics-picrust2-GEN_bmi_cat_Overweight/jaccard_emperor.qzv\u001b[0m\n",
      "\u001b[32mSaved Visualization to: poop_data/Functional/core-metrics-picrust2-GEN_bmi_cat_Overweight/bray_curtis_emperor.qzv\u001b[0m\n",
      "\u001b[0m"
     ]
    }
   ],
   "source": [
    "! qiime diversity core-metrics \\\n",
    "  --i-table $data_dir/Functional/pathway_abundance_Overweight.qza \\\n",
    "  --m-metadata-file $data_dir/metadata.tsv \\\n",
    "  --p-sampling-depth 1000 \\\n",
    "  --p-n-jobs $n_jobs \\\n",
    "  --output-dir $data_dir/Functional/core-metrics-picrust2-GEN_bmi_cat_Overweight"
   ]
  },
  {
   "cell_type": "code",
   "execution_count": 12,
   "id": "cc21abe0-dbd1-4c95-b137-0512e4ad86fe",
   "metadata": {},
   "outputs": [
    {
     "name": "stdout",
     "output_type": "stream",
     "text": [
      "\u001b[32mSaved Visualization to: poop_data/Functional/core-metrics-picrust2-GEN_bmi_cat_Overweight/adonis-results.qzv\u001b[0m\n",
      "\u001b[0m"
     ]
    }
   ],
   "source": [
    "! qiime diversity adonis \\\n",
    "  --i-distance-matrix $data_dir/Functional/core-metrics-picrust2-GEN_bmi_cat_Overweight/jaccard_distance_matrix.qza \\\n",
    "  --m-metadata-file $data_dir/metadata.tsv \\\n",
    "  --p-formula '(HEA_ibd+HEA_cdiff+HEA_sibo+HEA_acid_reflux+HEA_thyroid)*HEA_antibiotic_history' \\\n",
    "  --o-visualization $data_dir/Functional/core-metrics-picrust2-GEN_bmi_cat_Overweight/adonis-results.qzv"
   ]
  },
  {
   "cell_type": "code",
   "execution_count": 13,
   "id": "21d36c10-d2ed-4f03-8e95-9eb08db03630",
   "metadata": {},
   "outputs": [
    {
     "data": {
      "text/html": [
       "<div><img onload=\"(function(div, url){\n",
       "if (typeof require !== 'undefined') {\n",
       "    var baseURL = require.toUrl('').split('/').slice(0, -2).join('/');\n",
       "} else {\n",
       "    var baseURL = JSON.parse(\n",
       "        document.getElementById('jupyter-config-data').innerHTML\n",
       "    ).baseUrl.slice(0, -1);\n",
       "}\n",
       "url = baseURL + url;\n",
       "fetch(url).then(function(res) {\n",
       "    if (res.status === 404) {\n",
       "        div.innerHTML = 'Install QIIME 2 Jupyter extension with:<br />' +\n",
       "                        '<code>jupyter serverextension enable --py qiime2' +\n",
       "                        ' --sys-prefix</code><br />then restart your server.' +\n",
       "                        '<br /><br />(Interactive output not available on ' +\n",
       "                        'static notebook viewer services like nbviewer.)';\n",
       "    } else if (res.status === 409) {\n",
       "        div.innerHTML = 'Visualization no longer in scope. Re-run this cell' +\n",
       "                        ' to see the visualization.';\n",
       "    } else if (res.ok) {\n",
       "        url = res.url;\n",
       "        div.innerHTML = '<iframe src=\\'' + url + '\\' style=\\'' +\n",
       "                        'width: 100%; height: 700px; border: 0;\\'>' +\n",
       "                        '</iframe><hr />Open in a: <a href=\\'' + url + '\\'' +\n",
       "                        ' target=\\'_blank\\'>new window</a>'\n",
       "    } else {\n",
       "        div.innerHTML = 'Something has gone wrong. Check notebook server for' +\n",
       "                        ' errors.';\n",
       "    }\n",
       "});\n",
       "})(this.parentElement, '/qiime2/redirect?location=/tmp/qiime2-archive-4xwn61a1')\" src=\"data:image/gif;base64,R0lGODlhAQABAIAAAP///wAAACH5BAEAAAAALAAAAAABAAEAAAICRAEAOw==\" /></div>"
      ],
      "text/plain": [
       "<visualization: Visualization uuid: 01e3e475-f27f-4c33-8050-aaab05289f6a>"
      ]
     },
     "execution_count": 13,
     "metadata": {},
     "output_type": "execute_result"
    }
   ],
   "source": [
    "Visualization.load(f'{data_dir}/Functional/core-metrics-picrust2-GEN_bmi_cat_Overweight/jaccard_emperor.qzv')"
   ]
  },
  {
   "cell_type": "code",
   "execution_count": 14,
   "id": "8653b870-96b1-43e1-848f-b6b9921c8496",
   "metadata": {},
   "outputs": [
    {
     "data": {
      "text/html": [
       "<div><img onload=\"(function(div, url){\n",
       "if (typeof require !== 'undefined') {\n",
       "    var baseURL = require.toUrl('').split('/').slice(0, -2).join('/');\n",
       "} else {\n",
       "    var baseURL = JSON.parse(\n",
       "        document.getElementById('jupyter-config-data').innerHTML\n",
       "    ).baseUrl.slice(0, -1);\n",
       "}\n",
       "url = baseURL + url;\n",
       "fetch(url).then(function(res) {\n",
       "    if (res.status === 404) {\n",
       "        div.innerHTML = 'Install QIIME 2 Jupyter extension with:<br />' +\n",
       "                        '<code>jupyter serverextension enable --py qiime2' +\n",
       "                        ' --sys-prefix</code><br />then restart your server.' +\n",
       "                        '<br /><br />(Interactive output not available on ' +\n",
       "                        'static notebook viewer services like nbviewer.)';\n",
       "    } else if (res.status === 409) {\n",
       "        div.innerHTML = 'Visualization no longer in scope. Re-run this cell' +\n",
       "                        ' to see the visualization.';\n",
       "    } else if (res.ok) {\n",
       "        url = res.url;\n",
       "        div.innerHTML = '<iframe src=\\'' + url + '\\' style=\\'' +\n",
       "                        'width: 100%; height: 700px; border: 0;\\'>' +\n",
       "                        '</iframe><hr />Open in a: <a href=\\'' + url + '\\'' +\n",
       "                        ' target=\\'_blank\\'>new window</a>'\n",
       "    } else {\n",
       "        div.innerHTML = 'Something has gone wrong. Check notebook server for' +\n",
       "                        ' errors.';\n",
       "    }\n",
       "});\n",
       "})(this.parentElement, '/qiime2/redirect?location=/tmp/qiime2-archive-rown6aqy')\" src=\"data:image/gif;base64,R0lGODlhAQABAIAAAP///wAAACH5BAEAAAAALAAAAAABAAEAAAICRAEAOw==\" /></div>"
      ],
      "text/plain": [
       "<visualization: Visualization uuid: eb1dfa44-a939-42b4-8de7-afb9ba962271>"
      ]
     },
     "execution_count": 14,
     "metadata": {},
     "output_type": "execute_result"
    }
   ],
   "source": [
    "Visualization.load(f'{data_dir}/Functional/core-metrics-picrust2-GEN_bmi_cat_Overweight/adonis-results.qzv')"
   ]
  },
  {
   "cell_type": "markdown",
   "id": "10cc05ac-26b2-4b01-acd4-a650ea0f8194",
   "metadata": {},
   "source": [
    "<a id='function'></a>\n",
    "## Functional redundancy: GEN_bmi_cat_Obese"
   ]
  },
  {
   "cell_type": "code",
   "execution_count": 15,
   "id": "9d291ab1-617e-4ca7-84cb-b35cfd78e4f0",
   "metadata": {},
   "outputs": [
    {
     "name": "stdout",
     "output_type": "stream",
     "text": [
      "\u001b[32mSaved FeatureTable[Frequency] to: poop_data/Functional/pathway_abundance_Obese.qza\u001b[0m\n",
      "\u001b[0m"
     ]
    }
   ],
   "source": [
    "! qiime feature-table filter-samples \\\n",
    "    --i-table $data_dir/Differential_abundance/table_abund_species.qza \\\n",
    "    --m-metadata-file $data_dir/metadata.tsv \\\n",
    "    --p-where \"[GEN_bmi_cat]='Obese'\" \\\n",
    "    --o-filtered-table $data_dir/Functional/pathway_abundance_Obese.qza"
   ]
  },
  {
   "cell_type": "code",
   "execution_count": 16,
   "id": "8e6c07d3-9d83-49d7-8ed8-00280997b588",
   "metadata": {},
   "outputs": [
    {
     "name": "stdout",
     "output_type": "stream",
     "text": [
      "\u001b[32mSaved FeatureTable[Frequency] to: poop_data/Functional/core-metrics-picrust2-GEN_bmi_cat_Obese/rarefied_table.qza\u001b[0m\n",
      "\u001b[32mSaved SampleData[AlphaDiversity] to: poop_data/Functional/core-metrics-picrust2-GEN_bmi_cat_Obese/observed_features_vector.qza\u001b[0m\n",
      "\u001b[32mSaved SampleData[AlphaDiversity] to: poop_data/Functional/core-metrics-picrust2-GEN_bmi_cat_Obese/shannon_vector.qza\u001b[0m\n",
      "\u001b[32mSaved SampleData[AlphaDiversity] to: poop_data/Functional/core-metrics-picrust2-GEN_bmi_cat_Obese/evenness_vector.qza\u001b[0m\n",
      "\u001b[32mSaved DistanceMatrix to: poop_data/Functional/core-metrics-picrust2-GEN_bmi_cat_Obese/jaccard_distance_matrix.qza\u001b[0m\n",
      "\u001b[32mSaved DistanceMatrix to: poop_data/Functional/core-metrics-picrust2-GEN_bmi_cat_Obese/bray_curtis_distance_matrix.qza\u001b[0m\n",
      "\u001b[32mSaved PCoAResults to: poop_data/Functional/core-metrics-picrust2-GEN_bmi_cat_Obese/jaccard_pcoa_results.qza\u001b[0m\n",
      "\u001b[32mSaved PCoAResults to: poop_data/Functional/core-metrics-picrust2-GEN_bmi_cat_Obese/bray_curtis_pcoa_results.qza\u001b[0m\n",
      "\u001b[32mSaved Visualization to: poop_data/Functional/core-metrics-picrust2-GEN_bmi_cat_Obese/jaccard_emperor.qzv\u001b[0m\n",
      "\u001b[32mSaved Visualization to: poop_data/Functional/core-metrics-picrust2-GEN_bmi_cat_Obese/bray_curtis_emperor.qzv\u001b[0m\n",
      "\u001b[0m"
     ]
    }
   ],
   "source": [
    "! qiime diversity core-metrics \\\n",
    "  --i-table $data_dir/Functional/pathway_abundance_Obese.qza \\\n",
    "  --m-metadata-file $data_dir/metadata.tsv \\\n",
    "  --p-sampling-depth 1000 \\\n",
    "  --p-n-jobs $n_jobs \\\n",
    "  --output-dir $data_dir/Functional/core-metrics-picrust2-GEN_bmi_cat_Obese"
   ]
  },
  {
   "cell_type": "code",
   "execution_count": 17,
   "id": "ffa882ed-0968-4de2-8fe4-ce5bc5793254",
   "metadata": {},
   "outputs": [
    {
     "name": "stdout",
     "output_type": "stream",
     "text": [
      "\u001b[32mSaved Visualization to: poop_data/Functional/core-metrics-picrust2-GEN_bmi_cat_Obese/adonis-results.qzv\u001b[0m\n",
      "\u001b[0m"
     ]
    }
   ],
   "source": [
    "! qiime diversity adonis \\\n",
    "  --i-distance-matrix $data_dir/Functional/core-metrics-picrust2-GEN_bmi_cat_Obese/jaccard_distance_matrix.qza \\\n",
    "  --m-metadata-file $data_dir/metadata.tsv \\\n",
    "  --p-formula '(HEA_ibd+HEA_cdiff+HEA_sibo+HEA_acid_reflux+HEA_thyroid)*HEA_antibiotic_history' \\\n",
    "  --o-visualization $data_dir/Functional/core-metrics-picrust2-GEN_bmi_cat_Obese/adonis-results.qzv"
   ]
  },
  {
   "cell_type": "code",
   "execution_count": 18,
   "id": "d9bc23cf-b24c-44ef-b769-78f146a64f5b",
   "metadata": {},
   "outputs": [
    {
     "data": {
      "text/html": [
       "<div><img onload=\"(function(div, url){\n",
       "if (typeof require !== 'undefined') {\n",
       "    var baseURL = require.toUrl('').split('/').slice(0, -2).join('/');\n",
       "} else {\n",
       "    var baseURL = JSON.parse(\n",
       "        document.getElementById('jupyter-config-data').innerHTML\n",
       "    ).baseUrl.slice(0, -1);\n",
       "}\n",
       "url = baseURL + url;\n",
       "fetch(url).then(function(res) {\n",
       "    if (res.status === 404) {\n",
       "        div.innerHTML = 'Install QIIME 2 Jupyter extension with:<br />' +\n",
       "                        '<code>jupyter serverextension enable --py qiime2' +\n",
       "                        ' --sys-prefix</code><br />then restart your server.' +\n",
       "                        '<br /><br />(Interactive output not available on ' +\n",
       "                        'static notebook viewer services like nbviewer.)';\n",
       "    } else if (res.status === 409) {\n",
       "        div.innerHTML = 'Visualization no longer in scope. Re-run this cell' +\n",
       "                        ' to see the visualization.';\n",
       "    } else if (res.ok) {\n",
       "        url = res.url;\n",
       "        div.innerHTML = '<iframe src=\\'' + url + '\\' style=\\'' +\n",
       "                        'width: 100%; height: 700px; border: 0;\\'>' +\n",
       "                        '</iframe><hr />Open in a: <a href=\\'' + url + '\\'' +\n",
       "                        ' target=\\'_blank\\'>new window</a>'\n",
       "    } else {\n",
       "        div.innerHTML = 'Something has gone wrong. Check notebook server for' +\n",
       "                        ' errors.';\n",
       "    }\n",
       "});\n",
       "})(this.parentElement, '/qiime2/redirect?location=/tmp/qiime2-archive-qjnh_6x8')\" src=\"data:image/gif;base64,R0lGODlhAQABAIAAAP///wAAACH5BAEAAAAALAAAAAABAAEAAAICRAEAOw==\" /></div>"
      ],
      "text/plain": [
       "<visualization: Visualization uuid: 079cd8f8-2d92-4072-a0bf-668bb09fe155>"
      ]
     },
     "execution_count": 18,
     "metadata": {},
     "output_type": "execute_result"
    }
   ],
   "source": [
    "Visualization.load(f'{data_dir}/Functional/core-metrics-picrust2-GEN_bmi_cat_Obese/jaccard_emperor.qzv')"
   ]
  },
  {
   "cell_type": "code",
   "execution_count": 19,
   "id": "29085f4a-2658-4f23-a3eb-f238612ab104",
   "metadata": {},
   "outputs": [
    {
     "data": {
      "text/html": [
       "<div><img onload=\"(function(div, url){\n",
       "if (typeof require !== 'undefined') {\n",
       "    var baseURL = require.toUrl('').split('/').slice(0, -2).join('/');\n",
       "} else {\n",
       "    var baseURL = JSON.parse(\n",
       "        document.getElementById('jupyter-config-data').innerHTML\n",
       "    ).baseUrl.slice(0, -1);\n",
       "}\n",
       "url = baseURL + url;\n",
       "fetch(url).then(function(res) {\n",
       "    if (res.status === 404) {\n",
       "        div.innerHTML = 'Install QIIME 2 Jupyter extension with:<br />' +\n",
       "                        '<code>jupyter serverextension enable --py qiime2' +\n",
       "                        ' --sys-prefix</code><br />then restart your server.' +\n",
       "                        '<br /><br />(Interactive output not available on ' +\n",
       "                        'static notebook viewer services like nbviewer.)';\n",
       "    } else if (res.status === 409) {\n",
       "        div.innerHTML = 'Visualization no longer in scope. Re-run this cell' +\n",
       "                        ' to see the visualization.';\n",
       "    } else if (res.ok) {\n",
       "        url = res.url;\n",
       "        div.innerHTML = '<iframe src=\\'' + url + '\\' style=\\'' +\n",
       "                        'width: 100%; height: 700px; border: 0;\\'>' +\n",
       "                        '</iframe><hr />Open in a: <a href=\\'' + url + '\\'' +\n",
       "                        ' target=\\'_blank\\'>new window</a>'\n",
       "    } else {\n",
       "        div.innerHTML = 'Something has gone wrong. Check notebook server for' +\n",
       "                        ' errors.';\n",
       "    }\n",
       "});\n",
       "})(this.parentElement, '/qiime2/redirect?location=/tmp/qiime2-archive-wq27b9nk')\" src=\"data:image/gif;base64,R0lGODlhAQABAIAAAP///wAAACH5BAEAAAAALAAAAAABAAEAAAICRAEAOw==\" /></div>"
      ],
      "text/plain": [
       "<visualization: Visualization uuid: 30e9a312-2ceb-477c-8eb9-b9b9090ac14b>"
      ]
     },
     "execution_count": 19,
     "metadata": {},
     "output_type": "execute_result"
    }
   ],
   "source": [
    "Visualization.load(f'{data_dir}/Functional/core-metrics-picrust2-GEN_bmi_cat_Obese/adonis-results.qzv')"
   ]
  },
  {
   "cell_type": "markdown",
   "id": "89a9066c-c51c-4ea0-8af5-a4d1da79f5ea",
   "metadata": {},
   "source": [
    "<a id='function'></a>\n",
    "## Functional redundancy: GEN_age_cat_20s"
   ]
  },
  {
   "cell_type": "code",
   "execution_count": 38,
   "id": "0f03de18-62a4-43bc-8248-b6b3fd79525f",
   "metadata": {},
   "outputs": [
    {
     "name": "stdout",
     "output_type": "stream",
     "text": [
      "\u001b[32mSaved FeatureTable[Frequency] to: poop_data/Functional/pathway_abundance_GEN_age_cat_20s.qza\u001b[0m\n",
      "\u001b[0m"
     ]
    }
   ],
   "source": [
    "! qiime feature-table filter-samples \\\n",
    "    --i-table $data_dir/Differential_abundance/table_abund_species.qza \\\n",
    "    --m-metadata-file $data_dir/metadata.tsv \\\n",
    "    --p-where \"[GEN_age_cat]='20s'\" \\\n",
    "    --o-filtered-table $data_dir/Functional/pathway_abundance_GEN_age_cat_20s.qza"
   ]
  },
  {
   "cell_type": "code",
   "execution_count": 39,
   "id": "a71868f2-ee4a-4ea5-9aa8-d96462573e44",
   "metadata": {},
   "outputs": [
    {
     "name": "stdout",
     "output_type": "stream",
     "text": [
      "\u001b[32mSaved FeatureTable[Frequency] to: poop_data/Functional/core-metrics-picrust2-GEN_age_cat_20s/rarefied_table.qza\u001b[0m\n",
      "\u001b[32mSaved SampleData[AlphaDiversity] to: poop_data/Functional/core-metrics-picrust2-GEN_age_cat_20s/observed_features_vector.qza\u001b[0m\n",
      "\u001b[32mSaved SampleData[AlphaDiversity] to: poop_data/Functional/core-metrics-picrust2-GEN_age_cat_20s/shannon_vector.qza\u001b[0m\n",
      "\u001b[32mSaved SampleData[AlphaDiversity] to: poop_data/Functional/core-metrics-picrust2-GEN_age_cat_20s/evenness_vector.qza\u001b[0m\n",
      "\u001b[32mSaved DistanceMatrix to: poop_data/Functional/core-metrics-picrust2-GEN_age_cat_20s/jaccard_distance_matrix.qza\u001b[0m\n",
      "\u001b[32mSaved DistanceMatrix to: poop_data/Functional/core-metrics-picrust2-GEN_age_cat_20s/bray_curtis_distance_matrix.qza\u001b[0m\n",
      "\u001b[32mSaved PCoAResults to: poop_data/Functional/core-metrics-picrust2-GEN_age_cat_20s/jaccard_pcoa_results.qza\u001b[0m\n",
      "\u001b[32mSaved PCoAResults to: poop_data/Functional/core-metrics-picrust2-GEN_age_cat_20s/bray_curtis_pcoa_results.qza\u001b[0m\n",
      "\u001b[32mSaved Visualization to: poop_data/Functional/core-metrics-picrust2-GEN_age_cat_20s/jaccard_emperor.qzv\u001b[0m\n",
      "\u001b[32mSaved Visualization to: poop_data/Functional/core-metrics-picrust2-GEN_age_cat_20s/bray_curtis_emperor.qzv\u001b[0m\n",
      "\u001b[0m"
     ]
    }
   ],
   "source": [
    "! qiime diversity core-metrics \\\n",
    "  --i-table $data_dir/Functional/pathway_abundance_GEN_age_cat_20s.qza \\\n",
    "  --m-metadata-file $data_dir/metadata.tsv \\\n",
    "  --p-sampling-depth 1000 \\\n",
    "  --p-n-jobs $n_jobs \\\n",
    "  --output-dir $data_dir/Functional/core-metrics-picrust2-GEN_age_cat_20s"
   ]
  },
  {
   "cell_type": "code",
   "execution_count": 40,
   "id": "098de337-5e76-4ce4-8670-13ae994fb832",
   "metadata": {},
   "outputs": [
    {
     "name": "stdout",
     "output_type": "stream",
     "text": [
      "\u001b[32mSaved Visualization to: poop_data/Functional/core-metrics-picrust2-GEN_age_cat_20s/adonis-results.qzv\u001b[0m\n",
      "\u001b[0m"
     ]
    }
   ],
   "source": [
    "! qiime diversity adonis \\\n",
    "  --i-distance-matrix $data_dir/Functional/core-metrics-picrust2-GEN_age_cat_20s/jaccard_distance_matrix.qza \\\n",
    "  --m-metadata-file $data_dir/metadata.tsv \\\n",
    "  --p-formula '(HEA_ibd+HEA_cdiff+HEA_sibo+HEA_acid_reflux+HEA_thyroid)*HEA_antibiotic_history' \\\n",
    "  --o-visualization $data_dir/Functional/core-metrics-picrust2-GEN_age_cat_20s/adonis-results.qzv"
   ]
  },
  {
   "cell_type": "code",
   "execution_count": 41,
   "id": "76c11974-9e91-4d24-af23-487c860fb06b",
   "metadata": {},
   "outputs": [
    {
     "data": {
      "text/html": [
       "<div><img onload=\"(function(div, url){\n",
       "if (typeof require !== 'undefined') {\n",
       "    var baseURL = require.toUrl('').split('/').slice(0, -2).join('/');\n",
       "} else {\n",
       "    var baseURL = JSON.parse(\n",
       "        document.getElementById('jupyter-config-data').innerHTML\n",
       "    ).baseUrl.slice(0, -1);\n",
       "}\n",
       "url = baseURL + url;\n",
       "fetch(url).then(function(res) {\n",
       "    if (res.status === 404) {\n",
       "        div.innerHTML = 'Install QIIME 2 Jupyter extension with:<br />' +\n",
       "                        '<code>jupyter serverextension enable --py qiime2' +\n",
       "                        ' --sys-prefix</code><br />then restart your server.' +\n",
       "                        '<br /><br />(Interactive output not available on ' +\n",
       "                        'static notebook viewer services like nbviewer.)';\n",
       "    } else if (res.status === 409) {\n",
       "        div.innerHTML = 'Visualization no longer in scope. Re-run this cell' +\n",
       "                        ' to see the visualization.';\n",
       "    } else if (res.ok) {\n",
       "        url = res.url;\n",
       "        div.innerHTML = '<iframe src=\\'' + url + '\\' style=\\'' +\n",
       "                        'width: 100%; height: 700px; border: 0;\\'>' +\n",
       "                        '</iframe><hr />Open in a: <a href=\\'' + url + '\\'' +\n",
       "                        ' target=\\'_blank\\'>new window</a>'\n",
       "    } else {\n",
       "        div.innerHTML = 'Something has gone wrong. Check notebook server for' +\n",
       "                        ' errors.';\n",
       "    }\n",
       "});\n",
       "})(this.parentElement, '/qiime2/redirect?location=/tmp/qiime2-archive-z25puopx')\" src=\"data:image/gif;base64,R0lGODlhAQABAIAAAP///wAAACH5BAEAAAAALAAAAAABAAEAAAICRAEAOw==\" /></div>"
      ],
      "text/plain": [
       "<visualization: Visualization uuid: 2f02023d-eddd-4390-8c92-626f84e2da69>"
      ]
     },
     "execution_count": 41,
     "metadata": {},
     "output_type": "execute_result"
    }
   ],
   "source": [
    "Visualization.load(f'{data_dir}/Functional/core-metrics-picrust2-GEN_age_cat_20s/jaccard_emperor.qzv')"
   ]
  },
  {
   "cell_type": "code",
   "execution_count": 42,
   "id": "e4696421-11ed-4af6-ba5e-5fe175106e3b",
   "metadata": {},
   "outputs": [
    {
     "data": {
      "text/html": [
       "<div><img onload=\"(function(div, url){\n",
       "if (typeof require !== 'undefined') {\n",
       "    var baseURL = require.toUrl('').split('/').slice(0, -2).join('/');\n",
       "} else {\n",
       "    var baseURL = JSON.parse(\n",
       "        document.getElementById('jupyter-config-data').innerHTML\n",
       "    ).baseUrl.slice(0, -1);\n",
       "}\n",
       "url = baseURL + url;\n",
       "fetch(url).then(function(res) {\n",
       "    if (res.status === 404) {\n",
       "        div.innerHTML = 'Install QIIME 2 Jupyter extension with:<br />' +\n",
       "                        '<code>jupyter serverextension enable --py qiime2' +\n",
       "                        ' --sys-prefix</code><br />then restart your server.' +\n",
       "                        '<br /><br />(Interactive output not available on ' +\n",
       "                        'static notebook viewer services like nbviewer.)';\n",
       "    } else if (res.status === 409) {\n",
       "        div.innerHTML = 'Visualization no longer in scope. Re-run this cell' +\n",
       "                        ' to see the visualization.';\n",
       "    } else if (res.ok) {\n",
       "        url = res.url;\n",
       "        div.innerHTML = '<iframe src=\\'' + url + '\\' style=\\'' +\n",
       "                        'width: 100%; height: 700px; border: 0;\\'>' +\n",
       "                        '</iframe><hr />Open in a: <a href=\\'' + url + '\\'' +\n",
       "                        ' target=\\'_blank\\'>new window</a>'\n",
       "    } else {\n",
       "        div.innerHTML = 'Something has gone wrong. Check notebook server for' +\n",
       "                        ' errors.';\n",
       "    }\n",
       "});\n",
       "})(this.parentElement, '/qiime2/redirect?location=/tmp/qiime2-archive-k3hlhbx1')\" src=\"data:image/gif;base64,R0lGODlhAQABAIAAAP///wAAACH5BAEAAAAALAAAAAABAAEAAAICRAEAOw==\" /></div>"
      ],
      "text/plain": [
       "<visualization: Visualization uuid: 36b2da05-d305-4158-8574-9141c6916a53>"
      ]
     },
     "execution_count": 42,
     "metadata": {},
     "output_type": "execute_result"
    }
   ],
   "source": [
    "Visualization.load(f'{data_dir}/Functional/core-metrics-picrust2-GEN_age_cat_20s/adonis-results.qzv')"
   ]
  },
  {
   "cell_type": "markdown",
   "id": "00d14fab-0376-42a5-8971-63dc6de1b29b",
   "metadata": {},
   "source": [
    "<a id='function'></a>\n",
    "## Functional redundancy: GEN_age_cat_30s"
   ]
  },
  {
   "cell_type": "code",
   "execution_count": 43,
   "id": "862bc013-c6ed-4bf6-a15f-56ba6caf21c7",
   "metadata": {},
   "outputs": [
    {
     "name": "stdout",
     "output_type": "stream",
     "text": [
      "\u001b[32mSaved FeatureTable[Frequency] to: poop_data/Functional/pathway_abundance_GEN_age_cat_30s.qza\u001b[0m\n",
      "\u001b[0m"
     ]
    }
   ],
   "source": [
    "! qiime feature-table filter-samples \\\n",
    "    --i-table $data_dir/Differential_abundance/table_abund_species.qza \\\n",
    "    --m-metadata-file $data_dir/metadata.tsv \\\n",
    "    --p-where \"[GEN_age_cat]='30s'\" \\\n",
    "    --o-filtered-table $data_dir/Functional/pathway_abundance_GEN_age_cat_30s.qza"
   ]
  },
  {
   "cell_type": "code",
   "execution_count": 44,
   "id": "bf90e332-4467-4d6c-9715-46af4401f87f",
   "metadata": {},
   "outputs": [
    {
     "name": "stdout",
     "output_type": "stream",
     "text": [
      "\u001b[32mSaved FeatureTable[Frequency] to: poop_data/Functional/core-metrics-picrust2-GEN_age_cat_30s/rarefied_table.qza\u001b[0m\n",
      "\u001b[32mSaved SampleData[AlphaDiversity] to: poop_data/Functional/core-metrics-picrust2-GEN_age_cat_30s/observed_features_vector.qza\u001b[0m\n",
      "\u001b[32mSaved SampleData[AlphaDiversity] to: poop_data/Functional/core-metrics-picrust2-GEN_age_cat_30s/shannon_vector.qza\u001b[0m\n",
      "\u001b[32mSaved SampleData[AlphaDiversity] to: poop_data/Functional/core-metrics-picrust2-GEN_age_cat_30s/evenness_vector.qza\u001b[0m\n",
      "\u001b[32mSaved DistanceMatrix to: poop_data/Functional/core-metrics-picrust2-GEN_age_cat_30s/jaccard_distance_matrix.qza\u001b[0m\n",
      "\u001b[32mSaved DistanceMatrix to: poop_data/Functional/core-metrics-picrust2-GEN_age_cat_30s/bray_curtis_distance_matrix.qza\u001b[0m\n",
      "\u001b[32mSaved PCoAResults to: poop_data/Functional/core-metrics-picrust2-GEN_age_cat_30s/jaccard_pcoa_results.qza\u001b[0m\n",
      "\u001b[32mSaved PCoAResults to: poop_data/Functional/core-metrics-picrust2-GEN_age_cat_30s/bray_curtis_pcoa_results.qza\u001b[0m\n",
      "\u001b[32mSaved Visualization to: poop_data/Functional/core-metrics-picrust2-GEN_age_cat_30s/jaccard_emperor.qzv\u001b[0m\n",
      "\u001b[32mSaved Visualization to: poop_data/Functional/core-metrics-picrust2-GEN_age_cat_30s/bray_curtis_emperor.qzv\u001b[0m\n",
      "\u001b[0m"
     ]
    }
   ],
   "source": [
    "! qiime diversity core-metrics \\\n",
    "  --i-table $data_dir/Functional/pathway_abundance_GEN_age_cat_30s.qza \\\n",
    "  --m-metadata-file $data_dir/metadata.tsv \\\n",
    "  --p-sampling-depth 1000 \\\n",
    "  --p-n-jobs $n_jobs \\\n",
    "  --output-dir $data_dir/Functional/core-metrics-picrust2-GEN_age_cat_30s"
   ]
  },
  {
   "cell_type": "code",
   "execution_count": 45,
   "id": "c7093a91-69eb-4a8d-a89f-556f8f101aff",
   "metadata": {},
   "outputs": [
    {
     "name": "stdout",
     "output_type": "stream",
     "text": [
      "\u001b[32mSaved Visualization to: poop_data/Functional/core-metrics-picrust2-GEN_age_cat_30s/adonis-results.qzv\u001b[0m\n",
      "\u001b[0m"
     ]
    }
   ],
   "source": [
    "! qiime diversity adonis \\\n",
    "  --i-distance-matrix $data_dir/Functional/core-metrics-picrust2-GEN_age_cat_30s/jaccard_distance_matrix.qza \\\n",
    "  --m-metadata-file $data_dir/metadata.tsv \\\n",
    "  --p-formula '(HEA_ibd+HEA_cdiff+HEA_sibo+HEA_acid_reflux+HEA_thyroid)*HEA_antibiotic_history' \\\n",
    "  --o-visualization $data_dir/Functional/core-metrics-picrust2-GEN_age_cat_30s/adonis-results.qzv"
   ]
  },
  {
   "cell_type": "code",
   "execution_count": 46,
   "id": "b085485d-d5af-412a-872f-3d0c903bb5e1",
   "metadata": {},
   "outputs": [
    {
     "data": {
      "text/html": [
       "<div><img onload=\"(function(div, url){\n",
       "if (typeof require !== 'undefined') {\n",
       "    var baseURL = require.toUrl('').split('/').slice(0, -2).join('/');\n",
       "} else {\n",
       "    var baseURL = JSON.parse(\n",
       "        document.getElementById('jupyter-config-data').innerHTML\n",
       "    ).baseUrl.slice(0, -1);\n",
       "}\n",
       "url = baseURL + url;\n",
       "fetch(url).then(function(res) {\n",
       "    if (res.status === 404) {\n",
       "        div.innerHTML = 'Install QIIME 2 Jupyter extension with:<br />' +\n",
       "                        '<code>jupyter serverextension enable --py qiime2' +\n",
       "                        ' --sys-prefix</code><br />then restart your server.' +\n",
       "                        '<br /><br />(Interactive output not available on ' +\n",
       "                        'static notebook viewer services like nbviewer.)';\n",
       "    } else if (res.status === 409) {\n",
       "        div.innerHTML = 'Visualization no longer in scope. Re-run this cell' +\n",
       "                        ' to see the visualization.';\n",
       "    } else if (res.ok) {\n",
       "        url = res.url;\n",
       "        div.innerHTML = '<iframe src=\\'' + url + '\\' style=\\'' +\n",
       "                        'width: 100%; height: 700px; border: 0;\\'>' +\n",
       "                        '</iframe><hr />Open in a: <a href=\\'' + url + '\\'' +\n",
       "                        ' target=\\'_blank\\'>new window</a>'\n",
       "    } else {\n",
       "        div.innerHTML = 'Something has gone wrong. Check notebook server for' +\n",
       "                        ' errors.';\n",
       "    }\n",
       "});\n",
       "})(this.parentElement, '/qiime2/redirect?location=/tmp/qiime2-archive-48lq9p14')\" src=\"data:image/gif;base64,R0lGODlhAQABAIAAAP///wAAACH5BAEAAAAALAAAAAABAAEAAAICRAEAOw==\" /></div>"
      ],
      "text/plain": [
       "<visualization: Visualization uuid: eefc17d9-0333-49a3-bcbc-a153c64e7f50>"
      ]
     },
     "execution_count": 46,
     "metadata": {},
     "output_type": "execute_result"
    }
   ],
   "source": [
    "Visualization.load(f'{data_dir}/Functional/core-metrics-picrust2-GEN_age_cat_30s/jaccard_emperor.qzv')"
   ]
  },
  {
   "cell_type": "code",
   "execution_count": 47,
   "id": "714a4141-1138-44f5-85be-c54e98bab053",
   "metadata": {},
   "outputs": [
    {
     "data": {
      "text/html": [
       "<div><img onload=\"(function(div, url){\n",
       "if (typeof require !== 'undefined') {\n",
       "    var baseURL = require.toUrl('').split('/').slice(0, -2).join('/');\n",
       "} else {\n",
       "    var baseURL = JSON.parse(\n",
       "        document.getElementById('jupyter-config-data').innerHTML\n",
       "    ).baseUrl.slice(0, -1);\n",
       "}\n",
       "url = baseURL + url;\n",
       "fetch(url).then(function(res) {\n",
       "    if (res.status === 404) {\n",
       "        div.innerHTML = 'Install QIIME 2 Jupyter extension with:<br />' +\n",
       "                        '<code>jupyter serverextension enable --py qiime2' +\n",
       "                        ' --sys-prefix</code><br />then restart your server.' +\n",
       "                        '<br /><br />(Interactive output not available on ' +\n",
       "                        'static notebook viewer services like nbviewer.)';\n",
       "    } else if (res.status === 409) {\n",
       "        div.innerHTML = 'Visualization no longer in scope. Re-run this cell' +\n",
       "                        ' to see the visualization.';\n",
       "    } else if (res.ok) {\n",
       "        url = res.url;\n",
       "        div.innerHTML = '<iframe src=\\'' + url + '\\' style=\\'' +\n",
       "                        'width: 100%; height: 700px; border: 0;\\'>' +\n",
       "                        '</iframe><hr />Open in a: <a href=\\'' + url + '\\'' +\n",
       "                        ' target=\\'_blank\\'>new window</a>'\n",
       "    } else {\n",
       "        div.innerHTML = 'Something has gone wrong. Check notebook server for' +\n",
       "                        ' errors.';\n",
       "    }\n",
       "});\n",
       "})(this.parentElement, '/qiime2/redirect?location=/tmp/qiime2-archive-kv40sjeh')\" src=\"data:image/gif;base64,R0lGODlhAQABAIAAAP///wAAACH5BAEAAAAALAAAAAABAAEAAAICRAEAOw==\" /></div>"
      ],
      "text/plain": [
       "<visualization: Visualization uuid: d771d807-047a-4d17-b6f2-d45792199bc4>"
      ]
     },
     "execution_count": 47,
     "metadata": {},
     "output_type": "execute_result"
    }
   ],
   "source": [
    "Visualization.load(f'{data_dir}/Functional/core-metrics-picrust2-GEN_age_cat_30s/adonis-results.qzv')"
   ]
  },
  {
   "cell_type": "markdown",
   "id": "cf4a4b78-5760-4f75-93e0-133b3987af97",
   "metadata": {},
   "source": [
    "<a id='function'></a>\n",
    "## Functional redundancy: GEN_age_cat_40s"
   ]
  },
  {
   "cell_type": "code",
   "execution_count": 48,
   "id": "1a73dbe6-9b70-4f83-a724-726ede86c656",
   "metadata": {},
   "outputs": [
    {
     "name": "stdout",
     "output_type": "stream",
     "text": [
      "\u001b[32mSaved FeatureTable[Frequency] to: poop_data/Functional/pathway_abundance_GEN_age_cat_40s.qza\u001b[0m\n",
      "\u001b[0m"
     ]
    }
   ],
   "source": [
    "! qiime feature-table filter-samples \\\n",
    "    --i-table $data_dir/Differential_abundance/table_abund_species.qza \\\n",
    "    --m-metadata-file $data_dir/metadata.tsv \\\n",
    "    --p-where \"[GEN_age_cat]='40s'\" \\\n",
    "    --o-filtered-table $data_dir/Functional/pathway_abundance_GEN_age_cat_40s.qza"
   ]
  },
  {
   "cell_type": "code",
   "execution_count": 49,
   "id": "8377203f-7346-4d6f-b037-d0fe6e872634",
   "metadata": {},
   "outputs": [
    {
     "name": "stdout",
     "output_type": "stream",
     "text": [
      "\u001b[32mSaved FeatureTable[Frequency] to: poop_data/Functional/core-metrics-picrust2-GEN_age_cat_40s/rarefied_table.qza\u001b[0m\n",
      "\u001b[32mSaved SampleData[AlphaDiversity] to: poop_data/Functional/core-metrics-picrust2-GEN_age_cat_40s/observed_features_vector.qza\u001b[0m\n",
      "\u001b[32mSaved SampleData[AlphaDiversity] to: poop_data/Functional/core-metrics-picrust2-GEN_age_cat_40s/shannon_vector.qza\u001b[0m\n",
      "\u001b[32mSaved SampleData[AlphaDiversity] to: poop_data/Functional/core-metrics-picrust2-GEN_age_cat_40s/evenness_vector.qza\u001b[0m\n",
      "\u001b[32mSaved DistanceMatrix to: poop_data/Functional/core-metrics-picrust2-GEN_age_cat_40s/jaccard_distance_matrix.qza\u001b[0m\n",
      "\u001b[32mSaved DistanceMatrix to: poop_data/Functional/core-metrics-picrust2-GEN_age_cat_40s/bray_curtis_distance_matrix.qza\u001b[0m\n",
      "\u001b[32mSaved PCoAResults to: poop_data/Functional/core-metrics-picrust2-GEN_age_cat_40s/jaccard_pcoa_results.qza\u001b[0m\n",
      "\u001b[32mSaved PCoAResults to: poop_data/Functional/core-metrics-picrust2-GEN_age_cat_40s/bray_curtis_pcoa_results.qza\u001b[0m\n",
      "\u001b[32mSaved Visualization to: poop_data/Functional/core-metrics-picrust2-GEN_age_cat_40s/jaccard_emperor.qzv\u001b[0m\n",
      "\u001b[32mSaved Visualization to: poop_data/Functional/core-metrics-picrust2-GEN_age_cat_40s/bray_curtis_emperor.qzv\u001b[0m\n",
      "\u001b[0m"
     ]
    }
   ],
   "source": [
    "! qiime diversity core-metrics \\\n",
    "  --i-table $data_dir/Functional/pathway_abundance_GEN_age_cat_40s.qza \\\n",
    "  --m-metadata-file $data_dir/metadata.tsv \\\n",
    "  --p-sampling-depth 1000 \\\n",
    "  --p-n-jobs $n_jobs \\\n",
    "  --output-dir $data_dir/Functional/core-metrics-picrust2-GEN_age_cat_40s"
   ]
  },
  {
   "cell_type": "code",
   "execution_count": 50,
   "id": "534f243d-b709-471a-bb7e-cf41684018a8",
   "metadata": {},
   "outputs": [
    {
     "name": "stdout",
     "output_type": "stream",
     "text": [
      "\u001b[32mSaved Visualization to: poop_data/Functional/core-metrics-picrust2-GEN_age_cat_40s/adonis-results.qzv\u001b[0m\n",
      "\u001b[0m"
     ]
    }
   ],
   "source": [
    "! qiime diversity adonis \\\n",
    "  --i-distance-matrix $data_dir/Functional/core-metrics-picrust2-GEN_age_cat_40s/jaccard_distance_matrix.qza \\\n",
    "  --m-metadata-file $data_dir/metadata.tsv \\\n",
    "  --p-formula '(HEA_ibd+HEA_cdiff+HEA_sibo+HEA_acid_reflux+HEA_thyroid)*HEA_antibiotic_history' \\\n",
    "  --o-visualization $data_dir/Functional/core-metrics-picrust2-GEN_age_cat_40s/adonis-results.qzv"
   ]
  },
  {
   "cell_type": "code",
   "execution_count": 51,
   "id": "92caa20b-5353-4b0d-a535-7c1e8a4413ae",
   "metadata": {},
   "outputs": [
    {
     "data": {
      "text/html": [
       "<div><img onload=\"(function(div, url){\n",
       "if (typeof require !== 'undefined') {\n",
       "    var baseURL = require.toUrl('').split('/').slice(0, -2).join('/');\n",
       "} else {\n",
       "    var baseURL = JSON.parse(\n",
       "        document.getElementById('jupyter-config-data').innerHTML\n",
       "    ).baseUrl.slice(0, -1);\n",
       "}\n",
       "url = baseURL + url;\n",
       "fetch(url).then(function(res) {\n",
       "    if (res.status === 404) {\n",
       "        div.innerHTML = 'Install QIIME 2 Jupyter extension with:<br />' +\n",
       "                        '<code>jupyter serverextension enable --py qiime2' +\n",
       "                        ' --sys-prefix</code><br />then restart your server.' +\n",
       "                        '<br /><br />(Interactive output not available on ' +\n",
       "                        'static notebook viewer services like nbviewer.)';\n",
       "    } else if (res.status === 409) {\n",
       "        div.innerHTML = 'Visualization no longer in scope. Re-run this cell' +\n",
       "                        ' to see the visualization.';\n",
       "    } else if (res.ok) {\n",
       "        url = res.url;\n",
       "        div.innerHTML = '<iframe src=\\'' + url + '\\' style=\\'' +\n",
       "                        'width: 100%; height: 700px; border: 0;\\'>' +\n",
       "                        '</iframe><hr />Open in a: <a href=\\'' + url + '\\'' +\n",
       "                        ' target=\\'_blank\\'>new window</a>'\n",
       "    } else {\n",
       "        div.innerHTML = 'Something has gone wrong. Check notebook server for' +\n",
       "                        ' errors.';\n",
       "    }\n",
       "});\n",
       "})(this.parentElement, '/qiime2/redirect?location=/tmp/qiime2-archive-larvcbb5')\" src=\"data:image/gif;base64,R0lGODlhAQABAIAAAP///wAAACH5BAEAAAAALAAAAAABAAEAAAICRAEAOw==\" /></div>"
      ],
      "text/plain": [
       "<visualization: Visualization uuid: 2c929580-f206-4e5e-8726-c70750da069b>"
      ]
     },
     "execution_count": 51,
     "metadata": {},
     "output_type": "execute_result"
    }
   ],
   "source": [
    "Visualization.load(f'{data_dir}/Functional/core-metrics-picrust2-GEN_age_cat_40s/jaccard_emperor.qzv')"
   ]
  },
  {
   "cell_type": "code",
   "execution_count": 52,
   "id": "3f6fdc6e-6284-4cd1-b265-712ece3fd109",
   "metadata": {},
   "outputs": [
    {
     "data": {
      "text/html": [
       "<div><img onload=\"(function(div, url){\n",
       "if (typeof require !== 'undefined') {\n",
       "    var baseURL = require.toUrl('').split('/').slice(0, -2).join('/');\n",
       "} else {\n",
       "    var baseURL = JSON.parse(\n",
       "        document.getElementById('jupyter-config-data').innerHTML\n",
       "    ).baseUrl.slice(0, -1);\n",
       "}\n",
       "url = baseURL + url;\n",
       "fetch(url).then(function(res) {\n",
       "    if (res.status === 404) {\n",
       "        div.innerHTML = 'Install QIIME 2 Jupyter extension with:<br />' +\n",
       "                        '<code>jupyter serverextension enable --py qiime2' +\n",
       "                        ' --sys-prefix</code><br />then restart your server.' +\n",
       "                        '<br /><br />(Interactive output not available on ' +\n",
       "                        'static notebook viewer services like nbviewer.)';\n",
       "    } else if (res.status === 409) {\n",
       "        div.innerHTML = 'Visualization no longer in scope. Re-run this cell' +\n",
       "                        ' to see the visualization.';\n",
       "    } else if (res.ok) {\n",
       "        url = res.url;\n",
       "        div.innerHTML = '<iframe src=\\'' + url + '\\' style=\\'' +\n",
       "                        'width: 100%; height: 700px; border: 0;\\'>' +\n",
       "                        '</iframe><hr />Open in a: <a href=\\'' + url + '\\'' +\n",
       "                        ' target=\\'_blank\\'>new window</a>'\n",
       "    } else {\n",
       "        div.innerHTML = 'Something has gone wrong. Check notebook server for' +\n",
       "                        ' errors.';\n",
       "    }\n",
       "});\n",
       "})(this.parentElement, '/qiime2/redirect?location=/tmp/qiime2-archive-eji40iqo')\" src=\"data:image/gif;base64,R0lGODlhAQABAIAAAP///wAAACH5BAEAAAAALAAAAAABAAEAAAICRAEAOw==\" /></div>"
      ],
      "text/plain": [
       "<visualization: Visualization uuid: d4401600-50b9-4984-a1a0-abdce88618a3>"
      ]
     },
     "execution_count": 52,
     "metadata": {},
     "output_type": "execute_result"
    }
   ],
   "source": [
    "Visualization.load(f'{data_dir}/Functional/core-metrics-picrust2-GEN_age_cat_40s/adonis-results.qzv')"
   ]
  },
  {
   "cell_type": "markdown",
   "id": "746d4d8e-8427-4c8f-b0c9-d0e01c8c1c81",
   "metadata": {},
   "source": [
    "<a id='function'></a>\n",
    "## Functional redundancy: GEN_age_cat_50s"
   ]
  },
  {
   "cell_type": "code",
   "execution_count": 53,
   "id": "84bcf8dc-98a6-4eb2-b2ec-4fb0d700b0cd",
   "metadata": {},
   "outputs": [
    {
     "name": "stdout",
     "output_type": "stream",
     "text": [
      "\u001b[32mSaved FeatureTable[Frequency] to: poop_data/Functional/pathway_abundance_GEN_age_cat_50s.qza\u001b[0m\n",
      "\u001b[0m"
     ]
    }
   ],
   "source": [
    "! qiime feature-table filter-samples \\\n",
    "    --i-table $data_dir/Differential_abundance/table_abund_species.qza \\\n",
    "    --m-metadata-file $data_dir/metadata.tsv \\\n",
    "    --p-where \"[GEN_age_cat]='50s'\" \\\n",
    "    --o-filtered-table $data_dir/Functional/pathway_abundance_GEN_age_cat_50s.qza"
   ]
  },
  {
   "cell_type": "code",
   "execution_count": 54,
   "id": "79adbf41-429a-40af-8ccf-2e27492b0ce5",
   "metadata": {},
   "outputs": [
    {
     "name": "stdout",
     "output_type": "stream",
     "text": [
      "\u001b[32mSaved FeatureTable[Frequency] to: poop_data/Functional/core-metrics-picrust2-GEN_age_cat_50s/rarefied_table.qza\u001b[0m\n",
      "\u001b[32mSaved SampleData[AlphaDiversity] to: poop_data/Functional/core-metrics-picrust2-GEN_age_cat_50s/observed_features_vector.qza\u001b[0m\n",
      "\u001b[32mSaved SampleData[AlphaDiversity] to: poop_data/Functional/core-metrics-picrust2-GEN_age_cat_50s/shannon_vector.qza\u001b[0m\n",
      "\u001b[32mSaved SampleData[AlphaDiversity] to: poop_data/Functional/core-metrics-picrust2-GEN_age_cat_50s/evenness_vector.qza\u001b[0m\n",
      "\u001b[32mSaved DistanceMatrix to: poop_data/Functional/core-metrics-picrust2-GEN_age_cat_50s/jaccard_distance_matrix.qza\u001b[0m\n",
      "\u001b[32mSaved DistanceMatrix to: poop_data/Functional/core-metrics-picrust2-GEN_age_cat_50s/bray_curtis_distance_matrix.qza\u001b[0m\n",
      "\u001b[32mSaved PCoAResults to: poop_data/Functional/core-metrics-picrust2-GEN_age_cat_50s/jaccard_pcoa_results.qza\u001b[0m\n",
      "\u001b[32mSaved PCoAResults to: poop_data/Functional/core-metrics-picrust2-GEN_age_cat_50s/bray_curtis_pcoa_results.qza\u001b[0m\n",
      "\u001b[32mSaved Visualization to: poop_data/Functional/core-metrics-picrust2-GEN_age_cat_50s/jaccard_emperor.qzv\u001b[0m\n",
      "\u001b[32mSaved Visualization to: poop_data/Functional/core-metrics-picrust2-GEN_age_cat_50s/bray_curtis_emperor.qzv\u001b[0m\n",
      "\u001b[0m"
     ]
    }
   ],
   "source": [
    "! qiime diversity core-metrics \\\n",
    "  --i-table $data_dir/Functional/pathway_abundance_GEN_age_cat_50s.qza \\\n",
    "  --m-metadata-file $data_dir/metadata.tsv \\\n",
    "  --p-sampling-depth 1000 \\\n",
    "  --p-n-jobs $n_jobs \\\n",
    "  --output-dir $data_dir/Functional/core-metrics-picrust2-GEN_age_cat_50s"
   ]
  },
  {
   "cell_type": "code",
   "execution_count": 55,
   "id": "e29f2c88-2792-46c6-882b-fd38c373064e",
   "metadata": {},
   "outputs": [
    {
     "name": "stdout",
     "output_type": "stream",
     "text": [
      "\u001b[32mSaved Visualization to: poop_data/Functional/core-metrics-picrust2-GEN_age_cat_50s/adonis-results.qzv\u001b[0m\n",
      "\u001b[0m"
     ]
    }
   ],
   "source": [
    "! qiime diversity adonis \\\n",
    "  --i-distance-matrix $data_dir/Functional/core-metrics-picrust2-GEN_age_cat_50s/jaccard_distance_matrix.qza \\\n",
    "  --m-metadata-file $data_dir/metadata.tsv \\\n",
    "  --p-formula '(HEA_ibd+HEA_cdiff+HEA_sibo+HEA_acid_reflux+HEA_thyroid)*HEA_antibiotic_history' \\\n",
    "  --o-visualization $data_dir/Functional/core-metrics-picrust2-GEN_age_cat_50s/adonis-results.qzv"
   ]
  },
  {
   "cell_type": "code",
   "execution_count": 56,
   "id": "2474e753-2447-4747-9456-a9bd8d348034",
   "metadata": {},
   "outputs": [
    {
     "data": {
      "text/html": [
       "<div><img onload=\"(function(div, url){\n",
       "if (typeof require !== 'undefined') {\n",
       "    var baseURL = require.toUrl('').split('/').slice(0, -2).join('/');\n",
       "} else {\n",
       "    var baseURL = JSON.parse(\n",
       "        document.getElementById('jupyter-config-data').innerHTML\n",
       "    ).baseUrl.slice(0, -1);\n",
       "}\n",
       "url = baseURL + url;\n",
       "fetch(url).then(function(res) {\n",
       "    if (res.status === 404) {\n",
       "        div.innerHTML = 'Install QIIME 2 Jupyter extension with:<br />' +\n",
       "                        '<code>jupyter serverextension enable --py qiime2' +\n",
       "                        ' --sys-prefix</code><br />then restart your server.' +\n",
       "                        '<br /><br />(Interactive output not available on ' +\n",
       "                        'static notebook viewer services like nbviewer.)';\n",
       "    } else if (res.status === 409) {\n",
       "        div.innerHTML = 'Visualization no longer in scope. Re-run this cell' +\n",
       "                        ' to see the visualization.';\n",
       "    } else if (res.ok) {\n",
       "        url = res.url;\n",
       "        div.innerHTML = '<iframe src=\\'' + url + '\\' style=\\'' +\n",
       "                        'width: 100%; height: 700px; border: 0;\\'>' +\n",
       "                        '</iframe><hr />Open in a: <a href=\\'' + url + '\\'' +\n",
       "                        ' target=\\'_blank\\'>new window</a>'\n",
       "    } else {\n",
       "        div.innerHTML = 'Something has gone wrong. Check notebook server for' +\n",
       "                        ' errors.';\n",
       "    }\n",
       "});\n",
       "})(this.parentElement, '/qiime2/redirect?location=/tmp/qiime2-archive-9bq8ytks')\" src=\"data:image/gif;base64,R0lGODlhAQABAIAAAP///wAAACH5BAEAAAAALAAAAAABAAEAAAICRAEAOw==\" /></div>"
      ],
      "text/plain": [
       "<visualization: Visualization uuid: 96510ca3-ec08-45b0-96f4-a09f186832a8>"
      ]
     },
     "execution_count": 56,
     "metadata": {},
     "output_type": "execute_result"
    }
   ],
   "source": [
    "Visualization.load(f'{data_dir}/Functional/core-metrics-picrust2-GEN_age_cat_50s/jaccard_emperor.qzv')"
   ]
  },
  {
   "cell_type": "code",
   "execution_count": 57,
   "id": "46338de9-ccc7-42fb-8808-7503924ca480",
   "metadata": {},
   "outputs": [
    {
     "data": {
      "text/html": [
       "<div><img onload=\"(function(div, url){\n",
       "if (typeof require !== 'undefined') {\n",
       "    var baseURL = require.toUrl('').split('/').slice(0, -2).join('/');\n",
       "} else {\n",
       "    var baseURL = JSON.parse(\n",
       "        document.getElementById('jupyter-config-data').innerHTML\n",
       "    ).baseUrl.slice(0, -1);\n",
       "}\n",
       "url = baseURL + url;\n",
       "fetch(url).then(function(res) {\n",
       "    if (res.status === 404) {\n",
       "        div.innerHTML = 'Install QIIME 2 Jupyter extension with:<br />' +\n",
       "                        '<code>jupyter serverextension enable --py qiime2' +\n",
       "                        ' --sys-prefix</code><br />then restart your server.' +\n",
       "                        '<br /><br />(Interactive output not available on ' +\n",
       "                        'static notebook viewer services like nbviewer.)';\n",
       "    } else if (res.status === 409) {\n",
       "        div.innerHTML = 'Visualization no longer in scope. Re-run this cell' +\n",
       "                        ' to see the visualization.';\n",
       "    } else if (res.ok) {\n",
       "        url = res.url;\n",
       "        div.innerHTML = '<iframe src=\\'' + url + '\\' style=\\'' +\n",
       "                        'width: 100%; height: 700px; border: 0;\\'>' +\n",
       "                        '</iframe><hr />Open in a: <a href=\\'' + url + '\\'' +\n",
       "                        ' target=\\'_blank\\'>new window</a>'\n",
       "    } else {\n",
       "        div.innerHTML = 'Something has gone wrong. Check notebook server for' +\n",
       "                        ' errors.';\n",
       "    }\n",
       "});\n",
       "})(this.parentElement, '/qiime2/redirect?location=/tmp/qiime2-archive-xkq1c0mx')\" src=\"data:image/gif;base64,R0lGODlhAQABAIAAAP///wAAACH5BAEAAAAALAAAAAABAAEAAAICRAEAOw==\" /></div>"
      ],
      "text/plain": [
       "<visualization: Visualization uuid: b755e59f-2068-459d-aa6d-c6c75b1d101c>"
      ]
     },
     "execution_count": 57,
     "metadata": {},
     "output_type": "execute_result"
    }
   ],
   "source": [
    "Visualization.load(f'{data_dir}/Functional/core-metrics-picrust2-GEN_age_cat_50s/adonis-results.qzv')"
   ]
  },
  {
   "cell_type": "markdown",
   "id": "1b47bfb9-cc81-4752-8e54-dbe07ee0d48d",
   "metadata": {},
   "source": [
    "<a id='function'></a>\n",
    "## Functional redundancy: GEN_age_cat_60s"
   ]
  },
  {
   "cell_type": "code",
   "execution_count": 58,
   "id": "6f2c3776-0e14-4e74-b9f6-66655670c880",
   "metadata": {},
   "outputs": [
    {
     "name": "stdout",
     "output_type": "stream",
     "text": [
      "\u001b[32mSaved FeatureTable[Frequency] to: poop_data/Functional/pathway_abundance_GEN_age_cat_60s.qza\u001b[0m\n",
      "\u001b[0m"
     ]
    }
   ],
   "source": [
    "! qiime feature-table filter-samples \\\n",
    "    --i-table $data_dir/Differential_abundance/table_abund_species.qza \\\n",
    "    --m-metadata-file $data_dir/metadata.tsv \\\n",
    "    --p-where \"[GEN_age_cat]='60s'\" \\\n",
    "    --o-filtered-table $data_dir/Functional/pathway_abundance_GEN_age_cat_60s.qza"
   ]
  },
  {
   "cell_type": "code",
   "execution_count": 59,
   "id": "9cbffb00-0c55-4c34-98bb-21a40d49649e",
   "metadata": {},
   "outputs": [
    {
     "name": "stdout",
     "output_type": "stream",
     "text": [
      "\u001b[32mSaved FeatureTable[Frequency] to: poop_data/Functional/core-metrics-picrust2-GEN_age_cat_60s/rarefied_table.qza\u001b[0m\n",
      "\u001b[32mSaved SampleData[AlphaDiversity] to: poop_data/Functional/core-metrics-picrust2-GEN_age_cat_60s/observed_features_vector.qza\u001b[0m\n",
      "\u001b[32mSaved SampleData[AlphaDiversity] to: poop_data/Functional/core-metrics-picrust2-GEN_age_cat_60s/shannon_vector.qza\u001b[0m\n",
      "\u001b[32mSaved SampleData[AlphaDiversity] to: poop_data/Functional/core-metrics-picrust2-GEN_age_cat_60s/evenness_vector.qza\u001b[0m\n",
      "\u001b[32mSaved DistanceMatrix to: poop_data/Functional/core-metrics-picrust2-GEN_age_cat_60s/jaccard_distance_matrix.qza\u001b[0m\n",
      "\u001b[32mSaved DistanceMatrix to: poop_data/Functional/core-metrics-picrust2-GEN_age_cat_60s/bray_curtis_distance_matrix.qza\u001b[0m\n",
      "\u001b[32mSaved PCoAResults to: poop_data/Functional/core-metrics-picrust2-GEN_age_cat_60s/jaccard_pcoa_results.qza\u001b[0m\n",
      "\u001b[32mSaved PCoAResults to: poop_data/Functional/core-metrics-picrust2-GEN_age_cat_60s/bray_curtis_pcoa_results.qza\u001b[0m\n",
      "\u001b[32mSaved Visualization to: poop_data/Functional/core-metrics-picrust2-GEN_age_cat_60s/jaccard_emperor.qzv\u001b[0m\n",
      "\u001b[32mSaved Visualization to: poop_data/Functional/core-metrics-picrust2-GEN_age_cat_60s/bray_curtis_emperor.qzv\u001b[0m\n",
      "\u001b[0m"
     ]
    }
   ],
   "source": [
    "! qiime diversity core-metrics \\\n",
    "  --i-table $data_dir/Functional/pathway_abundance_GEN_age_cat_60s.qza \\\n",
    "  --m-metadata-file $data_dir/metadata.tsv \\\n",
    "  --p-sampling-depth 1000 \\\n",
    "  --p-n-jobs $n_jobs \\\n",
    "  --output-dir $data_dir/Functional/core-metrics-picrust2-GEN_age_cat_60s"
   ]
  },
  {
   "cell_type": "code",
   "execution_count": 60,
   "id": "435c22f0-7f94-42d6-a9fc-1c249c4e1220",
   "metadata": {},
   "outputs": [
    {
     "name": "stdout",
     "output_type": "stream",
     "text": [
      "\u001b[32mSaved Visualization to: poop_data/Functional/core-metrics-picrust2-GEN_age_cat_60s/adonis-results.qzv\u001b[0m\n",
      "\u001b[0m"
     ]
    }
   ],
   "source": [
    "! qiime diversity adonis \\\n",
    "  --i-distance-matrix $data_dir/Functional/core-metrics-picrust2-GEN_age_cat_60s/jaccard_distance_matrix.qza \\\n",
    "  --m-metadata-file $data_dir/metadata.tsv \\\n",
    "  --p-formula '(HEA_ibd+HEA_cdiff+HEA_sibo+HEA_acid_reflux+HEA_thyroid)*HEA_antibiotic_history' \\\n",
    "  --o-visualization $data_dir/Functional/core-metrics-picrust2-GEN_age_cat_60s/adonis-results.qzv"
   ]
  },
  {
   "cell_type": "code",
   "execution_count": 61,
   "id": "0aac1a61-cd44-468b-97a0-8aa2c15bc526",
   "metadata": {},
   "outputs": [
    {
     "data": {
      "text/html": [
       "<div><img onload=\"(function(div, url){\n",
       "if (typeof require !== 'undefined') {\n",
       "    var baseURL = require.toUrl('').split('/').slice(0, -2).join('/');\n",
       "} else {\n",
       "    var baseURL = JSON.parse(\n",
       "        document.getElementById('jupyter-config-data').innerHTML\n",
       "    ).baseUrl.slice(0, -1);\n",
       "}\n",
       "url = baseURL + url;\n",
       "fetch(url).then(function(res) {\n",
       "    if (res.status === 404) {\n",
       "        div.innerHTML = 'Install QIIME 2 Jupyter extension with:<br />' +\n",
       "                        '<code>jupyter serverextension enable --py qiime2' +\n",
       "                        ' --sys-prefix</code><br />then restart your server.' +\n",
       "                        '<br /><br />(Interactive output not available on ' +\n",
       "                        'static notebook viewer services like nbviewer.)';\n",
       "    } else if (res.status === 409) {\n",
       "        div.innerHTML = 'Visualization no longer in scope. Re-run this cell' +\n",
       "                        ' to see the visualization.';\n",
       "    } else if (res.ok) {\n",
       "        url = res.url;\n",
       "        div.innerHTML = '<iframe src=\\'' + url + '\\' style=\\'' +\n",
       "                        'width: 100%; height: 700px; border: 0;\\'>' +\n",
       "                        '</iframe><hr />Open in a: <a href=\\'' + url + '\\'' +\n",
       "                        ' target=\\'_blank\\'>new window</a>'\n",
       "    } else {\n",
       "        div.innerHTML = 'Something has gone wrong. Check notebook server for' +\n",
       "                        ' errors.';\n",
       "    }\n",
       "});\n",
       "})(this.parentElement, '/qiime2/redirect?location=/tmp/qiime2-archive-f7sq5kbj')\" src=\"data:image/gif;base64,R0lGODlhAQABAIAAAP///wAAACH5BAEAAAAALAAAAAABAAEAAAICRAEAOw==\" /></div>"
      ],
      "text/plain": [
       "<visualization: Visualization uuid: 5c3f7107-b19d-48c4-bdae-149e66751134>"
      ]
     },
     "execution_count": 61,
     "metadata": {},
     "output_type": "execute_result"
    }
   ],
   "source": [
    "Visualization.load(f'{data_dir}/Functional/core-metrics-picrust2-GEN_age_cat_60s/jaccard_emperor.qzv')"
   ]
  },
  {
   "cell_type": "code",
   "execution_count": 62,
   "id": "163d1935-cced-421a-b668-ceb1ce59bafd",
   "metadata": {},
   "outputs": [
    {
     "data": {
      "text/html": [
       "<div><img onload=\"(function(div, url){\n",
       "if (typeof require !== 'undefined') {\n",
       "    var baseURL = require.toUrl('').split('/').slice(0, -2).join('/');\n",
       "} else {\n",
       "    var baseURL = JSON.parse(\n",
       "        document.getElementById('jupyter-config-data').innerHTML\n",
       "    ).baseUrl.slice(0, -1);\n",
       "}\n",
       "url = baseURL + url;\n",
       "fetch(url).then(function(res) {\n",
       "    if (res.status === 404) {\n",
       "        div.innerHTML = 'Install QIIME 2 Jupyter extension with:<br />' +\n",
       "                        '<code>jupyter serverextension enable --py qiime2' +\n",
       "                        ' --sys-prefix</code><br />then restart your server.' +\n",
       "                        '<br /><br />(Interactive output not available on ' +\n",
       "                        'static notebook viewer services like nbviewer.)';\n",
       "    } else if (res.status === 409) {\n",
       "        div.innerHTML = 'Visualization no longer in scope. Re-run this cell' +\n",
       "                        ' to see the visualization.';\n",
       "    } else if (res.ok) {\n",
       "        url = res.url;\n",
       "        div.innerHTML = '<iframe src=\\'' + url + '\\' style=\\'' +\n",
       "                        'width: 100%; height: 700px; border: 0;\\'>' +\n",
       "                        '</iframe><hr />Open in a: <a href=\\'' + url + '\\'' +\n",
       "                        ' target=\\'_blank\\'>new window</a>'\n",
       "    } else {\n",
       "        div.innerHTML = 'Something has gone wrong. Check notebook server for' +\n",
       "                        ' errors.';\n",
       "    }\n",
       "});\n",
       "})(this.parentElement, '/qiime2/redirect?location=/tmp/qiime2-archive-cet07rvj')\" src=\"data:image/gif;base64,R0lGODlhAQABAIAAAP///wAAACH5BAEAAAAALAAAAAABAAEAAAICRAEAOw==\" /></div>"
      ],
      "text/plain": [
       "<visualization: Visualization uuid: 01cf63f5-e868-41d9-a592-11b24b8e526c>"
      ]
     },
     "execution_count": 62,
     "metadata": {},
     "output_type": "execute_result"
    }
   ],
   "source": [
    "Visualization.load(f'{data_dir}/Functional/core-metrics-picrust2-GEN_age_cat_60s/adonis-results.qzv')"
   ]
  },
  {
   "cell_type": "markdown",
   "id": "b5f9712a-9102-4d14-b413-04c97abc7334",
   "metadata": {},
   "source": [
    "<a id='function'></a>\n",
    "## Functional redundancy: GEN_age_cat_70+"
   ]
  },
  {
   "cell_type": "code",
   "execution_count": 66,
   "id": "760c7b20-5e09-4b8f-9d08-053daf43170c",
   "metadata": {},
   "outputs": [
    {
     "name": "stdout",
     "output_type": "stream",
     "text": [
      "\u001b[32mSaved FeatureTable[Frequency] to: poop_data/Functional/pathway_abundance_GEN_age_cat_70.qza\u001b[0m\n",
      "\u001b[0m"
     ]
    }
   ],
   "source": [
    "! qiime feature-table filter-samples \\\n",
    "    --i-table $data_dir/Differential_abundance/table_abund_species.qza \\\n",
    "    --m-metadata-file $data_dir/metadata.tsv \\\n",
    "    --p-where \"[GEN_age_cat]='70+'\" \\\n",
    "    --o-filtered-table $data_dir/Functional/pathway_abundance_GEN_age_cat_70.qza"
   ]
  },
  {
   "cell_type": "code",
   "execution_count": 67,
   "id": "1a1fcf1c-8b25-4768-871a-4c3e28830a34",
   "metadata": {},
   "outputs": [
    {
     "name": "stdout",
     "output_type": "stream",
     "text": [
      "\u001b[32mSaved FeatureTable[Frequency] to: poop_data/Functional/core-metrics-picrust2-GEN_age_cat_70/rarefied_table.qza\u001b[0m\n",
      "\u001b[32mSaved SampleData[AlphaDiversity] to: poop_data/Functional/core-metrics-picrust2-GEN_age_cat_70/observed_features_vector.qza\u001b[0m\n",
      "\u001b[32mSaved SampleData[AlphaDiversity] to: poop_data/Functional/core-metrics-picrust2-GEN_age_cat_70/shannon_vector.qza\u001b[0m\n",
      "\u001b[32mSaved SampleData[AlphaDiversity] to: poop_data/Functional/core-metrics-picrust2-GEN_age_cat_70/evenness_vector.qza\u001b[0m\n",
      "\u001b[32mSaved DistanceMatrix to: poop_data/Functional/core-metrics-picrust2-GEN_age_cat_70/jaccard_distance_matrix.qza\u001b[0m\n",
      "\u001b[32mSaved DistanceMatrix to: poop_data/Functional/core-metrics-picrust2-GEN_age_cat_70/bray_curtis_distance_matrix.qza\u001b[0m\n",
      "\u001b[32mSaved PCoAResults to: poop_data/Functional/core-metrics-picrust2-GEN_age_cat_70/jaccard_pcoa_results.qza\u001b[0m\n",
      "\u001b[32mSaved PCoAResults to: poop_data/Functional/core-metrics-picrust2-GEN_age_cat_70/bray_curtis_pcoa_results.qza\u001b[0m\n",
      "\u001b[32mSaved Visualization to: poop_data/Functional/core-metrics-picrust2-GEN_age_cat_70/jaccard_emperor.qzv\u001b[0m\n",
      "\u001b[32mSaved Visualization to: poop_data/Functional/core-metrics-picrust2-GEN_age_cat_70/bray_curtis_emperor.qzv\u001b[0m\n",
      "\u001b[0m"
     ]
    }
   ],
   "source": [
    "! qiime diversity core-metrics \\\n",
    "  --i-table $data_dir/Functional/pathway_abundance_GEN_age_cat_70.qza \\\n",
    "  --m-metadata-file $data_dir/metadata.tsv \\\n",
    "  --p-sampling-depth 1000 \\\n",
    "  --p-n-jobs $n_jobs \\\n",
    "  --output-dir $data_dir/Functional/core-metrics-picrust2-GEN_age_cat_70"
   ]
  },
  {
   "cell_type": "code",
   "execution_count": 68,
   "id": "3315bc74-dda1-4ea4-abde-b89c918ba853",
   "metadata": {},
   "outputs": [
    {
     "name": "stdout",
     "output_type": "stream",
     "text": [
      "\u001b[31m\u001b[1mPlugin error from diversity:\n",
      "\n",
      "  Command '['run_adonis.R', '/tmp/tmphwep86hm/dm.tsv', '/tmp/tmphwep86hm/md.tsv', '(HEA_ibd+HEA_cdiff+HEA_sibo+HEA_acid_reflux+HEA_thyroid)*HEA_antibiotic_history', '999', '1', '/tmp/qiime2-temp-ttunvjck/adonis.tsv']' returned non-zero exit status 1.\n",
      "\n",
      "Debug info has been saved to /tmp/qiime2-q2cli-err-dmhxkdmd.log\u001b[0m\n",
      "\u001b[0m"
     ]
    }
   ],
   "source": [
    "! qiime diversity adonis \\\n",
    "  --i-distance-matrix $data_dir/Functional/core-metrics-picrust2-GEN_age_cat_70/jaccard_distance_matrix.qza \\\n",
    "  --m-metadata-file $data_dir/metadata.tsv \\\n",
    "  --p-formula '(HEA_ibd+HEA_cdiff+HEA_sibo+HEA_acid_reflux+HEA_thyroid)*HEA_antibiotic_history' \\\n",
    "  --o-visualization $data_dir/Functional/core-metrics-picrust2-GEN_age_cat_70/adonis-results.qzv"
   ]
  },
  {
   "cell_type": "code",
   "execution_count": null,
   "id": "0bfef5db-7b56-4469-b813-99e5bfa4a090",
   "metadata": {},
   "outputs": [],
   "source": [
    "Visualization.load(f'{data_dir}/Functional/core-metrics-picrust2-GEN_age_cat_70+/jaccard_emperor.qzv')"
   ]
  },
  {
   "cell_type": "code",
   "execution_count": null,
   "id": "f45b7728-6917-4681-95b3-8d75fef8d12f",
   "metadata": {},
   "outputs": [],
   "source": [
    "Visualization.load(f'{data_dir}/Functional/core-metrics-picrust2-GEN_age_cat_70+/adonis-results.qzv')"
   ]
  }
 ],
 "metadata": {
  "kernelspec": {
   "display_name": "Python 3 (ipykernel)",
   "language": "python",
   "name": "python3"
  },
  "language_info": {
   "codemirror_mode": {
    "name": "ipython",
    "version": 3
   },
   "file_extension": ".py",
   "mimetype": "text/x-python",
   "name": "python",
   "nbconvert_exporter": "python",
   "pygments_lexer": "ipython3",
   "version": "3.8.13"
  }
 },
 "nbformat": 4,
 "nbformat_minor": 5
}
