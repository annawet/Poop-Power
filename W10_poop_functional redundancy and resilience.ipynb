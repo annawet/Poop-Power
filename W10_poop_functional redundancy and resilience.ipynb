{
 "cells": [
  {
   "cell_type": "code",
   "execution_count": 1,
   "id": "f9365fb9",
   "metadata": {},
   "outputs": [],
   "source": [
    "import os\n",
    "import qiime2 as q2\n",
    "import pandas as pd\n",
    "from qiime2 import Visualization\n",
    "\n",
    "data_dir = 'poop_data'\n",
    "if not os.path.isdir(data_dir):\n",
    "    os.makedirs(data_dir)\n",
    "    \n",
    "# do not increase this value!\n",
    "n_jobs = 3\n",
    "    \n",
    "%matplotlib inline"
   ]
  },
  {
   "cell_type": "markdown",
   "id": "c86eb265",
   "metadata": {},
   "source": [
    "<a id='function'></a>\n",
    "## Functional redundancy: GEN_sex_female"
   ]
  },
  {
   "cell_type": "code",
   "execution_count": 15,
   "id": "eb2aac38-d1d4-40cc-8166-66dcd11c57f1",
   "metadata": {},
   "outputs": [
    {
     "name": "stdout",
     "output_type": "stream",
     "text": [
      "\u001b[32mSaved FeatureTable[Frequency] to: poop_data/Functional/pathway_abundance_GEN_sex_female.qza\u001b[0m\n",
      "\u001b[0m"
     ]
    }
   ],
   "source": [
    "! qiime feature-table filter-samples \\\n",
    "    --i-table $data_dir/Differential_abundance/table_abund_species.qza \\\n",
    "    --m-metadata-file $data_dir/metadata.tsv \\\n",
    "    --p-where \"[GEN_sex]='female'\" \\\n",
    "    --o-filtered-table $data_dir/Functional/pathway_abundance_GEN_sex_female.qza"
   ]
  },
  {
   "cell_type": "code",
   "execution_count": 16,
   "id": "a4bd8034-2c1f-4f94-9cae-d5feee531781",
   "metadata": {},
   "outputs": [
    {
     "name": "stdout",
     "output_type": "stream",
     "text": [
      "\u001b[32mSaved FeatureTable[Frequency] to: poop_data/Functional/core-metrics-picrust2-GEN_sex_female/rarefied_table.qza\u001b[0m\n",
      "\u001b[32mSaved SampleData[AlphaDiversity] to: poop_data/Functional/core-metrics-picrust2-GEN_sex_female/observed_features_vector.qza\u001b[0m\n",
      "\u001b[32mSaved SampleData[AlphaDiversity] to: poop_data/Functional/core-metrics-picrust2-GEN_sex_female/shannon_vector.qza\u001b[0m\n",
      "\u001b[32mSaved SampleData[AlphaDiversity] to: poop_data/Functional/core-metrics-picrust2-GEN_sex_female/evenness_vector.qza\u001b[0m\n",
      "\u001b[32mSaved DistanceMatrix to: poop_data/Functional/core-metrics-picrust2-GEN_sex_female/jaccard_distance_matrix.qza\u001b[0m\n",
      "\u001b[32mSaved DistanceMatrix to: poop_data/Functional/core-metrics-picrust2-GEN_sex_female/bray_curtis_distance_matrix.qza\u001b[0m\n",
      "\u001b[32mSaved PCoAResults to: poop_data/Functional/core-metrics-picrust2-GEN_sex_female/jaccard_pcoa_results.qza\u001b[0m\n",
      "\u001b[32mSaved PCoAResults to: poop_data/Functional/core-metrics-picrust2-GEN_sex_female/bray_curtis_pcoa_results.qza\u001b[0m\n",
      "\u001b[32mSaved Visualization to: poop_data/Functional/core-metrics-picrust2-GEN_sex_female/jaccard_emperor.qzv\u001b[0m\n",
      "\u001b[32mSaved Visualization to: poop_data/Functional/core-metrics-picrust2-GEN_sex_female/bray_curtis_emperor.qzv\u001b[0m\n",
      "\u001b[0m"
     ]
    }
   ],
   "source": [
    "! qiime diversity core-metrics \\\n",
    "  --i-table $data_dir/Functional/pathway_abundance_GEN_sex_female.qza \\\n",
    "  --m-metadata-file $data_dir/metadata.tsv \\\n",
    "  --p-sampling-depth 1000 \\\n",
    "  --p-n-jobs $n_jobs \\\n",
    "  --output-dir $data_dir/Functional/core-metrics-picrust2-GEN_sex_female"
   ]
  },
  {
   "cell_type": "code",
   "execution_count": 17,
   "id": "e23b5ed3-189c-4564-9114-e6bacee518a8",
   "metadata": {},
   "outputs": [
    {
     "name": "stdout",
     "output_type": "stream",
     "text": [
      "\u001b[32mSaved Visualization to: poop_data/Functional/core-metrics-picrust2-GEN_sex_female/adonis-results.qzv\u001b[0m\n",
      "\u001b[0m"
     ]
    }
   ],
   "source": [
    "! qiime diversity adonis \\\n",
    "  --i-distance-matrix $data_dir/Functional/core-metrics-picrust2-GEN_sex_female/jaccard_distance_matrix.qza \\\n",
    "  --m-metadata-file $data_dir/metadata.tsv \\\n",
    "  --p-formula 'HEA_ibd*HEA_cdiff*HEA_sibo*HEA_acid_reflux*HEA_thyroid' \\\n",
    "  --o-visualization $data_dir/Functional/core-metrics-picrust2-GEN_sex_female/adonis-results.qzv"
   ]
  },
  {
   "cell_type": "code",
   "execution_count": 2,
   "id": "1ec9b14c",
   "metadata": {},
   "outputs": [
    {
     "data": {
      "text/html": [
       "<div><img onload=\"(function(div, url){\n",
       "if (typeof require !== 'undefined') {\n",
       "    var baseURL = require.toUrl('').split('/').slice(0, -2).join('/');\n",
       "} else {\n",
       "    var baseURL = JSON.parse(\n",
       "        document.getElementById('jupyter-config-data').innerHTML\n",
       "    ).baseUrl.slice(0, -1);\n",
       "}\n",
       "url = baseURL + url;\n",
       "fetch(url).then(function(res) {\n",
       "    if (res.status === 404) {\n",
       "        div.innerHTML = 'Install QIIME 2 Jupyter extension with:<br />' +\n",
       "                        '<code>jupyter serverextension enable --py qiime2' +\n",
       "                        ' --sys-prefix</code><br />then restart your server.' +\n",
       "                        '<br /><br />(Interactive output not available on ' +\n",
       "                        'static notebook viewer services like nbviewer.)';\n",
       "    } else if (res.status === 409) {\n",
       "        div.innerHTML = 'Visualization no longer in scope. Re-run this cell' +\n",
       "                        ' to see the visualization.';\n",
       "    } else if (res.ok) {\n",
       "        url = res.url;\n",
       "        div.innerHTML = '<iframe src=\\'' + url + '\\' style=\\'' +\n",
       "                        'width: 100%; height: 700px; border: 0;\\'>' +\n",
       "                        '</iframe><hr />Open in a: <a href=\\'' + url + '\\'' +\n",
       "                        ' target=\\'_blank\\'>new window</a>'\n",
       "    } else {\n",
       "        div.innerHTML = 'Something has gone wrong. Check notebook server for' +\n",
       "                        ' errors.';\n",
       "    }\n",
       "});\n",
       "})(this.parentElement, '/qiime2/redirect?location=/tmp/qiime2-archive-48c95d_q')\" src=\"data:image/gif;base64,R0lGODlhAQABAIAAAP///wAAACH5BAEAAAAALAAAAAABAAEAAAICRAEAOw==\" /></div>"
      ],
      "text/plain": [
       "<visualization: Visualization uuid: 5a7efdc5-a528-43d0-80a9-2a0f9288819e>"
      ]
     },
     "execution_count": 2,
     "metadata": {},
     "output_type": "execute_result"
    }
   ],
   "source": [
    "Visualization.load(f'{data_dir}/Functional/core-metrics-picrust2-GEN_sex_female/jaccard_emperor.qzv')"
   ]
  },
  {
   "cell_type": "code",
   "execution_count": 3,
   "id": "814fd73c",
   "metadata": {},
   "outputs": [
    {
     "data": {
      "text/html": [
       "<div><img onload=\"(function(div, url){\n",
       "if (typeof require !== 'undefined') {\n",
       "    var baseURL = require.toUrl('').split('/').slice(0, -2).join('/');\n",
       "} else {\n",
       "    var baseURL = JSON.parse(\n",
       "        document.getElementById('jupyter-config-data').innerHTML\n",
       "    ).baseUrl.slice(0, -1);\n",
       "}\n",
       "url = baseURL + url;\n",
       "fetch(url).then(function(res) {\n",
       "    if (res.status === 404) {\n",
       "        div.innerHTML = 'Install QIIME 2 Jupyter extension with:<br />' +\n",
       "                        '<code>jupyter serverextension enable --py qiime2' +\n",
       "                        ' --sys-prefix</code><br />then restart your server.' +\n",
       "                        '<br /><br />(Interactive output not available on ' +\n",
       "                        'static notebook viewer services like nbviewer.)';\n",
       "    } else if (res.status === 409) {\n",
       "        div.innerHTML = 'Visualization no longer in scope. Re-run this cell' +\n",
       "                        ' to see the visualization.';\n",
       "    } else if (res.ok) {\n",
       "        url = res.url;\n",
       "        div.innerHTML = '<iframe src=\\'' + url + '\\' style=\\'' +\n",
       "                        'width: 100%; height: 700px; border: 0;\\'>' +\n",
       "                        '</iframe><hr />Open in a: <a href=\\'' + url + '\\'' +\n",
       "                        ' target=\\'_blank\\'>new window</a>'\n",
       "    } else {\n",
       "        div.innerHTML = 'Something has gone wrong. Check notebook server for' +\n",
       "                        ' errors.';\n",
       "    }\n",
       "});\n",
       "})(this.parentElement, '/qiime2/redirect?location=/tmp/qiime2-archive-ls9os9gw')\" src=\"data:image/gif;base64,R0lGODlhAQABAIAAAP///wAAACH5BAEAAAAALAAAAAABAAEAAAICRAEAOw==\" /></div>"
      ],
      "text/plain": [
       "<visualization: Visualization uuid: 61f0acad-30cf-4e06-a0dc-1b363a91dfd3>"
      ]
     },
     "execution_count": 3,
     "metadata": {},
     "output_type": "execute_result"
    }
   ],
   "source": [
    "Visualization.load(f'{data_dir}/Functional/core-metrics-picrust2-GEN_sex_female/adonis-results.qzv')"
   ]
  },
  {
   "cell_type": "code",
   "execution_count": 2,
   "id": "3b19f7b3-e9cc-434b-af34-75d0303d2a33",
   "metadata": {},
   "outputs": [
    {
     "name": "stdout",
     "output_type": "stream",
     "text": [
      "\u001b[32mSaved Visualization to: poop_data/Functional/core-metrics-picrust2-GEN_sex_female/adonis-results_antibiotic.qzv\u001b[0m\n",
      "\u001b[0m"
     ]
    }
   ],
   "source": [
    "! qiime diversity adonis \\\n",
    "  --i-distance-matrix $data_dir/Functional/core-metrics-picrust2-GEN_sex_female/jaccard_distance_matrix.qza \\\n",
    "  --m-metadata-file $data_dir/metadata.tsv \\\n",
    "  --p-formula '(HEA_ibd+HEA_cdiff+HEA_sibo+HEA_acid_reflux+HEA_thyroid)*HEA_antibiotic_history' \\\n",
    "  --o-visualization $data_dir/Functional/core-metrics-picrust2-GEN_sex_female/adonis-results_antibiotic.qzv"
   ]
  },
  {
   "cell_type": "code",
   "execution_count": 3,
   "id": "cd2cfa55-574a-4b26-a2d1-0e29d1422a57",
   "metadata": {},
   "outputs": [
    {
     "data": {
      "text/html": [
       "<div><img onload=\"(function(div, url){\n",
       "if (typeof require !== 'undefined') {\n",
       "    var baseURL = require.toUrl('').split('/').slice(0, -2).join('/');\n",
       "} else {\n",
       "    var baseURL = JSON.parse(\n",
       "        document.getElementById('jupyter-config-data').innerHTML\n",
       "    ).baseUrl.slice(0, -1);\n",
       "}\n",
       "url = baseURL + url;\n",
       "fetch(url).then(function(res) {\n",
       "    if (res.status === 404) {\n",
       "        div.innerHTML = 'Install QIIME 2 Jupyter extension with:<br />' +\n",
       "                        '<code>jupyter serverextension enable --py qiime2' +\n",
       "                        ' --sys-prefix</code><br />then restart your server.' +\n",
       "                        '<br /><br />(Interactive output not available on ' +\n",
       "                        'static notebook viewer services like nbviewer.)';\n",
       "    } else if (res.status === 409) {\n",
       "        div.innerHTML = 'Visualization no longer in scope. Re-run this cell' +\n",
       "                        ' to see the visualization.';\n",
       "    } else if (res.ok) {\n",
       "        url = res.url;\n",
       "        div.innerHTML = '<iframe src=\\'' + url + '\\' style=\\'' +\n",
       "                        'width: 100%; height: 700px; border: 0;\\'>' +\n",
       "                        '</iframe><hr />Open in a: <a href=\\'' + url + '\\'' +\n",
       "                        ' target=\\'_blank\\'>new window</a>'\n",
       "    } else {\n",
       "        div.innerHTML = 'Something has gone wrong. Check notebook server for' +\n",
       "                        ' errors.';\n",
       "    }\n",
       "});\n",
       "})(this.parentElement, '/qiime2/redirect?location=/tmp/qiime2-archive-dwtu30_m')\" src=\"data:image/gif;base64,R0lGODlhAQABAIAAAP///wAAACH5BAEAAAAALAAAAAABAAEAAAICRAEAOw==\" /></div>"
      ],
      "text/plain": [
       "<visualization: Visualization uuid: 18dc569c-4782-4dc3-a692-cf077e00ce2e>"
      ]
     },
     "execution_count": 3,
     "metadata": {},
     "output_type": "execute_result"
    }
   ],
   "source": [
    "Visualization.load(f'{data_dir}/Functional/core-metrics-picrust2-GEN_sex_female/adonis-results_antibiotic.qzv')"
   ]
  },
  {
   "cell_type": "markdown",
   "id": "2d4188f9-be1f-4ef3-b08d-27990dd91d9f",
   "metadata": {},
   "source": [
    "<a id='function'></a>\n",
    "## Functional redundancy: GEN_sex_male"
   ]
  },
  {
   "cell_type": "code",
   "execution_count": 21,
   "id": "d6b20745-1edb-4b41-8b84-d5fa33a6463f",
   "metadata": {},
   "outputs": [
    {
     "name": "stdout",
     "output_type": "stream",
     "text": [
      "\u001b[32mSaved FeatureTable[Frequency] to: poop_data/Functional/pathway_abundance_GEN_sex_male.qza\u001b[0m\n",
      "\u001b[0m"
     ]
    }
   ],
   "source": [
    "! qiime feature-table filter-samples \\\n",
    "    --i-table $data_dir/Differential_abundance/table_abund_species.qza \\\n",
    "    --m-metadata-file $data_dir/metadata.tsv \\\n",
    "    --p-where \"[GEN_sex]='male'\" \\\n",
    "    --o-filtered-table $data_dir/Functional/pathway_abundance_GEN_sex_male.qza"
   ]
  },
  {
   "cell_type": "code",
   "execution_count": 22,
   "id": "ba7a49c6-5a0f-4cf9-947a-4cad2dba1514",
   "metadata": {},
   "outputs": [
    {
     "name": "stdout",
     "output_type": "stream",
     "text": [
      "\u001b[32mSaved FeatureTable[Frequency] to: poop_data/Functional/core-metrics-picrust2-GEN_sex_male/rarefied_table.qza\u001b[0m\n",
      "\u001b[32mSaved SampleData[AlphaDiversity] to: poop_data/Functional/core-metrics-picrust2-GEN_sex_male/observed_features_vector.qza\u001b[0m\n",
      "\u001b[32mSaved SampleData[AlphaDiversity] to: poop_data/Functional/core-metrics-picrust2-GEN_sex_male/shannon_vector.qza\u001b[0m\n",
      "\u001b[32mSaved SampleData[AlphaDiversity] to: poop_data/Functional/core-metrics-picrust2-GEN_sex_male/evenness_vector.qza\u001b[0m\n",
      "\u001b[32mSaved DistanceMatrix to: poop_data/Functional/core-metrics-picrust2-GEN_sex_male/jaccard_distance_matrix.qza\u001b[0m\n",
      "\u001b[32mSaved DistanceMatrix to: poop_data/Functional/core-metrics-picrust2-GEN_sex_male/bray_curtis_distance_matrix.qza\u001b[0m\n",
      "\u001b[32mSaved PCoAResults to: poop_data/Functional/core-metrics-picrust2-GEN_sex_male/jaccard_pcoa_results.qza\u001b[0m\n",
      "\u001b[32mSaved PCoAResults to: poop_data/Functional/core-metrics-picrust2-GEN_sex_male/bray_curtis_pcoa_results.qza\u001b[0m\n",
      "\u001b[32mSaved Visualization to: poop_data/Functional/core-metrics-picrust2-GEN_sex_male/jaccard_emperor.qzv\u001b[0m\n",
      "\u001b[32mSaved Visualization to: poop_data/Functional/core-metrics-picrust2-GEN_sex_male/bray_curtis_emperor.qzv\u001b[0m\n",
      "\u001b[0m"
     ]
    }
   ],
   "source": [
    "! qiime diversity core-metrics \\\n",
    "  --i-table $data_dir/Functional/pathway_abundance_GEN_sex_male.qza \\\n",
    "  --m-metadata-file $data_dir/metadata.tsv \\\n",
    "  --p-sampling-depth 1000 \\\n",
    "  --p-n-jobs $n_jobs \\\n",
    "  --output-dir $data_dir/Functional/core-metrics-picrust2-GEN_sex_male"
   ]
  },
  {
   "cell_type": "code",
   "execution_count": 23,
   "id": "5c0916ff-b4ce-49c5-a08a-a94b33d62262",
   "metadata": {},
   "outputs": [
    {
     "name": "stdout",
     "output_type": "stream",
     "text": [
      "\u001b[32mSaved Visualization to: poop_data/Functional/core-metrics-picrust2-GEN_sex_male/adonis-results.qzv\u001b[0m\n",
      "\u001b[0m"
     ]
    }
   ],
   "source": [
    "! qiime diversity adonis \\\n",
    "  --i-distance-matrix $data_dir/Functional/core-metrics-picrust2-GEN_sex_male/jaccard_distance_matrix.qza \\\n",
    "  --m-metadata-file $data_dir/metadata.tsv \\\n",
    "  --p-formula 'HEA_ibd*HEA_cdiff*HEA_sibo*HEA_acid_reflux*HEA_thyroid' \\\n",
    "  --o-visualization $data_dir/Functional/core-metrics-picrust2-GEN_sex_male/adonis-results.qzv"
   ]
  },
  {
   "cell_type": "code",
   "execution_count": 4,
   "id": "4d134427-e318-423c-8f76-3f3279ee9020",
   "metadata": {},
   "outputs": [
    {
     "data": {
      "text/html": [
       "<div><img onload=\"(function(div, url){\n",
       "if (typeof require !== 'undefined') {\n",
       "    var baseURL = require.toUrl('').split('/').slice(0, -2).join('/');\n",
       "} else {\n",
       "    var baseURL = JSON.parse(\n",
       "        document.getElementById('jupyter-config-data').innerHTML\n",
       "    ).baseUrl.slice(0, -1);\n",
       "}\n",
       "url = baseURL + url;\n",
       "fetch(url).then(function(res) {\n",
       "    if (res.status === 404) {\n",
       "        div.innerHTML = 'Install QIIME 2 Jupyter extension with:<br />' +\n",
       "                        '<code>jupyter serverextension enable --py qiime2' +\n",
       "                        ' --sys-prefix</code><br />then restart your server.' +\n",
       "                        '<br /><br />(Interactive output not available on ' +\n",
       "                        'static notebook viewer services like nbviewer.)';\n",
       "    } else if (res.status === 409) {\n",
       "        div.innerHTML = 'Visualization no longer in scope. Re-run this cell' +\n",
       "                        ' to see the visualization.';\n",
       "    } else if (res.ok) {\n",
       "        url = res.url;\n",
       "        div.innerHTML = '<iframe src=\\'' + url + '\\' style=\\'' +\n",
       "                        'width: 100%; height: 700px; border: 0;\\'>' +\n",
       "                        '</iframe><hr />Open in a: <a href=\\'' + url + '\\'' +\n",
       "                        ' target=\\'_blank\\'>new window</a>'\n",
       "    } else {\n",
       "        div.innerHTML = 'Something has gone wrong. Check notebook server for' +\n",
       "                        ' errors.';\n",
       "    }\n",
       "});\n",
       "})(this.parentElement, '/qiime2/redirect?location=/tmp/qiime2-archive-uta3nq5m')\" src=\"data:image/gif;base64,R0lGODlhAQABAIAAAP///wAAACH5BAEAAAAALAAAAAABAAEAAAICRAEAOw==\" /></div>"
      ],
      "text/plain": [
       "<visualization: Visualization uuid: 3332bcb3-85a8-45d1-b526-a8465e88f7bb>"
      ]
     },
     "execution_count": 4,
     "metadata": {},
     "output_type": "execute_result"
    }
   ],
   "source": [
    "Visualization.load(f'{data_dir}/Functional/core-metrics-picrust2-GEN_sex_male/jaccard_emperor.qzv')"
   ]
  },
  {
   "cell_type": "code",
   "execution_count": 5,
   "id": "add01f6d-5277-4940-adcb-980397e1377a",
   "metadata": {},
   "outputs": [
    {
     "data": {
      "text/html": [
       "<div><img onload=\"(function(div, url){\n",
       "if (typeof require !== 'undefined') {\n",
       "    var baseURL = require.toUrl('').split('/').slice(0, -2).join('/');\n",
       "} else {\n",
       "    var baseURL = JSON.parse(\n",
       "        document.getElementById('jupyter-config-data').innerHTML\n",
       "    ).baseUrl.slice(0, -1);\n",
       "}\n",
       "url = baseURL + url;\n",
       "fetch(url).then(function(res) {\n",
       "    if (res.status === 404) {\n",
       "        div.innerHTML = 'Install QIIME 2 Jupyter extension with:<br />' +\n",
       "                        '<code>jupyter serverextension enable --py qiime2' +\n",
       "                        ' --sys-prefix</code><br />then restart your server.' +\n",
       "                        '<br /><br />(Interactive output not available on ' +\n",
       "                        'static notebook viewer services like nbviewer.)';\n",
       "    } else if (res.status === 409) {\n",
       "        div.innerHTML = 'Visualization no longer in scope. Re-run this cell' +\n",
       "                        ' to see the visualization.';\n",
       "    } else if (res.ok) {\n",
       "        url = res.url;\n",
       "        div.innerHTML = '<iframe src=\\'' + url + '\\' style=\\'' +\n",
       "                        'width: 100%; height: 700px; border: 0;\\'>' +\n",
       "                        '</iframe><hr />Open in a: <a href=\\'' + url + '\\'' +\n",
       "                        ' target=\\'_blank\\'>new window</a>'\n",
       "    } else {\n",
       "        div.innerHTML = 'Something has gone wrong. Check notebook server for' +\n",
       "                        ' errors.';\n",
       "    }\n",
       "});\n",
       "})(this.parentElement, '/qiime2/redirect?location=/tmp/qiime2-archive-lnb0zxae')\" src=\"data:image/gif;base64,R0lGODlhAQABAIAAAP///wAAACH5BAEAAAAALAAAAAABAAEAAAICRAEAOw==\" /></div>"
      ],
      "text/plain": [
       "<visualization: Visualization uuid: e40fad31-592b-4228-9fc2-54bf4cac3e15>"
      ]
     },
     "execution_count": 5,
     "metadata": {},
     "output_type": "execute_result"
    }
   ],
   "source": [
    "Visualization.load(f'{data_dir}/Functional/core-metrics-picrust2-GEN_sex_male/adonis-results.qzv')"
   ]
  },
  {
   "cell_type": "code",
   "execution_count": 8,
   "id": "3ce76b8d-18a3-435d-ac4a-b99e477656e3",
   "metadata": {},
   "outputs": [
    {
     "name": "stdout",
     "output_type": "stream",
     "text": [
      "\u001b[32mSaved Visualization to: poop_data/Functional/core-metrics-picrust2-GEN_sex_male/adonis-results_1.qzv\u001b[0m\n",
      "\u001b[0m"
     ]
    }
   ],
   "source": [
    "! qiime diversity adonis \\\n",
    "  --i-distance-matrix $data_dir/Functional/core-metrics-picrust2-GEN_sex_male/jaccard_distance_matrix.qza \\\n",
    "  --m-metadata-file $data_dir/metadata.tsv \\\n",
    "  --p-formula '(HEA_ibd+HEA_cdiff+HEA_sibo+HEA_acid_reflux+HEA_thyroid)*HEA_antibiotic_history' \\\n",
    "  --o-visualization $data_dir/Functional/core-metrics-picrust2-GEN_sex_male/adonis-results_1.qzv"
   ]
  },
  {
   "cell_type": "code",
   "execution_count": 9,
   "id": "33020314-8228-4ded-a8c6-059077ba37fa",
   "metadata": {},
   "outputs": [
    {
     "data": {
      "text/html": [
       "<div><img onload=\"(function(div, url){\n",
       "if (typeof require !== 'undefined') {\n",
       "    var baseURL = require.toUrl('').split('/').slice(0, -2).join('/');\n",
       "} else {\n",
       "    var baseURL = JSON.parse(\n",
       "        document.getElementById('jupyter-config-data').innerHTML\n",
       "    ).baseUrl.slice(0, -1);\n",
       "}\n",
       "url = baseURL + url;\n",
       "fetch(url).then(function(res) {\n",
       "    if (res.status === 404) {\n",
       "        div.innerHTML = 'Install QIIME 2 Jupyter extension with:<br />' +\n",
       "                        '<code>jupyter serverextension enable --py qiime2' +\n",
       "                        ' --sys-prefix</code><br />then restart your server.' +\n",
       "                        '<br /><br />(Interactive output not available on ' +\n",
       "                        'static notebook viewer services like nbviewer.)';\n",
       "    } else if (res.status === 409) {\n",
       "        div.innerHTML = 'Visualization no longer in scope. Re-run this cell' +\n",
       "                        ' to see the visualization.';\n",
       "    } else if (res.ok) {\n",
       "        url = res.url;\n",
       "        div.innerHTML = '<iframe src=\\'' + url + '\\' style=\\'' +\n",
       "                        'width: 100%; height: 700px; border: 0;\\'>' +\n",
       "                        '</iframe><hr />Open in a: <a href=\\'' + url + '\\'' +\n",
       "                        ' target=\\'_blank\\'>new window</a>'\n",
       "    } else {\n",
       "        div.innerHTML = 'Something has gone wrong. Check notebook server for' +\n",
       "                        ' errors.';\n",
       "    }\n",
       "});\n",
       "})(this.parentElement, '/qiime2/redirect?location=/tmp/qiime2-archive-e33hvmcx')\" src=\"data:image/gif;base64,R0lGODlhAQABAIAAAP///wAAACH5BAEAAAAALAAAAAABAAEAAAICRAEAOw==\" /></div>"
      ],
      "text/plain": [
       "<visualization: Visualization uuid: f810ae60-b66c-4ad1-89b8-abb7cb4bf383>"
      ]
     },
     "execution_count": 9,
     "metadata": {},
     "output_type": "execute_result"
    }
   ],
   "source": [
    "Visualization.load(f'{data_dir}/Functional/core-metrics-picrust2-GEN_sex_male/adonis-results_1.qzv')"
   ]
  },
  {
   "cell_type": "markdown",
   "id": "7a4bc20c-cb4b-493b-af16-ffd6eff08dfa",
   "metadata": {},
   "source": [
    "<a id='function'></a>\n",
    "## Functional redundancy: GEN_bmi_cat_Overweight"
   ]
  },
  {
   "cell_type": "code",
   "execution_count": 10,
   "id": "d4c12da4-7d2a-4d90-b4a0-d0d2d6835e66",
   "metadata": {},
   "outputs": [
    {
     "name": "stdout",
     "output_type": "stream",
     "text": [
      "\u001b[32mSaved FeatureTable[Frequency] to: poop_data/Functional/pathway_abundance_Overweight.qza\u001b[0m\n",
      "\u001b[0m"
     ]
    }
   ],
   "source": [
    "! qiime feature-table filter-samples \\\n",
    "    --i-table $data_dir/Differential_abundance/table_abund_species.qza \\\n",
    "    --m-metadata-file $data_dir/metadata.tsv \\\n",
    "    --p-where \"[GEN_bmi_cat]='Overweight'\" \\\n",
    "    --o-filtered-table $data_dir/Functional/pathway_abundance_Overweight.qza"
   ]
  },
  {
   "cell_type": "code",
   "execution_count": 11,
   "id": "80664d59-26d8-4527-8205-ff819f19d663",
   "metadata": {},
   "outputs": [
    {
     "name": "stdout",
     "output_type": "stream",
     "text": [
      "\u001b[32mSaved FeatureTable[Frequency] to: poop_data/Functional/core-metrics-picrust2-GEN_bmi_cat_Overweight/rarefied_table.qza\u001b[0m\n",
      "\u001b[32mSaved SampleData[AlphaDiversity] to: poop_data/Functional/core-metrics-picrust2-GEN_bmi_cat_Overweight/observed_features_vector.qza\u001b[0m\n",
      "\u001b[32mSaved SampleData[AlphaDiversity] to: poop_data/Functional/core-metrics-picrust2-GEN_bmi_cat_Overweight/shannon_vector.qza\u001b[0m\n",
      "\u001b[32mSaved SampleData[AlphaDiversity] to: poop_data/Functional/core-metrics-picrust2-GEN_bmi_cat_Overweight/evenness_vector.qza\u001b[0m\n",
      "\u001b[32mSaved DistanceMatrix to: poop_data/Functional/core-metrics-picrust2-GEN_bmi_cat_Overweight/jaccard_distance_matrix.qza\u001b[0m\n",
      "\u001b[32mSaved DistanceMatrix to: poop_data/Functional/core-metrics-picrust2-GEN_bmi_cat_Overweight/bray_curtis_distance_matrix.qza\u001b[0m\n",
      "\u001b[32mSaved PCoAResults to: poop_data/Functional/core-metrics-picrust2-GEN_bmi_cat_Overweight/jaccard_pcoa_results.qza\u001b[0m\n",
      "\u001b[32mSaved PCoAResults to: poop_data/Functional/core-metrics-picrust2-GEN_bmi_cat_Overweight/bray_curtis_pcoa_results.qza\u001b[0m\n",
      "\u001b[32mSaved Visualization to: poop_data/Functional/core-metrics-picrust2-GEN_bmi_cat_Overweight/jaccard_emperor.qzv\u001b[0m\n",
      "\u001b[32mSaved Visualization to: poop_data/Functional/core-metrics-picrust2-GEN_bmi_cat_Overweight/bray_curtis_emperor.qzv\u001b[0m\n",
      "\u001b[0m"
     ]
    }
   ],
   "source": [
    "! qiime diversity core-metrics \\\n",
    "  --i-table $data_dir/Functional/pathway_abundance_Overweight.qza \\\n",
    "  --m-metadata-file $data_dir/metadata.tsv \\\n",
    "  --p-sampling-depth 1000 \\\n",
    "  --p-n-jobs $n_jobs \\\n",
    "  --output-dir $data_dir/Functional/core-metrics-picrust2-GEN_bmi_cat_Overweight"
   ]
  },
  {
   "cell_type": "code",
   "execution_count": 12,
   "id": "cc21abe0-dbd1-4c95-b137-0512e4ad86fe",
   "metadata": {},
   "outputs": [
    {
     "name": "stdout",
     "output_type": "stream",
     "text": [
      "\u001b[32mSaved Visualization to: poop_data/Functional/core-metrics-picrust2-GEN_bmi_cat_Overweight/adonis-results.qzv\u001b[0m\n",
      "\u001b[0m"
     ]
    }
   ],
   "source": [
    "! qiime diversity adonis \\\n",
    "  --i-distance-matrix $data_dir/Functional/core-metrics-picrust2-GEN_bmi_cat_Overweight/jaccard_distance_matrix.qza \\\n",
    "  --m-metadata-file $data_dir/metadata.tsv \\\n",
    "  --p-formula '(HEA_ibd+HEA_cdiff+HEA_sibo+HEA_acid_reflux+HEA_thyroid)*HEA_antibiotic_history' \\\n",
    "  --o-visualization $data_dir/Functional/core-metrics-picrust2-GEN_bmi_cat_Overweight/adonis-results.qzv"
   ]
  },
  {
   "cell_type": "code",
   "execution_count": 13,
   "id": "21d36c10-d2ed-4f03-8e95-9eb08db03630",
   "metadata": {},
   "outputs": [
    {
     "data": {
      "text/html": [
       "<div><img onload=\"(function(div, url){\n",
       "if (typeof require !== 'undefined') {\n",
       "    var baseURL = require.toUrl('').split('/').slice(0, -2).join('/');\n",
       "} else {\n",
       "    var baseURL = JSON.parse(\n",
       "        document.getElementById('jupyter-config-data').innerHTML\n",
       "    ).baseUrl.slice(0, -1);\n",
       "}\n",
       "url = baseURL + url;\n",
       "fetch(url).then(function(res) {\n",
       "    if (res.status === 404) {\n",
       "        div.innerHTML = 'Install QIIME 2 Jupyter extension with:<br />' +\n",
       "                        '<code>jupyter serverextension enable --py qiime2' +\n",
       "                        ' --sys-prefix</code><br />then restart your server.' +\n",
       "                        '<br /><br />(Interactive output not available on ' +\n",
       "                        'static notebook viewer services like nbviewer.)';\n",
       "    } else if (res.status === 409) {\n",
       "        div.innerHTML = 'Visualization no longer in scope. Re-run this cell' +\n",
       "                        ' to see the visualization.';\n",
       "    } else if (res.ok) {\n",
       "        url = res.url;\n",
       "        div.innerHTML = '<iframe src=\\'' + url + '\\' style=\\'' +\n",
       "                        'width: 100%; height: 700px; border: 0;\\'>' +\n",
       "                        '</iframe><hr />Open in a: <a href=\\'' + url + '\\'' +\n",
       "                        ' target=\\'_blank\\'>new window</a>'\n",
       "    } else {\n",
       "        div.innerHTML = 'Something has gone wrong. Check notebook server for' +\n",
       "                        ' errors.';\n",
       "    }\n",
       "});\n",
       "})(this.parentElement, '/qiime2/redirect?location=/tmp/qiime2-archive-4xwn61a1')\" src=\"data:image/gif;base64,R0lGODlhAQABAIAAAP///wAAACH5BAEAAAAALAAAAAABAAEAAAICRAEAOw==\" /></div>"
      ],
      "text/plain": [
       "<visualization: Visualization uuid: 01e3e475-f27f-4c33-8050-aaab05289f6a>"
      ]
     },
     "execution_count": 13,
     "metadata": {},
     "output_type": "execute_result"
    }
   ],
   "source": [
    "Visualization.load(f'{data_dir}/Functional/core-metrics-picrust2-GEN_bmi_cat_Overweight/jaccard_emperor.qzv')"
   ]
  },
  {
   "cell_type": "code",
   "execution_count": 14,
   "id": "8653b870-96b1-43e1-848f-b6b9921c8496",
   "metadata": {},
   "outputs": [
    {
     "data": {
      "text/html": [
       "<div><img onload=\"(function(div, url){\n",
       "if (typeof require !== 'undefined') {\n",
       "    var baseURL = require.toUrl('').split('/').slice(0, -2).join('/');\n",
       "} else {\n",
       "    var baseURL = JSON.parse(\n",
       "        document.getElementById('jupyter-config-data').innerHTML\n",
       "    ).baseUrl.slice(0, -1);\n",
       "}\n",
       "url = baseURL + url;\n",
       "fetch(url).then(function(res) {\n",
       "    if (res.status === 404) {\n",
       "        div.innerHTML = 'Install QIIME 2 Jupyter extension with:<br />' +\n",
       "                        '<code>jupyter serverextension enable --py qiime2' +\n",
       "                        ' --sys-prefix</code><br />then restart your server.' +\n",
       "                        '<br /><br />(Interactive output not available on ' +\n",
       "                        'static notebook viewer services like nbviewer.)';\n",
       "    } else if (res.status === 409) {\n",
       "        div.innerHTML = 'Visualization no longer in scope. Re-run this cell' +\n",
       "                        ' to see the visualization.';\n",
       "    } else if (res.ok) {\n",
       "        url = res.url;\n",
       "        div.innerHTML = '<iframe src=\\'' + url + '\\' style=\\'' +\n",
       "                        'width: 100%; height: 700px; border: 0;\\'>' +\n",
       "                        '</iframe><hr />Open in a: <a href=\\'' + url + '\\'' +\n",
       "                        ' target=\\'_blank\\'>new window</a>'\n",
       "    } else {\n",
       "        div.innerHTML = 'Something has gone wrong. Check notebook server for' +\n",
       "                        ' errors.';\n",
       "    }\n",
       "});\n",
       "})(this.parentElement, '/qiime2/redirect?location=/tmp/qiime2-archive-rown6aqy')\" src=\"data:image/gif;base64,R0lGODlhAQABAIAAAP///wAAACH5BAEAAAAALAAAAAABAAEAAAICRAEAOw==\" /></div>"
      ],
      "text/plain": [
       "<visualization: Visualization uuid: eb1dfa44-a939-42b4-8de7-afb9ba962271>"
      ]
     },
     "execution_count": 14,
     "metadata": {},
     "output_type": "execute_result"
    }
   ],
   "source": [
    "Visualization.load(f'{data_dir}/Functional/core-metrics-picrust2-GEN_bmi_cat_Overweight/adonis-results.qzv')"
   ]
  },
  {
   "cell_type": "markdown",
   "id": "10cc05ac-26b2-4b01-acd4-a650ea0f8194",
   "metadata": {},
   "source": [
    "<a id='function'></a>\n",
    "## Functional redundancy: GEN_bmi_cat_Obese"
   ]
  },
  {
   "cell_type": "code",
   "execution_count": 15,
   "id": "9d291ab1-617e-4ca7-84cb-b35cfd78e4f0",
   "metadata": {},
   "outputs": [
    {
     "name": "stdout",
     "output_type": "stream",
     "text": [
      "\u001b[32mSaved FeatureTable[Frequency] to: poop_data/Functional/pathway_abundance_Obese.qza\u001b[0m\n",
      "\u001b[0m"
     ]
    }
   ],
   "source": [
    "! qiime feature-table filter-samples \\\n",
    "    --i-table $data_dir/Differential_abundance/table_abund_species.qza \\\n",
    "    --m-metadata-file $data_dir/metadata.tsv \\\n",
    "    --p-where \"[GEN_bmi_cat]='Obese'\" \\\n",
    "    --o-filtered-table $data_dir/Functional/pathway_abundance_Obese.qza"
   ]
  },
  {
   "cell_type": "code",
   "execution_count": 16,
   "id": "8e6c07d3-9d83-49d7-8ed8-00280997b588",
   "metadata": {},
   "outputs": [
    {
     "name": "stdout",
     "output_type": "stream",
     "text": [
      "\u001b[32mSaved FeatureTable[Frequency] to: poop_data/Functional/core-metrics-picrust2-GEN_bmi_cat_Obese/rarefied_table.qza\u001b[0m\n",
      "\u001b[32mSaved SampleData[AlphaDiversity] to: poop_data/Functional/core-metrics-picrust2-GEN_bmi_cat_Obese/observed_features_vector.qza\u001b[0m\n",
      "\u001b[32mSaved SampleData[AlphaDiversity] to: poop_data/Functional/core-metrics-picrust2-GEN_bmi_cat_Obese/shannon_vector.qza\u001b[0m\n",
      "\u001b[32mSaved SampleData[AlphaDiversity] to: poop_data/Functional/core-metrics-picrust2-GEN_bmi_cat_Obese/evenness_vector.qza\u001b[0m\n",
      "\u001b[32mSaved DistanceMatrix to: poop_data/Functional/core-metrics-picrust2-GEN_bmi_cat_Obese/jaccard_distance_matrix.qza\u001b[0m\n",
      "\u001b[32mSaved DistanceMatrix to: poop_data/Functional/core-metrics-picrust2-GEN_bmi_cat_Obese/bray_curtis_distance_matrix.qza\u001b[0m\n",
      "\u001b[32mSaved PCoAResults to: poop_data/Functional/core-metrics-picrust2-GEN_bmi_cat_Obese/jaccard_pcoa_results.qza\u001b[0m\n",
      "\u001b[32mSaved PCoAResults to: poop_data/Functional/core-metrics-picrust2-GEN_bmi_cat_Obese/bray_curtis_pcoa_results.qza\u001b[0m\n",
      "\u001b[32mSaved Visualization to: poop_data/Functional/core-metrics-picrust2-GEN_bmi_cat_Obese/jaccard_emperor.qzv\u001b[0m\n",
      "\u001b[32mSaved Visualization to: poop_data/Functional/core-metrics-picrust2-GEN_bmi_cat_Obese/bray_curtis_emperor.qzv\u001b[0m\n",
      "\u001b[0m"
     ]
    }
   ],
   "source": [
    "! qiime diversity core-metrics \\\n",
    "  --i-table $data_dir/Functional/pathway_abundance_Obese.qza \\\n",
    "  --m-metadata-file $data_dir/metadata.tsv \\\n",
    "  --p-sampling-depth 1000 \\\n",
    "  --p-n-jobs $n_jobs \\\n",
    "  --output-dir $data_dir/Functional/core-metrics-picrust2-GEN_bmi_cat_Obese"
   ]
  },
  {
   "cell_type": "code",
   "execution_count": 17,
   "id": "ffa882ed-0968-4de2-8fe4-ce5bc5793254",
   "metadata": {},
   "outputs": [
    {
     "name": "stdout",
     "output_type": "stream",
     "text": [
      "\u001b[32mSaved Visualization to: poop_data/Functional/core-metrics-picrust2-GEN_bmi_cat_Obese/adonis-results.qzv\u001b[0m\n",
      "\u001b[0m"
     ]
    }
   ],
   "source": [
    "! qiime diversity adonis \\\n",
    "  --i-distance-matrix $data_dir/Functional/core-metrics-picrust2-GEN_bmi_cat_Obese/jaccard_distance_matrix.qza \\\n",
    "  --m-metadata-file $data_dir/metadata.tsv \\\n",
    "  --p-formula '(HEA_ibd+HEA_cdiff+HEA_sibo+HEA_acid_reflux+HEA_thyroid)*HEA_antibiotic_history' \\\n",
    "  --o-visualization $data_dir/Functional/core-metrics-picrust2-GEN_bmi_cat_Obese/adonis-results.qzv"
   ]
  },
  {
   "cell_type": "code",
   "execution_count": 18,
   "id": "d9bc23cf-b24c-44ef-b769-78f146a64f5b",
   "metadata": {},
   "outputs": [
    {
     "data": {
      "text/html": [
       "<div><img onload=\"(function(div, url){\n",
       "if (typeof require !== 'undefined') {\n",
       "    var baseURL = require.toUrl('').split('/').slice(0, -2).join('/');\n",
       "} else {\n",
       "    var baseURL = JSON.parse(\n",
       "        document.getElementById('jupyter-config-data').innerHTML\n",
       "    ).baseUrl.slice(0, -1);\n",
       "}\n",
       "url = baseURL + url;\n",
       "fetch(url).then(function(res) {\n",
       "    if (res.status === 404) {\n",
       "        div.innerHTML = 'Install QIIME 2 Jupyter extension with:<br />' +\n",
       "                        '<code>jupyter serverextension enable --py qiime2' +\n",
       "                        ' --sys-prefix</code><br />then restart your server.' +\n",
       "                        '<br /><br />(Interactive output not available on ' +\n",
       "                        'static notebook viewer services like nbviewer.)';\n",
       "    } else if (res.status === 409) {\n",
       "        div.innerHTML = 'Visualization no longer in scope. Re-run this cell' +\n",
       "                        ' to see the visualization.';\n",
       "    } else if (res.ok) {\n",
       "        url = res.url;\n",
       "        div.innerHTML = '<iframe src=\\'' + url + '\\' style=\\'' +\n",
       "                        'width: 100%; height: 700px; border: 0;\\'>' +\n",
       "                        '</iframe><hr />Open in a: <a href=\\'' + url + '\\'' +\n",
       "                        ' target=\\'_blank\\'>new window</a>'\n",
       "    } else {\n",
       "        div.innerHTML = 'Something has gone wrong. Check notebook server for' +\n",
       "                        ' errors.';\n",
       "    }\n",
       "});\n",
       "})(this.parentElement, '/qiime2/redirect?location=/tmp/qiime2-archive-qjnh_6x8')\" src=\"data:image/gif;base64,R0lGODlhAQABAIAAAP///wAAACH5BAEAAAAALAAAAAABAAEAAAICRAEAOw==\" /></div>"
      ],
      "text/plain": [
       "<visualization: Visualization uuid: 079cd8f8-2d92-4072-a0bf-668bb09fe155>"
      ]
     },
     "execution_count": 18,
     "metadata": {},
     "output_type": "execute_result"
    }
   ],
   "source": [
    "Visualization.load(f'{data_dir}/Functional/core-metrics-picrust2-GEN_bmi_cat_Obese/jaccard_emperor.qzv')"
   ]
  },
  {
   "cell_type": "code",
   "execution_count": 19,
   "id": "29085f4a-2658-4f23-a3eb-f238612ab104",
   "metadata": {},
   "outputs": [
    {
     "data": {
      "text/html": [
       "<div><img onload=\"(function(div, url){\n",
       "if (typeof require !== 'undefined') {\n",
       "    var baseURL = require.toUrl('').split('/').slice(0, -2).join('/');\n",
       "} else {\n",
       "    var baseURL = JSON.parse(\n",
       "        document.getElementById('jupyter-config-data').innerHTML\n",
       "    ).baseUrl.slice(0, -1);\n",
       "}\n",
       "url = baseURL + url;\n",
       "fetch(url).then(function(res) {\n",
       "    if (res.status === 404) {\n",
       "        div.innerHTML = 'Install QIIME 2 Jupyter extension with:<br />' +\n",
       "                        '<code>jupyter serverextension enable --py qiime2' +\n",
       "                        ' --sys-prefix</code><br />then restart your server.' +\n",
       "                        '<br /><br />(Interactive output not available on ' +\n",
       "                        'static notebook viewer services like nbviewer.)';\n",
       "    } else if (res.status === 409) {\n",
       "        div.innerHTML = 'Visualization no longer in scope. Re-run this cell' +\n",
       "                        ' to see the visualization.';\n",
       "    } else if (res.ok) {\n",
       "        url = res.url;\n",
       "        div.innerHTML = '<iframe src=\\'' + url + '\\' style=\\'' +\n",
       "                        'width: 100%; height: 700px; border: 0;\\'>' +\n",
       "                        '</iframe><hr />Open in a: <a href=\\'' + url + '\\'' +\n",
       "                        ' target=\\'_blank\\'>new window</a>'\n",
       "    } else {\n",
       "        div.innerHTML = 'Something has gone wrong. Check notebook server for' +\n",
       "                        ' errors.';\n",
       "    }\n",
       "});\n",
       "})(this.parentElement, '/qiime2/redirect?location=/tmp/qiime2-archive-wq27b9nk')\" src=\"data:image/gif;base64,R0lGODlhAQABAIAAAP///wAAACH5BAEAAAAALAAAAAABAAEAAAICRAEAOw==\" /></div>"
      ],
      "text/plain": [
       "<visualization: Visualization uuid: 30e9a312-2ceb-477c-8eb9-b9b9090ac14b>"
      ]
     },
     "execution_count": 19,
     "metadata": {},
     "output_type": "execute_result"
    }
   ],
   "source": [
    "Visualization.load(f'{data_dir}/Functional/core-metrics-picrust2-GEN_bmi_cat_Obese/adonis-results.qzv')"
   ]
  },
  {
   "cell_type": "markdown",
   "id": "f9cd2426-56bf-40a9-b535-36be0d424d75",
   "metadata": {},
   "source": [
    "<a id='function'></a>\n",
    "## Functional redundancy: GEN_bmi_cat_Underweight"
   ]
  },
  {
   "cell_type": "code",
   "execution_count": 17,
   "id": "860403ed-63a8-45b9-b795-80fbd3d4f96e",
   "metadata": {},
   "outputs": [
    {
     "name": "stdout",
     "output_type": "stream",
     "text": [
      "\u001b[32mSaved FeatureTable[Frequency] to: poop_data/Functional/pathway_abundance_Underweight.qza\u001b[0m\n",
      "\u001b[0m"
     ]
    }
   ],
   "source": [
    "! qiime feature-table filter-samples \\\n",
    "    --i-table $data_dir/Differential_abundance/table_abund_species.qza \\\n",
    "    --m-metadata-file $data_dir/metadata.tsv \\\n",
    "    --p-where \"[GEN_bmi_cat]='Underweight'\" \\\n",
    "    --o-filtered-table $data_dir/Functional/pathway_abundance_Underweight.qza"
   ]
  },
  {
   "cell_type": "code",
   "execution_count": 18,
   "id": "83f9205f-06c4-4c9f-8da3-f37e7f942d79",
   "metadata": {},
   "outputs": [
    {
     "name": "stdout",
     "output_type": "stream",
     "text": [
      "\u001b[32mSaved FeatureTable[Frequency] to: poop_data/Functional/core-metrics-picrust2-GEN_bmi_cat_Underweight/rarefied_table.qza\u001b[0m\n",
      "\u001b[32mSaved SampleData[AlphaDiversity] to: poop_data/Functional/core-metrics-picrust2-GEN_bmi_cat_Underweight/observed_features_vector.qza\u001b[0m\n",
      "\u001b[32mSaved SampleData[AlphaDiversity] to: poop_data/Functional/core-metrics-picrust2-GEN_bmi_cat_Underweight/shannon_vector.qza\u001b[0m\n",
      "\u001b[32mSaved SampleData[AlphaDiversity] to: poop_data/Functional/core-metrics-picrust2-GEN_bmi_cat_Underweight/evenness_vector.qza\u001b[0m\n",
      "\u001b[32mSaved DistanceMatrix to: poop_data/Functional/core-metrics-picrust2-GEN_bmi_cat_Underweight/jaccard_distance_matrix.qza\u001b[0m\n",
      "\u001b[32mSaved DistanceMatrix to: poop_data/Functional/core-metrics-picrust2-GEN_bmi_cat_Underweight/bray_curtis_distance_matrix.qza\u001b[0m\n",
      "\u001b[32mSaved PCoAResults to: poop_data/Functional/core-metrics-picrust2-GEN_bmi_cat_Underweight/jaccard_pcoa_results.qza\u001b[0m\n",
      "\u001b[32mSaved PCoAResults to: poop_data/Functional/core-metrics-picrust2-GEN_bmi_cat_Underweight/bray_curtis_pcoa_results.qza\u001b[0m\n",
      "\u001b[32mSaved Visualization to: poop_data/Functional/core-metrics-picrust2-GEN_bmi_cat_Underweight/jaccard_emperor.qzv\u001b[0m\n",
      "\u001b[32mSaved Visualization to: poop_data/Functional/core-metrics-picrust2-GEN_bmi_cat_Underweight/bray_curtis_emperor.qzv\u001b[0m\n",
      "\u001b[0m"
     ]
    }
   ],
   "source": [
    "! qiime diversity core-metrics \\\n",
    "  --i-table $data_dir/Functional/pathway_abundance_Underweight.qza \\\n",
    "  --m-metadata-file $data_dir/metadata.tsv \\\n",
    "  --p-sampling-depth 1000 \\\n",
    "  --p-n-jobs $n_jobs \\\n",
    "  --output-dir $data_dir/Functional/core-metrics-picrust2-GEN_bmi_cat_Underweight"
   ]
  },
  {
   "cell_type": "code",
   "execution_count": 19,
   "id": "b7b44762-7416-4605-8927-f93ea67f22de",
   "metadata": {},
   "outputs": [
    {
     "name": "stdout",
     "output_type": "stream",
     "text": [
      "\u001b[32mSaved Visualization to: poop_data/Functional/core-metrics-picrust2-GEN_bmi_cat_Underweight/adonis-results.qzv\u001b[0m\n",
      "\u001b[0m"
     ]
    }
   ],
   "source": [
    "! qiime diversity adonis \\\n",
    "  --i-distance-matrix $data_dir/Functional/core-metrics-picrust2-GEN_bmi_cat_Underweight/jaccard_distance_matrix.qza \\\n",
    "  --m-metadata-file $data_dir/metadata.tsv \\\n",
    "  --p-formula '(HEA_ibd+HEA_sibo+HEA_acid_reflux+HEA_thyroid)*HEA_antibiotic_history' \\\n",
    "  --o-visualization $data_dir/Functional/core-metrics-picrust2-GEN_bmi_cat_Underweight/adonis-results.qzv"
   ]
  },
  {
   "cell_type": "code",
   "execution_count": 20,
   "id": "69352ab5-2d65-420c-bddc-508db4988d5b",
   "metadata": {},
   "outputs": [
    {
     "data": {
      "text/html": [
       "<div><img onload=\"(function(div, url){\n",
       "if (typeof require !== 'undefined') {\n",
       "    var baseURL = require.toUrl('').split('/').slice(0, -2).join('/');\n",
       "} else {\n",
       "    var baseURL = JSON.parse(\n",
       "        document.getElementById('jupyter-config-data').innerHTML\n",
       "    ).baseUrl.slice(0, -1);\n",
       "}\n",
       "url = baseURL + url;\n",
       "fetch(url).then(function(res) {\n",
       "    if (res.status === 404) {\n",
       "        div.innerHTML = 'Install QIIME 2 Jupyter extension with:<br />' +\n",
       "                        '<code>jupyter serverextension enable --py qiime2' +\n",
       "                        ' --sys-prefix</code><br />then restart your server.' +\n",
       "                        '<br /><br />(Interactive output not available on ' +\n",
       "                        'static notebook viewer services like nbviewer.)';\n",
       "    } else if (res.status === 409) {\n",
       "        div.innerHTML = 'Visualization no longer in scope. Re-run this cell' +\n",
       "                        ' to see the visualization.';\n",
       "    } else if (res.ok) {\n",
       "        url = res.url;\n",
       "        div.innerHTML = '<iframe src=\\'' + url + '\\' style=\\'' +\n",
       "                        'width: 100%; height: 700px; border: 0;\\'>' +\n",
       "                        '</iframe><hr />Open in a: <a href=\\'' + url + '\\'' +\n",
       "                        ' target=\\'_blank\\'>new window</a>'\n",
       "    } else {\n",
       "        div.innerHTML = 'Something has gone wrong. Check notebook server for' +\n",
       "                        ' errors.';\n",
       "    }\n",
       "});\n",
       "})(this.parentElement, '/qiime2/redirect?location=/tmp/qiime2-archive-b0g4remn')\" src=\"data:image/gif;base64,R0lGODlhAQABAIAAAP///wAAACH5BAEAAAAALAAAAAABAAEAAAICRAEAOw==\" /></div>"
      ],
      "text/plain": [
       "<visualization: Visualization uuid: f8fe7c87-5b1e-4353-8763-9b10ed9e0b2b>"
      ]
     },
     "execution_count": 20,
     "metadata": {},
     "output_type": "execute_result"
    }
   ],
   "source": [
    "Visualization.load(f'{data_dir}/Functional/core-metrics-picrust2-GEN_bmi_cat_Underweight/jaccard_emperor.qzv')"
   ]
  },
  {
   "cell_type": "code",
   "execution_count": 21,
   "id": "6c9b84d2-8005-47b1-942b-c82892fbcf82",
   "metadata": {},
   "outputs": [
    {
     "data": {
      "text/html": [
       "<div><img onload=\"(function(div, url){\n",
       "if (typeof require !== 'undefined') {\n",
       "    var baseURL = require.toUrl('').split('/').slice(0, -2).join('/');\n",
       "} else {\n",
       "    var baseURL = JSON.parse(\n",
       "        document.getElementById('jupyter-config-data').innerHTML\n",
       "    ).baseUrl.slice(0, -1);\n",
       "}\n",
       "url = baseURL + url;\n",
       "fetch(url).then(function(res) {\n",
       "    if (res.status === 404) {\n",
       "        div.innerHTML = 'Install QIIME 2 Jupyter extension with:<br />' +\n",
       "                        '<code>jupyter serverextension enable --py qiime2' +\n",
       "                        ' --sys-prefix</code><br />then restart your server.' +\n",
       "                        '<br /><br />(Interactive output not available on ' +\n",
       "                        'static notebook viewer services like nbviewer.)';\n",
       "    } else if (res.status === 409) {\n",
       "        div.innerHTML = 'Visualization no longer in scope. Re-run this cell' +\n",
       "                        ' to see the visualization.';\n",
       "    } else if (res.ok) {\n",
       "        url = res.url;\n",
       "        div.innerHTML = '<iframe src=\\'' + url + '\\' style=\\'' +\n",
       "                        'width: 100%; height: 700px; border: 0;\\'>' +\n",
       "                        '</iframe><hr />Open in a: <a href=\\'' + url + '\\'' +\n",
       "                        ' target=\\'_blank\\'>new window</a>'\n",
       "    } else {\n",
       "        div.innerHTML = 'Something has gone wrong. Check notebook server for' +\n",
       "                        ' errors.';\n",
       "    }\n",
       "});\n",
       "})(this.parentElement, '/qiime2/redirect?location=/tmp/qiime2-archive-atq8av68')\" src=\"data:image/gif;base64,R0lGODlhAQABAIAAAP///wAAACH5BAEAAAAALAAAAAABAAEAAAICRAEAOw==\" /></div>"
      ],
      "text/plain": [
       "<visualization: Visualization uuid: 8f67e7e5-042e-4aa7-b0af-518c43865ba3>"
      ]
     },
     "execution_count": 21,
     "metadata": {},
     "output_type": "execute_result"
    }
   ],
   "source": [
    "Visualization.load(f'{data_dir}/Functional/core-metrics-picrust2-GEN_bmi_cat_Underweight/adonis-results.qzv')"
   ]
  },
  {
   "cell_type": "markdown",
   "id": "7f7b93f4-7d6f-4759-96ce-830d31c1fa9e",
   "metadata": {},
   "source": [
    "<a id='function'></a>\n",
    "## Functional redundancy: GEN_bmi_cat_normal"
   ]
  },
  {
   "cell_type": "code",
   "execution_count": 22,
   "id": "59843e4e-88d2-4801-a00e-6ff6a1a88f27",
   "metadata": {},
   "outputs": [
    {
     "name": "stdout",
     "output_type": "stream",
     "text": [
      "\u001b[32mSaved FeatureTable[Frequency] to: poop_data/Functional/pathway_abundance_normal.qza\u001b[0m\n",
      "\u001b[0m"
     ]
    }
   ],
   "source": [
    "! qiime feature-table filter-samples \\\n",
    "    --i-table $data_dir/Differential_abundance/table_abund_species.qza \\\n",
    "    --m-metadata-file $data_dir/metadata.tsv \\\n",
    "    --p-where \"[GEN_bmi_cat]='Normal'\" \\\n",
    "    --o-filtered-table $data_dir/Functional/pathway_abundance_normal.qza"
   ]
  },
  {
   "cell_type": "code",
   "execution_count": 23,
   "id": "76bc9afd-07b7-40a6-b92d-34a88cdbfd1c",
   "metadata": {},
   "outputs": [
    {
     "name": "stdout",
     "output_type": "stream",
     "text": [
      "\u001b[32mSaved FeatureTable[Frequency] to: poop_data/Functional/core-metrics-picrust2-GEN_bmi_cat_normal/rarefied_table.qza\u001b[0m\n",
      "\u001b[32mSaved SampleData[AlphaDiversity] to: poop_data/Functional/core-metrics-picrust2-GEN_bmi_cat_normal/observed_features_vector.qza\u001b[0m\n",
      "\u001b[32mSaved SampleData[AlphaDiversity] to: poop_data/Functional/core-metrics-picrust2-GEN_bmi_cat_normal/shannon_vector.qza\u001b[0m\n",
      "\u001b[32mSaved SampleData[AlphaDiversity] to: poop_data/Functional/core-metrics-picrust2-GEN_bmi_cat_normal/evenness_vector.qza\u001b[0m\n",
      "\u001b[32mSaved DistanceMatrix to: poop_data/Functional/core-metrics-picrust2-GEN_bmi_cat_normal/jaccard_distance_matrix.qza\u001b[0m\n",
      "\u001b[32mSaved DistanceMatrix to: poop_data/Functional/core-metrics-picrust2-GEN_bmi_cat_normal/bray_curtis_distance_matrix.qza\u001b[0m\n",
      "\u001b[32mSaved PCoAResults to: poop_data/Functional/core-metrics-picrust2-GEN_bmi_cat_normal/jaccard_pcoa_results.qza\u001b[0m\n",
      "\u001b[32mSaved PCoAResults to: poop_data/Functional/core-metrics-picrust2-GEN_bmi_cat_normal/bray_curtis_pcoa_results.qza\u001b[0m\n",
      "\u001b[32mSaved Visualization to: poop_data/Functional/core-metrics-picrust2-GEN_bmi_cat_normal/jaccard_emperor.qzv\u001b[0m\n",
      "\u001b[32mSaved Visualization to: poop_data/Functional/core-metrics-picrust2-GEN_bmi_cat_normal/bray_curtis_emperor.qzv\u001b[0m\n",
      "\u001b[0m"
     ]
    }
   ],
   "source": [
    "! qiime diversity core-metrics \\\n",
    "  --i-table $data_dir/Functional/pathway_abundance_normal.qza \\\n",
    "  --m-metadata-file $data_dir/metadata.tsv \\\n",
    "  --p-sampling-depth 1000 \\\n",
    "  --p-n-jobs $n_jobs \\\n",
    "  --output-dir $data_dir/Functional/core-metrics-picrust2-GEN_bmi_cat_normal"
   ]
  },
  {
   "cell_type": "code",
   "execution_count": 24,
   "id": "c6c36755-3b33-4d6c-b406-498b71f0a127",
   "metadata": {},
   "outputs": [
    {
     "name": "stdout",
     "output_type": "stream",
     "text": [
      "\u001b[32mSaved Visualization to: poop_data/Functional/core-metrics-picrust2-GEN_bmi_cat_normal/adonis-results.qzv\u001b[0m\n",
      "\u001b[0m"
     ]
    }
   ],
   "source": [
    "! qiime diversity adonis \\\n",
    "  --i-distance-matrix $data_dir/Functional/core-metrics-picrust2-GEN_bmi_cat_normal/jaccard_distance_matrix.qza \\\n",
    "  --m-metadata-file $data_dir/metadata.tsv \\\n",
    "  --p-formula '(HEA_ibd+HEA_cdiff+HEA_sibo+HEA_acid_reflux+HEA_thyroid)*HEA_antibiotic_history' \\\n",
    "  --o-visualization $data_dir/Functional/core-metrics-picrust2-GEN_bmi_cat_normal/adonis-results.qzv"
   ]
  },
  {
   "cell_type": "code",
   "execution_count": 25,
   "id": "1fe39509-f57a-40bf-acf7-916916d5547e",
   "metadata": {},
   "outputs": [
    {
     "data": {
      "text/html": [
       "<div><img onload=\"(function(div, url){\n",
       "if (typeof require !== 'undefined') {\n",
       "    var baseURL = require.toUrl('').split('/').slice(0, -2).join('/');\n",
       "} else {\n",
       "    var baseURL = JSON.parse(\n",
       "        document.getElementById('jupyter-config-data').innerHTML\n",
       "    ).baseUrl.slice(0, -1);\n",
       "}\n",
       "url = baseURL + url;\n",
       "fetch(url).then(function(res) {\n",
       "    if (res.status === 404) {\n",
       "        div.innerHTML = 'Install QIIME 2 Jupyter extension with:<br />' +\n",
       "                        '<code>jupyter serverextension enable --py qiime2' +\n",
       "                        ' --sys-prefix</code><br />then restart your server.' +\n",
       "                        '<br /><br />(Interactive output not available on ' +\n",
       "                        'static notebook viewer services like nbviewer.)';\n",
       "    } else if (res.status === 409) {\n",
       "        div.innerHTML = 'Visualization no longer in scope. Re-run this cell' +\n",
       "                        ' to see the visualization.';\n",
       "    } else if (res.ok) {\n",
       "        url = res.url;\n",
       "        div.innerHTML = '<iframe src=\\'' + url + '\\' style=\\'' +\n",
       "                        'width: 100%; height: 700px; border: 0;\\'>' +\n",
       "                        '</iframe><hr />Open in a: <a href=\\'' + url + '\\'' +\n",
       "                        ' target=\\'_blank\\'>new window</a>'\n",
       "    } else {\n",
       "        div.innerHTML = 'Something has gone wrong. Check notebook server for' +\n",
       "                        ' errors.';\n",
       "    }\n",
       "});\n",
       "})(this.parentElement, '/qiime2/redirect?location=/tmp/qiime2-archive-x6rxkf2z')\" src=\"data:image/gif;base64,R0lGODlhAQABAIAAAP///wAAACH5BAEAAAAALAAAAAABAAEAAAICRAEAOw==\" /></div>"
      ],
      "text/plain": [
       "<visualization: Visualization uuid: 00eb6a1e-d22b-4f5b-b281-81fc809f5167>"
      ]
     },
     "execution_count": 25,
     "metadata": {},
     "output_type": "execute_result"
    }
   ],
   "source": [
    "Visualization.load(f'{data_dir}/Functional/core-metrics-picrust2-GEN_bmi_cat_normal/jaccard_emperor.qzv')"
   ]
  },
  {
   "cell_type": "code",
   "execution_count": 26,
   "id": "602592e5-2411-4aba-8575-7f8268d74f72",
   "metadata": {},
   "outputs": [
    {
     "data": {
      "text/html": [
       "<div><img onload=\"(function(div, url){\n",
       "if (typeof require !== 'undefined') {\n",
       "    var baseURL = require.toUrl('').split('/').slice(0, -2).join('/');\n",
       "} else {\n",
       "    var baseURL = JSON.parse(\n",
       "        document.getElementById('jupyter-config-data').innerHTML\n",
       "    ).baseUrl.slice(0, -1);\n",
       "}\n",
       "url = baseURL + url;\n",
       "fetch(url).then(function(res) {\n",
       "    if (res.status === 404) {\n",
       "        div.innerHTML = 'Install QIIME 2 Jupyter extension with:<br />' +\n",
       "                        '<code>jupyter serverextension enable --py qiime2' +\n",
       "                        ' --sys-prefix</code><br />then restart your server.' +\n",
       "                        '<br /><br />(Interactive output not available on ' +\n",
       "                        'static notebook viewer services like nbviewer.)';\n",
       "    } else if (res.status === 409) {\n",
       "        div.innerHTML = 'Visualization no longer in scope. Re-run this cell' +\n",
       "                        ' to see the visualization.';\n",
       "    } else if (res.ok) {\n",
       "        url = res.url;\n",
       "        div.innerHTML = '<iframe src=\\'' + url + '\\' style=\\'' +\n",
       "                        'width: 100%; height: 700px; border: 0;\\'>' +\n",
       "                        '</iframe><hr />Open in a: <a href=\\'' + url + '\\'' +\n",
       "                        ' target=\\'_blank\\'>new window</a>'\n",
       "    } else {\n",
       "        div.innerHTML = 'Something has gone wrong. Check notebook server for' +\n",
       "                        ' errors.';\n",
       "    }\n",
       "});\n",
       "})(this.parentElement, '/qiime2/redirect?location=/tmp/qiime2-archive-08kb2uqt')\" src=\"data:image/gif;base64,R0lGODlhAQABAIAAAP///wAAACH5BAEAAAAALAAAAAABAAEAAAICRAEAOw==\" /></div>"
      ],
      "text/plain": [
       "<visualization: Visualization uuid: 8352bcc6-40be-496e-bd60-de86cf9df657>"
      ]
     },
     "execution_count": 26,
     "metadata": {},
     "output_type": "execute_result"
    }
   ],
   "source": [
    "Visualization.load(f'{data_dir}/Functional/core-metrics-picrust2-GEN_bmi_cat_normal/adonis-results.qzv')"
   ]
  },
  {
   "cell_type": "markdown",
   "id": "69d672c6-68c1-4e2c-a9f2-6b13bf228e70",
   "metadata": {},
   "source": [
    "<a id='function'></a>\n",
    "## Functional redundancy: GEN_age_cat_child"
   ]
  },
  {
   "cell_type": "code",
   "execution_count": 70,
   "id": "531ec2ca-f185-4b2e-b2de-9fef09107b7b",
   "metadata": {},
   "outputs": [
    {
     "name": "stdout",
     "output_type": "stream",
     "text": [
      "\u001b[32mSaved FeatureTable[Frequency] to: poop_data/Functional/pathway_abundance_GEN_age_cat_child.qza\u001b[0m\n",
      "\u001b[0m"
     ]
    }
   ],
   "source": [
    "! qiime feature-table filter-samples \\\n",
    "    --i-table $data_dir/Differential_abundance/table_abund_species.qza \\\n",
    "    --m-metadata-file $data_dir/metadata.tsv \\\n",
    "    --p-where \"[GEN_age_cat]='child'\" \\\n",
    "    --o-filtered-table $data_dir/Functional/pathway_abundance_GEN_age_cat_child.qza"
   ]
  },
  {
   "cell_type": "code",
   "execution_count": 71,
   "id": "5aaecf52-2f5a-4d42-9539-73cc65d2446b",
   "metadata": {},
   "outputs": [
    {
     "name": "stdout",
     "output_type": "stream",
     "text": [
      "\u001b[32mSaved FeatureTable[Frequency] to: poop_data/Functional/core-metrics-picrust2-GEN_age_cat_child/rarefied_table.qza\u001b[0m\n",
      "\u001b[32mSaved SampleData[AlphaDiversity] to: poop_data/Functional/core-metrics-picrust2-GEN_age_cat_child/observed_features_vector.qza\u001b[0m\n",
      "\u001b[32mSaved SampleData[AlphaDiversity] to: poop_data/Functional/core-metrics-picrust2-GEN_age_cat_child/shannon_vector.qza\u001b[0m\n",
      "\u001b[32mSaved SampleData[AlphaDiversity] to: poop_data/Functional/core-metrics-picrust2-GEN_age_cat_child/evenness_vector.qza\u001b[0m\n",
      "\u001b[32mSaved DistanceMatrix to: poop_data/Functional/core-metrics-picrust2-GEN_age_cat_child/jaccard_distance_matrix.qza\u001b[0m\n",
      "\u001b[32mSaved DistanceMatrix to: poop_data/Functional/core-metrics-picrust2-GEN_age_cat_child/bray_curtis_distance_matrix.qza\u001b[0m\n",
      "\u001b[32mSaved PCoAResults to: poop_data/Functional/core-metrics-picrust2-GEN_age_cat_child/jaccard_pcoa_results.qza\u001b[0m\n",
      "\u001b[32mSaved PCoAResults to: poop_data/Functional/core-metrics-picrust2-GEN_age_cat_child/bray_curtis_pcoa_results.qza\u001b[0m\n",
      "\u001b[32mSaved Visualization to: poop_data/Functional/core-metrics-picrust2-GEN_age_cat_child/jaccard_emperor.qzv\u001b[0m\n",
      "\u001b[32mSaved Visualization to: poop_data/Functional/core-metrics-picrust2-GEN_age_cat_child/bray_curtis_emperor.qzv\u001b[0m\n",
      "\u001b[0m"
     ]
    }
   ],
   "source": [
    "! qiime diversity core-metrics \\\n",
    "  --i-table $data_dir/Functional/pathway_abundance_GEN_age_cat_child.qza \\\n",
    "  --m-metadata-file $data_dir/metadata.tsv \\\n",
    "  --p-sampling-depth 1000 \\\n",
    "  --p-n-jobs $n_jobs \\\n",
    "  --output-dir $data_dir/Functional/core-metrics-picrust2-GEN_age_cat_child"
   ]
  },
  {
   "cell_type": "code",
   "execution_count": 3,
   "id": "705c1a77-8a67-426e-b7a7-841c5883ffe7",
   "metadata": {},
   "outputs": [
    {
     "name": "stdout",
     "output_type": "stream",
     "text": [
      "\u001b[32mSaved Visualization to: poop_data/Functional/core-metrics-picrust2-GEN_age_cat_child/adonis-results.qzv\u001b[0m\n",
      "\u001b[0m"
     ]
    }
   ],
   "source": [
    "! qiime diversity adonis \\\n",
    "  --i-distance-matrix $data_dir/Functional/core-metrics-picrust2-GEN_age_cat_child/jaccard_distance_matrix.qza \\\n",
    "  --m-metadata-file $data_dir/metadata.tsv \\\n",
    "  --p-formula 'HEA_antibiotic_history' \\\n",
    "  --o-visualization $data_dir/Functional/core-metrics-picrust2-GEN_age_cat_child/adonis-results.qzv  "
   ]
  },
  {
   "cell_type": "code",
   "execution_count": 4,
   "id": "d4b195ed-5a8b-4337-a685-364aef9c1f7b",
   "metadata": {},
   "outputs": [
    {
     "data": {
      "text/html": [
       "<div><img onload=\"(function(div, url){\n",
       "if (typeof require !== 'undefined') {\n",
       "    var baseURL = require.toUrl('').split('/').slice(0, -2).join('/');\n",
       "} else {\n",
       "    var baseURL = JSON.parse(\n",
       "        document.getElementById('jupyter-config-data').innerHTML\n",
       "    ).baseUrl.slice(0, -1);\n",
       "}\n",
       "url = baseURL + url;\n",
       "fetch(url).then(function(res) {\n",
       "    if (res.status === 404) {\n",
       "        div.innerHTML = 'Install QIIME 2 Jupyter extension with:<br />' +\n",
       "                        '<code>jupyter serverextension enable --py qiime2' +\n",
       "                        ' --sys-prefix</code><br />then restart your server.' +\n",
       "                        '<br /><br />(Interactive output not available on ' +\n",
       "                        'static notebook viewer services like nbviewer.)';\n",
       "    } else if (res.status === 409) {\n",
       "        div.innerHTML = 'Visualization no longer in scope. Re-run this cell' +\n",
       "                        ' to see the visualization.';\n",
       "    } else if (res.ok) {\n",
       "        url = res.url;\n",
       "        div.innerHTML = '<iframe src=\\'' + url + '\\' style=\\'' +\n",
       "                        'width: 100%; height: 700px; border: 0;\\'>' +\n",
       "                        '</iframe><hr />Open in a: <a href=\\'' + url + '\\'' +\n",
       "                        ' target=\\'_blank\\'>new window</a>'\n",
       "    } else {\n",
       "        div.innerHTML = 'Something has gone wrong. Check notebook server for' +\n",
       "                        ' errors.';\n",
       "    }\n",
       "});\n",
       "})(this.parentElement, '/qiime2/redirect?location=/tmp/qiime2-archive-33qym_ya')\" src=\"data:image/gif;base64,R0lGODlhAQABAIAAAP///wAAACH5BAEAAAAALAAAAAABAAEAAAICRAEAOw==\" /></div>"
      ],
      "text/plain": [
       "<visualization: Visualization uuid: 1764b6a5-a282-4363-9965-8d114482747f>"
      ]
     },
     "execution_count": 4,
     "metadata": {},
     "output_type": "execute_result"
    }
   ],
   "source": [
    "Visualization.load(f'{data_dir}/Functional/core-metrics-picrust2-GEN_age_cat_child/jaccard_emperor.qzv')"
   ]
  },
  {
   "cell_type": "code",
   "execution_count": 6,
   "id": "c392c766-4351-49d0-a06e-94c6e0b0e70e",
   "metadata": {},
   "outputs": [
    {
     "data": {
      "text/html": [
       "<div><img onload=\"(function(div, url){\n",
       "if (typeof require !== 'undefined') {\n",
       "    var baseURL = require.toUrl('').split('/').slice(0, -2).join('/');\n",
       "} else {\n",
       "    var baseURL = JSON.parse(\n",
       "        document.getElementById('jupyter-config-data').innerHTML\n",
       "    ).baseUrl.slice(0, -1);\n",
       "}\n",
       "url = baseURL + url;\n",
       "fetch(url).then(function(res) {\n",
       "    if (res.status === 404) {\n",
       "        div.innerHTML = 'Install QIIME 2 Jupyter extension with:<br />' +\n",
       "                        '<code>jupyter serverextension enable --py qiime2' +\n",
       "                        ' --sys-prefix</code><br />then restart your server.' +\n",
       "                        '<br /><br />(Interactive output not available on ' +\n",
       "                        'static notebook viewer services like nbviewer.)';\n",
       "    } else if (res.status === 409) {\n",
       "        div.innerHTML = 'Visualization no longer in scope. Re-run this cell' +\n",
       "                        ' to see the visualization.';\n",
       "    } else if (res.ok) {\n",
       "        url = res.url;\n",
       "        div.innerHTML = '<iframe src=\\'' + url + '\\' style=\\'' +\n",
       "                        'width: 100%; height: 700px; border: 0;\\'>' +\n",
       "                        '</iframe><hr />Open in a: <a href=\\'' + url + '\\'' +\n",
       "                        ' target=\\'_blank\\'>new window</a>'\n",
       "    } else {\n",
       "        div.innerHTML = 'Something has gone wrong. Check notebook server for' +\n",
       "                        ' errors.';\n",
       "    }\n",
       "});\n",
       "})(this.parentElement, '/qiime2/redirect?location=/tmp/qiime2-archive-36p4bgos')\" src=\"data:image/gif;base64,R0lGODlhAQABAIAAAP///wAAACH5BAEAAAAALAAAAAABAAEAAAICRAEAOw==\" /></div>"
      ],
      "text/plain": [
       "<visualization: Visualization uuid: a7d66bfb-2781-48eb-b867-8cc56d8ebc82>"
      ]
     },
     "execution_count": 6,
     "metadata": {},
     "output_type": "execute_result"
    }
   ],
   "source": [
    "Visualization.load(f'{data_dir}/Functional/core-metrics-picrust2-GEN_age_cat_child/adonis-results.qzv')"
   ]
  },
  {
   "cell_type": "markdown",
   "id": "f3d63c73-4875-4439-a9da-f702d52f475b",
   "metadata": {},
   "source": [
    "<a id='function'></a>\n",
    "## Functional redundancy: GEN_age_cat_teen"
   ]
  },
  {
   "cell_type": "code",
   "execution_count": 11,
   "id": "c1e39253-eeca-4505-9fbd-e798587f10ee",
   "metadata": {},
   "outputs": [
    {
     "name": "stdout",
     "output_type": "stream",
     "text": [
      "\u001b[32mSaved FeatureTable[Frequency] to: poop_data/Functional/pathway_abundance_GEN_age_cat_teen.qza\u001b[0m\n",
      "\u001b[0m"
     ]
    }
   ],
   "source": [
    "! qiime feature-table filter-samples \\\n",
    "    --i-table $data_dir/Differential_abundance/table_abund_species.qza \\\n",
    "    --m-metadata-file $data_dir/metadata.tsv \\\n",
    "    --p-where \"[GEN_age_cat]='teen'\" \\\n",
    "    --o-filtered-table $data_dir/Functional/pathway_abundance_GEN_age_cat_teen.qza"
   ]
  },
  {
   "cell_type": "code",
   "execution_count": 12,
   "id": "42e32576-0420-4a5f-b390-1009d5abdaa3",
   "metadata": {},
   "outputs": [
    {
     "name": "stdout",
     "output_type": "stream",
     "text": [
      "\u001b[32mSaved FeatureTable[Frequency] to: poop_data/Functional/core-metrics-picrust2-GEN_age_cat_teen/rarefied_table.qza\u001b[0m\n",
      "\u001b[32mSaved SampleData[AlphaDiversity] to: poop_data/Functional/core-metrics-picrust2-GEN_age_cat_teen/observed_features_vector.qza\u001b[0m\n",
      "\u001b[32mSaved SampleData[AlphaDiversity] to: poop_data/Functional/core-metrics-picrust2-GEN_age_cat_teen/shannon_vector.qza\u001b[0m\n",
      "\u001b[32mSaved SampleData[AlphaDiversity] to: poop_data/Functional/core-metrics-picrust2-GEN_age_cat_teen/evenness_vector.qza\u001b[0m\n",
      "\u001b[32mSaved DistanceMatrix to: poop_data/Functional/core-metrics-picrust2-GEN_age_cat_teen/jaccard_distance_matrix.qza\u001b[0m\n",
      "\u001b[32mSaved DistanceMatrix to: poop_data/Functional/core-metrics-picrust2-GEN_age_cat_teen/bray_curtis_distance_matrix.qza\u001b[0m\n",
      "\u001b[32mSaved PCoAResults to: poop_data/Functional/core-metrics-picrust2-GEN_age_cat_teen/jaccard_pcoa_results.qza\u001b[0m\n",
      "\u001b[32mSaved PCoAResults to: poop_data/Functional/core-metrics-picrust2-GEN_age_cat_teen/bray_curtis_pcoa_results.qza\u001b[0m\n",
      "\u001b[32mSaved Visualization to: poop_data/Functional/core-metrics-picrust2-GEN_age_cat_teen/jaccard_emperor.qzv\u001b[0m\n",
      "\u001b[32mSaved Visualization to: poop_data/Functional/core-metrics-picrust2-GEN_age_cat_teen/bray_curtis_emperor.qzv\u001b[0m\n",
      "\u001b[0m"
     ]
    }
   ],
   "source": [
    "! qiime diversity core-metrics \\\n",
    "  --i-table $data_dir/Functional/pathway_abundance_GEN_age_cat_teen.qza \\\n",
    "  --m-metadata-file $data_dir/metadata.tsv \\\n",
    "  --p-sampling-depth 1000 \\\n",
    "  --p-n-jobs $n_jobs \\\n",
    "  --output-dir $data_dir/Functional/core-metrics-picrust2-GEN_age_cat_teen"
   ]
  },
  {
   "cell_type": "code",
   "execution_count": 13,
   "id": "3440c29c-202f-4ee2-929f-0bd2a586ac05",
   "metadata": {},
   "outputs": [
    {
     "name": "stdout",
     "output_type": "stream",
     "text": [
      "\u001b[32mSaved Visualization to: poop_data/Functional/core-metrics-picrust2-GEN_age_cat_teen/adonis-results.qzv\u001b[0m\n",
      "\u001b[0m"
     ]
    }
   ],
   "source": [
    "! qiime diversity adonis \\\n",
    "  --i-distance-matrix $data_dir/Functional/core-metrics-picrust2-GEN_age_cat_teen/jaccard_distance_matrix.qza \\\n",
    "  --m-metadata-file $data_dir/metadata.tsv \\\n",
    "  --p-formula 'HEA_ibd*HEA_antibiotic_history' \\\n",
    "  --o-visualization $data_dir/Functional/core-metrics-picrust2-GEN_age_cat_teen/adonis-results.qzv"
   ]
  },
  {
   "cell_type": "code",
   "execution_count": 15,
   "id": "ba9e97ef-cace-4986-9c59-f6cd86705c13",
   "metadata": {},
   "outputs": [
    {
     "data": {
      "text/html": [
       "<div><img onload=\"(function(div, url){\n",
       "if (typeof require !== 'undefined') {\n",
       "    var baseURL = require.toUrl('').split('/').slice(0, -2).join('/');\n",
       "} else {\n",
       "    var baseURL = JSON.parse(\n",
       "        document.getElementById('jupyter-config-data').innerHTML\n",
       "    ).baseUrl.slice(0, -1);\n",
       "}\n",
       "url = baseURL + url;\n",
       "fetch(url).then(function(res) {\n",
       "    if (res.status === 404) {\n",
       "        div.innerHTML = 'Install QIIME 2 Jupyter extension with:<br />' +\n",
       "                        '<code>jupyter serverextension enable --py qiime2' +\n",
       "                        ' --sys-prefix</code><br />then restart your server.' +\n",
       "                        '<br /><br />(Interactive output not available on ' +\n",
       "                        'static notebook viewer services like nbviewer.)';\n",
       "    } else if (res.status === 409) {\n",
       "        div.innerHTML = 'Visualization no longer in scope. Re-run this cell' +\n",
       "                        ' to see the visualization.';\n",
       "    } else if (res.ok) {\n",
       "        url = res.url;\n",
       "        div.innerHTML = '<iframe src=\\'' + url + '\\' style=\\'' +\n",
       "                        'width: 100%; height: 700px; border: 0;\\'>' +\n",
       "                        '</iframe><hr />Open in a: <a href=\\'' + url + '\\'' +\n",
       "                        ' target=\\'_blank\\'>new window</a>'\n",
       "    } else {\n",
       "        div.innerHTML = 'Something has gone wrong. Check notebook server for' +\n",
       "                        ' errors.';\n",
       "    }\n",
       "});\n",
       "})(this.parentElement, '/qiime2/redirect?location=/tmp/qiime2-archive-62zo_hy1')\" src=\"data:image/gif;base64,R0lGODlhAQABAIAAAP///wAAACH5BAEAAAAALAAAAAABAAEAAAICRAEAOw==\" /></div>"
      ],
      "text/plain": [
       "<visualization: Visualization uuid: f88277dd-da0c-4378-840d-0fcdf15120d3>"
      ]
     },
     "execution_count": 15,
     "metadata": {},
     "output_type": "execute_result"
    }
   ],
   "source": [
    "Visualization.load(f'{data_dir}/Functional/core-metrics-picrust2-GEN_age_cat_teen/jaccard_emperor.qzv')"
   ]
  },
  {
   "cell_type": "code",
   "execution_count": 16,
   "id": "0b08edf1-108d-4d7a-82fb-c9681744a9d8",
   "metadata": {},
   "outputs": [
    {
     "data": {
      "text/html": [
       "<div><img onload=\"(function(div, url){\n",
       "if (typeof require !== 'undefined') {\n",
       "    var baseURL = require.toUrl('').split('/').slice(0, -2).join('/');\n",
       "} else {\n",
       "    var baseURL = JSON.parse(\n",
       "        document.getElementById('jupyter-config-data').innerHTML\n",
       "    ).baseUrl.slice(0, -1);\n",
       "}\n",
       "url = baseURL + url;\n",
       "fetch(url).then(function(res) {\n",
       "    if (res.status === 404) {\n",
       "        div.innerHTML = 'Install QIIME 2 Jupyter extension with:<br />' +\n",
       "                        '<code>jupyter serverextension enable --py qiime2' +\n",
       "                        ' --sys-prefix</code><br />then restart your server.' +\n",
       "                        '<br /><br />(Interactive output not available on ' +\n",
       "                        'static notebook viewer services like nbviewer.)';\n",
       "    } else if (res.status === 409) {\n",
       "        div.innerHTML = 'Visualization no longer in scope. Re-run this cell' +\n",
       "                        ' to see the visualization.';\n",
       "    } else if (res.ok) {\n",
       "        url = res.url;\n",
       "        div.innerHTML = '<iframe src=\\'' + url + '\\' style=\\'' +\n",
       "                        'width: 100%; height: 700px; border: 0;\\'>' +\n",
       "                        '</iframe><hr />Open in a: <a href=\\'' + url + '\\'' +\n",
       "                        ' target=\\'_blank\\'>new window</a>'\n",
       "    } else {\n",
       "        div.innerHTML = 'Something has gone wrong. Check notebook server for' +\n",
       "                        ' errors.';\n",
       "    }\n",
       "});\n",
       "})(this.parentElement, '/qiime2/redirect?location=/tmp/qiime2-archive-arjre2jm')\" src=\"data:image/gif;base64,R0lGODlhAQABAIAAAP///wAAACH5BAEAAAAALAAAAAABAAEAAAICRAEAOw==\" /></div>"
      ],
      "text/plain": [
       "<visualization: Visualization uuid: c2d765e2-20a6-46e4-9550-cc4c39f25f2f>"
      ]
     },
     "execution_count": 16,
     "metadata": {},
     "output_type": "execute_result"
    }
   ],
   "source": [
    "Visualization.load(f'{data_dir}/Functional/core-metrics-picrust2-GEN_age_cat_teen/adonis-results.qzv')"
   ]
  },
  {
   "cell_type": "markdown",
   "id": "89a9066c-c51c-4ea0-8af5-a4d1da79f5ea",
   "metadata": {},
   "source": [
    "<a id='function'></a>\n",
    "## Functional redundancy: GEN_age_cat_20s"
   ]
  },
  {
   "cell_type": "code",
   "execution_count": 38,
   "id": "0f03de18-62a4-43bc-8248-b6b3fd79525f",
   "metadata": {},
   "outputs": [
    {
     "name": "stdout",
     "output_type": "stream",
     "text": [
      "\u001b[32mSaved FeatureTable[Frequency] to: poop_data/Functional/pathway_abundance_GEN_age_cat_20s.qza\u001b[0m\n",
      "\u001b[0m"
     ]
    }
   ],
   "source": [
    "! qiime feature-table filter-samples \\\n",
    "    --i-table $data_dir/Differential_abundance/table_abund_species.qza \\\n",
    "    --m-metadata-file $data_dir/metadata.tsv \\\n",
    "    --p-where \"[GEN_age_cat]='20s'\" \\\n",
    "    --o-filtered-table $data_dir/Functional/pathway_abundance_GEN_age_cat_20s.qza"
   ]
  },
  {
   "cell_type": "code",
   "execution_count": 39,
   "id": "a71868f2-ee4a-4ea5-9aa8-d96462573e44",
   "metadata": {},
   "outputs": [
    {
     "name": "stdout",
     "output_type": "stream",
     "text": [
      "\u001b[32mSaved FeatureTable[Frequency] to: poop_data/Functional/core-metrics-picrust2-GEN_age_cat_20s/rarefied_table.qza\u001b[0m\n",
      "\u001b[32mSaved SampleData[AlphaDiversity] to: poop_data/Functional/core-metrics-picrust2-GEN_age_cat_20s/observed_features_vector.qza\u001b[0m\n",
      "\u001b[32mSaved SampleData[AlphaDiversity] to: poop_data/Functional/core-metrics-picrust2-GEN_age_cat_20s/shannon_vector.qza\u001b[0m\n",
      "\u001b[32mSaved SampleData[AlphaDiversity] to: poop_data/Functional/core-metrics-picrust2-GEN_age_cat_20s/evenness_vector.qza\u001b[0m\n",
      "\u001b[32mSaved DistanceMatrix to: poop_data/Functional/core-metrics-picrust2-GEN_age_cat_20s/jaccard_distance_matrix.qza\u001b[0m\n",
      "\u001b[32mSaved DistanceMatrix to: poop_data/Functional/core-metrics-picrust2-GEN_age_cat_20s/bray_curtis_distance_matrix.qza\u001b[0m\n",
      "\u001b[32mSaved PCoAResults to: poop_data/Functional/core-metrics-picrust2-GEN_age_cat_20s/jaccard_pcoa_results.qza\u001b[0m\n",
      "\u001b[32mSaved PCoAResults to: poop_data/Functional/core-metrics-picrust2-GEN_age_cat_20s/bray_curtis_pcoa_results.qza\u001b[0m\n",
      "\u001b[32mSaved Visualization to: poop_data/Functional/core-metrics-picrust2-GEN_age_cat_20s/jaccard_emperor.qzv\u001b[0m\n",
      "\u001b[32mSaved Visualization to: poop_data/Functional/core-metrics-picrust2-GEN_age_cat_20s/bray_curtis_emperor.qzv\u001b[0m\n",
      "\u001b[0m"
     ]
    }
   ],
   "source": [
    "! qiime diversity core-metrics \\\n",
    "  --i-table $data_dir/Functional/pathway_abundance_GEN_age_cat_20s.qza \\\n",
    "  --m-metadata-file $data_dir/metadata.tsv \\\n",
    "  --p-sampling-depth 1000 \\\n",
    "  --p-n-jobs $n_jobs \\\n",
    "  --output-dir $data_dir/Functional/core-metrics-picrust2-GEN_age_cat_20s"
   ]
  },
  {
   "cell_type": "code",
   "execution_count": 40,
   "id": "098de337-5e76-4ce4-8670-13ae994fb832",
   "metadata": {},
   "outputs": [
    {
     "name": "stdout",
     "output_type": "stream",
     "text": [
      "\u001b[32mSaved Visualization to: poop_data/Functional/core-metrics-picrust2-GEN_age_cat_20s/adonis-results.qzv\u001b[0m\n",
      "\u001b[0m"
     ]
    }
   ],
   "source": [
    "! qiime diversity adonis \\\n",
    "  --i-distance-matrix $data_dir/Functional/core-metrics-picrust2-GEN_age_cat_20s/jaccard_distance_matrix.qza \\\n",
    "  --m-metadata-file $data_dir/metadata.tsv \\\n",
    "  --p-formula '(HEA_ibd+HEA_cdiff+HEA_sibo+HEA_acid_reflux+HEA_thyroid)*HEA_antibiotic_history' \\\n",
    "  --o-visualization $data_dir/Functional/core-metrics-picrust2-GEN_age_cat_20s/adonis-results.qzv"
   ]
  },
  {
   "cell_type": "code",
   "execution_count": 41,
   "id": "76c11974-9e91-4d24-af23-487c860fb06b",
   "metadata": {},
   "outputs": [
    {
     "data": {
      "text/html": [
       "<div><img onload=\"(function(div, url){\n",
       "if (typeof require !== 'undefined') {\n",
       "    var baseURL = require.toUrl('').split('/').slice(0, -2).join('/');\n",
       "} else {\n",
       "    var baseURL = JSON.parse(\n",
       "        document.getElementById('jupyter-config-data').innerHTML\n",
       "    ).baseUrl.slice(0, -1);\n",
       "}\n",
       "url = baseURL + url;\n",
       "fetch(url).then(function(res) {\n",
       "    if (res.status === 404) {\n",
       "        div.innerHTML = 'Install QIIME 2 Jupyter extension with:<br />' +\n",
       "                        '<code>jupyter serverextension enable --py qiime2' +\n",
       "                        ' --sys-prefix</code><br />then restart your server.' +\n",
       "                        '<br /><br />(Interactive output not available on ' +\n",
       "                        'static notebook viewer services like nbviewer.)';\n",
       "    } else if (res.status === 409) {\n",
       "        div.innerHTML = 'Visualization no longer in scope. Re-run this cell' +\n",
       "                        ' to see the visualization.';\n",
       "    } else if (res.ok) {\n",
       "        url = res.url;\n",
       "        div.innerHTML = '<iframe src=\\'' + url + '\\' style=\\'' +\n",
       "                        'width: 100%; height: 700px; border: 0;\\'>' +\n",
       "                        '</iframe><hr />Open in a: <a href=\\'' + url + '\\'' +\n",
       "                        ' target=\\'_blank\\'>new window</a>'\n",
       "    } else {\n",
       "        div.innerHTML = 'Something has gone wrong. Check notebook server for' +\n",
       "                        ' errors.';\n",
       "    }\n",
       "});\n",
       "})(this.parentElement, '/qiime2/redirect?location=/tmp/qiime2-archive-z25puopx')\" src=\"data:image/gif;base64,R0lGODlhAQABAIAAAP///wAAACH5BAEAAAAALAAAAAABAAEAAAICRAEAOw==\" /></div>"
      ],
      "text/plain": [
       "<visualization: Visualization uuid: 2f02023d-eddd-4390-8c92-626f84e2da69>"
      ]
     },
     "execution_count": 41,
     "metadata": {},
     "output_type": "execute_result"
    }
   ],
   "source": [
    "Visualization.load(f'{data_dir}/Functional/core-metrics-picrust2-GEN_age_cat_20s/jaccard_emperor.qzv')"
   ]
  },
  {
   "cell_type": "code",
   "execution_count": 14,
   "id": "e4696421-11ed-4af6-ba5e-5fe175106e3b",
   "metadata": {},
   "outputs": [
    {
     "data": {
      "text/html": [
       "<div><img onload=\"(function(div, url){\n",
       "if (typeof require !== 'undefined') {\n",
       "    var baseURL = require.toUrl('').split('/').slice(0, -2).join('/');\n",
       "} else {\n",
       "    var baseURL = JSON.parse(\n",
       "        document.getElementById('jupyter-config-data').innerHTML\n",
       "    ).baseUrl.slice(0, -1);\n",
       "}\n",
       "url = baseURL + url;\n",
       "fetch(url).then(function(res) {\n",
       "    if (res.status === 404) {\n",
       "        div.innerHTML = 'Install QIIME 2 Jupyter extension with:<br />' +\n",
       "                        '<code>jupyter serverextension enable --py qiime2' +\n",
       "                        ' --sys-prefix</code><br />then restart your server.' +\n",
       "                        '<br /><br />(Interactive output not available on ' +\n",
       "                        'static notebook viewer services like nbviewer.)';\n",
       "    } else if (res.status === 409) {\n",
       "        div.innerHTML = 'Visualization no longer in scope. Re-run this cell' +\n",
       "                        ' to see the visualization.';\n",
       "    } else if (res.ok) {\n",
       "        url = res.url;\n",
       "        div.innerHTML = '<iframe src=\\'' + url + '\\' style=\\'' +\n",
       "                        'width: 100%; height: 700px; border: 0;\\'>' +\n",
       "                        '</iframe><hr />Open in a: <a href=\\'' + url + '\\'' +\n",
       "                        ' target=\\'_blank\\'>new window</a>'\n",
       "    } else {\n",
       "        div.innerHTML = 'Something has gone wrong. Check notebook server for' +\n",
       "                        ' errors.';\n",
       "    }\n",
       "});\n",
       "})(this.parentElement, '/qiime2/redirect?location=/tmp/qiime2-archive-og7kqvbp')\" src=\"data:image/gif;base64,R0lGODlhAQABAIAAAP///wAAACH5BAEAAAAALAAAAAABAAEAAAICRAEAOw==\" /></div>"
      ],
      "text/plain": [
       "<visualization: Visualization uuid: 36b2da05-d305-4158-8574-9141c6916a53>"
      ]
     },
     "execution_count": 14,
     "metadata": {},
     "output_type": "execute_result"
    }
   ],
   "source": [
    "Visualization.load(f'{data_dir}/Functional/core-metrics-picrust2-GEN_age_cat_20s/adonis-results.qzv')"
   ]
  },
  {
   "cell_type": "markdown",
   "id": "00d14fab-0376-42a5-8971-63dc6de1b29b",
   "metadata": {},
   "source": [
    "<a id='function'></a>\n",
    "## Functional redundancy: GEN_age_cat_30s"
   ]
  },
  {
   "cell_type": "code",
   "execution_count": 43,
   "id": "862bc013-c6ed-4bf6-a15f-56ba6caf21c7",
   "metadata": {},
   "outputs": [
    {
     "name": "stdout",
     "output_type": "stream",
     "text": [
      "\u001b[32mSaved FeatureTable[Frequency] to: poop_data/Functional/pathway_abundance_GEN_age_cat_30s.qza\u001b[0m\n",
      "\u001b[0m"
     ]
    }
   ],
   "source": [
    "! qiime feature-table filter-samples \\\n",
    "    --i-table $data_dir/Differential_abundance/table_abund_species.qza \\\n",
    "    --m-metadata-file $data_dir/metadata.tsv \\\n",
    "    --p-where \"[GEN_age_cat]='30s'\" \\\n",
    "    --o-filtered-table $data_dir/Functional/pathway_abundance_GEN_age_cat_30s.qza"
   ]
  },
  {
   "cell_type": "code",
   "execution_count": 44,
   "id": "bf90e332-4467-4d6c-9715-46af4401f87f",
   "metadata": {},
   "outputs": [
    {
     "name": "stdout",
     "output_type": "stream",
     "text": [
      "\u001b[32mSaved FeatureTable[Frequency] to: poop_data/Functional/core-metrics-picrust2-GEN_age_cat_30s/rarefied_table.qza\u001b[0m\n",
      "\u001b[32mSaved SampleData[AlphaDiversity] to: poop_data/Functional/core-metrics-picrust2-GEN_age_cat_30s/observed_features_vector.qza\u001b[0m\n",
      "\u001b[32mSaved SampleData[AlphaDiversity] to: poop_data/Functional/core-metrics-picrust2-GEN_age_cat_30s/shannon_vector.qza\u001b[0m\n",
      "\u001b[32mSaved SampleData[AlphaDiversity] to: poop_data/Functional/core-metrics-picrust2-GEN_age_cat_30s/evenness_vector.qza\u001b[0m\n",
      "\u001b[32mSaved DistanceMatrix to: poop_data/Functional/core-metrics-picrust2-GEN_age_cat_30s/jaccard_distance_matrix.qza\u001b[0m\n",
      "\u001b[32mSaved DistanceMatrix to: poop_data/Functional/core-metrics-picrust2-GEN_age_cat_30s/bray_curtis_distance_matrix.qza\u001b[0m\n",
      "\u001b[32mSaved PCoAResults to: poop_data/Functional/core-metrics-picrust2-GEN_age_cat_30s/jaccard_pcoa_results.qza\u001b[0m\n",
      "\u001b[32mSaved PCoAResults to: poop_data/Functional/core-metrics-picrust2-GEN_age_cat_30s/bray_curtis_pcoa_results.qza\u001b[0m\n",
      "\u001b[32mSaved Visualization to: poop_data/Functional/core-metrics-picrust2-GEN_age_cat_30s/jaccard_emperor.qzv\u001b[0m\n",
      "\u001b[32mSaved Visualization to: poop_data/Functional/core-metrics-picrust2-GEN_age_cat_30s/bray_curtis_emperor.qzv\u001b[0m\n",
      "\u001b[0m"
     ]
    }
   ],
   "source": [
    "! qiime diversity core-metrics \\\n",
    "  --i-table $data_dir/Functional/pathway_abundance_GEN_age_cat_30s.qza \\\n",
    "  --m-metadata-file $data_dir/metadata.tsv \\\n",
    "  --p-sampling-depth 1000 \\\n",
    "  --p-n-jobs $n_jobs \\\n",
    "  --output-dir $data_dir/Functional/core-metrics-picrust2-GEN_age_cat_30s"
   ]
  },
  {
   "cell_type": "code",
   "execution_count": 45,
   "id": "c7093a91-69eb-4a8d-a89f-556f8f101aff",
   "metadata": {},
   "outputs": [
    {
     "name": "stdout",
     "output_type": "stream",
     "text": [
      "\u001b[32mSaved Visualization to: poop_data/Functional/core-metrics-picrust2-GEN_age_cat_30s/adonis-results.qzv\u001b[0m\n",
      "\u001b[0m"
     ]
    }
   ],
   "source": [
    "! qiime diversity adonis \\\n",
    "  --i-distance-matrix $data_dir/Functional/core-metrics-picrust2-GEN_age_cat_30s/jaccard_distance_matrix.qza \\\n",
    "  --m-metadata-file $data_dir/metadata.tsv \\\n",
    "  --p-formula '(HEA_ibd+HEA_cdiff+HEA_sibo+HEA_acid_reflux+HEA_thyroid)*HEA_antibiotic_history' \\\n",
    "  --o-visualization $data_dir/Functional/core-metrics-picrust2-GEN_age_cat_30s/adonis-results.qzv"
   ]
  },
  {
   "cell_type": "code",
   "execution_count": 46,
   "id": "b085485d-d5af-412a-872f-3d0c903bb5e1",
   "metadata": {},
   "outputs": [
    {
     "data": {
      "text/html": [
       "<div><img onload=\"(function(div, url){\n",
       "if (typeof require !== 'undefined') {\n",
       "    var baseURL = require.toUrl('').split('/').slice(0, -2).join('/');\n",
       "} else {\n",
       "    var baseURL = JSON.parse(\n",
       "        document.getElementById('jupyter-config-data').innerHTML\n",
       "    ).baseUrl.slice(0, -1);\n",
       "}\n",
       "url = baseURL + url;\n",
       "fetch(url).then(function(res) {\n",
       "    if (res.status === 404) {\n",
       "        div.innerHTML = 'Install QIIME 2 Jupyter extension with:<br />' +\n",
       "                        '<code>jupyter serverextension enable --py qiime2' +\n",
       "                        ' --sys-prefix</code><br />then restart your server.' +\n",
       "                        '<br /><br />(Interactive output not available on ' +\n",
       "                        'static notebook viewer services like nbviewer.)';\n",
       "    } else if (res.status === 409) {\n",
       "        div.innerHTML = 'Visualization no longer in scope. Re-run this cell' +\n",
       "                        ' to see the visualization.';\n",
       "    } else if (res.ok) {\n",
       "        url = res.url;\n",
       "        div.innerHTML = '<iframe src=\\'' + url + '\\' style=\\'' +\n",
       "                        'width: 100%; height: 700px; border: 0;\\'>' +\n",
       "                        '</iframe><hr />Open in a: <a href=\\'' + url + '\\'' +\n",
       "                        ' target=\\'_blank\\'>new window</a>'\n",
       "    } else {\n",
       "        div.innerHTML = 'Something has gone wrong. Check notebook server for' +\n",
       "                        ' errors.';\n",
       "    }\n",
       "});\n",
       "})(this.parentElement, '/qiime2/redirect?location=/tmp/qiime2-archive-48lq9p14')\" src=\"data:image/gif;base64,R0lGODlhAQABAIAAAP///wAAACH5BAEAAAAALAAAAAABAAEAAAICRAEAOw==\" /></div>"
      ],
      "text/plain": [
       "<visualization: Visualization uuid: eefc17d9-0333-49a3-bcbc-a153c64e7f50>"
      ]
     },
     "execution_count": 46,
     "metadata": {},
     "output_type": "execute_result"
    }
   ],
   "source": [
    "Visualization.load(f'{data_dir}/Functional/core-metrics-picrust2-GEN_age_cat_30s/jaccard_emperor.qzv')"
   ]
  },
  {
   "cell_type": "code",
   "execution_count": 47,
   "id": "714a4141-1138-44f5-85be-c54e98bab053",
   "metadata": {},
   "outputs": [
    {
     "data": {
      "text/html": [
       "<div><img onload=\"(function(div, url){\n",
       "if (typeof require !== 'undefined') {\n",
       "    var baseURL = require.toUrl('').split('/').slice(0, -2).join('/');\n",
       "} else {\n",
       "    var baseURL = JSON.parse(\n",
       "        document.getElementById('jupyter-config-data').innerHTML\n",
       "    ).baseUrl.slice(0, -1);\n",
       "}\n",
       "url = baseURL + url;\n",
       "fetch(url).then(function(res) {\n",
       "    if (res.status === 404) {\n",
       "        div.innerHTML = 'Install QIIME 2 Jupyter extension with:<br />' +\n",
       "                        '<code>jupyter serverextension enable --py qiime2' +\n",
       "                        ' --sys-prefix</code><br />then restart your server.' +\n",
       "                        '<br /><br />(Interactive output not available on ' +\n",
       "                        'static notebook viewer services like nbviewer.)';\n",
       "    } else if (res.status === 409) {\n",
       "        div.innerHTML = 'Visualization no longer in scope. Re-run this cell' +\n",
       "                        ' to see the visualization.';\n",
       "    } else if (res.ok) {\n",
       "        url = res.url;\n",
       "        div.innerHTML = '<iframe src=\\'' + url + '\\' style=\\'' +\n",
       "                        'width: 100%; height: 700px; border: 0;\\'>' +\n",
       "                        '</iframe><hr />Open in a: <a href=\\'' + url + '\\'' +\n",
       "                        ' target=\\'_blank\\'>new window</a>'\n",
       "    } else {\n",
       "        div.innerHTML = 'Something has gone wrong. Check notebook server for' +\n",
       "                        ' errors.';\n",
       "    }\n",
       "});\n",
       "})(this.parentElement, '/qiime2/redirect?location=/tmp/qiime2-archive-kv40sjeh')\" src=\"data:image/gif;base64,R0lGODlhAQABAIAAAP///wAAACH5BAEAAAAALAAAAAABAAEAAAICRAEAOw==\" /></div>"
      ],
      "text/plain": [
       "<visualization: Visualization uuid: d771d807-047a-4d17-b6f2-d45792199bc4>"
      ]
     },
     "execution_count": 47,
     "metadata": {},
     "output_type": "execute_result"
    }
   ],
   "source": [
    "Visualization.load(f'{data_dir}/Functional/core-metrics-picrust2-GEN_age_cat_30s/adonis-results.qzv')"
   ]
  },
  {
   "cell_type": "markdown",
   "id": "cf4a4b78-5760-4f75-93e0-133b3987af97",
   "metadata": {},
   "source": [
    "<a id='function'></a>\n",
    "## Functional redundancy: GEN_age_cat_40s"
   ]
  },
  {
   "cell_type": "code",
   "execution_count": 48,
   "id": "1a73dbe6-9b70-4f83-a724-726ede86c656",
   "metadata": {},
   "outputs": [
    {
     "name": "stdout",
     "output_type": "stream",
     "text": [
      "\u001b[32mSaved FeatureTable[Frequency] to: poop_data/Functional/pathway_abundance_GEN_age_cat_40s.qza\u001b[0m\n",
      "\u001b[0m"
     ]
    }
   ],
   "source": [
    "! qiime feature-table filter-samples \\\n",
    "    --i-table $data_dir/Differential_abundance/table_abund_species.qza \\\n",
    "    --m-metadata-file $data_dir/metadata.tsv \\\n",
    "    --p-where \"[GEN_age_cat]='40s'\" \\\n",
    "    --o-filtered-table $data_dir/Functional/pathway_abundance_GEN_age_cat_40s.qza"
   ]
  },
  {
   "cell_type": "code",
   "execution_count": 49,
   "id": "8377203f-7346-4d6f-b037-d0fe6e872634",
   "metadata": {},
   "outputs": [
    {
     "name": "stdout",
     "output_type": "stream",
     "text": [
      "\u001b[32mSaved FeatureTable[Frequency] to: poop_data/Functional/core-metrics-picrust2-GEN_age_cat_40s/rarefied_table.qza\u001b[0m\n",
      "\u001b[32mSaved SampleData[AlphaDiversity] to: poop_data/Functional/core-metrics-picrust2-GEN_age_cat_40s/observed_features_vector.qza\u001b[0m\n",
      "\u001b[32mSaved SampleData[AlphaDiversity] to: poop_data/Functional/core-metrics-picrust2-GEN_age_cat_40s/shannon_vector.qza\u001b[0m\n",
      "\u001b[32mSaved SampleData[AlphaDiversity] to: poop_data/Functional/core-metrics-picrust2-GEN_age_cat_40s/evenness_vector.qza\u001b[0m\n",
      "\u001b[32mSaved DistanceMatrix to: poop_data/Functional/core-metrics-picrust2-GEN_age_cat_40s/jaccard_distance_matrix.qza\u001b[0m\n",
      "\u001b[32mSaved DistanceMatrix to: poop_data/Functional/core-metrics-picrust2-GEN_age_cat_40s/bray_curtis_distance_matrix.qza\u001b[0m\n",
      "\u001b[32mSaved PCoAResults to: poop_data/Functional/core-metrics-picrust2-GEN_age_cat_40s/jaccard_pcoa_results.qza\u001b[0m\n",
      "\u001b[32mSaved PCoAResults to: poop_data/Functional/core-metrics-picrust2-GEN_age_cat_40s/bray_curtis_pcoa_results.qza\u001b[0m\n",
      "\u001b[32mSaved Visualization to: poop_data/Functional/core-metrics-picrust2-GEN_age_cat_40s/jaccard_emperor.qzv\u001b[0m\n",
      "\u001b[32mSaved Visualization to: poop_data/Functional/core-metrics-picrust2-GEN_age_cat_40s/bray_curtis_emperor.qzv\u001b[0m\n",
      "\u001b[0m"
     ]
    }
   ],
   "source": [
    "! qiime diversity core-metrics \\\n",
    "  --i-table $data_dir/Functional/pathway_abundance_GEN_age_cat_40s.qza \\\n",
    "  --m-metadata-file $data_dir/metadata.tsv \\\n",
    "  --p-sampling-depth 1000 \\\n",
    "  --p-n-jobs $n_jobs \\\n",
    "  --output-dir $data_dir/Functional/core-metrics-picrust2-GEN_age_cat_40s"
   ]
  },
  {
   "cell_type": "code",
   "execution_count": 50,
   "id": "534f243d-b709-471a-bb7e-cf41684018a8",
   "metadata": {},
   "outputs": [
    {
     "name": "stdout",
     "output_type": "stream",
     "text": [
      "\u001b[32mSaved Visualization to: poop_data/Functional/core-metrics-picrust2-GEN_age_cat_40s/adonis-results.qzv\u001b[0m\n",
      "\u001b[0m"
     ]
    }
   ],
   "source": [
    "! qiime diversity adonis \\\n",
    "  --i-distance-matrix $data_dir/Functional/core-metrics-picrust2-GEN_age_cat_40s/jaccard_distance_matrix.qza \\\n",
    "  --m-metadata-file $data_dir/metadata.tsv \\\n",
    "  --p-formula '(HEA_ibd+HEA_cdiff+HEA_sibo+HEA_acid_reflux+HEA_thyroid)*HEA_antibiotic_history' \\\n",
    "  --o-visualization $data_dir/Functional/core-metrics-picrust2-GEN_age_cat_40s/adonis-results.qzv"
   ]
  },
  {
   "cell_type": "code",
   "execution_count": 51,
   "id": "92caa20b-5353-4b0d-a535-7c1e8a4413ae",
   "metadata": {},
   "outputs": [
    {
     "data": {
      "text/html": [
       "<div><img onload=\"(function(div, url){\n",
       "if (typeof require !== 'undefined') {\n",
       "    var baseURL = require.toUrl('').split('/').slice(0, -2).join('/');\n",
       "} else {\n",
       "    var baseURL = JSON.parse(\n",
       "        document.getElementById('jupyter-config-data').innerHTML\n",
       "    ).baseUrl.slice(0, -1);\n",
       "}\n",
       "url = baseURL + url;\n",
       "fetch(url).then(function(res) {\n",
       "    if (res.status === 404) {\n",
       "        div.innerHTML = 'Install QIIME 2 Jupyter extension with:<br />' +\n",
       "                        '<code>jupyter serverextension enable --py qiime2' +\n",
       "                        ' --sys-prefix</code><br />then restart your server.' +\n",
       "                        '<br /><br />(Interactive output not available on ' +\n",
       "                        'static notebook viewer services like nbviewer.)';\n",
       "    } else if (res.status === 409) {\n",
       "        div.innerHTML = 'Visualization no longer in scope. Re-run this cell' +\n",
       "                        ' to see the visualization.';\n",
       "    } else if (res.ok) {\n",
       "        url = res.url;\n",
       "        div.innerHTML = '<iframe src=\\'' + url + '\\' style=\\'' +\n",
       "                        'width: 100%; height: 700px; border: 0;\\'>' +\n",
       "                        '</iframe><hr />Open in a: <a href=\\'' + url + '\\'' +\n",
       "                        ' target=\\'_blank\\'>new window</a>'\n",
       "    } else {\n",
       "        div.innerHTML = 'Something has gone wrong. Check notebook server for' +\n",
       "                        ' errors.';\n",
       "    }\n",
       "});\n",
       "})(this.parentElement, '/qiime2/redirect?location=/tmp/qiime2-archive-larvcbb5')\" src=\"data:image/gif;base64,R0lGODlhAQABAIAAAP///wAAACH5BAEAAAAALAAAAAABAAEAAAICRAEAOw==\" /></div>"
      ],
      "text/plain": [
       "<visualization: Visualization uuid: 2c929580-f206-4e5e-8726-c70750da069b>"
      ]
     },
     "execution_count": 51,
     "metadata": {},
     "output_type": "execute_result"
    }
   ],
   "source": [
    "Visualization.load(f'{data_dir}/Functional/core-metrics-picrust2-GEN_age_cat_40s/jaccard_emperor.qzv')"
   ]
  },
  {
   "cell_type": "code",
   "execution_count": 52,
   "id": "3f6fdc6e-6284-4cd1-b265-712ece3fd109",
   "metadata": {},
   "outputs": [
    {
     "data": {
      "text/html": [
       "<div><img onload=\"(function(div, url){\n",
       "if (typeof require !== 'undefined') {\n",
       "    var baseURL = require.toUrl('').split('/').slice(0, -2).join('/');\n",
       "} else {\n",
       "    var baseURL = JSON.parse(\n",
       "        document.getElementById('jupyter-config-data').innerHTML\n",
       "    ).baseUrl.slice(0, -1);\n",
       "}\n",
       "url = baseURL + url;\n",
       "fetch(url).then(function(res) {\n",
       "    if (res.status === 404) {\n",
       "        div.innerHTML = 'Install QIIME 2 Jupyter extension with:<br />' +\n",
       "                        '<code>jupyter serverextension enable --py qiime2' +\n",
       "                        ' --sys-prefix</code><br />then restart your server.' +\n",
       "                        '<br /><br />(Interactive output not available on ' +\n",
       "                        'static notebook viewer services like nbviewer.)';\n",
       "    } else if (res.status === 409) {\n",
       "        div.innerHTML = 'Visualization no longer in scope. Re-run this cell' +\n",
       "                        ' to see the visualization.';\n",
       "    } else if (res.ok) {\n",
       "        url = res.url;\n",
       "        div.innerHTML = '<iframe src=\\'' + url + '\\' style=\\'' +\n",
       "                        'width: 100%; height: 700px; border: 0;\\'>' +\n",
       "                        '</iframe><hr />Open in a: <a href=\\'' + url + '\\'' +\n",
       "                        ' target=\\'_blank\\'>new window</a>'\n",
       "    } else {\n",
       "        div.innerHTML = 'Something has gone wrong. Check notebook server for' +\n",
       "                        ' errors.';\n",
       "    }\n",
       "});\n",
       "})(this.parentElement, '/qiime2/redirect?location=/tmp/qiime2-archive-eji40iqo')\" src=\"data:image/gif;base64,R0lGODlhAQABAIAAAP///wAAACH5BAEAAAAALAAAAAABAAEAAAICRAEAOw==\" /></div>"
      ],
      "text/plain": [
       "<visualization: Visualization uuid: d4401600-50b9-4984-a1a0-abdce88618a3>"
      ]
     },
     "execution_count": 52,
     "metadata": {},
     "output_type": "execute_result"
    }
   ],
   "source": [
    "Visualization.load(f'{data_dir}/Functional/core-metrics-picrust2-GEN_age_cat_40s/adonis-results.qzv')"
   ]
  },
  {
   "cell_type": "markdown",
   "id": "746d4d8e-8427-4c8f-b0c9-d0e01c8c1c81",
   "metadata": {},
   "source": [
    "<a id='function'></a>\n",
    "## Functional redundancy: GEN_age_cat_50s"
   ]
  },
  {
   "cell_type": "code",
   "execution_count": 53,
   "id": "84bcf8dc-98a6-4eb2-b2ec-4fb0d700b0cd",
   "metadata": {},
   "outputs": [
    {
     "name": "stdout",
     "output_type": "stream",
     "text": [
      "\u001b[32mSaved FeatureTable[Frequency] to: poop_data/Functional/pathway_abundance_GEN_age_cat_50s.qza\u001b[0m\n",
      "\u001b[0m"
     ]
    }
   ],
   "source": [
    "! qiime feature-table filter-samples \\\n",
    "    --i-table $data_dir/Differential_abundance/table_abund_species.qza \\\n",
    "    --m-metadata-file $data_dir/metadata.tsv \\\n",
    "    --p-where \"[GEN_age_cat]='50s'\" \\\n",
    "    --o-filtered-table $data_dir/Functional/pathway_abundance_GEN_age_cat_50s.qza"
   ]
  },
  {
   "cell_type": "code",
   "execution_count": 54,
   "id": "79adbf41-429a-40af-8ccf-2e27492b0ce5",
   "metadata": {},
   "outputs": [
    {
     "name": "stdout",
     "output_type": "stream",
     "text": [
      "\u001b[32mSaved FeatureTable[Frequency] to: poop_data/Functional/core-metrics-picrust2-GEN_age_cat_50s/rarefied_table.qza\u001b[0m\n",
      "\u001b[32mSaved SampleData[AlphaDiversity] to: poop_data/Functional/core-metrics-picrust2-GEN_age_cat_50s/observed_features_vector.qza\u001b[0m\n",
      "\u001b[32mSaved SampleData[AlphaDiversity] to: poop_data/Functional/core-metrics-picrust2-GEN_age_cat_50s/shannon_vector.qza\u001b[0m\n",
      "\u001b[32mSaved SampleData[AlphaDiversity] to: poop_data/Functional/core-metrics-picrust2-GEN_age_cat_50s/evenness_vector.qza\u001b[0m\n",
      "\u001b[32mSaved DistanceMatrix to: poop_data/Functional/core-metrics-picrust2-GEN_age_cat_50s/jaccard_distance_matrix.qza\u001b[0m\n",
      "\u001b[32mSaved DistanceMatrix to: poop_data/Functional/core-metrics-picrust2-GEN_age_cat_50s/bray_curtis_distance_matrix.qza\u001b[0m\n",
      "\u001b[32mSaved PCoAResults to: poop_data/Functional/core-metrics-picrust2-GEN_age_cat_50s/jaccard_pcoa_results.qza\u001b[0m\n",
      "\u001b[32mSaved PCoAResults to: poop_data/Functional/core-metrics-picrust2-GEN_age_cat_50s/bray_curtis_pcoa_results.qza\u001b[0m\n",
      "\u001b[32mSaved Visualization to: poop_data/Functional/core-metrics-picrust2-GEN_age_cat_50s/jaccard_emperor.qzv\u001b[0m\n",
      "\u001b[32mSaved Visualization to: poop_data/Functional/core-metrics-picrust2-GEN_age_cat_50s/bray_curtis_emperor.qzv\u001b[0m\n",
      "\u001b[0m"
     ]
    }
   ],
   "source": [
    "! qiime diversity core-metrics \\\n",
    "  --i-table $data_dir/Functional/pathway_abundance_GEN_age_cat_50s.qza \\\n",
    "  --m-metadata-file $data_dir/metadata.tsv \\\n",
    "  --p-sampling-depth 1000 \\\n",
    "  --p-n-jobs $n_jobs \\\n",
    "  --output-dir $data_dir/Functional/core-metrics-picrust2-GEN_age_cat_50s"
   ]
  },
  {
   "cell_type": "code",
   "execution_count": 55,
   "id": "e29f2c88-2792-46c6-882b-fd38c373064e",
   "metadata": {},
   "outputs": [
    {
     "name": "stdout",
     "output_type": "stream",
     "text": [
      "\u001b[32mSaved Visualization to: poop_data/Functional/core-metrics-picrust2-GEN_age_cat_50s/adonis-results.qzv\u001b[0m\n",
      "\u001b[0m"
     ]
    }
   ],
   "source": [
    "! qiime diversity adonis \\\n",
    "  --i-distance-matrix $data_dir/Functional/core-metrics-picrust2-GEN_age_cat_50s/jaccard_distance_matrix.qza \\\n",
    "  --m-metadata-file $data_dir/metadata.tsv \\\n",
    "  --p-formula '(HEA_ibd+HEA_cdiff+HEA_sibo+HEA_acid_reflux+HEA_thyroid)*HEA_antibiotic_history' \\\n",
    "  --o-visualization $data_dir/Functional/core-metrics-picrust2-GEN_age_cat_50s/adonis-results.qzv"
   ]
  },
  {
   "cell_type": "code",
   "execution_count": 56,
   "id": "2474e753-2447-4747-9456-a9bd8d348034",
   "metadata": {},
   "outputs": [
    {
     "data": {
      "text/html": [
       "<div><img onload=\"(function(div, url){\n",
       "if (typeof require !== 'undefined') {\n",
       "    var baseURL = require.toUrl('').split('/').slice(0, -2).join('/');\n",
       "} else {\n",
       "    var baseURL = JSON.parse(\n",
       "        document.getElementById('jupyter-config-data').innerHTML\n",
       "    ).baseUrl.slice(0, -1);\n",
       "}\n",
       "url = baseURL + url;\n",
       "fetch(url).then(function(res) {\n",
       "    if (res.status === 404) {\n",
       "        div.innerHTML = 'Install QIIME 2 Jupyter extension with:<br />' +\n",
       "                        '<code>jupyter serverextension enable --py qiime2' +\n",
       "                        ' --sys-prefix</code><br />then restart your server.' +\n",
       "                        '<br /><br />(Interactive output not available on ' +\n",
       "                        'static notebook viewer services like nbviewer.)';\n",
       "    } else if (res.status === 409) {\n",
       "        div.innerHTML = 'Visualization no longer in scope. Re-run this cell' +\n",
       "                        ' to see the visualization.';\n",
       "    } else if (res.ok) {\n",
       "        url = res.url;\n",
       "        div.innerHTML = '<iframe src=\\'' + url + '\\' style=\\'' +\n",
       "                        'width: 100%; height: 700px; border: 0;\\'>' +\n",
       "                        '</iframe><hr />Open in a: <a href=\\'' + url + '\\'' +\n",
       "                        ' target=\\'_blank\\'>new window</a>'\n",
       "    } else {\n",
       "        div.innerHTML = 'Something has gone wrong. Check notebook server for' +\n",
       "                        ' errors.';\n",
       "    }\n",
       "});\n",
       "})(this.parentElement, '/qiime2/redirect?location=/tmp/qiime2-archive-9bq8ytks')\" src=\"data:image/gif;base64,R0lGODlhAQABAIAAAP///wAAACH5BAEAAAAALAAAAAABAAEAAAICRAEAOw==\" /></div>"
      ],
      "text/plain": [
       "<visualization: Visualization uuid: 96510ca3-ec08-45b0-96f4-a09f186832a8>"
      ]
     },
     "execution_count": 56,
     "metadata": {},
     "output_type": "execute_result"
    }
   ],
   "source": [
    "Visualization.load(f'{data_dir}/Functional/core-metrics-picrust2-GEN_age_cat_50s/jaccard_emperor.qzv')"
   ]
  },
  {
   "cell_type": "code",
   "execution_count": 57,
   "id": "46338de9-ccc7-42fb-8808-7503924ca480",
   "metadata": {},
   "outputs": [
    {
     "data": {
      "text/html": [
       "<div><img onload=\"(function(div, url){\n",
       "if (typeof require !== 'undefined') {\n",
       "    var baseURL = require.toUrl('').split('/').slice(0, -2).join('/');\n",
       "} else {\n",
       "    var baseURL = JSON.parse(\n",
       "        document.getElementById('jupyter-config-data').innerHTML\n",
       "    ).baseUrl.slice(0, -1);\n",
       "}\n",
       "url = baseURL + url;\n",
       "fetch(url).then(function(res) {\n",
       "    if (res.status === 404) {\n",
       "        div.innerHTML = 'Install QIIME 2 Jupyter extension with:<br />' +\n",
       "                        '<code>jupyter serverextension enable --py qiime2' +\n",
       "                        ' --sys-prefix</code><br />then restart your server.' +\n",
       "                        '<br /><br />(Interactive output not available on ' +\n",
       "                        'static notebook viewer services like nbviewer.)';\n",
       "    } else if (res.status === 409) {\n",
       "        div.innerHTML = 'Visualization no longer in scope. Re-run this cell' +\n",
       "                        ' to see the visualization.';\n",
       "    } else if (res.ok) {\n",
       "        url = res.url;\n",
       "        div.innerHTML = '<iframe src=\\'' + url + '\\' style=\\'' +\n",
       "                        'width: 100%; height: 700px; border: 0;\\'>' +\n",
       "                        '</iframe><hr />Open in a: <a href=\\'' + url + '\\'' +\n",
       "                        ' target=\\'_blank\\'>new window</a>'\n",
       "    } else {\n",
       "        div.innerHTML = 'Something has gone wrong. Check notebook server for' +\n",
       "                        ' errors.';\n",
       "    }\n",
       "});\n",
       "})(this.parentElement, '/qiime2/redirect?location=/tmp/qiime2-archive-xkq1c0mx')\" src=\"data:image/gif;base64,R0lGODlhAQABAIAAAP///wAAACH5BAEAAAAALAAAAAABAAEAAAICRAEAOw==\" /></div>"
      ],
      "text/plain": [
       "<visualization: Visualization uuid: b755e59f-2068-459d-aa6d-c6c75b1d101c>"
      ]
     },
     "execution_count": 57,
     "metadata": {},
     "output_type": "execute_result"
    }
   ],
   "source": [
    "Visualization.load(f'{data_dir}/Functional/core-metrics-picrust2-GEN_age_cat_50s/adonis-results.qzv')"
   ]
  },
  {
   "cell_type": "markdown",
   "id": "1b47bfb9-cc81-4752-8e54-dbe07ee0d48d",
   "metadata": {},
   "source": [
    "<a id='function'></a>\n",
    "## Functional redundancy: GEN_age_cat_60s"
   ]
  },
  {
   "cell_type": "code",
   "execution_count": 58,
   "id": "6f2c3776-0e14-4e74-b9f6-66655670c880",
   "metadata": {},
   "outputs": [
    {
     "name": "stdout",
     "output_type": "stream",
     "text": [
      "\u001b[32mSaved FeatureTable[Frequency] to: poop_data/Functional/pathway_abundance_GEN_age_cat_60s.qza\u001b[0m\n",
      "\u001b[0m"
     ]
    }
   ],
   "source": [
    "! qiime feature-table filter-samples \\\n",
    "    --i-table $data_dir/Differential_abundance/table_abund_species.qza \\\n",
    "    --m-metadata-file $data_dir/metadata.tsv \\\n",
    "    --p-where \"[GEN_age_cat]='60s'\" \\\n",
    "    --o-filtered-table $data_dir/Functional/pathway_abundance_GEN_age_cat_60s.qza"
   ]
  },
  {
   "cell_type": "code",
   "execution_count": 59,
   "id": "9cbffb00-0c55-4c34-98bb-21a40d49649e",
   "metadata": {},
   "outputs": [
    {
     "name": "stdout",
     "output_type": "stream",
     "text": [
      "\u001b[32mSaved FeatureTable[Frequency] to: poop_data/Functional/core-metrics-picrust2-GEN_age_cat_60s/rarefied_table.qza\u001b[0m\n",
      "\u001b[32mSaved SampleData[AlphaDiversity] to: poop_data/Functional/core-metrics-picrust2-GEN_age_cat_60s/observed_features_vector.qza\u001b[0m\n",
      "\u001b[32mSaved SampleData[AlphaDiversity] to: poop_data/Functional/core-metrics-picrust2-GEN_age_cat_60s/shannon_vector.qza\u001b[0m\n",
      "\u001b[32mSaved SampleData[AlphaDiversity] to: poop_data/Functional/core-metrics-picrust2-GEN_age_cat_60s/evenness_vector.qza\u001b[0m\n",
      "\u001b[32mSaved DistanceMatrix to: poop_data/Functional/core-metrics-picrust2-GEN_age_cat_60s/jaccard_distance_matrix.qza\u001b[0m\n",
      "\u001b[32mSaved DistanceMatrix to: poop_data/Functional/core-metrics-picrust2-GEN_age_cat_60s/bray_curtis_distance_matrix.qza\u001b[0m\n",
      "\u001b[32mSaved PCoAResults to: poop_data/Functional/core-metrics-picrust2-GEN_age_cat_60s/jaccard_pcoa_results.qza\u001b[0m\n",
      "\u001b[32mSaved PCoAResults to: poop_data/Functional/core-metrics-picrust2-GEN_age_cat_60s/bray_curtis_pcoa_results.qza\u001b[0m\n",
      "\u001b[32mSaved Visualization to: poop_data/Functional/core-metrics-picrust2-GEN_age_cat_60s/jaccard_emperor.qzv\u001b[0m\n",
      "\u001b[32mSaved Visualization to: poop_data/Functional/core-metrics-picrust2-GEN_age_cat_60s/bray_curtis_emperor.qzv\u001b[0m\n",
      "\u001b[0m"
     ]
    }
   ],
   "source": [
    "! qiime diversity core-metrics \\\n",
    "  --i-table $data_dir/Functional/pathway_abundance_GEN_age_cat_60s.qza \\\n",
    "  --m-metadata-file $data_dir/metadata.tsv \\\n",
    "  --p-sampling-depth 1000 \\\n",
    "  --p-n-jobs $n_jobs \\\n",
    "  --output-dir $data_dir/Functional/core-metrics-picrust2-GEN_age_cat_60s"
   ]
  },
  {
   "cell_type": "code",
   "execution_count": 60,
   "id": "435c22f0-7f94-42d6-a9fc-1c249c4e1220",
   "metadata": {},
   "outputs": [
    {
     "name": "stdout",
     "output_type": "stream",
     "text": [
      "\u001b[32mSaved Visualization to: poop_data/Functional/core-metrics-picrust2-GEN_age_cat_60s/adonis-results.qzv\u001b[0m\n",
      "\u001b[0m"
     ]
    }
   ],
   "source": [
    "! qiime diversity adonis \\\n",
    "  --i-distance-matrix $data_dir/Functional/core-metrics-picrust2-GEN_age_cat_60s/jaccard_distance_matrix.qza \\\n",
    "  --m-metadata-file $data_dir/metadata.tsv \\\n",
    "  --p-formula '(HEA_ibd+HEA_cdiff+HEA_sibo+HEA_acid_reflux+HEA_thyroid)*HEA_antibiotic_history' \\\n",
    "  --o-visualization $data_dir/Functional/core-metrics-picrust2-GEN_age_cat_60s/adonis-results.qzv"
   ]
  },
  {
   "cell_type": "code",
   "execution_count": 11,
   "id": "0aac1a61-cd44-468b-97a0-8aa2c15bc526",
   "metadata": {},
   "outputs": [
    {
     "data": {
      "text/html": [
       "<div><img onload=\"(function(div, url){\n",
       "if (typeof require !== 'undefined') {\n",
       "    var baseURL = require.toUrl('').split('/').slice(0, -2).join('/');\n",
       "} else {\n",
       "    var baseURL = JSON.parse(\n",
       "        document.getElementById('jupyter-config-data').innerHTML\n",
       "    ).baseUrl.slice(0, -1);\n",
       "}\n",
       "url = baseURL + url;\n",
       "fetch(url).then(function(res) {\n",
       "    if (res.status === 404) {\n",
       "        div.innerHTML = 'Install QIIME 2 Jupyter extension with:<br />' +\n",
       "                        '<code>jupyter serverextension enable --py qiime2' +\n",
       "                        ' --sys-prefix</code><br />then restart your server.' +\n",
       "                        '<br /><br />(Interactive output not available on ' +\n",
       "                        'static notebook viewer services like nbviewer.)';\n",
       "    } else if (res.status === 409) {\n",
       "        div.innerHTML = 'Visualization no longer in scope. Re-run this cell' +\n",
       "                        ' to see the visualization.';\n",
       "    } else if (res.ok) {\n",
       "        url = res.url;\n",
       "        div.innerHTML = '<iframe src=\\'' + url + '\\' style=\\'' +\n",
       "                        'width: 100%; height: 700px; border: 0;\\'>' +\n",
       "                        '</iframe><hr />Open in a: <a href=\\'' + url + '\\'' +\n",
       "                        ' target=\\'_blank\\'>new window</a>'\n",
       "    } else {\n",
       "        div.innerHTML = 'Something has gone wrong. Check notebook server for' +\n",
       "                        ' errors.';\n",
       "    }\n",
       "});\n",
       "})(this.parentElement, '/qiime2/redirect?location=/tmp/qiime2-archive-1ovothg5')\" src=\"data:image/gif;base64,R0lGODlhAQABAIAAAP///wAAACH5BAEAAAAALAAAAAABAAEAAAICRAEAOw==\" /></div>"
      ],
      "text/plain": [
       "<visualization: Visualization uuid: 5c3f7107-b19d-48c4-bdae-149e66751134>"
      ]
     },
     "execution_count": 11,
     "metadata": {},
     "output_type": "execute_result"
    }
   ],
   "source": [
    "Visualization.load(f'{data_dir}/Functional/core-metrics-picrust2-GEN_age_cat_60s/jaccard_emperor.qzv')"
   ]
  },
  {
   "cell_type": "code",
   "execution_count": 12,
   "id": "163d1935-cced-421a-b668-ceb1ce59bafd",
   "metadata": {},
   "outputs": [
    {
     "data": {
      "text/html": [
       "<div><img onload=\"(function(div, url){\n",
       "if (typeof require !== 'undefined') {\n",
       "    var baseURL = require.toUrl('').split('/').slice(0, -2).join('/');\n",
       "} else {\n",
       "    var baseURL = JSON.parse(\n",
       "        document.getElementById('jupyter-config-data').innerHTML\n",
       "    ).baseUrl.slice(0, -1);\n",
       "}\n",
       "url = baseURL + url;\n",
       "fetch(url).then(function(res) {\n",
       "    if (res.status === 404) {\n",
       "        div.innerHTML = 'Install QIIME 2 Jupyter extension with:<br />' +\n",
       "                        '<code>jupyter serverextension enable --py qiime2' +\n",
       "                        ' --sys-prefix</code><br />then restart your server.' +\n",
       "                        '<br /><br />(Interactive output not available on ' +\n",
       "                        'static notebook viewer services like nbviewer.)';\n",
       "    } else if (res.status === 409) {\n",
       "        div.innerHTML = 'Visualization no longer in scope. Re-run this cell' +\n",
       "                        ' to see the visualization.';\n",
       "    } else if (res.ok) {\n",
       "        url = res.url;\n",
       "        div.innerHTML = '<iframe src=\\'' + url + '\\' style=\\'' +\n",
       "                        'width: 100%; height: 700px; border: 0;\\'>' +\n",
       "                        '</iframe><hr />Open in a: <a href=\\'' + url + '\\'' +\n",
       "                        ' target=\\'_blank\\'>new window</a>'\n",
       "    } else {\n",
       "        div.innerHTML = 'Something has gone wrong. Check notebook server for' +\n",
       "                        ' errors.';\n",
       "    }\n",
       "});\n",
       "})(this.parentElement, '/qiime2/redirect?location=/tmp/qiime2-archive-5gwxlxhw')\" src=\"data:image/gif;base64,R0lGODlhAQABAIAAAP///wAAACH5BAEAAAAALAAAAAABAAEAAAICRAEAOw==\" /></div>"
      ],
      "text/plain": [
       "<visualization: Visualization uuid: 01cf63f5-e868-41d9-a592-11b24b8e526c>"
      ]
     },
     "execution_count": 12,
     "metadata": {},
     "output_type": "execute_result"
    }
   ],
   "source": [
    "Visualization.load(f'{data_dir}/Functional/core-metrics-picrust2-GEN_age_cat_60s/adonis-results.qzv')"
   ]
  },
  {
   "cell_type": "markdown",
   "id": "b5f9712a-9102-4d14-b413-04c97abc7334",
   "metadata": {},
   "source": [
    "<a id='function'></a>\n",
    "## Functional redundancy: GEN_age_cat_70+"
   ]
  },
  {
   "cell_type": "code",
   "execution_count": 66,
   "id": "760c7b20-5e09-4b8f-9d08-053daf43170c",
   "metadata": {},
   "outputs": [
    {
     "name": "stdout",
     "output_type": "stream",
     "text": [
      "\u001b[32mSaved FeatureTable[Frequency] to: poop_data/Functional/pathway_abundance_GEN_age_cat_70.qza\u001b[0m\n",
      "\u001b[0m"
     ]
    }
   ],
   "source": [
    "! qiime feature-table filter-samples \\\n",
    "    --i-table $data_dir/Differential_abundance/table_abund_species.qza \\\n",
    "    --m-metadata-file $data_dir/metadata.tsv \\\n",
    "    --p-where \"[GEN_age_cat]='70+'\" \\\n",
    "    --o-filtered-table $data_dir/Functional/pathway_abundance_GEN_age_cat_70.qza"
   ]
  },
  {
   "cell_type": "code",
   "execution_count": 67,
   "id": "1a1fcf1c-8b25-4768-871a-4c3e28830a34",
   "metadata": {},
   "outputs": [
    {
     "name": "stdout",
     "output_type": "stream",
     "text": [
      "\u001b[32mSaved FeatureTable[Frequency] to: poop_data/Functional/core-metrics-picrust2-GEN_age_cat_70/rarefied_table.qza\u001b[0m\n",
      "\u001b[32mSaved SampleData[AlphaDiversity] to: poop_data/Functional/core-metrics-picrust2-GEN_age_cat_70/observed_features_vector.qza\u001b[0m\n",
      "\u001b[32mSaved SampleData[AlphaDiversity] to: poop_data/Functional/core-metrics-picrust2-GEN_age_cat_70/shannon_vector.qza\u001b[0m\n",
      "\u001b[32mSaved SampleData[AlphaDiversity] to: poop_data/Functional/core-metrics-picrust2-GEN_age_cat_70/evenness_vector.qza\u001b[0m\n",
      "\u001b[32mSaved DistanceMatrix to: poop_data/Functional/core-metrics-picrust2-GEN_age_cat_70/jaccard_distance_matrix.qza\u001b[0m\n",
      "\u001b[32mSaved DistanceMatrix to: poop_data/Functional/core-metrics-picrust2-GEN_age_cat_70/bray_curtis_distance_matrix.qza\u001b[0m\n",
      "\u001b[32mSaved PCoAResults to: poop_data/Functional/core-metrics-picrust2-GEN_age_cat_70/jaccard_pcoa_results.qza\u001b[0m\n",
      "\u001b[32mSaved PCoAResults to: poop_data/Functional/core-metrics-picrust2-GEN_age_cat_70/bray_curtis_pcoa_results.qza\u001b[0m\n",
      "\u001b[32mSaved Visualization to: poop_data/Functional/core-metrics-picrust2-GEN_age_cat_70/jaccard_emperor.qzv\u001b[0m\n",
      "\u001b[32mSaved Visualization to: poop_data/Functional/core-metrics-picrust2-GEN_age_cat_70/bray_curtis_emperor.qzv\u001b[0m\n",
      "\u001b[0m"
     ]
    }
   ],
   "source": [
    "! qiime diversity core-metrics \\\n",
    "  --i-table $data_dir/Functional/pathway_abundance_GEN_age_cat_70.qza \\\n",
    "  --m-metadata-file $data_dir/metadata.tsv \\\n",
    "  --p-sampling-depth 1000 \\\n",
    "  --p-n-jobs $n_jobs \\\n",
    "  --output-dir $data_dir/Functional/core-metrics-picrust2-GEN_age_cat_70"
   ]
  },
  {
   "cell_type": "code",
   "execution_count": 8,
   "id": "3315bc74-dda1-4ea4-abde-b89c918ba853",
   "metadata": {},
   "outputs": [
    {
     "name": "stdout",
     "output_type": "stream",
     "text": [
      "\u001b[32mSaved Visualization to: poop_data/Functional/core-metrics-picrust2-GEN_age_cat_70/adonis-results.qzv\u001b[0m\n",
      "\u001b[0m"
     ]
    }
   ],
   "source": [
    "! qiime diversity adonis \\\n",
    "  --i-distance-matrix $data_dir/Functional/core-metrics-picrust2-GEN_age_cat_70/jaccard_distance_matrix.qza \\\n",
    "  --m-metadata-file $data_dir/metadata.tsv \\\n",
    "  --p-formula '(HEA_ibd+HEA_sibo+HEA_acid_reflux+HEA_thyroid)*HEA_antibiotic_history' \\\n",
    "  --o-visualization $data_dir/Functional/core-metrics-picrust2-GEN_age_cat_70/adonis-results.qzv"
   ]
  },
  {
   "cell_type": "code",
   "execution_count": 9,
   "id": "9f711f85-f8aa-4bbc-b216-9dc3a8f5c532",
   "metadata": {},
   "outputs": [
    {
     "data": {
      "text/html": [
       "<div><img onload=\"(function(div, url){\n",
       "if (typeof require !== 'undefined') {\n",
       "    var baseURL = require.toUrl('').split('/').slice(0, -2).join('/');\n",
       "} else {\n",
       "    var baseURL = JSON.parse(\n",
       "        document.getElementById('jupyter-config-data').innerHTML\n",
       "    ).baseUrl.slice(0, -1);\n",
       "}\n",
       "url = baseURL + url;\n",
       "fetch(url).then(function(res) {\n",
       "    if (res.status === 404) {\n",
       "        div.innerHTML = 'Install QIIME 2 Jupyter extension with:<br />' +\n",
       "                        '<code>jupyter serverextension enable --py qiime2' +\n",
       "                        ' --sys-prefix</code><br />then restart your server.' +\n",
       "                        '<br /><br />(Interactive output not available on ' +\n",
       "                        'static notebook viewer services like nbviewer.)';\n",
       "    } else if (res.status === 409) {\n",
       "        div.innerHTML = 'Visualization no longer in scope. Re-run this cell' +\n",
       "                        ' to see the visualization.';\n",
       "    } else if (res.ok) {\n",
       "        url = res.url;\n",
       "        div.innerHTML = '<iframe src=\\'' + url + '\\' style=\\'' +\n",
       "                        'width: 100%; height: 700px; border: 0;\\'>' +\n",
       "                        '</iframe><hr />Open in a: <a href=\\'' + url + '\\'' +\n",
       "                        ' target=\\'_blank\\'>new window</a>'\n",
       "    } else {\n",
       "        div.innerHTML = 'Something has gone wrong. Check notebook server for' +\n",
       "                        ' errors.';\n",
       "    }\n",
       "});\n",
       "})(this.parentElement, '/qiime2/redirect?location=/tmp/qiime2-archive-1ktjcvq0')\" src=\"data:image/gif;base64,R0lGODlhAQABAIAAAP///wAAACH5BAEAAAAALAAAAAABAAEAAAICRAEAOw==\" /></div>"
      ],
      "text/plain": [
       "<visualization: Visualization uuid: ef1bc07a-859c-4a8e-b7eb-98e080a14b5c>"
      ]
     },
     "execution_count": 9,
     "metadata": {},
     "output_type": "execute_result"
    }
   ],
   "source": [
    "Visualization.load(f'{data_dir}/Functional/core-metrics-picrust2-GEN_age_cat_70/jaccard_emperor.qzv')"
   ]
  },
  {
   "cell_type": "code",
   "execution_count": 10,
   "id": "49ee2f68-caf1-4877-b73a-9023eb294a25",
   "metadata": {},
   "outputs": [
    {
     "data": {
      "text/html": [
       "<div><img onload=\"(function(div, url){\n",
       "if (typeof require !== 'undefined') {\n",
       "    var baseURL = require.toUrl('').split('/').slice(0, -2).join('/');\n",
       "} else {\n",
       "    var baseURL = JSON.parse(\n",
       "        document.getElementById('jupyter-config-data').innerHTML\n",
       "    ).baseUrl.slice(0, -1);\n",
       "}\n",
       "url = baseURL + url;\n",
       "fetch(url).then(function(res) {\n",
       "    if (res.status === 404) {\n",
       "        div.innerHTML = 'Install QIIME 2 Jupyter extension with:<br />' +\n",
       "                        '<code>jupyter serverextension enable --py qiime2' +\n",
       "                        ' --sys-prefix</code><br />then restart your server.' +\n",
       "                        '<br /><br />(Interactive output not available on ' +\n",
       "                        'static notebook viewer services like nbviewer.)';\n",
       "    } else if (res.status === 409) {\n",
       "        div.innerHTML = 'Visualization no longer in scope. Re-run this cell' +\n",
       "                        ' to see the visualization.';\n",
       "    } else if (res.ok) {\n",
       "        url = res.url;\n",
       "        div.innerHTML = '<iframe src=\\'' + url + '\\' style=\\'' +\n",
       "                        'width: 100%; height: 700px; border: 0;\\'>' +\n",
       "                        '</iframe><hr />Open in a: <a href=\\'' + url + '\\'' +\n",
       "                        ' target=\\'_blank\\'>new window</a>'\n",
       "    } else {\n",
       "        div.innerHTML = 'Something has gone wrong. Check notebook server for' +\n",
       "                        ' errors.';\n",
       "    }\n",
       "});\n",
       "})(this.parentElement, '/qiime2/redirect?location=/tmp/qiime2-archive-54ruc3q3')\" src=\"data:image/gif;base64,R0lGODlhAQABAIAAAP///wAAACH5BAEAAAAALAAAAAABAAEAAAICRAEAOw==\" /></div>"
      ],
      "text/plain": [
       "<visualization: Visualization uuid: e62bbda4-c3b0-40f5-986c-94cc4a709c88>"
      ]
     },
     "execution_count": 10,
     "metadata": {},
     "output_type": "execute_result"
    }
   ],
   "source": [
    "Visualization.load(f'{data_dir}/Functional/core-metrics-picrust2-GEN_age_cat_70/adonis-results.qzv')"
   ]
  },
  {
   "cell_type": "markdown",
   "id": "ab0190ed-8b98-4d29-bfce-70822fa04519",
   "metadata": {},
   "source": [
    "<a id='function'></a>\n",
    "## Functional redundancy: HEA_antibiotic_history_month"
   ]
  },
  {
   "cell_type": "code",
   "execution_count": 17,
   "id": "f2be3639-6323-40a0-82ae-202b6fdf92ce",
   "metadata": {},
   "outputs": [
    {
     "name": "stdout",
     "output_type": "stream",
     "text": [
      "\u001b[32mSaved FeatureTable[Frequency] to: poop_data/Functional/pathway_abundance_HEA_antibiotic_history_month.qza\u001b[0m\n",
      "\u001b[0m"
     ]
    }
   ],
   "source": [
    "! qiime feature-table filter-samples \\\n",
    "    --i-table $data_dir/Differential_abundance/table_abund_species.qza \\\n",
    "    --m-metadata-file $data_dir/metadata.tsv \\\n",
    "    --p-where \"[HEA_antibiotic_history]='Month'\" \\\n",
    "    --o-filtered-table $data_dir/Functional/pathway_abundance_HEA_antibiotic_history_month.qza"
   ]
  },
  {
   "cell_type": "code",
   "execution_count": 18,
   "id": "9c6dd7f4-fb5f-450c-bdb5-a258679364c1",
   "metadata": {},
   "outputs": [
    {
     "name": "stdout",
     "output_type": "stream",
     "text": [
      "\u001b[32mSaved FeatureTable[Frequency] to: poop_data/Functional/core-metrics-picrust2-HEA_antibiotic_history_month/rarefied_table.qza\u001b[0m\n",
      "\u001b[32mSaved SampleData[AlphaDiversity] to: poop_data/Functional/core-metrics-picrust2-HEA_antibiotic_history_month/observed_features_vector.qza\u001b[0m\n",
      "\u001b[32mSaved SampleData[AlphaDiversity] to: poop_data/Functional/core-metrics-picrust2-HEA_antibiotic_history_month/shannon_vector.qza\u001b[0m\n",
      "\u001b[32mSaved SampleData[AlphaDiversity] to: poop_data/Functional/core-metrics-picrust2-HEA_antibiotic_history_month/evenness_vector.qza\u001b[0m\n",
      "\u001b[32mSaved DistanceMatrix to: poop_data/Functional/core-metrics-picrust2-HEA_antibiotic_history_month/jaccard_distance_matrix.qza\u001b[0m\n",
      "\u001b[32mSaved DistanceMatrix to: poop_data/Functional/core-metrics-picrust2-HEA_antibiotic_history_month/bray_curtis_distance_matrix.qza\u001b[0m\n",
      "\u001b[32mSaved PCoAResults to: poop_data/Functional/core-metrics-picrust2-HEA_antibiotic_history_month/jaccard_pcoa_results.qza\u001b[0m\n",
      "\u001b[32mSaved PCoAResults to: poop_data/Functional/core-metrics-picrust2-HEA_antibiotic_history_month/bray_curtis_pcoa_results.qza\u001b[0m\n",
      "\u001b[32mSaved Visualization to: poop_data/Functional/core-metrics-picrust2-HEA_antibiotic_history_month/jaccard_emperor.qzv\u001b[0m\n",
      "\u001b[32mSaved Visualization to: poop_data/Functional/core-metrics-picrust2-HEA_antibiotic_history_month/bray_curtis_emperor.qzv\u001b[0m\n",
      "\u001b[0m"
     ]
    }
   ],
   "source": [
    "! qiime diversity core-metrics \\\n",
    "  --i-table $data_dir/Functional/pathway_abundance_HEA_antibiotic_history_month.qza \\\n",
    "  --m-metadata-file $data_dir/metadata.tsv \\\n",
    "  --p-sampling-depth 1000 \\\n",
    "  --p-n-jobs $n_jobs \\\n",
    "  --output-dir $data_dir/Functional/core-metrics-picrust2-HEA_antibiotic_history_month"
   ]
  },
  {
   "cell_type": "code",
   "execution_count": 19,
   "id": "bbd253d6-6bb4-453a-aed6-1cd3016d6227",
   "metadata": {},
   "outputs": [
    {
     "name": "stdout",
     "output_type": "stream",
     "text": [
      "\u001b[32mSaved Visualization to: poop_data/Functional/core-metrics-picrust2-HEA_antibiotic_history_month/adonis-results.qzv\u001b[0m\n",
      "\u001b[0m"
     ]
    }
   ],
   "source": [
    "! qiime diversity adonis \\\n",
    "  --i-distance-matrix $data_dir/Functional/core-metrics-picrust2-HEA_antibiotic_history_month/jaccard_distance_matrix.qza \\\n",
    "  --m-metadata-file $data_dir/metadata.tsv \\\n",
    "  --p-formula 'HEA_ibd*HEA_cdiff*HEA_sibo*HEA_acid_reflux*HEA_thyroid' \\\n",
    "  --o-visualization $data_dir/Functional/core-metrics-picrust2-HEA_antibiotic_history_month/adonis-results.qzv "
   ]
  },
  {
   "cell_type": "code",
   "execution_count": 21,
   "id": "6f8fccbb-2d5e-407d-94c1-e7d0ee0d91db",
   "metadata": {},
   "outputs": [
    {
     "data": {
      "text/html": [
       "<div><img onload=\"(function(div, url){\n",
       "if (typeof require !== 'undefined') {\n",
       "    var baseURL = require.toUrl('').split('/').slice(0, -2).join('/');\n",
       "} else {\n",
       "    var baseURL = JSON.parse(\n",
       "        document.getElementById('jupyter-config-data').innerHTML\n",
       "    ).baseUrl.slice(0, -1);\n",
       "}\n",
       "url = baseURL + url;\n",
       "fetch(url).then(function(res) {\n",
       "    if (res.status === 404) {\n",
       "        div.innerHTML = 'Install QIIME 2 Jupyter extension with:<br />' +\n",
       "                        '<code>jupyter serverextension enable --py qiime2' +\n",
       "                        ' --sys-prefix</code><br />then restart your server.' +\n",
       "                        '<br /><br />(Interactive output not available on ' +\n",
       "                        'static notebook viewer services like nbviewer.)';\n",
       "    } else if (res.status === 409) {\n",
       "        div.innerHTML = 'Visualization no longer in scope. Re-run this cell' +\n",
       "                        ' to see the visualization.';\n",
       "    } else if (res.ok) {\n",
       "        url = res.url;\n",
       "        div.innerHTML = '<iframe src=\\'' + url + '\\' style=\\'' +\n",
       "                        'width: 100%; height: 700px; border: 0;\\'>' +\n",
       "                        '</iframe><hr />Open in a: <a href=\\'' + url + '\\'' +\n",
       "                        ' target=\\'_blank\\'>new window</a>'\n",
       "    } else {\n",
       "        div.innerHTML = 'Something has gone wrong. Check notebook server for' +\n",
       "                        ' errors.';\n",
       "    }\n",
       "});\n",
       "})(this.parentElement, '/qiime2/redirect?location=/tmp/qiime2-archive-0_55jebf')\" src=\"data:image/gif;base64,R0lGODlhAQABAIAAAP///wAAACH5BAEAAAAALAAAAAABAAEAAAICRAEAOw==\" /></div>"
      ],
      "text/plain": [
       "<visualization: Visualization uuid: 2de04c7e-ef52-4b2b-ba0c-ac8f111328ac>"
      ]
     },
     "execution_count": 21,
     "metadata": {},
     "output_type": "execute_result"
    }
   ],
   "source": [
    "Visualization.load(f'{data_dir}/Functional/core-metrics-picrust2-HEA_antibiotic_history_month/jaccard_emperor.qzv')"
   ]
  },
  {
   "cell_type": "code",
   "execution_count": 20,
   "id": "971b9746-e4c3-439c-bd9a-a148bc487ba6",
   "metadata": {},
   "outputs": [
    {
     "data": {
      "text/html": [
       "<div><img onload=\"(function(div, url){\n",
       "if (typeof require !== 'undefined') {\n",
       "    var baseURL = require.toUrl('').split('/').slice(0, -2).join('/');\n",
       "} else {\n",
       "    var baseURL = JSON.parse(\n",
       "        document.getElementById('jupyter-config-data').innerHTML\n",
       "    ).baseUrl.slice(0, -1);\n",
       "}\n",
       "url = baseURL + url;\n",
       "fetch(url).then(function(res) {\n",
       "    if (res.status === 404) {\n",
       "        div.innerHTML = 'Install QIIME 2 Jupyter extension with:<br />' +\n",
       "                        '<code>jupyter serverextension enable --py qiime2' +\n",
       "                        ' --sys-prefix</code><br />then restart your server.' +\n",
       "                        '<br /><br />(Interactive output not available on ' +\n",
       "                        'static notebook viewer services like nbviewer.)';\n",
       "    } else if (res.status === 409) {\n",
       "        div.innerHTML = 'Visualization no longer in scope. Re-run this cell' +\n",
       "                        ' to see the visualization.';\n",
       "    } else if (res.ok) {\n",
       "        url = res.url;\n",
       "        div.innerHTML = '<iframe src=\\'' + url + '\\' style=\\'' +\n",
       "                        'width: 100%; height: 700px; border: 0;\\'>' +\n",
       "                        '</iframe><hr />Open in a: <a href=\\'' + url + '\\'' +\n",
       "                        ' target=\\'_blank\\'>new window</a>'\n",
       "    } else {\n",
       "        div.innerHTML = 'Something has gone wrong. Check notebook server for' +\n",
       "                        ' errors.';\n",
       "    }\n",
       "});\n",
       "})(this.parentElement, '/qiime2/redirect?location=/tmp/qiime2-archive-tp90ejb_')\" src=\"data:image/gif;base64,R0lGODlhAQABAIAAAP///wAAACH5BAEAAAAALAAAAAABAAEAAAICRAEAOw==\" /></div>"
      ],
      "text/plain": [
       "<visualization: Visualization uuid: 339c979e-0952-444e-bc0c-8d537696dc40>"
      ]
     },
     "execution_count": 20,
     "metadata": {},
     "output_type": "execute_result"
    }
   ],
   "source": [
    "Visualization.load(f'{data_dir}/Functional/core-metrics-picrust2-HEA_antibiotic_history_month/adonis-results.qzv')"
   ]
  },
  {
   "cell_type": "markdown",
   "id": "73787691-fe95-43b2-b2d7-a620dd30f641",
   "metadata": {},
   "source": [
    "<a id='function'></a>\n",
    "## Functional redundancy: HEA_antibiotic_history_6 months"
   ]
  },
  {
   "cell_type": "code",
   "execution_count": 22,
   "id": "393d885d-641d-4838-82c2-aa9e6ff76530",
   "metadata": {},
   "outputs": [
    {
     "name": "stdout",
     "output_type": "stream",
     "text": [
      "\u001b[32mSaved FeatureTable[Frequency] to: poop_data/Functional/pathway_abundance_HEA_antibiotic_history_6months.qza\u001b[0m\n",
      "\u001b[0m"
     ]
    }
   ],
   "source": [
    "! qiime feature-table filter-samples \\\n",
    "    --i-table $data_dir/Differential_abundance/table_abund_species.qza \\\n",
    "    --m-metadata-file $data_dir/metadata.tsv \\\n",
    "    --p-where \"[HEA_antibiotic_history]='6 months'\" \\\n",
    "    --o-filtered-table $data_dir/Functional/pathway_abundance_HEA_antibiotic_history_6months.qza"
   ]
  },
  {
   "cell_type": "code",
   "execution_count": 23,
   "id": "bd67aaf3-b3fe-490f-8706-b928176e9035",
   "metadata": {},
   "outputs": [
    {
     "name": "stdout",
     "output_type": "stream",
     "text": [
      "\u001b[32mSaved FeatureTable[Frequency] to: poop_data/Functional/core-metrics-picrust2-HEA_antibiotic_history_6months/rarefied_table.qza\u001b[0m\n",
      "\u001b[32mSaved SampleData[AlphaDiversity] to: poop_data/Functional/core-metrics-picrust2-HEA_antibiotic_history_6months/observed_features_vector.qza\u001b[0m\n",
      "\u001b[32mSaved SampleData[AlphaDiversity] to: poop_data/Functional/core-metrics-picrust2-HEA_antibiotic_history_6months/shannon_vector.qza\u001b[0m\n",
      "\u001b[32mSaved SampleData[AlphaDiversity] to: poop_data/Functional/core-metrics-picrust2-HEA_antibiotic_history_6months/evenness_vector.qza\u001b[0m\n",
      "\u001b[32mSaved DistanceMatrix to: poop_data/Functional/core-metrics-picrust2-HEA_antibiotic_history_6months/jaccard_distance_matrix.qza\u001b[0m\n",
      "\u001b[32mSaved DistanceMatrix to: poop_data/Functional/core-metrics-picrust2-HEA_antibiotic_history_6months/bray_curtis_distance_matrix.qza\u001b[0m\n",
      "\u001b[32mSaved PCoAResults to: poop_data/Functional/core-metrics-picrust2-HEA_antibiotic_history_6months/jaccard_pcoa_results.qza\u001b[0m\n",
      "\u001b[32mSaved PCoAResults to: poop_data/Functional/core-metrics-picrust2-HEA_antibiotic_history_6months/bray_curtis_pcoa_results.qza\u001b[0m\n",
      "\u001b[32mSaved Visualization to: poop_data/Functional/core-metrics-picrust2-HEA_antibiotic_history_6months/jaccard_emperor.qzv\u001b[0m\n",
      "\u001b[32mSaved Visualization to: poop_data/Functional/core-metrics-picrust2-HEA_antibiotic_history_6months/bray_curtis_emperor.qzv\u001b[0m\n",
      "\u001b[0m"
     ]
    }
   ],
   "source": [
    "! qiime diversity core-metrics \\\n",
    "  --i-table $data_dir/Functional/pathway_abundance_HEA_antibiotic_history_6months.qza \\\n",
    "  --m-metadata-file $data_dir/metadata.tsv \\\n",
    "  --p-sampling-depth 1000 \\\n",
    "  --p-n-jobs $n_jobs \\\n",
    "  --output-dir $data_dir/Functional/core-metrics-picrust2-HEA_antibiotic_history_6months"
   ]
  },
  {
   "cell_type": "code",
   "execution_count": 24,
   "id": "dc92fd06-e4d7-440f-bff3-5c80da357591",
   "metadata": {},
   "outputs": [
    {
     "name": "stdout",
     "output_type": "stream",
     "text": [
      "\u001b[32mSaved Visualization to: poop_data/Functional/core-metrics-picrust2-HEA_antibiotic_history_6months/adonis-results.qzv\u001b[0m\n",
      "\u001b[0m"
     ]
    }
   ],
   "source": [
    "! qiime diversity adonis \\\n",
    "  --i-distance-matrix $data_dir/Functional/core-metrics-picrust2-HEA_antibiotic_history_6months/jaccard_distance_matrix.qza \\\n",
    "  --m-metadata-file $data_dir/metadata.tsv \\\n",
    "  --p-formula 'HEA_ibd*HEA_cdiff*HEA_sibo*HEA_acid_reflux*HEA_thyroid' \\\n",
    "  --o-visualization $data_dir/Functional/core-metrics-picrust2-HEA_antibiotic_history_6months/adonis-results.qzv "
   ]
  },
  {
   "cell_type": "code",
   "execution_count": 25,
   "id": "ff18cdb5-6cff-4e59-8922-deebedf07194",
   "metadata": {},
   "outputs": [
    {
     "data": {
      "text/html": [
       "<div><img onload=\"(function(div, url){\n",
       "if (typeof require !== 'undefined') {\n",
       "    var baseURL = require.toUrl('').split('/').slice(0, -2).join('/');\n",
       "} else {\n",
       "    var baseURL = JSON.parse(\n",
       "        document.getElementById('jupyter-config-data').innerHTML\n",
       "    ).baseUrl.slice(0, -1);\n",
       "}\n",
       "url = baseURL + url;\n",
       "fetch(url).then(function(res) {\n",
       "    if (res.status === 404) {\n",
       "        div.innerHTML = 'Install QIIME 2 Jupyter extension with:<br />' +\n",
       "                        '<code>jupyter serverextension enable --py qiime2' +\n",
       "                        ' --sys-prefix</code><br />then restart your server.' +\n",
       "                        '<br /><br />(Interactive output not available on ' +\n",
       "                        'static notebook viewer services like nbviewer.)';\n",
       "    } else if (res.status === 409) {\n",
       "        div.innerHTML = 'Visualization no longer in scope. Re-run this cell' +\n",
       "                        ' to see the visualization.';\n",
       "    } else if (res.ok) {\n",
       "        url = res.url;\n",
       "        div.innerHTML = '<iframe src=\\'' + url + '\\' style=\\'' +\n",
       "                        'width: 100%; height: 700px; border: 0;\\'>' +\n",
       "                        '</iframe><hr />Open in a: <a href=\\'' + url + '\\'' +\n",
       "                        ' target=\\'_blank\\'>new window</a>'\n",
       "    } else {\n",
       "        div.innerHTML = 'Something has gone wrong. Check notebook server for' +\n",
       "                        ' errors.';\n",
       "    }\n",
       "});\n",
       "})(this.parentElement, '/qiime2/redirect?location=/tmp/qiime2-archive-egacmeld')\" src=\"data:image/gif;base64,R0lGODlhAQABAIAAAP///wAAACH5BAEAAAAALAAAAAABAAEAAAICRAEAOw==\" /></div>"
      ],
      "text/plain": [
       "<visualization: Visualization uuid: c4c8afcd-39e4-4f4a-ac11-34aa914adf10>"
      ]
     },
     "execution_count": 25,
     "metadata": {},
     "output_type": "execute_result"
    }
   ],
   "source": [
    "Visualization.load(f'{data_dir}/Functional/core-metrics-picrust2-HEA_antibiotic_history_6months/jaccard_emperor.qzv')"
   ]
  },
  {
   "cell_type": "code",
   "execution_count": 26,
   "id": "bee9f3f8-ae84-49ba-9766-c7042de579cf",
   "metadata": {},
   "outputs": [
    {
     "data": {
      "text/html": [
       "<div><img onload=\"(function(div, url){\n",
       "if (typeof require !== 'undefined') {\n",
       "    var baseURL = require.toUrl('').split('/').slice(0, -2).join('/');\n",
       "} else {\n",
       "    var baseURL = JSON.parse(\n",
       "        document.getElementById('jupyter-config-data').innerHTML\n",
       "    ).baseUrl.slice(0, -1);\n",
       "}\n",
       "url = baseURL + url;\n",
       "fetch(url).then(function(res) {\n",
       "    if (res.status === 404) {\n",
       "        div.innerHTML = 'Install QIIME 2 Jupyter extension with:<br />' +\n",
       "                        '<code>jupyter serverextension enable --py qiime2' +\n",
       "                        ' --sys-prefix</code><br />then restart your server.' +\n",
       "                        '<br /><br />(Interactive output not available on ' +\n",
       "                        'static notebook viewer services like nbviewer.)';\n",
       "    } else if (res.status === 409) {\n",
       "        div.innerHTML = 'Visualization no longer in scope. Re-run this cell' +\n",
       "                        ' to see the visualization.';\n",
       "    } else if (res.ok) {\n",
       "        url = res.url;\n",
       "        div.innerHTML = '<iframe src=\\'' + url + '\\' style=\\'' +\n",
       "                        'width: 100%; height: 700px; border: 0;\\'>' +\n",
       "                        '</iframe><hr />Open in a: <a href=\\'' + url + '\\'' +\n",
       "                        ' target=\\'_blank\\'>new window</a>'\n",
       "    } else {\n",
       "        div.innerHTML = 'Something has gone wrong. Check notebook server for' +\n",
       "                        ' errors.';\n",
       "    }\n",
       "});\n",
       "})(this.parentElement, '/qiime2/redirect?location=/tmp/qiime2-archive-m6agb5_9')\" src=\"data:image/gif;base64,R0lGODlhAQABAIAAAP///wAAACH5BAEAAAAALAAAAAABAAEAAAICRAEAOw==\" /></div>"
      ],
      "text/plain": [
       "<visualization: Visualization uuid: 3339b882-a350-42de-9074-931967ae76e2>"
      ]
     },
     "execution_count": 26,
     "metadata": {},
     "output_type": "execute_result"
    }
   ],
   "source": [
    "Visualization.load(f'{data_dir}/Functional/core-metrics-picrust2-HEA_antibiotic_history_6months/adonis-results.qzv')"
   ]
  },
  {
   "cell_type": "markdown",
   "id": "b16cb48a-2e2c-487e-93b4-26cba5f9bb40",
   "metadata": {},
   "source": [
    "<a id='function'></a>\n",
    "## Functional redundancy: HEA_antibiotic_history_not"
   ]
  },
  {
   "cell_type": "code",
   "execution_count": 31,
   "id": "502db37c-3f23-43f0-896c-859e24cb1fe9",
   "metadata": {},
   "outputs": [
    {
     "name": "stdout",
     "output_type": "stream",
     "text": [
      "\u001b[32mSaved FeatureTable[Frequency] to: poop_data/Functional/pathway_abundance_HEA_antibiotic_history_not.qza\u001b[0m\n",
      "\u001b[0m"
     ]
    }
   ],
   "source": [
    "! qiime feature-table filter-samples \\\n",
    "    --i-table $data_dir/Differential_abundance/table_abund_species.qza \\\n",
    "    --m-metadata-file $data_dir/metadata.tsv \\\n",
    "    --p-where \"[HEA_antibiotic_history]='I have not taken antibiotics in the past year.'\" \\\n",
    "    --o-filtered-table $data_dir/Functional/pathway_abundance_HEA_antibiotic_history_not.qza"
   ]
  },
  {
   "cell_type": "code",
   "execution_count": 32,
   "id": "99b8917f-7b5e-45ab-afd7-8e582a9717e3",
   "metadata": {},
   "outputs": [
    {
     "name": "stdout",
     "output_type": "stream",
     "text": [
      "\u001b[32mSaved FeatureTable[Frequency] to: poop_data/Functional/core-metrics-picrust2-HEA_antibiotic_history_not/rarefied_table.qza\u001b[0m\n",
      "\u001b[32mSaved SampleData[AlphaDiversity] to: poop_data/Functional/core-metrics-picrust2-HEA_antibiotic_history_not/observed_features_vector.qza\u001b[0m\n",
      "\u001b[32mSaved SampleData[AlphaDiversity] to: poop_data/Functional/core-metrics-picrust2-HEA_antibiotic_history_not/shannon_vector.qza\u001b[0m\n",
      "\u001b[32mSaved SampleData[AlphaDiversity] to: poop_data/Functional/core-metrics-picrust2-HEA_antibiotic_history_not/evenness_vector.qza\u001b[0m\n",
      "\u001b[32mSaved DistanceMatrix to: poop_data/Functional/core-metrics-picrust2-HEA_antibiotic_history_not/jaccard_distance_matrix.qza\u001b[0m\n",
      "\u001b[32mSaved DistanceMatrix to: poop_data/Functional/core-metrics-picrust2-HEA_antibiotic_history_not/bray_curtis_distance_matrix.qza\u001b[0m\n",
      "\u001b[32mSaved PCoAResults to: poop_data/Functional/core-metrics-picrust2-HEA_antibiotic_history_not/jaccard_pcoa_results.qza\u001b[0m\n",
      "\u001b[32mSaved PCoAResults to: poop_data/Functional/core-metrics-picrust2-HEA_antibiotic_history_not/bray_curtis_pcoa_results.qza\u001b[0m\n",
      "\u001b[32mSaved Visualization to: poop_data/Functional/core-metrics-picrust2-HEA_antibiotic_history_not/jaccard_emperor.qzv\u001b[0m\n",
      "\u001b[32mSaved Visualization to: poop_data/Functional/core-metrics-picrust2-HEA_antibiotic_history_not/bray_curtis_emperor.qzv\u001b[0m\n",
      "\u001b[0m"
     ]
    }
   ],
   "source": [
    "! qiime diversity core-metrics \\\n",
    "  --i-table $data_dir/Functional/pathway_abundance_HEA_antibiotic_history_not.qza \\\n",
    "  --m-metadata-file $data_dir/metadata.tsv \\\n",
    "  --p-sampling-depth 1000 \\\n",
    "  --p-n-jobs $n_jobs \\\n",
    "  --output-dir $data_dir/Functional/core-metrics-picrust2-HEA_antibiotic_history_not"
   ]
  },
  {
   "cell_type": "code",
   "execution_count": 35,
   "id": "0924bae0-ec48-4091-925d-b712a0cd17e3",
   "metadata": {},
   "outputs": [
    {
     "name": "stdout",
     "output_type": "stream",
     "text": [
      "\u001b[32mSaved Visualization to: poop_data/Functional/core-metrics-picrust2-HEA_antibiotic_history_not/adonis-results.qzv\u001b[0m\n",
      "\u001b[0m"
     ]
    }
   ],
   "source": [
    "! qiime diversity adonis \\\n",
    "  --i-distance-matrix $data_dir/Functional/core-metrics-picrust2-HEA_antibiotic_history_not/jaccard_distance_matrix.qza \\\n",
    "  --m-metadata-file $data_dir/metadata.tsv \\\n",
    "  --p-formula 'HEA_ibd*HEA_cdiff*HEA_sibo*HEA_acid_reflux*HEA_thyroid' \\\n",
    "  --o-visualization $data_dir/Functional/core-metrics-picrust2-HEA_antibiotic_history_not/adonis-results.qzv "
   ]
  },
  {
   "cell_type": "code",
   "execution_count": 36,
   "id": "c587f050-84dc-4055-9186-a3a00d2ceed9",
   "metadata": {},
   "outputs": [
    {
     "data": {
      "text/html": [
       "<div><img onload=\"(function(div, url){\n",
       "if (typeof require !== 'undefined') {\n",
       "    var baseURL = require.toUrl('').split('/').slice(0, -2).join('/');\n",
       "} else {\n",
       "    var baseURL = JSON.parse(\n",
       "        document.getElementById('jupyter-config-data').innerHTML\n",
       "    ).baseUrl.slice(0, -1);\n",
       "}\n",
       "url = baseURL + url;\n",
       "fetch(url).then(function(res) {\n",
       "    if (res.status === 404) {\n",
       "        div.innerHTML = 'Install QIIME 2 Jupyter extension with:<br />' +\n",
       "                        '<code>jupyter serverextension enable --py qiime2' +\n",
       "                        ' --sys-prefix</code><br />then restart your server.' +\n",
       "                        '<br /><br />(Interactive output not available on ' +\n",
       "                        'static notebook viewer services like nbviewer.)';\n",
       "    } else if (res.status === 409) {\n",
       "        div.innerHTML = 'Visualization no longer in scope. Re-run this cell' +\n",
       "                        ' to see the visualization.';\n",
       "    } else if (res.ok) {\n",
       "        url = res.url;\n",
       "        div.innerHTML = '<iframe src=\\'' + url + '\\' style=\\'' +\n",
       "                        'width: 100%; height: 700px; border: 0;\\'>' +\n",
       "                        '</iframe><hr />Open in a: <a href=\\'' + url + '\\'' +\n",
       "                        ' target=\\'_blank\\'>new window</a>'\n",
       "    } else {\n",
       "        div.innerHTML = 'Something has gone wrong. Check notebook server for' +\n",
       "                        ' errors.';\n",
       "    }\n",
       "});\n",
       "})(this.parentElement, '/qiime2/redirect?location=/tmp/qiime2-archive-w9g779bl')\" src=\"data:image/gif;base64,R0lGODlhAQABAIAAAP///wAAACH5BAEAAAAALAAAAAABAAEAAAICRAEAOw==\" /></div>"
      ],
      "text/plain": [
       "<visualization: Visualization uuid: 1fa02dbd-33e4-4429-8420-8a4292bfb411>"
      ]
     },
     "execution_count": 36,
     "metadata": {},
     "output_type": "execute_result"
    }
   ],
   "source": [
    "Visualization.load(f'{data_dir}/Functional/core-metrics-picrust2-HEA_antibiotic_history_not/jaccard_emperor.qzv')"
   ]
  },
  {
   "cell_type": "code",
   "execution_count": 37,
   "id": "d0513521-d06c-41d7-9904-8ce019303307",
   "metadata": {},
   "outputs": [
    {
     "data": {
      "text/html": [
       "<div><img onload=\"(function(div, url){\n",
       "if (typeof require !== 'undefined') {\n",
       "    var baseURL = require.toUrl('').split('/').slice(0, -2).join('/');\n",
       "} else {\n",
       "    var baseURL = JSON.parse(\n",
       "        document.getElementById('jupyter-config-data').innerHTML\n",
       "    ).baseUrl.slice(0, -1);\n",
       "}\n",
       "url = baseURL + url;\n",
       "fetch(url).then(function(res) {\n",
       "    if (res.status === 404) {\n",
       "        div.innerHTML = 'Install QIIME 2 Jupyter extension with:<br />' +\n",
       "                        '<code>jupyter serverextension enable --py qiime2' +\n",
       "                        ' --sys-prefix</code><br />then restart your server.' +\n",
       "                        '<br /><br />(Interactive output not available on ' +\n",
       "                        'static notebook viewer services like nbviewer.)';\n",
       "    } else if (res.status === 409) {\n",
       "        div.innerHTML = 'Visualization no longer in scope. Re-run this cell' +\n",
       "                        ' to see the visualization.';\n",
       "    } else if (res.ok) {\n",
       "        url = res.url;\n",
       "        div.innerHTML = '<iframe src=\\'' + url + '\\' style=\\'' +\n",
       "                        'width: 100%; height: 700px; border: 0;\\'>' +\n",
       "                        '</iframe><hr />Open in a: <a href=\\'' + url + '\\'' +\n",
       "                        ' target=\\'_blank\\'>new window</a>'\n",
       "    } else {\n",
       "        div.innerHTML = 'Something has gone wrong. Check notebook server for' +\n",
       "                        ' errors.';\n",
       "    }\n",
       "});\n",
       "})(this.parentElement, '/qiime2/redirect?location=/tmp/qiime2-archive-2xhps1cg')\" src=\"data:image/gif;base64,R0lGODlhAQABAIAAAP///wAAACH5BAEAAAAALAAAAAABAAEAAAICRAEAOw==\" /></div>"
      ],
      "text/plain": [
       "<visualization: Visualization uuid: 48294922-5ba7-4ff4-b61d-d3721929fef2>"
      ]
     },
     "execution_count": 37,
     "metadata": {},
     "output_type": "execute_result"
    }
   ],
   "source": [
    "Visualization.load(f'{data_dir}/Functional/core-metrics-picrust2-HEA_antibiotic_history_not/adonis-results.qzv')"
   ]
  },
  {
   "cell_type": "markdown",
   "id": "30872722-5b23-4531-89ab-e01bebd3eb41",
   "metadata": {},
   "source": [
    "<a id='function'></a>\n",
    "## Functional redundancy: HEA_antibiotic_history_week"
   ]
  },
  {
   "cell_type": "code",
   "execution_count": 27,
   "id": "c24fb634-0e17-4f29-b048-f8e77ce975cd",
   "metadata": {},
   "outputs": [
    {
     "name": "stdout",
     "output_type": "stream",
     "text": [
      "\u001b[32mSaved FeatureTable[Frequency] to: poop_data/Functional/pathway_abundance_HEA_antibiotic_history_week.qza\u001b[0m\n",
      "\u001b[0m"
     ]
    }
   ],
   "source": [
    "! qiime feature-table filter-samples \\\n",
    "    --i-table $data_dir/Differential_abundance/table_abund_species.qza \\\n",
    "    --m-metadata-file $data_dir/metadata.tsv \\\n",
    "    --p-where \"[HEA_antibiotic_history]='Week'\" \\\n",
    "    --o-filtered-table $data_dir/Functional/pathway_abundance_HEA_antibiotic_history_week.qza"
   ]
  },
  {
   "cell_type": "code",
   "execution_count": 28,
   "id": "73ebeb71-0ae4-4a0d-8cc1-a4f69a7ae72c",
   "metadata": {},
   "outputs": [
    {
     "name": "stdout",
     "output_type": "stream",
     "text": [
      "\u001b[32mSaved FeatureTable[Frequency] to: poop_data/Functional/core-metrics-picrust2-HEA_antibiotic_history_week/rarefied_table.qza\u001b[0m\n",
      "\u001b[32mSaved SampleData[AlphaDiversity] to: poop_data/Functional/core-metrics-picrust2-HEA_antibiotic_history_week/observed_features_vector.qza\u001b[0m\n",
      "\u001b[32mSaved SampleData[AlphaDiversity] to: poop_data/Functional/core-metrics-picrust2-HEA_antibiotic_history_week/shannon_vector.qza\u001b[0m\n",
      "\u001b[32mSaved SampleData[AlphaDiversity] to: poop_data/Functional/core-metrics-picrust2-HEA_antibiotic_history_week/evenness_vector.qza\u001b[0m\n",
      "\u001b[32mSaved DistanceMatrix to: poop_data/Functional/core-metrics-picrust2-HEA_antibiotic_history_week/jaccard_distance_matrix.qza\u001b[0m\n",
      "\u001b[32mSaved DistanceMatrix to: poop_data/Functional/core-metrics-picrust2-HEA_antibiotic_history_week/bray_curtis_distance_matrix.qza\u001b[0m\n",
      "\u001b[32mSaved PCoAResults to: poop_data/Functional/core-metrics-picrust2-HEA_antibiotic_history_week/jaccard_pcoa_results.qza\u001b[0m\n",
      "\u001b[32mSaved PCoAResults to: poop_data/Functional/core-metrics-picrust2-HEA_antibiotic_history_week/bray_curtis_pcoa_results.qza\u001b[0m\n",
      "\u001b[32mSaved Visualization to: poop_data/Functional/core-metrics-picrust2-HEA_antibiotic_history_week/jaccard_emperor.qzv\u001b[0m\n",
      "\u001b[32mSaved Visualization to: poop_data/Functional/core-metrics-picrust2-HEA_antibiotic_history_week/bray_curtis_emperor.qzv\u001b[0m\n",
      "\u001b[0m"
     ]
    }
   ],
   "source": [
    "! qiime diversity core-metrics \\\n",
    "  --i-table $data_dir/Functional/pathway_abundance_HEA_antibiotic_history_week.qza \\\n",
    "  --m-metadata-file $data_dir/metadata.tsv \\\n",
    "  --p-sampling-depth 1000 \\\n",
    "  --p-n-jobs $n_jobs \\\n",
    "  --output-dir $data_dir/Functional/core-metrics-picrust2-HEA_antibiotic_history_week"
   ]
  },
  {
   "cell_type": "code",
   "execution_count": 32,
   "id": "61a7dc50-2200-4989-aa8f-1ccf5fb7fa4b",
   "metadata": {},
   "outputs": [
    {
     "name": "stdout",
     "output_type": "stream",
     "text": [
      "\u001b[32mSaved Visualization to: poop_data/Functional/core-metrics-picrust2-HEA_antibiotic_history_week/adonis-results.qzv\u001b[0m\n",
      "\u001b[0m"
     ]
    }
   ],
   "source": [
    "! qiime diversity adonis \\\n",
    "  --i-distance-matrix $data_dir/Functional/core-metrics-picrust2-HEA_antibiotic_history_week/jaccard_distance_matrix.qza \\\n",
    "  --m-metadata-file $data_dir/metadata.tsv \\\n",
    "  --p-formula 'HEA_ibd*HEA_sibo*HEA_acid_reflux*HEA_thyroid' \\\n",
    "  --o-visualization $data_dir/Functional/core-metrics-picrust2-HEA_antibiotic_history_week/adonis-results.qzv "
   ]
  },
  {
   "cell_type": "code",
   "execution_count": 30,
   "id": "70324772-49a7-43a1-ac01-29d94ad9f9e4",
   "metadata": {},
   "outputs": [
    {
     "data": {
      "text/html": [
       "<div><img onload=\"(function(div, url){\n",
       "if (typeof require !== 'undefined') {\n",
       "    var baseURL = require.toUrl('').split('/').slice(0, -2).join('/');\n",
       "} else {\n",
       "    var baseURL = JSON.parse(\n",
       "        document.getElementById('jupyter-config-data').innerHTML\n",
       "    ).baseUrl.slice(0, -1);\n",
       "}\n",
       "url = baseURL + url;\n",
       "fetch(url).then(function(res) {\n",
       "    if (res.status === 404) {\n",
       "        div.innerHTML = 'Install QIIME 2 Jupyter extension with:<br />' +\n",
       "                        '<code>jupyter serverextension enable --py qiime2' +\n",
       "                        ' --sys-prefix</code><br />then restart your server.' +\n",
       "                        '<br /><br />(Interactive output not available on ' +\n",
       "                        'static notebook viewer services like nbviewer.)';\n",
       "    } else if (res.status === 409) {\n",
       "        div.innerHTML = 'Visualization no longer in scope. Re-run this cell' +\n",
       "                        ' to see the visualization.';\n",
       "    } else if (res.ok) {\n",
       "        url = res.url;\n",
       "        div.innerHTML = '<iframe src=\\'' + url + '\\' style=\\'' +\n",
       "                        'width: 100%; height: 700px; border: 0;\\'>' +\n",
       "                        '</iframe><hr />Open in a: <a href=\\'' + url + '\\'' +\n",
       "                        ' target=\\'_blank\\'>new window</a>'\n",
       "    } else {\n",
       "        div.innerHTML = 'Something has gone wrong. Check notebook server for' +\n",
       "                        ' errors.';\n",
       "    }\n",
       "});\n",
       "})(this.parentElement, '/qiime2/redirect?location=/tmp/qiime2-archive-dt7hwzo8')\" src=\"data:image/gif;base64,R0lGODlhAQABAIAAAP///wAAACH5BAEAAAAALAAAAAABAAEAAAICRAEAOw==\" /></div>"
      ],
      "text/plain": [
       "<visualization: Visualization uuid: dc02e2f5-a3e6-4897-b1da-11904dc642c5>"
      ]
     },
     "execution_count": 30,
     "metadata": {},
     "output_type": "execute_result"
    }
   ],
   "source": [
    "Visualization.load(f'{data_dir}/Functional/core-metrics-picrust2-HEA_antibiotic_history_week/jaccard_emperor.qzv')"
   ]
  },
  {
   "cell_type": "code",
   "execution_count": 33,
   "id": "1be5bae0-7715-4329-a452-0b36a85ce2d6",
   "metadata": {},
   "outputs": [
    {
     "data": {
      "text/html": [
       "<div><img onload=\"(function(div, url){\n",
       "if (typeof require !== 'undefined') {\n",
       "    var baseURL = require.toUrl('').split('/').slice(0, -2).join('/');\n",
       "} else {\n",
       "    var baseURL = JSON.parse(\n",
       "        document.getElementById('jupyter-config-data').innerHTML\n",
       "    ).baseUrl.slice(0, -1);\n",
       "}\n",
       "url = baseURL + url;\n",
       "fetch(url).then(function(res) {\n",
       "    if (res.status === 404) {\n",
       "        div.innerHTML = 'Install QIIME 2 Jupyter extension with:<br />' +\n",
       "                        '<code>jupyter serverextension enable --py qiime2' +\n",
       "                        ' --sys-prefix</code><br />then restart your server.' +\n",
       "                        '<br /><br />(Interactive output not available on ' +\n",
       "                        'static notebook viewer services like nbviewer.)';\n",
       "    } else if (res.status === 409) {\n",
       "        div.innerHTML = 'Visualization no longer in scope. Re-run this cell' +\n",
       "                        ' to see the visualization.';\n",
       "    } else if (res.ok) {\n",
       "        url = res.url;\n",
       "        div.innerHTML = '<iframe src=\\'' + url + '\\' style=\\'' +\n",
       "                        'width: 100%; height: 700px; border: 0;\\'>' +\n",
       "                        '</iframe><hr />Open in a: <a href=\\'' + url + '\\'' +\n",
       "                        ' target=\\'_blank\\'>new window</a>'\n",
       "    } else {\n",
       "        div.innerHTML = 'Something has gone wrong. Check notebook server for' +\n",
       "                        ' errors.';\n",
       "    }\n",
       "});\n",
       "})(this.parentElement, '/qiime2/redirect?location=/tmp/qiime2-archive-0f5vc7g1')\" src=\"data:image/gif;base64,R0lGODlhAQABAIAAAP///wAAACH5BAEAAAAALAAAAAABAAEAAAICRAEAOw==\" /></div>"
      ],
      "text/plain": [
       "<visualization: Visualization uuid: 574033d6-a4fb-42ad-893b-f8afaeb555c6>"
      ]
     },
     "execution_count": 33,
     "metadata": {},
     "output_type": "execute_result"
    }
   ],
   "source": [
    "Visualization.load(f'{data_dir}/Functional/core-metrics-picrust2-HEA_antibiotic_history_week/adonis-results.qzv')"
   ]
  },
  {
   "cell_type": "markdown",
   "id": "ae98f7e2-dd40-4a75-9bd6-a12ed33d2110",
   "metadata": {},
   "source": [
    "<a id='function'></a>\n",
    "## Functional redundancy: HEA_antibiotic_history_year"
   ]
  },
  {
   "cell_type": "code",
   "execution_count": 38,
   "id": "647ff9ea-d18d-4ba6-933b-af369c76f02b",
   "metadata": {},
   "outputs": [
    {
     "name": "stdout",
     "output_type": "stream",
     "text": [
      "\u001b[32mSaved FeatureTable[Frequency] to: poop_data/Functional/pathway_abundance_HEA_antibiotic_history_year.qza\u001b[0m\n",
      "\u001b[0m"
     ]
    }
   ],
   "source": [
    "! qiime feature-table filter-samples \\\n",
    "    --i-table $data_dir/Differential_abundance/table_abund_species.qza \\\n",
    "    --m-metadata-file $data_dir/metadata.tsv \\\n",
    "    --p-where \"[HEA_antibiotic_history]='Year'\" \\\n",
    "    --o-filtered-table $data_dir/Functional/pathway_abundance_HEA_antibiotic_history_year.qza"
   ]
  },
  {
   "cell_type": "code",
   "execution_count": 39,
   "id": "dbd6fb9d-d2db-4e12-a013-44623a9670a7",
   "metadata": {},
   "outputs": [
    {
     "name": "stdout",
     "output_type": "stream",
     "text": [
      "\u001b[32mSaved FeatureTable[Frequency] to: poop_data/Functional/core-metrics-picrust2-HEA_antibiotic_history_year/rarefied_table.qza\u001b[0m\n",
      "\u001b[32mSaved SampleData[AlphaDiversity] to: poop_data/Functional/core-metrics-picrust2-HEA_antibiotic_history_year/observed_features_vector.qza\u001b[0m\n",
      "\u001b[32mSaved SampleData[AlphaDiversity] to: poop_data/Functional/core-metrics-picrust2-HEA_antibiotic_history_year/shannon_vector.qza\u001b[0m\n",
      "\u001b[32mSaved SampleData[AlphaDiversity] to: poop_data/Functional/core-metrics-picrust2-HEA_antibiotic_history_year/evenness_vector.qza\u001b[0m\n",
      "\u001b[32mSaved DistanceMatrix to: poop_data/Functional/core-metrics-picrust2-HEA_antibiotic_history_year/jaccard_distance_matrix.qza\u001b[0m\n",
      "\u001b[32mSaved DistanceMatrix to: poop_data/Functional/core-metrics-picrust2-HEA_antibiotic_history_year/bray_curtis_distance_matrix.qza\u001b[0m\n",
      "\u001b[32mSaved PCoAResults to: poop_data/Functional/core-metrics-picrust2-HEA_antibiotic_history_year/jaccard_pcoa_results.qza\u001b[0m\n",
      "\u001b[32mSaved PCoAResults to: poop_data/Functional/core-metrics-picrust2-HEA_antibiotic_history_year/bray_curtis_pcoa_results.qza\u001b[0m\n",
      "\u001b[32mSaved Visualization to: poop_data/Functional/core-metrics-picrust2-HEA_antibiotic_history_year/jaccard_emperor.qzv\u001b[0m\n",
      "\u001b[32mSaved Visualization to: poop_data/Functional/core-metrics-picrust2-HEA_antibiotic_history_year/bray_curtis_emperor.qzv\u001b[0m\n",
      "\u001b[0m"
     ]
    }
   ],
   "source": [
    "! qiime diversity core-metrics \\\n",
    "  --i-table $data_dir/Functional/pathway_abundance_HEA_antibiotic_history_year.qza \\\n",
    "  --m-metadata-file $data_dir/metadata.tsv \\\n",
    "  --p-sampling-depth 1000 \\\n",
    "  --p-n-jobs $n_jobs \\\n",
    "  --output-dir $data_dir/Functional/core-metrics-picrust2-HEA_antibiotic_history_year"
   ]
  },
  {
   "cell_type": "code",
   "execution_count": 40,
   "id": "8a33d032-ead2-48f1-9ad5-ab103fa4a221",
   "metadata": {},
   "outputs": [
    {
     "name": "stdout",
     "output_type": "stream",
     "text": [
      "\u001b[32mSaved Visualization to: poop_data/Functional/core-metrics-picrust2-HEA_antibiotic_history_year/adonis-results.qzv\u001b[0m\n",
      "\u001b[0m"
     ]
    }
   ],
   "source": [
    "! qiime diversity adonis \\\n",
    "  --i-distance-matrix $data_dir/Functional/core-metrics-picrust2-HEA_antibiotic_history_year/jaccard_distance_matrix.qza \\\n",
    "  --m-metadata-file $data_dir/metadata.tsv \\\n",
    "  --p-formula 'HEA_ibd*HEA_cdiff*HEA_acid_reflux*HEA_thyroid' \\\n",
    "  --o-visualization $data_dir/Functional/core-metrics-picrust2-HEA_antibiotic_history_year/adonis-results.qzv "
   ]
  },
  {
   "cell_type": "code",
   "execution_count": 41,
   "id": "b56f90e3-948e-4188-b8da-cdfffe84c62c",
   "metadata": {},
   "outputs": [
    {
     "data": {
      "text/html": [
       "<div><img onload=\"(function(div, url){\n",
       "if (typeof require !== 'undefined') {\n",
       "    var baseURL = require.toUrl('').split('/').slice(0, -2).join('/');\n",
       "} else {\n",
       "    var baseURL = JSON.parse(\n",
       "        document.getElementById('jupyter-config-data').innerHTML\n",
       "    ).baseUrl.slice(0, -1);\n",
       "}\n",
       "url = baseURL + url;\n",
       "fetch(url).then(function(res) {\n",
       "    if (res.status === 404) {\n",
       "        div.innerHTML = 'Install QIIME 2 Jupyter extension with:<br />' +\n",
       "                        '<code>jupyter serverextension enable --py qiime2' +\n",
       "                        ' --sys-prefix</code><br />then restart your server.' +\n",
       "                        '<br /><br />(Interactive output not available on ' +\n",
       "                        'static notebook viewer services like nbviewer.)';\n",
       "    } else if (res.status === 409) {\n",
       "        div.innerHTML = 'Visualization no longer in scope. Re-run this cell' +\n",
       "                        ' to see the visualization.';\n",
       "    } else if (res.ok) {\n",
       "        url = res.url;\n",
       "        div.innerHTML = '<iframe src=\\'' + url + '\\' style=\\'' +\n",
       "                        'width: 100%; height: 700px; border: 0;\\'>' +\n",
       "                        '</iframe><hr />Open in a: <a href=\\'' + url + '\\'' +\n",
       "                        ' target=\\'_blank\\'>new window</a>'\n",
       "    } else {\n",
       "        div.innerHTML = 'Something has gone wrong. Check notebook server for' +\n",
       "                        ' errors.';\n",
       "    }\n",
       "});\n",
       "})(this.parentElement, '/qiime2/redirect?location=/tmp/qiime2-archive-8vjfzk10')\" src=\"data:image/gif;base64,R0lGODlhAQABAIAAAP///wAAACH5BAEAAAAALAAAAAABAAEAAAICRAEAOw==\" /></div>"
      ],
      "text/plain": [
       "<visualization: Visualization uuid: 8b169f5b-6c6c-49be-a4de-b1bb79e56c62>"
      ]
     },
     "execution_count": 41,
     "metadata": {},
     "output_type": "execute_result"
    }
   ],
   "source": [
    "Visualization.load(f'{data_dir}/Functional/core-metrics-picrust2-HEA_antibiotic_history_year/jaccard_emperor.qzv')"
   ]
  },
  {
   "cell_type": "code",
   "execution_count": 42,
   "id": "f690f185-73f2-4bef-82e7-df1926eb539f",
   "metadata": {},
   "outputs": [
    {
     "data": {
      "text/html": [
       "<div><img onload=\"(function(div, url){\n",
       "if (typeof require !== 'undefined') {\n",
       "    var baseURL = require.toUrl('').split('/').slice(0, -2).join('/');\n",
       "} else {\n",
       "    var baseURL = JSON.parse(\n",
       "        document.getElementById('jupyter-config-data').innerHTML\n",
       "    ).baseUrl.slice(0, -1);\n",
       "}\n",
       "url = baseURL + url;\n",
       "fetch(url).then(function(res) {\n",
       "    if (res.status === 404) {\n",
       "        div.innerHTML = 'Install QIIME 2 Jupyter extension with:<br />' +\n",
       "                        '<code>jupyter serverextension enable --py qiime2' +\n",
       "                        ' --sys-prefix</code><br />then restart your server.' +\n",
       "                        '<br /><br />(Interactive output not available on ' +\n",
       "                        'static notebook viewer services like nbviewer.)';\n",
       "    } else if (res.status === 409) {\n",
       "        div.innerHTML = 'Visualization no longer in scope. Re-run this cell' +\n",
       "                        ' to see the visualization.';\n",
       "    } else if (res.ok) {\n",
       "        url = res.url;\n",
       "        div.innerHTML = '<iframe src=\\'' + url + '\\' style=\\'' +\n",
       "                        'width: 100%; height: 700px; border: 0;\\'>' +\n",
       "                        '</iframe><hr />Open in a: <a href=\\'' + url + '\\'' +\n",
       "                        ' target=\\'_blank\\'>new window</a>'\n",
       "    } else {\n",
       "        div.innerHTML = 'Something has gone wrong. Check notebook server for' +\n",
       "                        ' errors.';\n",
       "    }\n",
       "});\n",
       "})(this.parentElement, '/qiime2/redirect?location=/tmp/qiime2-archive-nt98oohd')\" src=\"data:image/gif;base64,R0lGODlhAQABAIAAAP///wAAACH5BAEAAAAALAAAAAABAAEAAAICRAEAOw==\" /></div>"
      ],
      "text/plain": [
       "<visualization: Visualization uuid: 3e7b874f-4782-4376-a405-a78a623cbce1>"
      ]
     },
     "execution_count": 42,
     "metadata": {},
     "output_type": "execute_result"
    }
   ],
   "source": [
    "Visualization.load(f'{data_dir}/Functional/core-metrics-picrust2-HEA_antibiotic_history_year/adonis-results.qzv')"
   ]
  },
  {
   "cell_type": "code",
   "execution_count": null,
   "id": "95af7cf3-1ebb-4050-b63d-3b4b1f0fa87c",
   "metadata": {},
   "outputs": [],
   "source": []
  }
 ],
 "metadata": {
  "kernelspec": {
   "display_name": "Python 3 (ipykernel)",
   "language": "python",
   "name": "python3"
  },
  "language_info": {
   "codemirror_mode": {
    "name": "ipython",
    "version": 3
   },
   "file_extension": ".py",
   "mimetype": "text/x-python",
   "name": "python",
   "nbconvert_exporter": "python",
   "pygments_lexer": "ipython3",
   "version": "3.8.13"
  }
 },
 "nbformat": 4,
 "nbformat_minor": 5
}
