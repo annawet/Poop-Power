{
 "cells": [
  {
   "cell_type": "markdown",
   "id": "020e80de-a689-47c9-a40a-bb945a9ecafc",
   "metadata": {},
   "source": [
    "## poop power\n"
   ]
  },
  {
   "cell_type": "code",
   "execution_count": 4,
   "id": "a3d829f6-9ec4-425a-b221-2caca249207a",
   "metadata": {},
   "outputs": [],
   "source": [
    "#package import\n",
    "import os\n",
    "import pandas as pd\n",
    "from qiime2 import Visualization\n",
    "import matplotlib.pyplot as plt\n",
    "\n",
    "%matplotlib inline"
   ]
  },
  {
   "cell_type": "code",
   "execution_count": 5,
   "id": "81eb6697-fe97-4966-bd8c-df02becb9d69",
   "metadata": {},
   "outputs": [],
   "source": [
    "# location of this week's data and all the results produced by this notebook \n",
    "# - this should be a path relative to your working directory\n",
    "our_data = 'poop_data'\n",
    "\n",
    "if not os.path.isdir(our_data):\n",
    "    os.makedirs(our_data)"
   ]
  },
  {
   "cell_type": "code",
   "execution_count": 6,
   "id": "fe53306b-bdac-479a-917b-a0e1d107ddb2",
   "metadata": {},
   "outputs": [
    {
     "data": {
      "text/plain": [
       "'/home/jovyan/Poop-Power'"
      ]
     },
     "execution_count": 6,
     "metadata": {},
     "output_type": "execute_result"
    }
   ],
   "source": [
    "pwd"
   ]
  },
  {
   "cell_type": "code",
   "execution_count": 8,
   "id": "39f6f7e0-4a0b-436e-b1b9-9346280c1af6",
   "metadata": {},
   "outputs": [
    {
     "name": "stdout",
     "output_type": "stream",
     "text": [
      "2022-10-05 09:32:41 URL:https://polybox.ethz.ch/index.php/s/Cv15BXoZMZXaB2I [13478/13478] -> \"poop_data/sequences.zip\" [1]\n"
     ]
    }
   ],
   "source": [
    "! wget -nv -O $our_data/'sequences'.zip 'https://polybox.ethz.ch/index.php/s/Cv15BXoZMZXaB2I'\n"
   ]
  },
  {
   "cell_type": "code",
   "execution_count": null,
   "id": "de69ed7b-605b-48da-ad5e-5d3b6a017349",
   "metadata": {},
   "outputs": [],
   "source": []
  },
  {
   "cell_type": "code",
   "execution_count": 2,
   "id": "9f800e71-2da1-4045-9b5d-caf6c9626394",
   "metadata": {},
   "outputs": [],
   "source": [
    "#add sth"
   ]
  },
  {
   "cell_type": "code",
   "execution_count": null,
   "id": "9dc68bb6-9efd-4bb6-90a2-add867822708",
   "metadata": {},
   "outputs": [],
   "source": []
  }
 ],
 "metadata": {
  "kernelspec": {
   "display_name": "Python 3 (ipykernel)",
   "language": "python",
   "name": "python3"
  },
  "language_info": {
   "codemirror_mode": {
    "name": "ipython",
    "version": 3
   },
   "file_extension": ".py",
   "mimetype": "text/x-python",
   "name": "python",
   "nbconvert_exporter": "python",
   "pygments_lexer": "ipython3",
   "version": "3.8.13"
  }
 },
 "nbformat": 4,
 "nbformat_minor": 5
}
