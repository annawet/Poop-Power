{
 "cells": [
  {
   "cell_type": "code",
   "execution_count": 1,
   "id": "9598aef6-3a57-492d-af10-ba8a89c5163c",
   "metadata": {},
   "outputs": [],
   "source": [
    "from qiime2 import Visualization\n",
    "\n",
    "# location of this week's data and all the results produced by this notebook \n",
    "# - this should be a path relative to your working directory\n",
    "data_dir = 'poop_data'"
   ]
  },
  {
   "cell_type": "markdown",
   "id": "cafe326b-8063-4a9f-a08c-67be70e6b5e6",
   "metadata": {},
   "source": [
    "<a id='de_novo'></a>\n",
    "\n",
    "###  Phylogeny _de novo_\n"
   ]
  },
  {
   "cell_type": "code",
   "execution_count": 2,
   "id": "d81543b0-2b0f-45d0-ac98-7c4bd07eeef5",
   "metadata": {},
   "outputs": [
    {
     "name": "stdout",
     "output_type": "stream",
     "text": [
      "\u001b[32mSaved FeatureData[AlignedSequence] to: poop_data/Phylogeny/aligned-rep-seqs_new.qza\u001b[0m\n",
      "\u001b[0m"
     ]
    }
   ],
   "source": [
    "! qiime alignment mafft \\\n",
    "    --i-sequences $data_dir/Taxonomy/rep-seqs-filtered_new.qza \\\n",
    "    --o-alignment $data_dir/Phylogeny/aligned-rep-seqs_new.qza"
   ]
  },
  {
   "cell_type": "code",
   "execution_count": 3,
   "id": "d788dbcb-df45-411a-8b5e-924dfaa861ed",
   "metadata": {},
   "outputs": [
    {
     "name": "stdout",
     "output_type": "stream",
     "text": [
      "\u001b[32mSaved FeatureData[AlignedSequence] to: poop_data/Phylogeny/masked-aligned-rep-seqs_new.qza\u001b[0m\n",
      "\u001b[0m"
     ]
    }
   ],
   "source": [
    "! qiime alignment mask \\\n",
    "    --i-alignment $data_dir/Phylogeny/aligned-rep-seqs_new.qza \\\n",
    "    --o-masked-alignment $data_dir/Phylogeny/masked-aligned-rep-seqs_new.qza"
   ]
  },
  {
   "cell_type": "code",
   "execution_count": 4,
   "id": "2d26ee37-dbc4-43d5-9788-4e9c423b2683",
   "metadata": {},
   "outputs": [
    {
     "name": "stdout",
     "output_type": "stream",
     "text": [
      "\u001b[32mSaved Phylogeny[Unrooted] to: poop_data/Phylogeny/fasttree-tree_new.qza\u001b[0m\n",
      "\u001b[0m\u001b[32mSaved Phylogeny[Rooted] to: poop_data/Phylogeny/fasttree-tree-rooted_new.qza\u001b[0m\n",
      "\u001b[0m"
     ]
    }
   ],
   "source": [
    "! qiime phylogeny fasttree \\\n",
    "    --i-alignment $data_dir/Phylogeny/masked-aligned-rep-seqs_new.qza \\\n",
    "    --o-tree $data_dir/Phylogeny/fasttree-tree_new.qza\n",
    "\n",
    "! qiime phylogeny midpoint-root \\\n",
    "    --i-tree $data_dir/Phylogeny/fasttree-tree_new.qza \\\n",
    "    --o-rooted-tree $data_dir/Phylogeny/fasttree-tree-rooted_new.qza"
   ]
  },
  {
   "cell_type": "code",
   "execution_count": 5,
   "id": "943e0dde-a0b8-4047-9cb9-1de3fbec808c",
   "metadata": {},
   "outputs": [
    {
     "name": "stdout",
     "output_type": "stream",
     "text": [
      "\u001b[32mSaved Visualization to: poop_data/Phylogeny/fasttree-tree-rooted_new.qzv\u001b[0m\n",
      "\u001b[0m"
     ]
    }
   ],
   "source": [
    "! qiime empress tree-plot \\\n",
    "    --i-tree $data_dir/Phylogeny/fasttree-tree-rooted_new.qza \\\n",
    "    --m-feature-metadata-file $data_dir/Taxonomy/taxonomy_new.qza \\\n",
    "    --o-visualization $data_dir/Phylogeny/fasttree-tree-rooted_new.qzv"
   ]
  },
  {
   "cell_type": "code",
   "execution_count": 6,
   "id": "ed053158-ca53-41d2-be94-67e064428af7",
   "metadata": {},
   "outputs": [
    {
     "data": {
      "text/html": [
       "<div><img onload=\"(function(div, url){\n",
       "if (typeof require !== 'undefined') {\n",
       "    var baseURL = require.toUrl('').split('/').slice(0, -2).join('/');\n",
       "} else {\n",
       "    var baseURL = JSON.parse(\n",
       "        document.getElementById('jupyter-config-data').innerHTML\n",
       "    ).baseUrl.slice(0, -1);\n",
       "}\n",
       "url = baseURL + url;\n",
       "fetch(url).then(function(res) {\n",
       "    if (res.status === 404) {\n",
       "        div.innerHTML = 'Install QIIME 2 Jupyter extension with:<br />' +\n",
       "                        '<code>jupyter serverextension enable --py qiime2' +\n",
       "                        ' --sys-prefix</code><br />then restart your server.' +\n",
       "                        '<br /><br />(Interactive output not available on ' +\n",
       "                        'static notebook viewer services like nbviewer.)';\n",
       "    } else if (res.status === 409) {\n",
       "        div.innerHTML = 'Visualization no longer in scope. Re-run this cell' +\n",
       "                        ' to see the visualization.';\n",
       "    } else if (res.ok) {\n",
       "        url = res.url;\n",
       "        div.innerHTML = '<iframe src=\\'' + url + '\\' style=\\'' +\n",
       "                        'width: 100%; height: 700px; border: 0;\\'>' +\n",
       "                        '</iframe><hr />Open in a: <a href=\\'' + url + '\\'' +\n",
       "                        ' target=\\'_blank\\'>new window</a>'\n",
       "    } else {\n",
       "        div.innerHTML = 'Something has gone wrong. Check notebook server for' +\n",
       "                        ' errors.';\n",
       "    }\n",
       "});\n",
       "})(this.parentElement, '/qiime2/redirect?location=/tmp/qiime2-archive-svdqbv90')\" src=\"data:image/gif;base64,R0lGODlhAQABAIAAAP///wAAACH5BAEAAAAALAAAAAABAAEAAAICRAEAOw==\" /></div>"
      ],
      "text/plain": [
       "<visualization: Visualization uuid: b3afa19b-ab39-49dc-9bfa-e2aff4795c50>"
      ]
     },
     "execution_count": 6,
     "metadata": {},
     "output_type": "execute_result"
    }
   ],
   "source": [
    "Visualization.load(f'{data_dir}/Phylogeny/fasttree-tree-rooted_new.qzv')"
   ]
  },
  {
   "cell_type": "markdown",
   "id": "b7215fc2-5fb5-47a6-91cb-d7768373e534",
   "metadata": {},
   "source": [
    "<a id='fragm_insert'></a>\n",
    "\n",
    "###  Fragment insertion\n"
   ]
  },
  {
   "cell_type": "code",
   "execution_count": 7,
   "id": "05287909-0be1-4eda-a7be-760f1a7b27cb",
   "metadata": {},
   "outputs": [
    {
     "name": "stdout",
     "output_type": "stream",
     "text": [
      "2022-11-09 17:27:22 URL:https://s3-us-west-2.amazonaws.com/qiime2-data/2021.4/common/sepp-refs-gg-13-8.qza [50161069/50161069] -> \"poop_data/Phylogeny/sepp-refs-gg-13-8.qza\" [1]\n"
     ]
    }
   ],
   "source": [
    "! wget -nv -O $data_dir/Phylogeny/sepp-refs-gg-13-8.qza https://data.qiime2.org/2021.4/common/sepp-refs-gg-13-8.qza"
   ]
  },
  {
   "cell_type": "code",
   "execution_count": 8,
   "id": "56f85785-3027-45df-ad01-58d6b631c981",
   "metadata": {},
   "outputs": [
    {
     "name": "stdout",
     "output_type": "stream",
     "text": [
      "\u001b[32mSaved Phylogeny[Rooted] to: poop_data/Phylogeny/sepp-tree_new.qza\u001b[0m\n",
      "\u001b[32mSaved Placements to: poop_data/Phylogeny/sepp-tree-placements_new.qza\u001b[0m\n",
      "\u001b[0m"
     ]
    }
   ],
   "source": [
    "! qiime fragment-insertion sepp \\\n",
    "    --i-representative-sequences $data_dir/Taxonomy/rep-seqs-filtered_new.qza \\\n",
    "    --i-reference-database $data_dir/Phylogeny/sepp-refs-gg-13-8.qza \\\n",
    "    --p-threads 2 \\\n",
    "    --o-tree $data_dir/Phylogeny/sepp-tree_new.qza \\\n",
    "    --o-placements $data_dir/Phylogeny/sepp-tree-placements_new.qza"
   ]
  },
  {
   "cell_type": "code",
   "execution_count": 9,
   "id": "d934058b-4953-483c-b094-e4aae1de87fb",
   "metadata": {},
   "outputs": [
    {
     "name": "stdout",
     "output_type": "stream",
     "text": [
      "\u001b[32mSaved Visualization to: poop_data/Phylogeny/sepp-tree_new.qzv\u001b[0m\n",
      "\u001b[0m"
     ]
    }
   ],
   "source": [
    "! qiime empress tree-plot \\\n",
    "    --i-tree $data_dir/Phylogeny/sepp-tree_new.qza \\\n",
    "    --m-feature-metadata-file $data_dir/Taxonomy/taxonomy_new.qza \\\n",
    "    --o-visualization $data_dir/Phylogeny/sepp-tree_new.qzv"
   ]
  },
  {
   "cell_type": "code",
   "execution_count": 10,
   "id": "9da61a92-7495-46b7-b2c3-31528cc9a893",
   "metadata": {},
   "outputs": [
    {
     "data": {
      "text/html": [
       "<div><img onload=\"(function(div, url){\n",
       "if (typeof require !== 'undefined') {\n",
       "    var baseURL = require.toUrl('').split('/').slice(0, -2).join('/');\n",
       "} else {\n",
       "    var baseURL = JSON.parse(\n",
       "        document.getElementById('jupyter-config-data').innerHTML\n",
       "    ).baseUrl.slice(0, -1);\n",
       "}\n",
       "url = baseURL + url;\n",
       "fetch(url).then(function(res) {\n",
       "    if (res.status === 404) {\n",
       "        div.innerHTML = 'Install QIIME 2 Jupyter extension with:<br />' +\n",
       "                        '<code>jupyter serverextension enable --py qiime2' +\n",
       "                        ' --sys-prefix</code><br />then restart your server.' +\n",
       "                        '<br /><br />(Interactive output not available on ' +\n",
       "                        'static notebook viewer services like nbviewer.)';\n",
       "    } else if (res.status === 409) {\n",
       "        div.innerHTML = 'Visualization no longer in scope. Re-run this cell' +\n",
       "                        ' to see the visualization.';\n",
       "    } else if (res.ok) {\n",
       "        url = res.url;\n",
       "        div.innerHTML = '<iframe src=\\'' + url + '\\' style=\\'' +\n",
       "                        'width: 100%; height: 700px; border: 0;\\'>' +\n",
       "                        '</iframe><hr />Open in a: <a href=\\'' + url + '\\'' +\n",
       "                        ' target=\\'_blank\\'>new window</a>'\n",
       "    } else {\n",
       "        div.innerHTML = 'Something has gone wrong. Check notebook server for' +\n",
       "                        ' errors.';\n",
       "    }\n",
       "});\n",
       "})(this.parentElement, '/qiime2/redirect?location=/tmp/qiime2-archive-8ee7lkkn')\" src=\"data:image/gif;base64,R0lGODlhAQABAIAAAP///wAAACH5BAEAAAAALAAAAAABAAEAAAICRAEAOw==\" /></div>"
      ],
      "text/plain": [
       "<visualization: Visualization uuid: 0124ceb5-feca-4449-87da-8aaaae2503c9>"
      ]
     },
     "execution_count": 10,
     "metadata": {},
     "output_type": "execute_result"
    }
   ],
   "source": [
    "Visualization.load(f'{data_dir}/Phylogeny/sepp-tree_new.qzv')"
   ]
  },
  {
   "cell_type": "code",
   "execution_count": null,
   "id": "eae33b1b-d518-4632-a979-0f62f8d5d337",
   "metadata": {},
   "outputs": [],
   "source": []
  },
  {
   "cell_type": "code",
   "execution_count": null,
   "id": "def7deba-81bd-4c41-aa32-06c14c632171",
   "metadata": {},
   "outputs": [],
   "source": []
  },
  {
   "cell_type": "code",
   "execution_count": null,
   "id": "413a153d-9987-44b5-a202-fd5d143ec893",
   "metadata": {},
   "outputs": [],
   "source": []
  }
 ],
 "metadata": {
  "kernelspec": {
   "display_name": "Python 3 (ipykernel)",
   "language": "python",
   "name": "python3"
  },
  "language_info": {
   "codemirror_mode": {
    "name": "ipython",
    "version": 3
   },
   "file_extension": ".py",
   "mimetype": "text/x-python",
   "name": "python",
   "nbconvert_exporter": "python",
   "pygments_lexer": "ipython3",
   "version": "3.8.13"
  }
 },
 "nbformat": 4,
 "nbformat_minor": 5
}
