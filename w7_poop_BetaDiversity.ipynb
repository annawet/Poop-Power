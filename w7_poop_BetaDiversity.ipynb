{
 "cells": [
  {
   "cell_type": "markdown",
   "id": "6f2e1c4c-c807-4bbc-a0c8-d83639244612",
   "metadata": {},
   "source": [
    "# Poop Power: Beta Diversity Analysis, Rarefaction and Significance Tests"
   ]
  },
  {
   "cell_type": "code",
   "execution_count": 1,
   "id": "269b56dc-8b2b-4efd-9909-dd325a0c073a",
   "metadata": {},
   "outputs": [],
   "source": [
    "# importing all required packages & notebook extensions at the start of the notebook\n",
    "import os\n",
    "import pandas as pd\n",
    "import qiime2 as q2\n",
    "import seaborn as sns\n",
    "import matplotlib.pyplot as plt\n",
    "from skbio import OrdinationResults\n",
    "from qiime2 import Visualization\n",
    "from seaborn import scatterplot\n",
    "\n",
    "%matplotlib inline"
   ]
  },
  {
   "cell_type": "code",
   "execution_count": 2,
   "id": "a97ddd10-3d03-471a-81e8-ee4e158e1b4d",
   "metadata": {},
   "outputs": [],
   "source": [
    "data_dir = 'poop_data/BetaDiversity'\n",
    "div_dir = 'poop_data/Diversity'\n",
    "phy_dir = 'poop_data/Phylogeny'\n",
    "tox_dir = 'poop_data/Taxonomy'\n",
    "base_dir = 'poop_data'"
   ]
  },
  {
   "cell_type": "markdown",
   "id": "82cb4adf-6894-4583-b00b-68b1e8e1dfc1",
   "metadata": {},
   "source": [
    "## 1. Metadata\n",
    "\n"
   ]
  },
  {
   "cell_type": "code",
   "execution_count": 3,
   "id": "c4bd4a3d-25a8-408d-b53b-3769ebb293cb",
   "metadata": {},
   "outputs": [
    {
     "data": {
      "text/plain": [
       "459"
      ]
     },
     "execution_count": 3,
     "metadata": {},
     "output_type": "execute_result"
    }
   ],
   "source": [
    "#get metadata as a dataframe\n",
    "df_metadata = pd.read_csv('poop_data/metadata.tsv', sep = '\\t')\n",
    "#set sampleid as index\n",
    "df_metadata.set_index('sampleid', inplace = True)\n",
    "metadata_col = list(df_metadata.columns)\n",
    "#excluding NaN-values\n",
    "#df_metadata.isna().sum()\n",
    "df_metadata = df_metadata.dropna()\n",
    "len(df_metadata)"
   ]
  },
  {
   "cell_type": "code",
   "execution_count": 82,
   "id": "aa429990-593b-464c-9dd2-44e105ef5c0c",
   "metadata": {},
   "outputs": [
    {
     "data": {
      "text/plain": [
       "64"
      ]
     },
     "execution_count": 82,
     "metadata": {},
     "output_type": "execute_result"
    }
   ],
   "source": [
    "#len(original metadata) minus len(metadata without lines with missing values)\n",
    "523-459"
   ]
  },
  {
   "cell_type": "code",
   "execution_count": 4,
   "id": "7f312649-f6f7-4fc2-94e1-9ff0ea477a28",
   "metadata": {},
   "outputs": [
    {
     "data": {
      "text/plain": [
       "GEN_age_cat                       8\n",
       "GEN_age_corrected                71\n",
       "GEN_bmi_cat                       4\n",
       "GEN_bmi_corrected               343\n",
       "GEN_cat                           2\n",
       "GEN_collection_timestamp        446\n",
       "GEN_country                      10\n",
       "GEN_dog                           2\n",
       "GEN_elevation                   335\n",
       "GEN_geo_loc_name                 52\n",
       "GEN_height_cm                    53\n",
       "GEN_host_common_name              1\n",
       "GEN_last_move                     6\n",
       "GEN_last_travel                   6\n",
       "GEN_latitude                    147\n",
       "GEN_level_of_education            8\n",
       "GEN_longitude                   167\n",
       "GEN_race                          6\n",
       "GEN_sample_type                   1\n",
       "GEN_sex                           4\n",
       "GEN_weight_kg                    80\n",
       "HEA_acid_reflux                   2\n",
       "HEA_add_adhd                      2\n",
       "HEA_allergic_to_peanuts           2\n",
       "HEA_antibiotic_history            6\n",
       "HEA_appendix_removed              2\n",
       "HEA_autoimmune                    2\n",
       "HEA_bowel_movement_frequency      7\n",
       "HEA_bowel_movement_quality        5\n",
       "HEA_cancer                        2\n",
       "HEA_cancer_treatment              5\n",
       "HEA_cardiovascular_disease        2\n",
       "HEA_cdiff                         2\n",
       "HEA_chickenpox                    2\n",
       "HEA_contraceptive                 5\n",
       "HEA_csection                      2\n",
       "HEA_diabetes                      2\n",
       "HEA_exercise_frequency            6\n",
       "HEA_ibd                           2\n",
       "HEA_ibs                           2\n",
       "HEA_liver_disease                 2\n",
       "HEA_lung_disease                  2\n",
       "HEA_mental_illness                2\n",
       "HEA_migraine                      2\n",
       "HEA_seasonal_allergies            2\n",
       "HEA_sibo                          2\n",
       "HEA_skin_condition                2\n",
       "HEA_sleep_duration                6\n",
       "HEA_smoking_frequency             6\n",
       "HEA_thyroid                       2\n",
       "HEA_weight_change                 4\n",
       "dtype: int64"
      ]
     },
     "execution_count": 4,
     "metadata": {},
     "output_type": "execute_result"
    }
   ],
   "source": [
    "df_metadata.nunique()"
   ]
  },
  {
   "cell_type": "code",
   "execution_count": 5,
   "id": "d1c0236d-6a6f-4a07-9cd5-50b272ed5ff7",
   "metadata": {},
   "outputs": [],
   "source": [
    "#list of columns with a) more than one value & b) categorical (you can only do the PERMANOVA with those ones) & c) the ones \n",
    "#which give an error during permanova\n",
    "metadata_col_cat = ['GEN_age_cat', 'GEN_bmi_cat', 'GEN_cat',\n",
    " 'GEN_dog', 'GEN_last_move', 'GEN_last_travel', 'GEN_level_of_education', 'GEN_race', 'GEN_sex',  \n",
    " 'HEA_acid_reflux', 'HEA_add_adhd', 'HEA_allergic_to_peanuts', 'HEA_antibiotic_history', 'HEA_appendix_removed', \n",
    " 'HEA_autoimmune', 'HEA_bowel_movement_frequency', 'HEA_bowel_movement_quality', 'HEA_cancer', 'HEA_cancer_treatment', \n",
    " 'HEA_cardiovascular_disease', 'HEA_cdiff', 'HEA_chickenpox', 'HEA_csection', 'HEA_diabetes', \n",
    " 'HEA_exercise_frequency', 'HEA_ibd', 'HEA_ibs', 'HEA_liver_disease', 'HEA_lung_disease', 'HEA_mental_illness', \n",
    " 'HEA_migraine', 'HEA_seasonal_allergies', 'HEA_sibo', 'HEA_skin_condition', 'HEA_sleep_duration', 'HEA_smoking_frequency', \n",
    " 'HEA_thyroid', 'HEA_weight_change']"
   ]
  },
  {
   "cell_type": "markdown",
   "id": "b3b34589-67a7-4856-90f7-e97e97ab32e5",
   "metadata": {},
   "source": [
    "## 2. Beta Diversity\n",
    "### Principal Coordinates Plots PCoA\n",
    "#### a) unweighted_unifrac_emperor"
   ]
  },
  {
   "cell_type": "code",
   "execution_count": 6,
   "id": "47e7574d-22f4-4f82-84f0-0f87207f5375",
   "metadata": {},
   "outputs": [
    {
     "data": {
      "text/html": [
       "<div><img onload=\"(function(div, url){\n",
       "if (typeof require !== 'undefined') {\n",
       "    var baseURL = require.toUrl('').split('/').slice(0, -2).join('/');\n",
       "} else {\n",
       "    var baseURL = JSON.parse(\n",
       "        document.getElementById('jupyter-config-data').innerHTML\n",
       "    ).baseUrl.slice(0, -1);\n",
       "}\n",
       "url = baseURL + url;\n",
       "fetch(url).then(function(res) {\n",
       "    if (res.status === 404) {\n",
       "        div.innerHTML = 'Install QIIME 2 Jupyter extension with:<br />' +\n",
       "                        '<code>jupyter serverextension enable --py qiime2' +\n",
       "                        ' --sys-prefix</code><br />then restart your server.' +\n",
       "                        '<br /><br />(Interactive output not available on ' +\n",
       "                        'static notebook viewer services like nbviewer.)';\n",
       "    } else if (res.status === 409) {\n",
       "        div.innerHTML = 'Visualization no longer in scope. Re-run this cell' +\n",
       "                        ' to see the visualization.';\n",
       "    } else if (res.ok) {\n",
       "        url = res.url;\n",
       "        div.innerHTML = '<iframe src=\\'' + url + '\\' style=\\'' +\n",
       "                        'width: 100%; height: 700px; border: 0;\\'>' +\n",
       "                        '</iframe><hr />Open in a: <a href=\\'' + url + '\\'' +\n",
       "                        ' target=\\'_blank\\'>new window</a>'\n",
       "    } else {\n",
       "        div.innerHTML = 'Something has gone wrong. Check notebook server for' +\n",
       "                        ' errors.';\n",
       "    }\n",
       "});\n",
       "})(this.parentElement, '/qiime2/redirect?location=/tmp/qiime2-archive-7vbk1hze')\" src=\"data:image/gif;base64,R0lGODlhAQABAIAAAP///wAAACH5BAEAAAAALAAAAAABAAEAAAICRAEAOw==\" /></div>"
      ],
      "text/plain": [
       "<visualization: Visualization uuid: a933dc03-1407-43fd-84b9-9cb91d0d24e6>"
      ]
     },
     "execution_count": 6,
     "metadata": {},
     "output_type": "execute_result"
    }
   ],
   "source": [
    "Visualization.load(f'{div_dir}/core-metrics-results/unweighted_unifrac_emperor.qzv')"
   ]
  },
  {
   "cell_type": "markdown",
   "id": "911bccac-feb4-488d-a2b9-9fb58f23ea5f",
   "metadata": {},
   "source": [
    "#### b) bray_curtis_emperor"
   ]
  },
  {
   "cell_type": "code",
   "execution_count": 15,
   "id": "5a59c37a-7cfa-443b-b30d-69236be6a4aa",
   "metadata": {},
   "outputs": [
    {
     "data": {
      "text/html": [
       "<div><img onload=\"(function(div, url){\n",
       "if (typeof require !== 'undefined') {\n",
       "    var baseURL = require.toUrl('').split('/').slice(0, -2).join('/');\n",
       "} else {\n",
       "    var baseURL = JSON.parse(\n",
       "        document.getElementById('jupyter-config-data').innerHTML\n",
       "    ).baseUrl.slice(0, -1);\n",
       "}\n",
       "url = baseURL + url;\n",
       "fetch(url).then(function(res) {\n",
       "    if (res.status === 404) {\n",
       "        div.innerHTML = 'Install QIIME 2 Jupyter extension with:<br />' +\n",
       "                        '<code>jupyter serverextension enable --py qiime2' +\n",
       "                        ' --sys-prefix</code><br />then restart your server.' +\n",
       "                        '<br /><br />(Interactive output not available on ' +\n",
       "                        'static notebook viewer services like nbviewer.)';\n",
       "    } else if (res.status === 409) {\n",
       "        div.innerHTML = 'Visualization no longer in scope. Re-run this cell' +\n",
       "                        ' to see the visualization.';\n",
       "    } else if (res.ok) {\n",
       "        url = res.url;\n",
       "        div.innerHTML = '<iframe src=\\'' + url + '\\' style=\\'' +\n",
       "                        'width: 100%; height: 700px; border: 0;\\'>' +\n",
       "                        '</iframe><hr />Open in a: <a href=\\'' + url + '\\'' +\n",
       "                        ' target=\\'_blank\\'>new window</a>'\n",
       "    } else {\n",
       "        div.innerHTML = 'Something has gone wrong. Check notebook server for' +\n",
       "                        ' errors.';\n",
       "    }\n",
       "});\n",
       "})(this.parentElement, '/qiime2/redirect?location=/tmp/qiime2-archive-bovrbbov')\" src=\"data:image/gif;base64,R0lGODlhAQABAIAAAP///wAAACH5BAEAAAAALAAAAAABAAEAAAICRAEAOw==\" /></div>"
      ],
      "text/plain": [
       "<visualization: Visualization uuid: 39adce00-c1d5-43d5-ae3e-b76cf35404c0>"
      ]
     },
     "execution_count": 15,
     "metadata": {},
     "output_type": "execute_result"
    }
   ],
   "source": [
    "Visualization.load(f'{div_dir}/core-metrics-results/bray_curtis_emperor.qzv')"
   ]
  },
  {
   "cell_type": "markdown",
   "id": "5172fa0e-d425-4031-b0a6-23c78e315d99",
   "metadata": {},
   "source": [
    "## 2. PERMANOVA\n",
    "#### Anova Test 1: Are coordinates significantly different from each other with differing column values? looking at one column\n"
   ]
  },
  {
   "cell_type": "code",
   "execution_count": 7,
   "id": "aa30e4b4-279e-472c-962d-b66d87ddb73c",
   "metadata": {},
   "outputs": [
    {
     "name": "stdout",
     "output_type": "stream",
     "text": [
      "\u001b[32mSaved Visualization to: poop_data/BetaDiversity/uw_unifrac-GEN_bmi_cat-significance.qzv\u001b[0m\n",
      "\u001b[0m"
     ]
    }
   ],
   "source": [
    "! qiime diversity beta-group-significance \\\n",
    "    --i-distance-matrix $div_dir/core-metrics-results/unweighted_unifrac_distance_matrix.qza \\\n",
    "    --m-metadata-file $base_dir/metadata.tsv \\\n",
    "    --m-metadata-column  GEN_bmi_cat \\\n",
    "    --p-pairwise \\\n",
    "    --o-visualization $data_dir/uw_unifrac-GEN_bmi_cat-significance.qzv"
   ]
  },
  {
   "cell_type": "code",
   "execution_count": null,
   "id": "03d6c0c3-3d88-405e-bd97-7b4cdb044a4f",
   "metadata": {},
   "outputs": [],
   "source": []
  },
  {
   "cell_type": "code",
   "execution_count": 19,
   "id": "2e41ae4b-7656-4c13-8b79-5c9c449fd8c0",
   "metadata": {},
   "outputs": [
    {
     "name": "stdout",
     "output_type": "stream",
     "text": [
      "\u001b[32mSaved Visualization to: poop_data/BetaDiversity/uw_unifrac-GEN_age_cat-significance.qzv\u001b[0m\n",
      "\u001b[0m\u001b[32mSaved Visualization to: poop_data/BetaDiversity/uw_unifrac-GEN_bmi_cat-significance.qzv\u001b[0m\n",
      "\u001b[0m\u001b[32mSaved Visualization to: poop_data/BetaDiversity/uw_unifrac-GEN_cat-significance.qzv\u001b[0m\n",
      "\u001b[0m\u001b[31m\u001b[1mPlugin error from diversity:\n",
      "\n",
      "  All values in the grouping vector are unique. This method cannot operate on a grouping vector with only unique values (e.g., there are no 'within' distances because each group of objects contains only a single object).\n",
      "\n",
      "Debug info has been saved to /tmp/qiime2-q2cli-err-n5i8dgrp.log\u001b[0m\n",
      "\u001b[0m\u001b[32mSaved Visualization to: poop_data/BetaDiversity/uw_unifrac-GEN_dog-significance.qzv\u001b[0m\n",
      "\u001b[0m\u001b[31m\u001b[1mPlugin error from diversity:\n",
      "\n",
      "  All values in the grouping vector are unique. This method cannot operate on a grouping vector with only unique values (e.g., there are no 'within' distances because each group of objects contains only a single object).\n",
      "\n",
      "Debug info has been saved to /tmp/qiime2-q2cli-err-rad_o_d5.log\u001b[0m\n",
      "\u001b[0m\u001b[32mSaved Visualization to: poop_data/BetaDiversity/uw_unifrac-GEN_last_move-significance.qzv\u001b[0m\n",
      "\u001b[0m\u001b[32mSaved Visualization to: poop_data/BetaDiversity/uw_unifrac-GEN_last_travel-significance.qzv\u001b[0m\n",
      "\u001b[0m\u001b[32mSaved Visualization to: poop_data/BetaDiversity/uw_unifrac-GEN_level_of_education-significance.qzv\u001b[0m\n",
      "\u001b[0m\u001b[32mSaved Visualization to: poop_data/BetaDiversity/uw_unifrac-GEN_race-significance.qzv\u001b[0m\n",
      "\u001b[0m\u001b[32mSaved Visualization to: poop_data/BetaDiversity/uw_unifrac-GEN_sex-significance.qzv\u001b[0m\n",
      "\u001b[0m\u001b[32mSaved Visualization to: poop_data/BetaDiversity/uw_unifrac-HEA_acid_reflux-significance.qzv\u001b[0m\n",
      "\u001b[0m\u001b[32mSaved Visualization to: poop_data/BetaDiversity/uw_unifrac-HEA_add_adhd-significance.qzv\u001b[0m\n",
      "\u001b[0m\u001b[32mSaved Visualization to: poop_data/BetaDiversity/uw_unifrac-HEA_allergic_to_peanuts-significance.qzv\u001b[0m\n",
      "\u001b[0m\u001b[32mSaved Visualization to: poop_data/BetaDiversity/uw_unifrac-HEA_antibiotic_history-significance.qzv\u001b[0m\n",
      "\u001b[0m\u001b[32mSaved Visualization to: poop_data/BetaDiversity/uw_unifrac-HEA_appendix_removed-significance.qzv\u001b[0m\n",
      "\u001b[0m\u001b[32mSaved Visualization to: poop_data/BetaDiversity/uw_unifrac-HEA_autoimmune-significance.qzv\u001b[0m\n",
      "\u001b[0m\u001b[32mSaved Visualization to: poop_data/BetaDiversity/uw_unifrac-HEA_bowel_movement_frequency-significance.qzv\u001b[0m\n",
      "\u001b[0m\u001b[32mSaved Visualization to: poop_data/BetaDiversity/uw_unifrac-HEA_bowel_movement_quality-significance.qzv\u001b[0m\n",
      "\u001b[0m\u001b[32mSaved Visualization to: poop_data/BetaDiversity/uw_unifrac-HEA_cancer-significance.qzv\u001b[0m\n",
      "\u001b[0m\u001b[32mSaved Visualization to: poop_data/BetaDiversity/uw_unifrac-HEA_cancer_treatment-significance.qzv\u001b[0m\n",
      "\u001b[0m\u001b[32mSaved Visualization to: poop_data/BetaDiversity/uw_unifrac-HEA_cardiovascular_disease-significance.qzv\u001b[0m\n",
      "\u001b[0m\u001b[32mSaved Visualization to: poop_data/BetaDiversity/uw_unifrac-HEA_cdiff-significance.qzv\u001b[0m\n",
      "\u001b[0m\u001b[32mSaved Visualization to: poop_data/BetaDiversity/uw_unifrac-HEA_chickenpox-significance.qzv\u001b[0m\n",
      "\u001b[0m\u001b[31m\u001b[1mPlugin error from diversity:\n",
      "\n",
      "  All values in the grouping vector are unique. This method cannot operate on a grouping vector with only unique values (e.g., there are no 'within' distances because each group of objects contains only a single object).\n",
      "\n",
      "Debug info has been saved to /tmp/qiime2-q2cli-err-7fte5o73.log\u001b[0m\n",
      "\u001b[0m\u001b[32mSaved Visualization to: poop_data/BetaDiversity/uw_unifrac-HEA_csection-significance.qzv\u001b[0m\n",
      "\u001b[0m\u001b[32mSaved Visualization to: poop_data/BetaDiversity/uw_unifrac-HEA_diabetes-significance.qzv\u001b[0m\n",
      "\u001b[0m\u001b[32mSaved Visualization to: poop_data/BetaDiversity/uw_unifrac-HEA_exercise_frequency-significance.qzv\u001b[0m\n",
      "\u001b[0m\u001b[32mSaved Visualization to: poop_data/BetaDiversity/uw_unifrac-HEA_ibd-significance.qzv\u001b[0m\n",
      "\u001b[0m\u001b[32mSaved Visualization to: poop_data/BetaDiversity/uw_unifrac-HEA_ibs-significance.qzv\u001b[0m\n",
      "\u001b[0m\u001b[32mSaved Visualization to: poop_data/BetaDiversity/uw_unifrac-HEA_liver_disease-significance.qzv\u001b[0m\n",
      "\u001b[0m\u001b[32mSaved Visualization to: poop_data/BetaDiversity/uw_unifrac-HEA_lung_disease-significance.qzv\u001b[0m\n",
      "\u001b[0m\u001b[32mSaved Visualization to: poop_data/BetaDiversity/uw_unifrac-HEA_mental_illness-significance.qzv\u001b[0m\n",
      "\u001b[0m\u001b[32mSaved Visualization to: poop_data/BetaDiversity/uw_unifrac-HEA_migraine-significance.qzv\u001b[0m\n",
      "\u001b[0m\u001b[32mSaved Visualization to: poop_data/BetaDiversity/uw_unifrac-HEA_seasonal_allergies-significance.qzv\u001b[0m\n",
      "\u001b[0m\u001b[32mSaved Visualization to: poop_data/BetaDiversity/uw_unifrac-HEA_sibo-significance.qzv\u001b[0m\n",
      "\u001b[0m\u001b[32mSaved Visualization to: poop_data/BetaDiversity/uw_unifrac-HEA_skin_condition-significance.qzv\u001b[0m\n",
      "\u001b[0m\u001b[32mSaved Visualization to: poop_data/BetaDiversity/uw_unifrac-HEA_sleep_duration-significance.qzv\u001b[0m\n",
      "\u001b[0m\u001b[32mSaved Visualization to: poop_data/BetaDiversity/uw_unifrac-HEA_smoking_frequency-significance.qzv\u001b[0m\n",
      "\u001b[0m\u001b[32mSaved Visualization to: poop_data/BetaDiversity/uw_unifrac-HEA_thyroid-significance.qzv\u001b[0m\n",
      "\u001b[0m\u001b[32mSaved Visualization to: poop_data/BetaDiversity/uw_unifrac-HEA_weight_change-significance.qzv\u001b[0m\n",
      "\u001b[0m"
     ]
    }
   ],
   "source": [
    "for column in metadata_col_cat:\n",
    "    ! qiime diversity beta-group-significance \\\n",
    "        --i-distance-matrix $div_dir/core-metrics-results/unweighted_unifrac_distance_matrix.qza \\\n",
    "        --m-metadata-file $base_dir/metadata.tsv \\\n",
    "        --m-metadata-column  $column \\\n",
    "        --p-pairwise \\\n",
    "        --o-visualization $data_dir/uw_unifrac-$column-significance.qzv"
   ]
  },
  {
   "cell_type": "code",
   "execution_count": 7,
   "id": "84046518-825d-42f4-8425-5424e770c649",
   "metadata": {},
   "outputs": [
    {
     "data": {
      "text/html": [
       "<div><img onload=\"(function(div, url){\n",
       "if (typeof require !== 'undefined') {\n",
       "    var baseURL = require.toUrl('').split('/').slice(0, -2).join('/');\n",
       "} else {\n",
       "    var baseURL = JSON.parse(\n",
       "        document.getElementById('jupyter-config-data').innerHTML\n",
       "    ).baseUrl.slice(0, -1);\n",
       "}\n",
       "url = baseURL + url;\n",
       "fetch(url).then(function(res) {\n",
       "    if (res.status === 404) {\n",
       "        div.innerHTML = 'Install QIIME 2 Jupyter extension with:<br />' +\n",
       "                        '<code>jupyter serverextension enable --py qiime2' +\n",
       "                        ' --sys-prefix</code><br />then restart your server.' +\n",
       "                        '<br /><br />(Interactive output not available on ' +\n",
       "                        'static notebook viewer services like nbviewer.)';\n",
       "    } else if (res.status === 409) {\n",
       "        div.innerHTML = 'Visualization no longer in scope. Re-run this cell' +\n",
       "                        ' to see the visualization.';\n",
       "    } else if (res.ok) {\n",
       "        url = res.url;\n",
       "        div.innerHTML = '<iframe src=\\'' + url + '\\' style=\\'' +\n",
       "                        'width: 100%; height: 700px; border: 0;\\'>' +\n",
       "                        '</iframe><hr />Open in a: <a href=\\'' + url + '\\'' +\n",
       "                        ' target=\\'_blank\\'>new window</a>'\n",
       "    } else {\n",
       "        div.innerHTML = 'Something has gone wrong. Check notebook server for' +\n",
       "                        ' errors.';\n",
       "    }\n",
       "});\n",
       "})(this.parentElement, '/qiime2/redirect?location=/tmp/qiime2-archive-r4s9fsf2')\" src=\"data:image/gif;base64,R0lGODlhAQABAIAAAP///wAAACH5BAEAAAAALAAAAAABAAEAAAICRAEAOw==\" /></div>"
      ],
      "text/plain": [
       "<visualization: Visualization uuid: fbd132cc-808f-4643-b2d7-20e0f550ef59>"
      ]
     },
     "execution_count": 7,
     "metadata": {},
     "output_type": "execute_result"
    }
   ],
   "source": [
    "Visualization.load(f'{data_dir}/uw_unifrac-GEN_bmi_cat-significance.qzv')"
   ]
  },
  {
   "cell_type": "code",
   "execution_count": 24,
   "id": "f1303b8f-025d-42bf-a9e3-327639d315e8",
   "metadata": {},
   "outputs": [],
   "source": [
    "###This does not work. how could it work ? \n",
    "for column in metadata_col_cat:\n",
    "    Visualization.load(f'{data_dir}/uw_unifrac-{column}-significance.qzv')\n",
    "    "
   ]
  },
  {
   "cell_type": "code",
   "execution_count": 8,
   "id": "6efbf84a-28cd-48ae-b554-31c081606592",
   "metadata": {},
   "outputs": [
    {
     "data": {
      "text/html": [
       "<div><img onload=\"(function(div, url){\n",
       "if (typeof require !== 'undefined') {\n",
       "    var baseURL = require.toUrl('').split('/').slice(0, -2).join('/');\n",
       "} else {\n",
       "    var baseURL = JSON.parse(\n",
       "        document.getElementById('jupyter-config-data').innerHTML\n",
       "    ).baseUrl.slice(0, -1);\n",
       "}\n",
       "url = baseURL + url;\n",
       "fetch(url).then(function(res) {\n",
       "    if (res.status === 404) {\n",
       "        div.innerHTML = 'Install QIIME 2 Jupyter extension with:<br />' +\n",
       "                        '<code>jupyter serverextension enable --py qiime2' +\n",
       "                        ' --sys-prefix</code><br />then restart your server.' +\n",
       "                        '<br /><br />(Interactive output not available on ' +\n",
       "                        'static notebook viewer services like nbviewer.)';\n",
       "    } else if (res.status === 409) {\n",
       "        div.innerHTML = 'Visualization no longer in scope. Re-run this cell' +\n",
       "                        ' to see the visualization.';\n",
       "    } else if (res.ok) {\n",
       "        url = res.url;\n",
       "        div.innerHTML = '<iframe src=\\'' + url + '\\' style=\\'' +\n",
       "                        'width: 100%; height: 700px; border: 0;\\'>' +\n",
       "                        '</iframe><hr />Open in a: <a href=\\'' + url + '\\'' +\n",
       "                        ' target=\\'_blank\\'>new window</a>'\n",
       "    } else {\n",
       "        div.innerHTML = 'Something has gone wrong. Check notebook server for' +\n",
       "                        ' errors.';\n",
       "    }\n",
       "});\n",
       "})(this.parentElement, '/qiime2/redirect?location=/tmp/qiime2-archive-cqysbv9b')\" src=\"data:image/gif;base64,R0lGODlhAQABAIAAAP///wAAACH5BAEAAAAALAAAAAABAAEAAAICRAEAOw==\" /></div>"
      ],
      "text/plain": [
       "<visualization: Visualization uuid: 11fb6378-fb74-4ee2-a2d8-baff2cd43f4a>"
      ]
     },
     "execution_count": 8,
     "metadata": {},
     "output_type": "execute_result"
    }
   ],
   "source": [
    "Visualization.load(f'{data_dir}/uw_unifrac-HEA_acid_reflux-significance.qzv')"
   ]
  },
  {
   "cell_type": "code",
   "execution_count": 9,
   "id": "de7db82a-f3bb-4a30-bf08-43c4ff3638e7",
   "metadata": {},
   "outputs": [
    {
     "data": {
      "text/html": [
       "<div><img onload=\"(function(div, url){\n",
       "if (typeof require !== 'undefined') {\n",
       "    var baseURL = require.toUrl('').split('/').slice(0, -2).join('/');\n",
       "} else {\n",
       "    var baseURL = JSON.parse(\n",
       "        document.getElementById('jupyter-config-data').innerHTML\n",
       "    ).baseUrl.slice(0, -1);\n",
       "}\n",
       "url = baseURL + url;\n",
       "fetch(url).then(function(res) {\n",
       "    if (res.status === 404) {\n",
       "        div.innerHTML = 'Install QIIME 2 Jupyter extension with:<br />' +\n",
       "                        '<code>jupyter serverextension enable --py qiime2' +\n",
       "                        ' --sys-prefix</code><br />then restart your server.' +\n",
       "                        '<br /><br />(Interactive output not available on ' +\n",
       "                        'static notebook viewer services like nbviewer.)';\n",
       "    } else if (res.status === 409) {\n",
       "        div.innerHTML = 'Visualization no longer in scope. Re-run this cell' +\n",
       "                        ' to see the visualization.';\n",
       "    } else if (res.ok) {\n",
       "        url = res.url;\n",
       "        div.innerHTML = '<iframe src=\\'' + url + '\\' style=\\'' +\n",
       "                        'width: 100%; height: 700px; border: 0;\\'>' +\n",
       "                        '</iframe><hr />Open in a: <a href=\\'' + url + '\\'' +\n",
       "                        ' target=\\'_blank\\'>new window</a>'\n",
       "    } else {\n",
       "        div.innerHTML = 'Something has gone wrong. Check notebook server for' +\n",
       "                        ' errors.';\n",
       "    }\n",
       "});\n",
       "})(this.parentElement, '/qiime2/redirect?location=/tmp/qiime2-archive-7upze23q')\" src=\"data:image/gif;base64,R0lGODlhAQABAIAAAP///wAAACH5BAEAAAAALAAAAAABAAEAAAICRAEAOw==\" /></div>"
      ],
      "text/plain": [
       "<visualization: Visualization uuid: 6efa6200-969f-4d13-ac8e-ea8b02b8690a>"
      ]
     },
     "execution_count": 9,
     "metadata": {},
     "output_type": "execute_result"
    }
   ],
   "source": [
    "Visualization.load(f'{data_dir}/uw_unifrac-HEA_ibd-significance.qzv')"
   ]
  },
  {
   "cell_type": "markdown",
   "id": "3bbf1961-017f-4b91-a869-a7420ce4d899",
   "metadata": {},
   "source": [
    "#### Anova Test 2: "
   ]
  },
  {
   "cell_type": "code",
   "execution_count": 47,
   "id": "a774fde1-4e55-415d-98cb-52271e9b5bb5",
   "metadata": {},
   "outputs": [
    {
     "name": "stdout",
     "output_type": "stream",
     "text": [
      "GEN_age_cat+GEN_age_corrected+GEN_bmi_cat+GEN_bmi_corrected+GEN_cat+GEN_collection_timestamp+GEN_country+GEN_dog+GEN_elevation+GEN_geo_loc_name+GEN_height_cm+GEN_host_common_name+GEN_last_move+GEN_last_travel+GEN_latitude+GEN_level_of_education+GEN_longitude+GEN_race+GEN_sample_type+GEN_sex+GEN_weight_kg+HEA_acid_reflux+HEA_add_adhd+HEA_allergic_to_peanuts+HEA_antibiotic_history+HEA_appendix_removed+HEA_autoimmune+HEA_bowel_movement_frequency+HEA_bowel_movement_quality+HEA_cancer+HEA_cancer_treatment+HEA_cardiovascular_disease+HEA_cdiff+HEA_chickenpox+HEA_contraceptive+HEA_csection+HEA_diabetes+HEA_exercise_frequency+HEA_ibd+HEA_ibs+HEA_liver_disease+HEA_lung_disease+HEA_mental_illness+HEA_migraine+HEA_seasonal_allergies+HEA_sibo+HEA_skin_condition+HEA_sleep_duration+HEA_smoking_frequency+HEA_thyroid+HEA_weight_change\n"
     ]
    }
   ],
   "source": [
    "#create an input for adonis-anova-test; listing all column titles of metadata\n",
    "\n",
    "columns = \"\"\n",
    "for column in metadata_col:\n",
    "    if column == \"HEA_weight_change\":\n",
    "        columns = columns + column\n",
    "    else:\n",
    "        columns = columns + column + \"+\"\n",
    "print(columns)"
   ]
  },
  {
   "cell_type": "code",
   "execution_count": 76,
   "id": "2da524ed-e991-4b6b-aa82-4d52f51ebfa6",
   "metadata": {},
   "outputs": [
    {
     "data": {
      "text/html": [
       "<div>\n",
       "<style scoped>\n",
       "    .dataframe tbody tr th:only-of-type {\n",
       "        vertical-align: middle;\n",
       "    }\n",
       "\n",
       "    .dataframe tbody tr th {\n",
       "        vertical-align: top;\n",
       "    }\n",
       "\n",
       "    .dataframe thead th {\n",
       "        text-align: right;\n",
       "    }\n",
       "</style>\n",
       "<table border=\"1\" class=\"dataframe\">\n",
       "  <thead>\n",
       "    <tr style=\"text-align: right;\">\n",
       "      <th></th>\n",
       "      <th>sampleid</th>\n",
       "      <th>GEN_age_cat</th>\n",
       "      <th>GEN_age_corrected</th>\n",
       "      <th>GEN_bmi_cat</th>\n",
       "      <th>GEN_bmi_corrected</th>\n",
       "      <th>GEN_cat</th>\n",
       "      <th>GEN_collection_timestamp</th>\n",
       "      <th>GEN_country</th>\n",
       "      <th>GEN_dog</th>\n",
       "      <th>GEN_elevation</th>\n",
       "      <th>...</th>\n",
       "      <th>HEA_lung_disease</th>\n",
       "      <th>HEA_mental_illness</th>\n",
       "      <th>HEA_migraine</th>\n",
       "      <th>HEA_seasonal_allergies</th>\n",
       "      <th>HEA_sibo</th>\n",
       "      <th>HEA_skin_condition</th>\n",
       "      <th>HEA_sleep_duration</th>\n",
       "      <th>HEA_smoking_frequency</th>\n",
       "      <th>HEA_thyroid</th>\n",
       "      <th>HEA_weight_change</th>\n",
       "    </tr>\n",
       "  </thead>\n",
       "  <tbody>\n",
       "    <tr>\n",
       "      <th>0</th>\n",
       "      <td>10317.000046</td>\n",
       "      <td>20s</td>\n",
       "      <td>20.0</td>\n",
       "      <td>Normal</td>\n",
       "      <td>23.75</td>\n",
       "      <td>False</td>\n",
       "      <td>2016-08-25 18:30:00</td>\n",
       "      <td>USA</td>\n",
       "      <td>True</td>\n",
       "      <td>1919.3</td>\n",
       "      <td>...</td>\n",
       "      <td>False</td>\n",
       "      <td>False</td>\n",
       "      <td>False</td>\n",
       "      <td>True</td>\n",
       "      <td>False</td>\n",
       "      <td>False</td>\n",
       "      <td>8 or more hours</td>\n",
       "      <td>Never</td>\n",
       "      <td>False</td>\n",
       "      <td>Decreased more than 10 pounds</td>\n",
       "    </tr>\n",
       "    <tr>\n",
       "      <th>1</th>\n",
       "      <td>10317.000038</td>\n",
       "      <td>30s</td>\n",
       "      <td>39.0</td>\n",
       "      <td>Overweight</td>\n",
       "      <td>27.67</td>\n",
       "      <td>False</td>\n",
       "      <td>2016-06-29 09:30:00</td>\n",
       "      <td>United Kingdom</td>\n",
       "      <td>False</td>\n",
       "      <td>44.5</td>\n",
       "      <td>...</td>\n",
       "      <td>False</td>\n",
       "      <td>False</td>\n",
       "      <td>False</td>\n",
       "      <td>False</td>\n",
       "      <td>False</td>\n",
       "      <td>False</td>\n",
       "      <td>7-8 hours</td>\n",
       "      <td>Not provided</td>\n",
       "      <td>False</td>\n",
       "      <td>Remained stable</td>\n",
       "    </tr>\n",
       "    <tr>\n",
       "      <th>2</th>\n",
       "      <td>10317.000047</td>\n",
       "      <td>50s</td>\n",
       "      <td>56.0</td>\n",
       "      <td>Normal</td>\n",
       "      <td>19.71</td>\n",
       "      <td>False</td>\n",
       "      <td>2016-07-12 17:30:00</td>\n",
       "      <td>Germany</td>\n",
       "      <td>False</td>\n",
       "      <td>8.7</td>\n",
       "      <td>...</td>\n",
       "      <td>False</td>\n",
       "      <td>False</td>\n",
       "      <td>True</td>\n",
       "      <td>False</td>\n",
       "      <td>False</td>\n",
       "      <td>True</td>\n",
       "      <td>6-7 hours</td>\n",
       "      <td>Never</td>\n",
       "      <td>True</td>\n",
       "      <td>Decreased more than 10 pounds</td>\n",
       "    </tr>\n",
       "    <tr>\n",
       "      <th>3</th>\n",
       "      <td>10317.000046</td>\n",
       "      <td>40s</td>\n",
       "      <td>45.0</td>\n",
       "      <td>Normal</td>\n",
       "      <td>23.15</td>\n",
       "      <td>False</td>\n",
       "      <td>2016-05-24 19:00:00</td>\n",
       "      <td>United Kingdom</td>\n",
       "      <td>True</td>\n",
       "      <td>68.8</td>\n",
       "      <td>...</td>\n",
       "      <td>False</td>\n",
       "      <td>False</td>\n",
       "      <td>False</td>\n",
       "      <td>True</td>\n",
       "      <td>False</td>\n",
       "      <td>True</td>\n",
       "      <td>6-7 hours</td>\n",
       "      <td>Never</td>\n",
       "      <td>False</td>\n",
       "      <td>Remained stable</td>\n",
       "    </tr>\n",
       "    <tr>\n",
       "      <th>4</th>\n",
       "      <td>10317.000046</td>\n",
       "      <td>40s</td>\n",
       "      <td>46.0</td>\n",
       "      <td>Overweight</td>\n",
       "      <td>27.46</td>\n",
       "      <td>False</td>\n",
       "      <td>2016-07-07 08:10:00</td>\n",
       "      <td>United Kingdom</td>\n",
       "      <td>True</td>\n",
       "      <td>119.6</td>\n",
       "      <td>...</td>\n",
       "      <td>False</td>\n",
       "      <td>False</td>\n",
       "      <td>False</td>\n",
       "      <td>False</td>\n",
       "      <td>False</td>\n",
       "      <td>False</td>\n",
       "      <td>6-7 hours</td>\n",
       "      <td>Never</td>\n",
       "      <td>True</td>\n",
       "      <td>Not provided</td>\n",
       "    </tr>\n",
       "  </tbody>\n",
       "</table>\n",
       "<p>5 rows × 52 columns</p>\n",
       "</div>"
      ],
      "text/plain": [
       "       sampleid GEN_age_cat  GEN_age_corrected GEN_bmi_cat  GEN_bmi_corrected  \\\n",
       "0  10317.000046         20s               20.0      Normal              23.75   \n",
       "1  10317.000038         30s               39.0  Overweight              27.67   \n",
       "2  10317.000047         50s               56.0      Normal              19.71   \n",
       "3  10317.000046         40s               45.0      Normal              23.15   \n",
       "4  10317.000046         40s               46.0  Overweight              27.46   \n",
       "\n",
       "   GEN_cat GEN_collection_timestamp     GEN_country  GEN_dog  GEN_elevation  \\\n",
       "0    False      2016-08-25 18:30:00             USA     True         1919.3   \n",
       "1    False      2016-06-29 09:30:00  United Kingdom    False           44.5   \n",
       "2    False      2016-07-12 17:30:00         Germany    False            8.7   \n",
       "3    False      2016-05-24 19:00:00  United Kingdom     True           68.8   \n",
       "4    False      2016-07-07 08:10:00  United Kingdom     True          119.6   \n",
       "\n",
       "   ... HEA_lung_disease  HEA_mental_illness HEA_migraine  \\\n",
       "0  ...            False               False        False   \n",
       "1  ...            False               False        False   \n",
       "2  ...            False               False         True   \n",
       "3  ...            False               False        False   \n",
       "4  ...            False               False        False   \n",
       "\n",
       "  HEA_seasonal_allergies HEA_sibo  HEA_skin_condition HEA_sleep_duration  \\\n",
       "0                   True    False               False    8 or more hours   \n",
       "1                  False    False               False          7-8 hours   \n",
       "2                  False    False                True          6-7 hours   \n",
       "3                   True    False                True          6-7 hours   \n",
       "4                  False    False               False          6-7 hours   \n",
       "\n",
       "   HEA_smoking_frequency HEA_thyroid              HEA_weight_change  \n",
       "0                  Never       False  Decreased more than 10 pounds  \n",
       "1           Not provided       False                Remained stable  \n",
       "2                  Never        True  Decreased more than 10 pounds  \n",
       "3                  Never       False                Remained stable  \n",
       "4                  Never        True                   Not provided  \n",
       "\n",
       "[5 rows x 52 columns]"
      ]
     },
     "execution_count": 76,
     "metadata": {},
     "output_type": "execute_result"
    }
   ],
   "source": [
    "df_metadata.to_csv(f'{data_dir}/metadata_dropna.csv', sep = '\\t')  \n",
    "df_metadata3 = pd.read_csv(f'{data_dir}/metadata_dropna.csv', sep = '\\t')"
   ]
  },
  {
   "cell_type": "code",
   "execution_count": 79,
   "id": "b6fd3a26-1619-43f3-8b21-35ab2ececf86",
   "metadata": {},
   "outputs": [
    {
     "data": {
      "text/plain": [
       "99"
      ]
     },
     "execution_count": 79,
     "metadata": {},
     "output_type": "execute_result"
    }
   ],
   "source": [
    "missing_samples = ['10317.000047381', '10317.000036431', '10317.000053480', '10317.000054310', \n",
    "                   '10317.000047230', '10317.000054330', '10317.000039980', '10317.000030366', \n",
    "                   '10317.000047370', '10317.000031598', '10317.000042660', '10317.000062070', \n",
    "                   '10317.000044340', '10317.000050288', '10317.000047228', '10317.000040490', \n",
    "                   '10317.000046290', '10317.000046305', '10317.000047404', '10317.000051558', \n",
    "                   '10317.000036170', '10317.000037960', '10317.000002930', '10317.000053353', \n",
    "                   '10317.000053458', '10317.000047151', '10317.000051160', '10317.000048326', \n",
    "                   '10317.000048283', '10317.000047140', '10317.000053435', '10317.000033294', \n",
    "                   '10317.000042590', '10317.000052055', '10317.000041592', '10317.000042635', \n",
    "                   '10317.000051560', '10317.000042655', '10317.000053430', '10317.000050273', \n",
    "                   '10317.000047606', '10317.000050240', '10317.000030383', '10317.000027920', \n",
    "                   '10317.000047141', '10317.000028654', '10317.000052260', '10317.000046121',\n",
    "                   '10317.000050156', '10317.000052034', '10317.000054323', '10317.000051258', \n",
    "                   '10317.000044550', '10317.000042969', '10317.000062073', '10317.000038019',\n",
    "                   '10317.000058480', '10317.000046336', '10317.000052280', '10317.000052450', \n",
    "                   '10317.000051561', '10317.000051130', '10317.000041730', '10317.000050294', \n",
    "                   '10317.000052030', '10317.000052380', '10317.000047777', '10317.000048284',\n",
    "                   '10317.000047680', '10317.000030384', '10317.000047610', '10317.000047380', \n",
    "                   '10317.000051210', '10317.000047196', '10317.000050290', '10317.000051100', \n",
    "                   '10317.000047220', '10317.000058550', '10317.000044252', '10317.000053433', \n",
    "                   '10317.000053410', '10317.000054313', '10317.000042865', '10317.000062083', \n",
    "                   '10317.000062076', '10317.000038081', '10317.000051180', '10317.000052448', \n",
    "                   '10317.000047197', '10317.000042845', '10317.000052431', '10317.000030255',\n",
    "                   '10317.000048277', '10317.000032650', '10317.000047620', '10317.000052370', \n",
    "                   '10317.000052432', '10317.000053310', '10317.000046270']\n",
    "len(missing_samples)"
   ]
  },
  {
   "cell_type": "markdown",
   "id": "32cd7ae1-5f8d-477e-aaf4-9630ec3cab25",
   "metadata": {},
   "source": [
    "**This is weird though, as the .dropna() command only deleted 63 lines and not 99. where did some of the other lines got lost?**"
   ]
  },
  {
   "cell_type": "code",
   "execution_count": 77,
   "id": "d3327f2d-9961-4dc7-b3ca-5fdbf5c28344",
   "metadata": {},
   "outputs": [
    {
     "name": "stdout",
     "output_type": "stream",
     "text": [
      "\u001b[31m\u001b[1mPlugin error from diversity:\n",
      "\n",
      "  Missing samples in metadata: {'10317.000047381', '10317.000036431', '10317.000053480', '10317.000054310', '10317.000047230', '10317.000054330', '10317.000039980', '10317.000030366', '10317.000047370', '10317.000031598', '10317.000042660', '10317.000062070', '10317.000044340', '10317.000050288', '10317.000047228', '10317.000040490', '10317.000046290', '10317.000046305', '10317.000047404', '10317.000051558', '10317.000036170', '10317.000037960', '10317.000002930', '10317.000053353', '10317.000053458', '10317.000047151', '10317.000051160', '10317.000048326', '10317.000048283', '10317.000047140', '10317.000053435', '10317.000033294', '10317.000042590', '10317.000052055', '10317.000041592', '10317.000042635', '10317.000051560', '10317.000042655', '10317.000053430', '10317.000050273', '10317.000047606', '10317.000050240', '10317.000030383', '10317.000027920', '10317.000047141', '10317.000028654', '10317.000052260', '10317.000046121', '10317.000050156', '10317.000052034', '10317.000054323', '10317.000051258', '10317.000044550', '10317.000042969', '10317.000062073', '10317.000038019', '10317.000058480', '10317.000046336', '10317.000052280', '10317.000052450', '10317.000051561', '10317.000051130', '10317.000041730', '10317.000050294', '10317.000052030', '10317.000052380', '10317.000047777', '10317.000048284', '10317.000047680', '10317.000030384', '10317.000047610', '10317.000047380', '10317.000051210', '10317.000047196', '10317.000050290', '10317.000051100', '10317.000047220', '10317.000058550', '10317.000044252', '10317.000053433', '10317.000053410', '10317.000054313', '10317.000042865', '10317.000062083', '10317.000062076', '10317.000038081', '10317.000051180', '10317.000052448', '10317.000047197', '10317.000042845', '10317.000052431', '10317.000030255', '10317.000048277', '10317.000032650', '10317.000047620', '10317.000052370', '10317.000052432', '10317.000053310', '10317.000046270'}\n",
      "\n",
      "Debug info has been saved to /tmp/qiime2-q2cli-err-cwkfv9m5.log\u001b[0m\n",
      "\u001b[0m"
     ]
    }
   ],
   "source": [
    "#problem here: it was not happy that there is missing data in the df. I deleted the lines with missing data. \n",
    "#now it is complaining that there are lines missing I guess (and i just had to delete them as they were empty. \n",
    "#how to solve that? replacing NaN values with fake values? this is not really possible for boolean columns I \n",
    "#guess...)\n",
    "! qiime diversity adonis \\\n",
    "    --i-distance-matrix $div_dir/core-metrics-results/unweighted_unifrac_distance_matrix.qza \\\n",
    "    --m-metadata-file $data_dir/metadata_dropna.csv \\\n",
    "    --p-formula $columns \\\n",
    "    --o-visualization $data_dir/uw_unifrac-bmi_cat_dog-significance-adonis.qzv"
   ]
  },
  {
   "cell_type": "code",
   "execution_count": 10,
   "id": "8baf52c8-dbad-41a6-b4da-daf44ccdba6d",
   "metadata": {},
   "outputs": [
    {
     "data": {
      "text/html": [
       "<div><img onload=\"(function(div, url){\n",
       "if (typeof require !== 'undefined') {\n",
       "    var baseURL = require.toUrl('').split('/').slice(0, -2).join('/');\n",
       "} else {\n",
       "    var baseURL = JSON.parse(\n",
       "        document.getElementById('jupyter-config-data').innerHTML\n",
       "    ).baseUrl.slice(0, -1);\n",
       "}\n",
       "url = baseURL + url;\n",
       "fetch(url).then(function(res) {\n",
       "    if (res.status === 404) {\n",
       "        div.innerHTML = 'Install QIIME 2 Jupyter extension with:<br />' +\n",
       "                        '<code>jupyter serverextension enable --py qiime2' +\n",
       "                        ' --sys-prefix</code><br />then restart your server.' +\n",
       "                        '<br /><br />(Interactive output not available on ' +\n",
       "                        'static notebook viewer services like nbviewer.)';\n",
       "    } else if (res.status === 409) {\n",
       "        div.innerHTML = 'Visualization no longer in scope. Re-run this cell' +\n",
       "                        ' to see the visualization.';\n",
       "    } else if (res.ok) {\n",
       "        url = res.url;\n",
       "        div.innerHTML = '<iframe src=\\'' + url + '\\' style=\\'' +\n",
       "                        'width: 100%; height: 700px; border: 0;\\'>' +\n",
       "                        '</iframe><hr />Open in a: <a href=\\'' + url + '\\'' +\n",
       "                        ' target=\\'_blank\\'>new window</a>'\n",
       "    } else {\n",
       "        div.innerHTML = 'Something has gone wrong. Check notebook server for' +\n",
       "                        ' errors.';\n",
       "    }\n",
       "});\n",
       "})(this.parentElement, '/qiime2/redirect?location=/tmp/qiime2-archive-vywjjiqf')\" src=\"data:image/gif;base64,R0lGODlhAQABAIAAAP///wAAACH5BAEAAAAALAAAAAABAAEAAAICRAEAOw==\" /></div>"
      ],
      "text/plain": [
       "<visualization: Visualization uuid: cdccabb2-7d0c-468f-88f4-b200d9659339>"
      ]
     },
     "execution_count": 10,
     "metadata": {},
     "output_type": "execute_result"
    }
   ],
   "source": [
    "Visualization.load(f'{data_dir}/uw_unifrac-bmi_cat_dog-significance-adonis.qzv')"
   ]
  },
  {
   "cell_type": "code",
   "execution_count": null,
   "id": "52e045fb-0007-4bdc-8503-96939b33709a",
   "metadata": {},
   "outputs": [],
   "source": []
  },
  {
   "cell_type": "code",
   "execution_count": 1,
   "id": "a932bee5-ca0b-4412-a6d7-5bec78a2dbdd",
   "metadata": {},
   "outputs": [
    {
     "name": "stdout",
     "output_type": "stream",
     "text": [
      "Usage: \u001b[94mqiime diversity adonis\u001b[0m [OPTIONS]\n",
      "\n",
      "  Determine whether groups of samples are significantly different from one\n",
      "  another using the ADONIS permutation-based statistical test in vegan-R.\n",
      "  The function partitions sums of squares of a multivariate data set, and is\n",
      "  directly analogous to MANOVA (multivariate analysis of variance). This\n",
      "  action differs from beta_group_significance in that it accepts R formulae\n",
      "  to perform multi-way ADONIS tests; beta_group_signficance only performs\n",
      "  one-way tests. For more details, consult the reference manual available on\n",
      "  the CRAN vegan page: https://CRAN.R-project.org/package=vegan\n",
      "\n",
      "\u001b[1mInputs\u001b[0m:\n",
      "  \u001b[94m\u001b[4m--i-distance-matrix\u001b[0m ARTIFACT\n",
      "    \u001b[32mDistanceMatrix\u001b[0m     Matrix of distances between pairs of samples.\n",
      "                                                                    \u001b[35m[required]\u001b[0m\n",
      "\u001b[1mParameters\u001b[0m:\n",
      "  \u001b[94m\u001b[4m--m-metadata-file\u001b[0m METADATA...\n",
      "    (multiple          Sample metadata containing formula terms.\n",
      "     arguments will    \n",
      "     be merged)                                                     \u001b[35m[required]\u001b[0m\n",
      "  \u001b[94m\u001b[4m--p-formula\u001b[0m TEXT     Model formula containing only independent terms\n",
      "                       contained in the sample metadata. These can be\n",
      "                       continuous variables or factors, and they can have\n",
      "                       interactions as in a typical R formula. E.g., the\n",
      "                       formula \"treatment+block\" would test whether the input\n",
      "                       distance matrix partitions based on \"treatment\" and\n",
      "                       \"block\" sample metadata. The formula \"treatment*block\"\n",
      "                       would test both of those effects as well as their\n",
      "                       interaction. Enclose formulae in quotes to avoid\n",
      "                       unpleasant surprises.                        \u001b[35m[required]\u001b[0m\n",
      "  \u001b[94m--p-permutations\u001b[0m INTEGER\n",
      "    \u001b[32mRange(1, None)\u001b[0m     The number of permutations to be run when computing\n",
      "                       p-values.                                \u001b[35m[default: 999]\u001b[0m\n",
      "  \u001b[94m--p-n-jobs\u001b[0m INTEGER   Number of parallel processes to run.\n",
      "    \u001b[32mRange(1, None)\u001b[0m                                                \u001b[35m[default: 1]\u001b[0m\n",
      "\u001b[1mOutputs\u001b[0m:\n",
      "  \u001b[94m\u001b[4m--o-visualization\u001b[0m VISUALIZATION\n",
      "                                                                    \u001b[35m[required]\u001b[0m\n",
      "\u001b[1mMiscellaneous\u001b[0m:\n",
      "  \u001b[94m--output-dir\u001b[0m PATH    Output unspecified results to a directory\n",
      "  \u001b[94m--verbose\u001b[0m / \u001b[94m--quiet\u001b[0m  Display verbose output to stdout and/or stderr during\n",
      "                       execution of this action. Or silence output if\n",
      "                       execution is successful (silence is golden).\n",
      "  \u001b[94m--example-data\u001b[0m PATH  Write example data and exit.\n",
      "  \u001b[94m--citations\u001b[0m          Show citations and exit.\n",
      "  \u001b[94m--help\u001b[0m               Show this message and exit.\n"
     ]
    }
   ],
   "source": [
    "! qiime diversity adonis --help"
   ]
  },
  {
   "cell_type": "code",
   "execution_count": null,
   "id": "875abde5-a4b8-484d-b50a-d9cf465cf319",
   "metadata": {},
   "outputs": [],
   "source": []
  }
 ],
 "metadata": {
  "kernelspec": {
   "display_name": "Python 3 (ipykernel)",
   "language": "python",
   "name": "python3"
  },
  "language_info": {
   "codemirror_mode": {
    "name": "ipython",
    "version": 3
   },
   "file_extension": ".py",
   "mimetype": "text/x-python",
   "name": "python",
   "nbconvert_exporter": "python",
   "pygments_lexer": "ipython3",
   "version": "3.8.13"
  }
 },
 "nbformat": 4,
 "nbformat_minor": 5
}
