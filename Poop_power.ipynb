{
 "cells": [
  {
   "cell_type": "markdown",
   "id": "020e80de-a689-47c9-a40a-bb945a9ecafc",
   "metadata": {},
   "source": [
    "## poop power\n"
   ]
  },
  {
   "cell_type": "code",
   "execution_count": 4,
   "id": "a3d829f6-9ec4-425a-b221-2caca249207a",
   "metadata": {},
   "outputs": [],
   "source": [
    "#package import\n",
    "import os\n",
    "import pandas as pd\n",
    "from qiime2 import Visualization\n",
    "import matplotlib.pyplot as plt\n",
    "\n",
    "%matplotlib inline"
   ]
  },
  {
   "cell_type": "code",
   "execution_count": 5,
   "id": "81eb6697-fe97-4966-bd8c-df02becb9d69",
   "metadata": {},
   "outputs": [],
   "source": [
    "# location of this week's data and all the results produced by this notebook \n",
    "# - this should be a path relative to your working directory\n",
    "our_data = 'poop_data'\n",
    "\n",
    "if not os.path.isdir(our_data):\n",
    "    os.makedirs(our_data)"
   ]
  },
  {
   "cell_type": "code",
   "execution_count": 6,
   "id": "fe53306b-bdac-479a-917b-a0e1d107ddb2",
   "metadata": {},
   "outputs": [
    {
     "data": {
      "text/plain": [
       "'/home/jovyan/Poop-Power'"
      ]
     },
     "execution_count": 6,
     "metadata": {},
     "output_type": "execute_result"
    }
   ],
   "source": [
    "pwd"
   ]
  },
  {
   "cell_type": "code",
   "execution_count": 16,
   "id": "39f6f7e0-4a0b-436e-b1b9-9346280c1af6",
   "metadata": {},
   "outputs": [
    {
     "name": "stdout",
     "output_type": "stream",
     "text": [
      "2022-10-05 09:53:08 URL:https://polybox.ethz.ch/index.php/s/Cv15BXoZMZXaB2I [13478/13478] -> \"poop_data/sequences.zip\" [1]\n"
     ]
    }
   ],
   "source": [
    "#import Sequences\n",
    "! wget -nv -O $our_data/'sequences'.zip 'https://polybox.ethz.ch/index.php/s/Cv15BXoZMZXaB2I'\n"
   ]
  },
  {
   "cell_type": "code",
   "execution_count": 17,
   "id": "de69ed7b-605b-48da-ad5e-5d3b6a017349",
   "metadata": {},
   "outputs": [
    {
     "name": "stdout",
     "output_type": "stream",
     "text": [
      "2022-10-05 09:53:10 URL:https://polybox.ethz.ch/index.php/s/qbw3Y2RJ7DyExsq [13446/13446] -> \"poop_data/metadata.zip\" [1]\n"
     ]
    }
   ],
   "source": [
    "#import meta Data\n",
    "! wget -nv -O $our_data/'metadata'.zip 'https://polybox.ethz.ch/index.php/s/qbw3Y2RJ7DyExsq'"
   ]
  },
  {
   "cell_type": "code",
   "execution_count": 19,
   "id": "9f800e71-2da1-4045-9b5d-caf6c9626394",
   "metadata": {},
   "outputs": [
    {
     "name": "stdout",
     "output_type": "stream",
     "text": [
      "error:  must specify directory to which to extract with -d option\n",
      "rm: cannot remove '/sequences.zip': No such file or directory\n"
     ]
    }
   ],
   "source": [
    "#unzip sequences\n",
    "! unzip -q $poop_data/sequences.zip -d $poop_data\n",
    "! rm $poop_data/sequences.zip"
   ]
  },
  {
   "cell_type": "code",
   "execution_count": null,
   "id": "c4732ac9-2b4f-4509-9b7b-709fd40b8309",
   "metadata": {},
   "outputs": [],
   "source": [
    "#example\n",
    "! unzip -q $data_dir/w3_data.zip -d $data_dir\n",
    "! rm $data_dir/w3_data.zip"
   ]
  },
  {
   "cell_type": "code",
   "execution_count": 10,
   "id": "9dc68bb6-9efd-4bb6-90a2-add867822708",
   "metadata": {},
   "outputs": [
    {
     "name": "stdout",
     "output_type": "stream",
     "text": [
      "error:  must specify directory to which to extract with -d option\n"
     ]
    }
   ],
   "source": [
    "#unzip meta data\n",
    "! unzip -q $our_data/'metadata'.zip -d $data_dir\n",
    "! rm $our_data/'metadata'.zip"
   ]
  },
  {
   "cell_type": "code",
   "execution_count": null,
   "id": "9f0cc7e0-08e8-4e10-a1f3-0fbe84d481c2",
   "metadata": {},
   "outputs": [],
   "source": []
  }
 ],
 "metadata": {
  "kernelspec": {
   "display_name": "Python 3 (ipykernel)",
   "language": "python",
   "name": "python3"
  },
  "language_info": {
   "codemirror_mode": {
    "name": "ipython",
    "version": 3
   },
   "file_extension": ".py",
   "mimetype": "text/x-python",
   "name": "python",
   "nbconvert_exporter": "python",
   "pygments_lexer": "ipython3",
   "version": "3.8.13"
  }
 },
 "nbformat": 4,
 "nbformat_minor": 5
}
