{
 "cells": [
  {
   "cell_type": "code",
   "execution_count": 1,
   "id": "0883af2b-c90b-4472-a71d-6eb4fcdc4709",
   "metadata": {},
   "outputs": [],
   "source": [
    "import os\n",
    "import pandas as pd\n",
    "from qiime2 import Visualization\n",
    "import matplotlib.pyplot as plt\n",
    "\n",
    "%matplotlib inline\n",
    "\n",
    "our_data = 'poop_data'"
   ]
  },
  {
   "cell_type": "code",
   "execution_count": 3,
   "id": "992cf3df-3b6e-4812-afbe-71d6e79d8ca6",
   "metadata": {},
   "outputs": [
    {
     "data": {
      "text/plain": [
       "'/home/jovyan/Poop-Power'"
      ]
     },
     "execution_count": 3,
     "metadata": {},
     "output_type": "execute_result"
    }
   ],
   "source": [
    "pwd"
   ]
  },
  {
   "cell_type": "code",
   "execution_count": 4,
   "id": "b5aa98fa-4445-4814-bd48-9623ab4df625",
   "metadata": {},
   "outputs": [
    {
     "name": "stdout",
     "output_type": "stream",
     "text": [
      "\u001b[32mUUID\u001b[0m:        32a1795b-d6fb-4ecc-9166-4fe29fb8206a\n",
      "\u001b[32mType\u001b[0m:        SampleData[PairedEndSequencesWithQuality]\n",
      "\u001b[32mData format\u001b[0m: SingleLanePerSamplePairedEndFastqDirFmt\n"
     ]
    }
   ],
   "source": [
    "! qiime tools peek $our_data/sequences.qza"
   ]
  },
  {
   "cell_type": "code",
   "execution_count": 5,
   "id": "a5e02e42-a4cd-43ca-9563-41ff58588c47",
   "metadata": {},
   "outputs": [
    {
     "name": "stdout",
     "output_type": "stream",
     "text": [
      "\u001b[32mSaved Visualization to: poop_data/sequences.qzv\u001b[0m\n",
      "\u001b[0m"
     ]
    }
   ],
   "source": [
    "! qiime demux summarize \\\n",
    "    --i-data $our_data/sequences.qza \\\n",
    "    --o-visualization $our_data/sequences.qzv"
   ]
  },
  {
   "cell_type": "code",
   "execution_count": 6,
   "id": "b0b94503-bbde-4042-90c2-8568296cc1b0",
   "metadata": {
    "collapsed": true,
    "jupyter": {
     "outputs_hidden": true
    },
    "tags": []
   },
   "outputs": [
    {
     "data": {
      "text/html": [
       "<div><img onload=\"(function(div, url){\n",
       "if (typeof require !== 'undefined') {\n",
       "    var baseURL = require.toUrl('').split('/').slice(0, -2).join('/');\n",
       "} else {\n",
       "    var baseURL = JSON.parse(\n",
       "        document.getElementById('jupyter-config-data').innerHTML\n",
       "    ).baseUrl.slice(0, -1);\n",
       "}\n",
       "url = baseURL + url;\n",
       "fetch(url).then(function(res) {\n",
       "    if (res.status === 404) {\n",
       "        div.innerHTML = 'Install QIIME 2 Jupyter extension with:<br />' +\n",
       "                        '<code>jupyter serverextension enable --py qiime2' +\n",
       "                        ' --sys-prefix</code><br />then restart your server.' +\n",
       "                        '<br /><br />(Interactive output not available on ' +\n",
       "                        'static notebook viewer services like nbviewer.)';\n",
       "    } else if (res.status === 409) {\n",
       "        div.innerHTML = 'Visualization no longer in scope. Re-run this cell' +\n",
       "                        ' to see the visualization.';\n",
       "    } else if (res.ok) {\n",
       "        url = res.url;\n",
       "        div.innerHTML = '<iframe src=\\'' + url + '\\' style=\\'' +\n",
       "                        'width: 100%; height: 700px; border: 0;\\'>' +\n",
       "                        '</iframe><hr />Open in a: <a href=\\'' + url + '\\'' +\n",
       "                        ' target=\\'_blank\\'>new window</a>'\n",
       "    } else {\n",
       "        div.innerHTML = 'Something has gone wrong. Check notebook server for' +\n",
       "                        ' errors.';\n",
       "    }\n",
       "});\n",
       "})(this.parentElement, '/qiime2/redirect?location=/tmp/qiime2-archive-1tuzylmh')\" src=\"data:image/gif;base64,R0lGODlhAQABAIAAAP///wAAACH5BAEAAAAALAAAAAABAAEAAAICRAEAOw==\" /></div>"
      ],
      "text/plain": [
       "<visualization: Visualization uuid: 8917018c-6dc1-4521-8080-687c6d715b63>"
      ]
     },
     "execution_count": 6,
     "metadata": {},
     "output_type": "execute_result"
    }
   ],
   "source": [
    "Visualization.load(f'{our_data}/sequences.qzv')"
   ]
  },
  {
   "cell_type": "markdown",
   "id": "b5abc01c-8645-4db8-97b2-b0eba9c1f249",
   "metadata": {},
   "source": [
    "### Denoising - Amplicon Sequence Variants (ASV)\n",
    "At first we want to denoise the data to create a feature table of ASVs. Our stept to apply Denoising (= remove noise) are the following):\n",
    "1.Find the cleanest sequence (and/or model probabilities based on quality scores)\n",
    "2.Correct and/or discard super noisy sequences (high expected errors)\n",
    "3.DADA2: DADA2 builds an error model which can identify differences between sequences, filters out noisy sequences and generates a feature table with error-corrected sequences.\n"
   ]
  },
  {
   "cell_type": "code",
   "execution_count": 14,
   "id": "83adb18a-c82b-4037-b38f-e00f8f8ffbfd",
   "metadata": {},
   "outputs": [
    {
     "name": "stdout",
     "output_type": "stream",
     "text": [
      "\u001b[32mSaved FeatureTable[Frequency] to: poop_data/dada2_table.qza\u001b[0m\n",
      "\u001b[32mSaved FeatureData[Sequence] to: poop_data/dada2_rep_set.qza\u001b[0m\n",
      "\u001b[32mSaved SampleData[DADA2Stats] to: poop_data/dada2_stats.qza\u001b[0m\n",
      "\u001b[0m"
     ]
    }
   ],
   "source": [
    "! qiime dada2 denoise-single \\\n",
    "    --i-demultiplexed-seqs $our_data/sequences.qza \\\n",
    "    --p-trunc-len 131 \\   #we will truncate the reads up 131 bp (sequences longer than this have  smaller quality score).131 bp is our good enough, is it ok?\n",
    "    --p-n-threads 3 \\\n",
    "    --o-table $our_data/dada2_table.qza \\\n",
    "    --o-representative-sequences $our_data/dada2_rep_set.qza \\\n",
    "    --o-denoising-stats $our_data/dada2_stats.qza"
   ]
  },
  {
   "cell_type": "code",
   "execution_count": 15,
   "id": "4cd1a687-856f-4262-ac69-0887dba68577",
   "metadata": {},
   "outputs": [
    {
     "name": "stdout",
     "output_type": "stream",
     "text": [
      "\u001b[32mSaved Visualization to: poop_data/dada2_stats.qzv\u001b[0m\n",
      "\u001b[0m"
     ]
    }
   ],
   "source": [
    "! qiime metadata tabulate \\\n",
    "    --m-input-file $our_data/dada2_stats.qza \\\n",
    "    --o-visualization $our_data/dada2_stats.qzv"
   ]
  },
  {
   "cell_type": "code",
   "execution_count": 16,
   "id": "a841a0a1-3c0f-4ac0-976e-12e42e1c3a75",
   "metadata": {
    "collapsed": true,
    "jupyter": {
     "outputs_hidden": true
    },
    "tags": []
   },
   "outputs": [
    {
     "data": {
      "text/html": [
       "<div><img onload=\"(function(div, url){\n",
       "if (typeof require !== 'undefined') {\n",
       "    var baseURL = require.toUrl('').split('/').slice(0, -2).join('/');\n",
       "} else {\n",
       "    var baseURL = JSON.parse(\n",
       "        document.getElementById('jupyter-config-data').innerHTML\n",
       "    ).baseUrl.slice(0, -1);\n",
       "}\n",
       "url = baseURL + url;\n",
       "fetch(url).then(function(res) {\n",
       "    if (res.status === 404) {\n",
       "        div.innerHTML = 'Install QIIME 2 Jupyter extension with:<br />' +\n",
       "                        '<code>jupyter serverextension enable --py qiime2' +\n",
       "                        ' --sys-prefix</code><br />then restart your server.' +\n",
       "                        '<br /><br />(Interactive output not available on ' +\n",
       "                        'static notebook viewer services like nbviewer.)';\n",
       "    } else if (res.status === 409) {\n",
       "        div.innerHTML = 'Visualization no longer in scope. Re-run this cell' +\n",
       "                        ' to see the visualization.';\n",
       "    } else if (res.ok) {\n",
       "        url = res.url;\n",
       "        div.innerHTML = '<iframe src=\\'' + url + '\\' style=\\'' +\n",
       "                        'width: 100%; height: 700px; border: 0;\\'>' +\n",
       "                        '</iframe><hr />Open in a: <a href=\\'' + url + '\\'' +\n",
       "                        ' target=\\'_blank\\'>new window</a>'\n",
       "    } else {\n",
       "        div.innerHTML = 'Something has gone wrong. Check notebook server for' +\n",
       "                        ' errors.';\n",
       "    }\n",
       "});\n",
       "})(this.parentElement, '/qiime2/redirect?location=/tmp/qiime2-archive-jzeg2oop')\" src=\"data:image/gif;base64,R0lGODlhAQABAIAAAP///wAAACH5BAEAAAAALAAAAAABAAEAAAICRAEAOw==\" /></div>"
      ],
      "text/plain": [
       "<visualization: Visualization uuid: 1650743d-18d8-4fa5-870e-d8c236d26550>"
      ]
     },
     "execution_count": 16,
     "metadata": {},
     "output_type": "execute_result"
    }
   ],
   "source": [
    "Visualization.load(f'{our_data}/dada2_stats.qzv')"
   ]
  },
  {
   "cell_type": "code",
   "execution_count": 17,
   "id": "ca0d7d76-130b-43c9-88d5-4785f1c46e38",
   "metadata": {},
   "outputs": [
    {
     "name": "stdout",
     "output_type": "stream",
     "text": [
      "\u001b[32mSaved Visualization to: poop_data/dada2_rep_set.qzv\u001b[0m\n",
      "\u001b[0m"
     ]
    }
   ],
   "source": [
    "! qiime feature-table tabulate-seqs \\\n",
    "    --i-data $our_data/dada2_rep_set.qza \\\n",
    "    --o-visualization $our_data/dada2_rep_set.qzv"
   ]
  },
  {
   "cell_type": "code",
   "execution_count": 18,
   "id": "db7e91a2-0ee2-4711-9240-ad7d784ff917",
   "metadata": {
    "collapsed": true,
    "jupyter": {
     "outputs_hidden": true
    },
    "tags": []
   },
   "outputs": [
    {
     "data": {
      "text/html": [
       "<div><img onload=\"(function(div, url){\n",
       "if (typeof require !== 'undefined') {\n",
       "    var baseURL = require.toUrl('').split('/').slice(0, -2).join('/');\n",
       "} else {\n",
       "    var baseURL = JSON.parse(\n",
       "        document.getElementById('jupyter-config-data').innerHTML\n",
       "    ).baseUrl.slice(0, -1);\n",
       "}\n",
       "url = baseURL + url;\n",
       "fetch(url).then(function(res) {\n",
       "    if (res.status === 404) {\n",
       "        div.innerHTML = 'Install QIIME 2 Jupyter extension with:<br />' +\n",
       "                        '<code>jupyter serverextension enable --py qiime2' +\n",
       "                        ' --sys-prefix</code><br />then restart your server.' +\n",
       "                        '<br /><br />(Interactive output not available on ' +\n",
       "                        'static notebook viewer services like nbviewer.)';\n",
       "    } else if (res.status === 409) {\n",
       "        div.innerHTML = 'Visualization no longer in scope. Re-run this cell' +\n",
       "                        ' to see the visualization.';\n",
       "    } else if (res.ok) {\n",
       "        url = res.url;\n",
       "        div.innerHTML = '<iframe src=\\'' + url + '\\' style=\\'' +\n",
       "                        'width: 100%; height: 700px; border: 0;\\'>' +\n",
       "                        '</iframe><hr />Open in a: <a href=\\'' + url + '\\'' +\n",
       "                        ' target=\\'_blank\\'>new window</a>'\n",
       "    } else {\n",
       "        div.innerHTML = 'Something has gone wrong. Check notebook server for' +\n",
       "                        ' errors.';\n",
       "    }\n",
       "});\n",
       "})(this.parentElement, '/qiime2/redirect?location=/tmp/qiime2-archive-42nb7co2')\" src=\"data:image/gif;base64,R0lGODlhAQABAIAAAP///wAAACH5BAEAAAAALAAAAAABAAEAAAICRAEAOw==\" /></div>"
      ],
      "text/plain": [
       "<visualization: Visualization uuid: 54e17101-7fae-47e2-9572-f34d24d427b9>"
      ]
     },
     "execution_count": 18,
     "metadata": {},
     "output_type": "execute_result"
    }
   ],
   "source": [
    "Visualization.load(f'{our_data}/dada2_rep_set.qzv')"
   ]
  },
  {
   "cell_type": "markdown",
   "id": "c6f86ba1-204a-4872-8266-663fbe563315",
   "metadata": {},
   "source": [
    "### Clustering - Operational Taxonomic Units (OUT)\n",
    "With Clustering we are going to remove noisy sequences and reduce the amount of sequences to process. It works based on a given threshold, i.e. 97% similarity. Is less accurate then the denoising method."
   ]
  },
  {
   "cell_type": "code",
   "execution_count": 19,
   "id": "77ae8043-c921-46c7-af77-ac6a4ad41fbb",
   "metadata": {
    "collapsed": true,
    "jupyter": {
     "outputs_hidden": true
    },
    "tags": []
   },
   "outputs": [
    {
     "name": "stdout",
     "output_type": "stream",
     "text": [
      "Usage: \u001b[94mqiime quality-filter q-score\u001b[0m [OPTIONS]\n",
      "\n",
      "  This method filters sequence based on quality scores and the presence of\n",
      "  ambiguous base calls.\n",
      "\n",
      "\u001b[1mInputs\u001b[0m:\n",
      "  \u001b[94m\u001b[4m--i-demux\u001b[0m ARTIFACT \u001b[32mSampleData[SequencesWithQuality |\u001b[0m\n",
      "    \u001b[32mPairedEndSequencesWithQuality]¹ | SampleData[JoinedSequencesWithQuality]²\u001b[0m\n",
      "                       The demultiplexed sequence data to be quality\n",
      "                       filtered.                                    \u001b[35m[required]\u001b[0m\n",
      "\u001b[1mParameters\u001b[0m:\n",
      "  \u001b[94m--p-min-quality\u001b[0m INTEGER\n",
      "                       The minimum acceptable PHRED score. All PHRED scores\n",
      "                       less that this value are considered to be low PHRED\n",
      "                       scores.                                    \u001b[35m[default: 4]\u001b[0m\n",
      "  \u001b[94m--p-quality-window\u001b[0m INTEGER\n",
      "                       The maximum number of low PHRED scores that can be\n",
      "                       observed in direct succession before truncating a\n",
      "                       sequence read.                             \u001b[35m[default: 3]\u001b[0m\n",
      "  \u001b[94m--p-min-length-fraction\u001b[0m NUMBER\n",
      "                       The minimum length that a sequence read can be\n",
      "                       following truncation and still be retained. This length\n",
      "                       should be provided as a fraction of the input sequence\n",
      "                       length.                                 \u001b[35m[default: 0.75]\u001b[0m\n",
      "  \u001b[94m--p-max-ambiguous\u001b[0m INTEGER\n",
      "                       The maximum number of ambiguous (i.e., N) base calls.\n",
      "                       This is applied after trimming sequences based on\n",
      "                       `\u001b[4mmin-length-fraction\u001b[0m`.                     \u001b[35m[default: 0]\u001b[0m\n",
      "\u001b[1mOutputs\u001b[0m:\n",
      "  \u001b[94m\u001b[4m--o-filtered-sequences\u001b[0m ARTIFACT \u001b[32mSampleData[SequencesWithQuality]¹ |\u001b[0m\n",
      "    \u001b[32mSampleData[JoinedSequencesWithQuality]²\u001b[0m\n",
      "                       The resulting quality-filtered sequences.    \u001b[35m[required]\u001b[0m\n",
      "  \u001b[94m\u001b[4m--o-filter-stats\u001b[0m ARTIFACT \u001b[32mQualityFilterStats\u001b[0m\n",
      "                       Summary statistics of the filtering process. \u001b[35m[required]\u001b[0m\n",
      "\u001b[1mMiscellaneous\u001b[0m:\n",
      "  \u001b[94m--output-dir\u001b[0m PATH    Output unspecified results to a directory\n",
      "  \u001b[94m--verbose\u001b[0m / \u001b[94m--quiet\u001b[0m  Display verbose output to stdout and/or stderr during\n",
      "                       execution of this action. Or silence output if\n",
      "                       execution is successful (silence is golden).\n",
      "  \u001b[94m--example-data\u001b[0m PATH  Write example data and exit.\n",
      "  \u001b[94m--citations\u001b[0m          Show citations and exit.\n",
      "  \u001b[94m--help\u001b[0m               Show this message and exit.\n"
     ]
    }
   ],
   "source": [
    "! qiime quality-filter q-score --help"
   ]
  },
  {
   "cell_type": "code",
   "execution_count": null,
   "id": "fa13d19a-f309-40b4-b46f-946e6770376b",
   "metadata": {},
   "outputs": [],
   "source": []
  },
  {
   "cell_type": "code",
   "execution_count": null,
   "id": "6d6e8f90-e5de-4e39-9242-80fc247247f5",
   "metadata": {},
   "outputs": [],
   "source": []
  }
 ],
 "metadata": {
  "kernelspec": {
   "display_name": "Python 3 (ipykernel)",
   "language": "python",
   "name": "python3"
  },
  "language_info": {
   "codemirror_mode": {
    "name": "ipython",
    "version": 3
   },
   "file_extension": ".py",
   "mimetype": "text/x-python",
   "name": "python",
   "nbconvert_exporter": "python",
   "pygments_lexer": "ipython3",
   "version": "3.8.13"
  }
 },
 "nbformat": 4,
 "nbformat_minor": 5
}
