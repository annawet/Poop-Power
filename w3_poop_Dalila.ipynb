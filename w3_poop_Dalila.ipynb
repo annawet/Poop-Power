{
 "cells": [
  {
   "cell_type": "code",
   "execution_count": 1,
   "id": "0883af2b-c90b-4472-a71d-6eb4fcdc4709",
   "metadata": {},
   "outputs": [],
   "source": [
    "import os\n",
    "import pandas as pd\n",
    "from qiime2 import Visualization\n",
    "import matplotlib.pyplot as plt\n",
    "\n",
    "%matplotlib inline\n",
    "\n",
    "our_data = 'poop_data'"
   ]
  },
  {
   "cell_type": "code",
   "execution_count": 3,
   "id": "992cf3df-3b6e-4812-afbe-71d6e79d8ca6",
   "metadata": {},
   "outputs": [
    {
     "data": {
      "text/plain": [
       "'/home/jovyan/Poop-Power'"
      ]
     },
     "execution_count": 3,
     "metadata": {},
     "output_type": "execute_result"
    }
   ],
   "source": [
    "pwd"
   ]
  },
  {
   "cell_type": "code",
   "execution_count": null,
   "id": "b5aa98fa-4445-4814-bd48-9623ab4df625",
   "metadata": {},
   "outputs": [],
   "source": [
    "! qiime tools peek $our_data/sequences.qza"
   ]
  },
  {
   "cell_type": "code",
   "execution_count": null,
   "id": "a5e02e42-a4cd-43ca-9563-41ff58588c47",
   "metadata": {},
   "outputs": [],
   "source": [
    "! qiime demux summarize \\\n",
    "    --i-data $our_data/sequences.qza \\\n",
    "    --o-visualization $our_data/sequences.qzv"
   ]
  },
  {
   "cell_type": "code",
   "execution_count": null,
   "id": "b0b94503-bbde-4042-90c2-8568296cc1b0",
   "metadata": {},
   "outputs": [],
   "source": [
    "Visualization.load(f'{our_data}/sequences.qzv')"
   ]
  }
 ],
 "metadata": {
  "kernelspec": {
   "display_name": "Python 3 (ipykernel)",
   "language": "python",
   "name": "python3"
  },
  "language_info": {
   "codemirror_mode": {
    "name": "ipython",
    "version": 3
   },
   "file_extension": ".py",
   "mimetype": "text/x-python",
   "name": "python",
   "nbconvert_exporter": "python",
   "pygments_lexer": "ipython3",
   "version": "3.8.13"
  }
 },
 "nbformat": 4,
 "nbformat_minor": 5
}
