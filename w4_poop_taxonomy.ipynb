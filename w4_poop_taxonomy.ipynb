{
 "cells": [
  {
   "cell_type": "code",
   "execution_count": 1,
   "id": "901da2ce-6b9e-4e1e-934f-9afd6c0515eb",
   "metadata": {},
   "outputs": [],
   "source": [
    "import os\n",
    "import pandas as pd\n",
    "from qiime2 import Visualization\n",
    "import matplotlib.pyplot as plt\n",
    "import numpy as np\n",
    "\n",
    "import qiime2 as q2\n",
    "\n",
    "%matplotlib inline\n",
    "\n",
    "data_dir = 'poop_data/Taxonomy'"
   ]
  },
  {
   "cell_type": "code",
   "execution_count": null,
   "id": "d9767bb0-599e-42d5-85a0-2465ff30aceb",
   "metadata": {},
   "outputs": [],
   "source": [
    "! qiime rescript get-silva-data \\\n",
    "    --p-version '138' \\\n",
    "    --p-target 'SSURef_NR99' \\\n",
    "    --p-include-species-labels \\\n",
    "    --o-silva-sequences $data_dir/silva-138-ssu-nr99-seqs.qza \\\n",
    "    --o-silva-taxonomy $data_dir/silva-138-ssu-nr99-tax.qza"
   ]
  },
  {
   "cell_type": "code",
   "execution_count": 10,
   "id": "7dee4ab3-150e-4049-8a0d-aa3a4e1a4ba2",
   "metadata": {},
   "outputs": [
    {
     "name": "stdout",
     "output_type": "stream",
     "text": [
      "\u001b[32mSaved FeatureData[Sequence] to: poop_data/Taxonomy/silva-138-ssu-nr99-seqs-filt.qza\u001b[0m\n",
      "\u001b[32mSaved FeatureData[Sequence] to: poop_data/Taxonomy/silva-138-ssu-nr99-seqs-discard.qza\u001b[0m\n",
      "\u001b[0m"
     ]
    }
   ],
   "source": [
    "#using the cleaned database from w4 exercise due to time saving/computing benefits\n",
    "#removing sequences that are shorter than certain threshold (based on whether they belong to Archaea, Bacteria or Eukaryota).\n",
    "#do the numbers also apply for us?\n",
    "#i steht für input, p parameter, o output.\n",
    "\n",
    "! qiime rescript filter-seqs-length-by-taxon \\\n",
    "    --i-sequences $data_dir/silva-138-ssu-nr99-seqs-cleaned.qza \\\n",
    "    --i-taxonomy $data_dir/silva-138-ssu-nr99-tax.qza \\\n",
    "    --p-labels Archaea Bacteria Eukaryota \\\n",
    "    --p-min-lens 900 1200 1400 \\\n",
    "    --o-filtered-seqs $data_dir/silva-138-ssu-nr99-seqs-filt.qza \\\n",
    "    --o-discarded-seqs $data_dir/silva-138-ssu-nr99-seqs-discard.qza"
   ]
  },
  {
   "cell_type": "markdown",
   "id": "3d0bec09-71bc-4985-84ec-928d961cd7ff",
   "metadata": {},
   "source": [
    "As there may be multiple identical sequences sharing same or different taxonomies in the SILVA database, we will also dereplicate our database. We will keep identical sequence records that have differing taxonomies (`uniq` mode)."
   ]
  },
  {
   "cell_type": "code",
   "execution_count": 11,
   "id": "02b41ede-2f0b-47ca-8914-0b75a9be6d18",
   "metadata": {},
   "outputs": [
    {
     "name": "stdout",
     "output_type": "stream",
     "text": [
      "\u001b[32mSaved FeatureData[Sequence] to: poop_data/Taxonomy/silva-138-ssu-nr99-seqs-derep-uniq.qza\u001b[0m\n",
      "\u001b[32mSaved FeatureData[Taxonomy] to: poop_data/Taxonomy/silva-138-ssu-nr99-tax-derep-uniq.qza\u001b[0m\n",
      "\u001b[0m"
     ]
    }
   ],
   "source": [
    "! qiime rescript dereplicate \\\n",
    "    --i-sequences $data_dir/silva-138-ssu-nr99-seqs-filt.qza  \\\n",
    "    --i-taxa $data_dir/silva-138-ssu-nr99-tax.qza \\\n",
    "    --p-rank-handles 'silva' \\\n",
    "    --p-mode 'uniq' \\\n",
    "    --p-threads 3 \\\n",
    "    --o-dereplicated-sequences $data_dir/silva-138-ssu-nr99-seqs-derep-uniq.qza \\\n",
    "    --o-dereplicated-taxa $data_dir/silva-138-ssu-nr99-tax-derep-uniq.qza"
   ]
  },
  {
   "cell_type": "markdown",
   "id": "a1e21199-c9a2-4288-afc0-cc682245fd14",
   "metadata": {},
   "source": [
    "\n",
    "\n",
    "#the forward and reverse primers used in this experiment:\n",
    "\n",
    "    FWD: GTGYCAGCMGCCGCGGTAA\n",
    "    REV: GGACTACNVGGGTWTCTAAT\n"
   ]
  },
  {
   "cell_type": "code",
   "execution_count": 12,
   "id": "47592179-69ee-4388-8bce-e26cc5f881f5",
   "metadata": {},
   "outputs": [
    {
     "name": "stdout",
     "output_type": "stream",
     "text": [
      "\u001b[32mSaved FeatureData[Sequence] to: poop_data/Taxonomy/silva-our-primers.qza\u001b[0m\n",
      "\u001b[0m"
     ]
    }
   ],
   "source": [
    "! qiime feature-classifier extract-reads \\\n",
    "    --i-sequences $data_dir/silva-138-ssu-nr99-seqs-derep-uniq.qza \\\n",
    "    --p-f-primer GTGYCAGCMGCCGCGGTAA \\\n",
    "    --p-r-primer GGACTACNVGGGTWTCTAAT \\\n",
    "    --p-n-jobs 3 \\\n",
    "    --p-read-orientation 'forward' \\\n",
    "    --o-reads $data_dir/silva-our-primers.qza"
   ]
  },
  {
   "cell_type": "markdown",
   "id": "46b9cccc-3eea-4776-851a-aaa719e1e5f5",
   "metadata": {},
   "source": [
    "Since we now have significantly shorter sequences than with started with, we need to dereplicate the database again. Conversely, after extraction some unique sequences may point to different taxonomies so we need to handle those too."
   ]
  },
  {
   "cell_type": "code",
   "execution_count": 13,
   "id": "67a510ba-3988-4802-94be-f4f89027e793",
   "metadata": {},
   "outputs": [
    {
     "name": "stdout",
     "output_type": "stream",
     "text": [
      "\u001b[32mSaved FeatureData[Sequence] to: poop_data/Taxonomy/silva-our-primers-derep-uniq.qza\u001b[0m\n",
      "\u001b[32mSaved FeatureData[Taxonomy] to: poop_data/Taxonomy/silva-138-ssu-nr99-tax-515f-806r-derep-uniq.qza\u001b[0m\n",
      "\u001b[0m"
     ]
    }
   ],
   "source": [
    "! qiime rescript dereplicate \\\n",
    "    --i-sequences $data_dir/silva-our-primers.qza \\\n",
    "    --i-taxa $data_dir/silva-138-ssu-nr99-tax-derep-uniq.qza \\\n",
    "    --p-rank-handles 'silva' \\\n",
    "    --p-mode 'uniq' \\\n",
    "    --p-threads 3 \\\n",
    "    --o-dereplicated-sequences $data_dir/silva-our-primers-derep-uniq.qza \\\n",
    "    --o-dereplicated-taxa  $data_dir/silva-138-ssu-nr99-tax-515f-806r-derep-uniq.qza"
   ]
  },
  {
   "cell_type": "markdown",
   "id": "7ed0ad30-b33b-48df-9590-99a5580b0936",
   "metadata": {},
   "source": [
    "**Training classifier:** using pretrained classifier will probably not work if we have to change the primer sequneces"
   ]
  },
  {
   "cell_type": "code",
   "execution_count": 2,
   "id": "4a0528ee-bb08-4c92-aeae-6f6724c832d2",
   "metadata": {},
   "outputs": [
    {
     "name": "stdout",
     "output_type": "stream",
     "text": [
      "/opt/conda/lib/python3.8/site-packages/q2_feature_classifier/classifier.py:102: UserWarning: The TaxonomicClassifier artifact that results from this method was trained using scikit-learn version 0.24.1. It cannot be used with other versions of scikit-learn. (While the classifier may complete successfully, the results will be unreliable.)\n",
      "  warnings.warn(warning, UserWarning)\n"
     ]
    }
   ],
   "source": [
    " ! qiime feature-classifier fit-classifier-naive-bayes \\\n",
    "     --i-reference-reads $data_dir/silva-our-primers-derep-uniq.qza \\\n",
    "     --i-reference-taxonomy $data_dir/silva-138-ssu-nr99-tax-515f-806r-derep-uniq.qza \\\n",
    "     --o-classifier $data_dir/trained-classifier.qza --verbose"
   ]
  },
  {
   "cell_type": "markdown",
   "id": "d23f03f5-87af-4a28-b9f5-a8bae8fc6bb9",
   "metadata": {},
   "source": [
    "using pre trained classifier with full length sequences because our primers don't fit the primers of specifically trained ones\n",
    "used human stool classifier, still too big. everything with silva is too large. only working is greengenes 515f weighted. don't know the impact of weighted compared to the first from the exercise. output taxonomy file is twice as big...?\n",
    "515f 806r using is okay because our primers align with the same base/place in sequence, checked in blast against 16s e. coli"
   ]
  },
  {
   "cell_type": "code",
   "execution_count": 3,
   "id": "a5d6cef3-b200-4bdf-b64d-77f0918e362d",
   "metadata": {},
   "outputs": [
    {
     "name": "stdout",
     "output_type": "stream",
     "text": [
      "2022-11-02 13:48:38 URL:https://s3-us-west-2.amazonaws.com/qiime2-data/2022.8/common/gg-13-8-99-515-806-nb-weighted-classifier.qza [28738550/28738550] -> \"poop_data/Taxonomy/weighted-greengenes-515f-806r-classifier.qza\" [1]\n"
     ]
    }
   ],
   "source": [
    "! wget -nv -O $data_dir/weighted-greengenes-515f-806r-classifier.qza https://data.qiime2.org/2022.8/common/gg-13-8-99-515-806-nb-weighted-classifier.qza"
   ]
  },
  {
   "cell_type": "markdown",
   "id": "77cb05d8-4d1d-4ed5-a523-979ac72fc2e2",
   "metadata": {},
   "source": [
    "**Assigning Taxonomy** greengenes is okay or should we use better one? who can run this on their computer?"
   ]
  },
  {
   "cell_type": "code",
   "execution_count": 4,
   "id": "0e401d90-d693-469d-a08d-a75ed0cfd4e7",
   "metadata": {},
   "outputs": [
    {
     "name": "stdout",
     "output_type": "stream",
     "text": [
      "\u001b[32mSaved FeatureData[Taxonomy] to: poop_data/Taxonomy/taxonomy_new.qza\u001b[0m\n",
      "\u001b[0m"
     ]
    }
   ],
   "source": [
    "! qiime feature-classifier classify-sklearn \\\n",
    "    --i-classifier $data_dir/weighted-greengenes-515f-806r-classifier.qza \\\n",
    "    --i-reads $'poop_data/Denoising'/dada2_rep_set.qza \\\n",
    "    --o-classification $data_dir/taxonomy_new.qza"
   ]
  },
  {
   "cell_type": "markdown",
   "id": "3b606c76-171a-4e14-bf18-13cff69b057d",
   "metadata": {},
   "source": [
    "**Visualization**"
   ]
  },
  {
   "cell_type": "code",
   "execution_count": 5,
   "id": "31b8c0dc-c898-493b-84e4-7bac1297032c",
   "metadata": {},
   "outputs": [
    {
     "name": "stdout",
     "output_type": "stream",
     "text": [
      "\u001b[32mSaved Visualization to: poop_data/Taxonomy/taxonomy_new.qzv\u001b[0m\n",
      "\u001b[0m"
     ]
    }
   ],
   "source": [
    "! qiime metadata tabulate \\\n",
    "    --m-input-file $data_dir/taxonomy_new.qza \\\n",
    "    --o-visualization $data_dir/taxonomy_new.qzv"
   ]
  },
  {
   "cell_type": "code",
   "execution_count": 6,
   "id": "700e3921-0dcc-45cb-814d-3b1931f68c2e",
   "metadata": {
    "tags": []
   },
   "outputs": [
    {
     "data": {
      "text/html": [
       "<div><img onload=\"(function(div, url){\n",
       "if (typeof require !== 'undefined') {\n",
       "    var baseURL = require.toUrl('').split('/').slice(0, -2).join('/');\n",
       "} else {\n",
       "    var baseURL = JSON.parse(\n",
       "        document.getElementById('jupyter-config-data').innerHTML\n",
       "    ).baseUrl.slice(0, -1);\n",
       "}\n",
       "url = baseURL + url;\n",
       "fetch(url).then(function(res) {\n",
       "    if (res.status === 404) {\n",
       "        div.innerHTML = 'Install QIIME 2 Jupyter extension with:<br />' +\n",
       "                        '<code>jupyter serverextension enable --py qiime2' +\n",
       "                        ' --sys-prefix</code><br />then restart your server.' +\n",
       "                        '<br /><br />(Interactive output not available on ' +\n",
       "                        'static notebook viewer services like nbviewer.)';\n",
       "    } else if (res.status === 409) {\n",
       "        div.innerHTML = 'Visualization no longer in scope. Re-run this cell' +\n",
       "                        ' to see the visualization.';\n",
       "    } else if (res.ok) {\n",
       "        url = res.url;\n",
       "        div.innerHTML = '<iframe src=\\'' + url + '\\' style=\\'' +\n",
       "                        'width: 100%; height: 700px; border: 0;\\'>' +\n",
       "                        '</iframe><hr />Open in a: <a href=\\'' + url + '\\'' +\n",
       "                        ' target=\\'_blank\\'>new window</a>'\n",
       "    } else {\n",
       "        div.innerHTML = 'Something has gone wrong. Check notebook server for' +\n",
       "                        ' errors.';\n",
       "    }\n",
       "});\n",
       "})(this.parentElement, '/qiime2/redirect?location=/tmp/qiime2-archive-jczli07x')\" src=\"data:image/gif;base64,R0lGODlhAQABAIAAAP///wAAACH5BAEAAAAALAAAAAABAAEAAAICRAEAOw==\" /></div>"
      ],
      "text/plain": [
       "<visualization: Visualization uuid: dfd90f24-a333-46c7-b9ea-6fdc472f631a>"
      ]
     },
     "execution_count": 6,
     "metadata": {},
     "output_type": "execute_result"
    }
   ],
   "source": [
    "Visualization.load(f'{data_dir}/taxonomy.qzv')"
   ]
  },
  {
   "cell_type": "code",
   "execution_count": 7,
   "id": "2ba2db53-b7ae-4e02-92c6-67ef36c1b36e",
   "metadata": {},
   "outputs": [
    {
     "data": {
      "text/html": [
       "<div><img onload=\"(function(div, url){\n",
       "if (typeof require !== 'undefined') {\n",
       "    var baseURL = require.toUrl('').split('/').slice(0, -2).join('/');\n",
       "} else {\n",
       "    var baseURL = JSON.parse(\n",
       "        document.getElementById('jupyter-config-data').innerHTML\n",
       "    ).baseUrl.slice(0, -1);\n",
       "}\n",
       "url = baseURL + url;\n",
       "fetch(url).then(function(res) {\n",
       "    if (res.status === 404) {\n",
       "        div.innerHTML = 'Install QIIME 2 Jupyter extension with:<br />' +\n",
       "                        '<code>jupyter serverextension enable --py qiime2' +\n",
       "                        ' --sys-prefix</code><br />then restart your server.' +\n",
       "                        '<br /><br />(Interactive output not available on ' +\n",
       "                        'static notebook viewer services like nbviewer.)';\n",
       "    } else if (res.status === 409) {\n",
       "        div.innerHTML = 'Visualization no longer in scope. Re-run this cell' +\n",
       "                        ' to see the visualization.';\n",
       "    } else if (res.ok) {\n",
       "        url = res.url;\n",
       "        div.innerHTML = '<iframe src=\\'' + url + '\\' style=\\'' +\n",
       "                        'width: 100%; height: 700px; border: 0;\\'>' +\n",
       "                        '</iframe><hr />Open in a: <a href=\\'' + url + '\\'' +\n",
       "                        ' target=\\'_blank\\'>new window</a>'\n",
       "    } else {\n",
       "        div.innerHTML = 'Something has gone wrong. Check notebook server for' +\n",
       "                        ' errors.';\n",
       "    }\n",
       "});\n",
       "})(this.parentElement, '/qiime2/redirect?location=/tmp/qiime2-archive-18vp4th_')\" src=\"data:image/gif;base64,R0lGODlhAQABAIAAAP///wAAACH5BAEAAAAALAAAAAABAAEAAAICRAEAOw==\" /></div>"
      ],
      "text/plain": [
       "<visualization: Visualization uuid: 8d3df712-1187-4240-a37d-3384752a0642>"
      ]
     },
     "execution_count": 7,
     "metadata": {},
     "output_type": "execute_result"
    }
   ],
   "source": [
    "Visualization.load(f'{data_dir}/taxonomy_new.qzv')"
   ]
  },
  {
   "cell_type": "markdown",
   "id": "280b62bd-5b5b-4e95-b28c-fa00d53f00cf",
   "metadata": {},
   "source": [
    "**filtering out mitochondria and chloroplasts**"
   ]
  },
  {
   "cell_type": "code",
   "execution_count": 8,
   "id": "34c6806e-b566-44e5-8a07-9e6a24fd70a0",
   "metadata": {},
   "outputs": [
    {
     "name": "stdout",
     "output_type": "stream",
     "text": [
      "\u001b[32mSaved FeatureTable[Frequency] to: poop_data/Taxonomy/table-filtered_new.qza\u001b[0m\n",
      "\u001b[0m\u001b[32mSaved FeatureData[Sequence] to: poop_data/Taxonomy/rep-seqs-filtered_new.qza\u001b[0m\n",
      "\u001b[0m"
     ]
    }
   ],
   "source": [
    "! qiime taxa filter-table \\\n",
    "    --i-table $'poop_data/Denoising'/dada2_table.qza \\\n",
    "    --i-taxonomy $data_dir/taxonomy_new.qza \\\n",
    "    --p-exclude mitochondria,chloroplast \\\n",
    "    --o-filtered-table $data_dir/table-filtered_new.qza\n",
    "\n",
    "! qiime taxa filter-seqs \\\n",
    "    --i-sequences $'poop_data/Denoising'/dada2_rep_set.qza \\\n",
    "    --i-taxonomy $data_dir/taxonomy_new.qza \\\n",
    "    --p-exclude mitochondria \\\n",
    "    --o-filtered-sequences $data_dir/rep-seqs-filtered_new.qza\n",
    "\n",
    "#removes 7 ASVs\n",
    "#removes 10 ASVs with new tax"
   ]
  },
  {
   "cell_type": "code",
   "execution_count": 9,
   "id": "b97e360a-066e-4a0b-92fc-c655088b13b3",
   "metadata": {},
   "outputs": [
    {
     "name": "stdout",
     "output_type": "stream",
     "text": [
      "\u001b[32mSaved Visualization to: poop_data/Taxonomy/rep-seqs-filtered_new.qzv\u001b[0m\n",
      "\u001b[0m"
     ]
    }
   ],
   "source": [
    "! qiime metadata tabulate \\\n",
    "    --m-input-file $data_dir/rep-seqs-filtered_new.qza \\\n",
    "    --o-visualization $data_dir/rep-seqs-filtered_new.qzv"
   ]
  },
  {
   "cell_type": "code",
   "execution_count": 10,
   "id": "54c1f763-31da-40bc-a063-9c74212b5a94",
   "metadata": {
    "tags": []
   },
   "outputs": [
    {
     "data": {
      "text/html": [
       "<div><img onload=\"(function(div, url){\n",
       "if (typeof require !== 'undefined') {\n",
       "    var baseURL = require.toUrl('').split('/').slice(0, -2).join('/');\n",
       "} else {\n",
       "    var baseURL = JSON.parse(\n",
       "        document.getElementById('jupyter-config-data').innerHTML\n",
       "    ).baseUrl.slice(0, -1);\n",
       "}\n",
       "url = baseURL + url;\n",
       "fetch(url).then(function(res) {\n",
       "    if (res.status === 404) {\n",
       "        div.innerHTML = 'Install QIIME 2 Jupyter extension with:<br />' +\n",
       "                        '<code>jupyter serverextension enable --py qiime2' +\n",
       "                        ' --sys-prefix</code><br />then restart your server.' +\n",
       "                        '<br /><br />(Interactive output not available on ' +\n",
       "                        'static notebook viewer services like nbviewer.)';\n",
       "    } else if (res.status === 409) {\n",
       "        div.innerHTML = 'Visualization no longer in scope. Re-run this cell' +\n",
       "                        ' to see the visualization.';\n",
       "    } else if (res.ok) {\n",
       "        url = res.url;\n",
       "        div.innerHTML = '<iframe src=\\'' + url + '\\' style=\\'' +\n",
       "                        'width: 100%; height: 700px; border: 0;\\'>' +\n",
       "                        '</iframe><hr />Open in a: <a href=\\'' + url + '\\'' +\n",
       "                        ' target=\\'_blank\\'>new window</a>'\n",
       "    } else {\n",
       "        div.innerHTML = 'Something has gone wrong. Check notebook server for' +\n",
       "                        ' errors.';\n",
       "    }\n",
       "});\n",
       "})(this.parentElement, '/qiime2/redirect?location=/tmp/qiime2-archive-6vpjofu2')\" src=\"data:image/gif;base64,R0lGODlhAQABAIAAAP///wAAACH5BAEAAAAALAAAAAABAAEAAAICRAEAOw==\" /></div>"
      ],
      "text/plain": [
       "<visualization: Visualization uuid: aca46579-79d3-4f3a-9959-91c9d2674f0b>"
      ]
     },
     "execution_count": 10,
     "metadata": {},
     "output_type": "execute_result"
    }
   ],
   "source": [
    "#vis of filtered sequences. don't have blast links, not the same table\n",
    "Visualization.load(f'{data_dir}/rep-seqs-filtered_new.qzv')"
   ]
  },
  {
   "cell_type": "code",
   "execution_count": 11,
   "id": "ccdc34c8-5e70-4c3d-9ced-71eb97fe7251",
   "metadata": {},
   "outputs": [
    {
     "name": "stdout",
     "output_type": "stream",
     "text": [
      "\u001b[32mSaved Visualization to: poop_data/Taxonomy/table-filtered_new.qzv\u001b[0m\n",
      "\u001b[0m"
     ]
    }
   ],
   "source": [
    "! qiime metadata tabulate \\\n",
    "    --m-input-file $data_dir/table-filtered_new.qza \\\n",
    "    --o-visualization $data_dir/table-filtered_new.qzv"
   ]
  },
  {
   "cell_type": "code",
   "execution_count": null,
   "id": "40f9ae0f-6620-4ad0-8835-cf2b3d03d240",
   "metadata": {},
   "outputs": [],
   "source": [
    "! qiime metadata tabulate \\\n",
    "    --m-input-file $'poop_data'/dada2_rep_set.qza \\\n",
    "    --o-visualization $data_dir/test2.qzv"
   ]
  },
  {
   "cell_type": "code",
   "execution_count": null,
   "id": "afee41a2-0de1-4a5e-8ab5-9f35e1a85302",
   "metadata": {},
   "outputs": [],
   "source": [
    "Visualization.load(f'{data_dir}/test2.qzv')"
   ]
  },
  {
   "cell_type": "code",
   "execution_count": 15,
   "id": "9d176c10-c337-403d-9ead-d4e0d1e4115f",
   "metadata": {},
   "outputs": [
    {
     "name": "stdout",
     "output_type": "stream",
     "text": [
      "\u001b[32mSaved Visualization to: poop_data/Taxonomy/table-filtered_new.qzv\u001b[0m\n",
      "\u001b[0m"
     ]
    }
   ],
   "source": [
    "! qiime taxa barplot \\\n",
    "    --i-table $data_dir/table-filtered_new.qza \\\n",
    "    --i-taxonomy $data_dir/taxonomy_new.qza \\\n",
    "    --m-metadata-file $'poop_data'/metadata.tsv \\\n",
    "    --o-visualization $data_dir/table-filtered_new.qzv"
   ]
  },
  {
   "cell_type": "code",
   "execution_count": 17,
   "id": "eedc1687-26be-4309-aa05-b3b52ea1bb31",
   "metadata": {
    "collapsed": true,
    "jupyter": {
     "outputs_hidden": true
    },
    "tags": []
   },
   "outputs": [
    {
     "data": {
      "text/html": [
       "<div><img onload=\"(function(div, url){\n",
       "if (typeof require !== 'undefined') {\n",
       "    var baseURL = require.toUrl('').split('/').slice(0, -2).join('/');\n",
       "} else {\n",
       "    var baseURL = JSON.parse(\n",
       "        document.getElementById('jupyter-config-data').innerHTML\n",
       "    ).baseUrl.slice(0, -1);\n",
       "}\n",
       "url = baseURL + url;\n",
       "fetch(url).then(function(res) {\n",
       "    if (res.status === 404) {\n",
       "        div.innerHTML = 'Install QIIME 2 Jupyter extension with:<br />' +\n",
       "                        '<code>jupyter serverextension enable --py qiime2' +\n",
       "                        ' --sys-prefix</code><br />then restart your server.' +\n",
       "                        '<br /><br />(Interactive output not available on ' +\n",
       "                        'static notebook viewer services like nbviewer.)';\n",
       "    } else if (res.status === 409) {\n",
       "        div.innerHTML = 'Visualization no longer in scope. Re-run this cell' +\n",
       "                        ' to see the visualization.';\n",
       "    } else if (res.ok) {\n",
       "        url = res.url;\n",
       "        div.innerHTML = '<iframe src=\\'' + url + '\\' style=\\'' +\n",
       "                        'width: 100%; height: 700px; border: 0;\\'>' +\n",
       "                        '</iframe><hr />Open in a: <a href=\\'' + url + '\\'' +\n",
       "                        ' target=\\'_blank\\'>new window</a>'\n",
       "    } else {\n",
       "        div.innerHTML = 'Something has gone wrong. Check notebook server for' +\n",
       "                        ' errors.';\n",
       "    }\n",
       "});\n",
       "})(this.parentElement, '/qiime2/redirect?location=/tmp/qiime2-archive-zp44khcf')\" src=\"data:image/gif;base64,R0lGODlhAQABAIAAAP///wAAACH5BAEAAAAALAAAAAABAAEAAAICRAEAOw==\" /></div>"
      ],
      "text/plain": [
       "<visualization: Visualization uuid: 5d964ad9-af03-4255-bd76-e725b47a8e88>"
      ]
     },
     "execution_count": 17,
     "metadata": {},
     "output_type": "execute_result"
    }
   ],
   "source": [
    "Visualization.load(f'{data_dir}/table-filtered.qzv')"
   ]
  },
  {
   "cell_type": "markdown",
   "id": "f8a3b233-1119-4fc6-8719-0b6a076f4c11",
   "metadata": {},
   "source": [
    "**putting it in Panda**"
   ]
  },
  {
   "cell_type": "code",
   "execution_count": null,
   "id": "d3bd4953-f4a6-4d37-8dbd-0f7b4a3d4727",
   "metadata": {},
   "outputs": [],
   "source": [
    "pd.set_option('max_colwidth', 150)"
   ]
  },
  {
   "cell_type": "code",
   "execution_count": null,
   "id": "1eb50047-c65f-4b4e-ab4d-26afe412eb94",
   "metadata": {},
   "outputs": [],
   "source": [
    "# note: QIIME 2 artifact files can be loaded as python objects! This is how.\n",
    "taxa = q2.Artifact.load(f'{data_dir}/taxonomy_new.qza')\n",
    "# view as a `pandas.DataFrame`. Note: Only some Artifact types can be transformed to DataFrames\n",
    "taxa = taxa.view(pd.DataFrame)"
   ]
  },
  {
   "cell_type": "code",
   "execution_count": null,
   "id": "59cef364-6c7e-4e70-81e0-fafe78280b70",
   "metadata": {},
   "outputs": [],
   "source": [
    "taxa.head()"
   ]
  },
  {
   "cell_type": "markdown",
   "id": "e5d314c1-1341-4608-a240-08b8ff184e19",
   "metadata": {},
   "source": [
    "need to do sth to produce change and stage"
   ]
  },
  {
   "cell_type": "code",
   "execution_count": null,
   "id": "a8f3eb52-9336-48a6-9668-412eaae1434c",
   "metadata": {},
   "outputs": [],
   "source": []
  }
 ],
 "metadata": {
  "kernelspec": {
   "display_name": "Python 3 (ipykernel)",
   "language": "python",
   "name": "python3"
  },
  "language_info": {
   "codemirror_mode": {
    "name": "ipython",
    "version": 3
   },
   "file_extension": ".py",
   "mimetype": "text/x-python",
   "name": "python",
   "nbconvert_exporter": "python",
   "pygments_lexer": "ipython3",
   "version": "3.8.13"
  }
 },
 "nbformat": 4,
 "nbformat_minor": 5
}
