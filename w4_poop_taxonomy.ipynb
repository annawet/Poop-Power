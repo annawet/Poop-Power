{
 "cells": [
  {
   "cell_type": "code",
   "execution_count": 1,
   "id": "901da2ce-6b9e-4e1e-934f-9afd6c0515eb",
   "metadata": {},
   "outputs": [],
   "source": [
    "import os\n",
    "import pandas as pd\n",
    "from qiime2 import Visualization\n",
    "import matplotlib.pyplot as plt\n",
    "import numpy as np\n",
    "\n",
    "import qiime2 as q2\n",
    "\n",
    "%matplotlib inline\n",
    "\n",
    "data_dir = 'poop_data/Taxonomy'"
   ]
  },
  {
   "cell_type": "markdown",
   "id": "7ed0ad30-b33b-48df-9590-99a5580b0936",
   "metadata": {},
   "source": [
    "**Training classifier:** \n",
    "\n",
    "the forward and reverse primers used in this experiment:\n",
    "\n",
    "    FWD: GTGYCAGCMGCCGCGGTAA\n",
    "    REV: GGACTACNVGGGTWTCTAAT\n"
   ]
  },
  {
   "cell_type": "markdown",
   "id": "d23f03f5-87af-4a28-b9f5-a8bae8fc6bb9",
   "metadata": {},
   "source": [
    "Sadly, all silva classifiers are too large to compute. Only greengenes classifiers can be run. Greengenes 515f weighted classifier chosen. Using 515f 806r is okay because our primers align with the same base/place in sequence, checked in blast against 16s e. coli."
   ]
  },
  {
   "cell_type": "code",
   "execution_count": null,
   "id": "a5d6cef3-b200-4bdf-b64d-77f0918e362d",
   "metadata": {},
   "outputs": [],
   "source": [
    "! wget -nv -O $data_dir/weighted-greengenes-515f-806r-classifier.qza https://data.qiime2.org/2022.8/common/gg-13-8-99-515-806-nb-weighted-classifier.qza"
   ]
  },
  {
   "cell_type": "markdown",
   "id": "77cb05d8-4d1d-4ed5-a523-979ac72fc2e2",
   "metadata": {},
   "source": [
    "**Assigning Taxonomy** greengenes is okay or should we use better one? who can run this on their computer?"
   ]
  },
  {
   "cell_type": "code",
   "execution_count": null,
   "id": "0e401d90-d693-469d-a08d-a75ed0cfd4e7",
   "metadata": {},
   "outputs": [],
   "source": [
    "! qiime feature-classifier classify-sklearn \\\n",
    "    --i-classifier $data_dir/weighted-greengenes-515f-806r-classifier.qza \\\n",
    "    --i-reads $'poop_data/Denoising'/dada2_rep_set.qza \\\n",
    "    --o-classification $data_dir/taxonomy_new.qza"
   ]
  },
  {
   "cell_type": "markdown",
   "id": "3b606c76-171a-4e14-bf18-13cff69b057d",
   "metadata": {},
   "source": [
    "**Visualization**"
   ]
  },
  {
   "cell_type": "code",
   "execution_count": null,
   "id": "31b8c0dc-c898-493b-84e4-7bac1297032c",
   "metadata": {},
   "outputs": [],
   "source": [
    "! qiime metadata tabulate \\\n",
    "    --m-input-file $data_dir/taxonomy_new.qza \\\n",
    "    --o-visualization $data_dir/taxonomy_new.qzv"
   ]
  },
  {
   "cell_type": "code",
   "execution_count": null,
   "id": "2ba2db53-b7ae-4e02-92c6-67ef36c1b36e",
   "metadata": {},
   "outputs": [],
   "source": [
    "Visualization.load(f'{data_dir}/taxonomy_new.qzv')"
   ]
  },
  {
   "cell_type": "markdown",
   "id": "280b62bd-5b5b-4e95-b28c-fa00d53f00cf",
   "metadata": {},
   "source": [
    "**filtering out mitochondria and chloroplasts**"
   ]
  },
  {
   "cell_type": "code",
   "execution_count": null,
   "id": "34c6806e-b566-44e5-8a07-9e6a24fd70a0",
   "metadata": {},
   "outputs": [],
   "source": [
    "! qiime taxa filter-table \\\n",
    "    --i-table $'poop_data/Denoising'/dada2_table.qza \\\n",
    "    --i-taxonomy $data_dir/taxonomy_new.qza \\\n",
    "    --p-exclude mitochondria,chloroplast \\\n",
    "    --o-filtered-table $data_dir/table-filtered_new.qza\n",
    "\n",
    "! qiime taxa filter-seqs \\\n",
    "    --i-sequences $'poop_data/Denoising'/dada2_rep_set.qza \\\n",
    "    --i-taxonomy $data_dir/taxonomy_new.qza \\\n",
    "    --p-exclude mitochondria \\\n",
    "    --o-filtered-sequences $data_dir/rep-seqs-filtered_new.qza\n",
    "\n",
    "#removes 10 ASVs with new tax"
   ]
  },
  {
   "cell_type": "code",
   "execution_count": null,
   "id": "b97e360a-066e-4a0b-92fc-c655088b13b3",
   "metadata": {},
   "outputs": [],
   "source": [
    "! qiime metadata tabulate \\\n",
    "    --m-input-file $data_dir/rep-seqs-filtered_new.qza \\\n",
    "    --o-visualization $data_dir/rep-seqs-filtered_new.qzv"
   ]
  },
  {
   "cell_type": "code",
   "execution_count": null,
   "id": "54c1f763-31da-40bc-a063-9c74212b5a94",
   "metadata": {
    "tags": []
   },
   "outputs": [],
   "source": [
    "#vis of filtered sequences. don't have blast links, not the same table\n",
    "Visualization.load(f'{data_dir}/rep-seqs-filtered_new.qzv')"
   ]
  },
  {
   "cell_type": "code",
   "execution_count": null,
   "id": "ccdc34c8-5e70-4c3d-9ced-71eb97fe7251",
   "metadata": {},
   "outputs": [],
   "source": [
    "! qiime metadata tabulate \\\n",
    "    --m-input-file $data_dir/table-filtered_new.qza \\\n",
    "    --o-visualization $data_dir/table-filtered_new.qzv"
   ]
  },
  {
   "cell_type": "code",
   "execution_count": null,
   "id": "a121edfd-0430-4a06-9f4e-650144f33bba",
   "metadata": {},
   "outputs": [],
   "source": [
    "Visualization.load(f'{data_dir}/table-filtered_new.qzv')"
   ]
  },
  {
   "cell_type": "code",
   "execution_count": null,
   "id": "9d176c10-c337-403d-9ead-d4e0d1e4115f",
   "metadata": {},
   "outputs": [],
   "source": [
    "! qiime taxa barplot \\\n",
    "    --i-table $data_dir/table-filtered_new.qza \\\n",
    "    --i-taxonomy $data_dir/taxonomy_new.qza \\\n",
    "    --m-metadata-file $'poop_data'/metadata.tsv \\\n",
    "    --o-visualization $data_dir/table-filtered_new_barplot.qzv"
   ]
  },
  {
   "cell_type": "code",
   "execution_count": null,
   "id": "eedc1687-26be-4309-aa05-b3b52ea1bb31",
   "metadata": {
    "tags": []
   },
   "outputs": [],
   "source": [
    "Visualization.load(f'{data_dir}/table-filtered_new_barplot.qzv')"
   ]
  },
  {
   "cell_type": "markdown",
   "id": "f8a3b233-1119-4fc6-8719-0b6a076f4c11",
   "metadata": {},
   "source": [
    "**putting it in Panda**"
   ]
  },
  {
   "cell_type": "code",
   "execution_count": null,
   "id": "d3bd4953-f4a6-4d37-8dbd-0f7b4a3d4727",
   "metadata": {},
   "outputs": [],
   "source": [
    "pd.set_option('max_colwidth', 150)"
   ]
  },
  {
   "cell_type": "code",
   "execution_count": null,
   "id": "1eb50047-c65f-4b4e-ab4d-26afe412eb94",
   "metadata": {},
   "outputs": [],
   "source": [
    "# note: QIIME 2 artifact files can be loaded as python objects! This is how.\n",
    "taxa = q2.Artifact.load(f'{data_dir}/taxonomy_new.qza')\n",
    "# view as a `pandas.DataFrame`. Note: Only some Artifact types can be transformed to DataFrames\n",
    "taxa = taxa.view(pd.DataFrame)"
   ]
  },
  {
   "cell_type": "code",
   "execution_count": null,
   "id": "59cef364-6c7e-4e70-81e0-fafe78280b70",
   "metadata": {},
   "outputs": [],
   "source": [
    "taxa.head()"
   ]
  }
 ],
 "metadata": {
  "kernelspec": {
   "display_name": "Python 3 (ipykernel)",
   "language": "python",
   "name": "python3"
  },
  "language_info": {
   "codemirror_mode": {
    "name": "ipython",
    "version": 3
   },
   "file_extension": ".py",
   "mimetype": "text/x-python",
   "name": "python",
   "nbconvert_exporter": "python",
   "pygments_lexer": "ipython3",
   "version": "3.8.13"
  }
 },
 "nbformat": 4,
 "nbformat_minor": 5
}
