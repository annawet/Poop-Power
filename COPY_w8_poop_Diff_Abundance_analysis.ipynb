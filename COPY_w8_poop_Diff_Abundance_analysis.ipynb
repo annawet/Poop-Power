{
 "cells": [
  {
   "cell_type": "markdown",
   "id": "ad0aa828-ed74-4c94-8fcf-6ef7b239a297",
   "metadata": {
    "tags": []
   },
   "source": [
    "# PoopPower: Differential abundance analysis"
   ]
  },
  {
   "cell_type": "markdown",
   "id": "9bd09b1e-c5e3-42ce-bbc0-b11338c8a9e6",
   "metadata": {},
   "source": [
    "In the previous exercise we saw how to compare samples using alpha and beta diversity metrics. Now we will see with  _differential abundance_ how to test whether individual ASVs/taxa differ in abundance between samples' groups.\n",
    "We are going to use the trustfull test  ANCOM : a compositionally aware alternative that allows to test for differentially abundant features. "
   ]
  },
  {
   "cell_type": "code",
   "execution_count": 2,
   "id": "733c8f6b-41db-4a05-9b78-51d3d77897bd",
   "metadata": {},
   "outputs": [],
   "source": [
    "# importing all required packages & notebook extensions at the start of the notebook\n",
    "import os\n",
    "import matplotlib.pyplot as plt\n",
    "import pandas as pd\n",
    "import qiime2 as q2\n",
    "from qiime2 import Visualization\n",
    "import seaborn as sns\n",
    "from scipy.stats import shapiro, kruskal, f_oneway"
   ]
  },
  {
   "cell_type": "code",
   "execution_count": 3,
   "id": "cc695a77-630b-4728-8b50-b964b5aa01ee",
   "metadata": {},
   "outputs": [],
   "source": [
    "div_dir = 'poop_data/Diversity'\n",
    "phy_dir = 'poop_data/Phylogeny'\n",
    "tox_dir = 'poop_data/Taxonomy'\n",
    "den_dir= 'poop_data/Denoising'\n",
    "diff_abu= 'poop_data/Differential_abundance'\n",
    "data_dir = 'poop_data'\n",
    "\n",
    "%matplotlib inline"
   ]
  },
  {
   "cell_type": "markdown",
   "id": "c72a12f0-cde2-4ca9-9206-956b8adc050a",
   "metadata": {},
   "source": [
    "##  ANCOM\n",
    "\n",
    "Analyze this dataset given its limitations: \n",
    "1.We will start by filtering our feature table and only retain features that are present at some minimal frequency (30) and in at least 4 samples. This can improve resolution and limit FDR (false discovery rate) penalty on features that are too far below the noise threshhold to be applicable to a statistical test. We can use the `filter-features` action from the `feature-table` plugin. "
   ]
  },
  {
   "cell_type": "code",
   "execution_count": 3,
   "id": "8d5bd54a-1530-4024-8686-086330c6392b",
   "metadata": {},
   "outputs": [
    {
     "name": "stdout",
     "output_type": "stream",
     "text": [
      "\u001b[32mSaved FeatureTable[Frequency] to: poop_data/Differential_abundance/table_abund.qza\u001b[0m\n",
      "\u001b[0m"
     ]
    }
   ],
   "source": [
    "! qiime feature-table filter-features \\\n",
    "    --i-table $den_dir/dada2_table.qza \\\n",
    "    --p-min-frequency 5000 \\\n",
    "    --o-filtered-table $diff_abu/table_abund.qza"
   ]
  },
  {
   "cell_type": "markdown",
   "id": "f8ea9e07-f704-42f8-b036-2d9ecbc1e458",
   "metadata": {},
   "source": [
    "##  ANCOM: GEN_sex"
   ]
  },
  {
   "cell_type": "code",
   "execution_count": 4,
   "id": "7755e6a3-3ba2-425d-8db0-105802a25971",
   "metadata": {},
   "outputs": [
    {
     "name": "stdout",
     "output_type": "stream",
     "text": [
      "\u001b[32mSaved FeatureTable[Frequency] to: poop_data/Differential_abundance/table_abund_female_male.qza\u001b[0m\n",
      "\u001b[0m\u001b[32mSaved FeatureTable[Composition] to: poop_data/Differential_abundance/table_abund_F_M_comp.qza\u001b[0m\n",
      "\u001b[0m\u001b[32mSaved Visualization to: poop_data/Differential_abundance/ancom_SEX.qzv\u001b[0m\n",
      "\u001b[0m"
     ]
    }
   ],
   "source": [
    "! qiime feature-table filter-samples \\\n",
    "    --i-table $diff_abu/table_abund.qza \\\n",
    "    --m-metadata-file $data_dir/metadata.tsv \\\n",
    "    --p-where \"[GEN_sex]='male' or [GEN_sex]='female'\" \\\n",
    "    --o-filtered-table $diff_abu/table_abund_female_male.qza\n",
    "\n",
    "! qiime composition add-pseudocount \\\n",
    "    --i-table $diff_abu/table_abund_female_male.qza \\\n",
    "    --o-composition-table $diff_abu/table_abund_F_M_comp.qza\n",
    "    \n",
    "! qiime composition ancom \\\n",
    "    --i-table $diff_abu/table_abund_F_M_comp.qza \\\n",
    "    --m-metadata-file $data_dir/metadata.tsv \\\n",
    "    --m-metadata-column GEN_sex \\\n",
    "    --p-transform-function log \\\n",
    "    --o-visualization $diff_abu/ancom_SEX.qzv"
   ]
  },
  {
   "cell_type": "code",
   "execution_count": 5,
   "id": "fed11fcd-91c9-4c93-9dd5-e588c86162ec",
   "metadata": {
    "tags": []
   },
   "outputs": [
    {
     "data": {
      "text/html": [
       "<div><img onload=\"(function(div, url){\n",
       "if (typeof require !== 'undefined') {\n",
       "    var baseURL = require.toUrl('').split('/').slice(0, -2).join('/');\n",
       "} else {\n",
       "    var baseURL = JSON.parse(\n",
       "        document.getElementById('jupyter-config-data').innerHTML\n",
       "    ).baseUrl.slice(0, -1);\n",
       "}\n",
       "url = baseURL + url;\n",
       "fetch(url).then(function(res) {\n",
       "    if (res.status === 404) {\n",
       "        div.innerHTML = 'Install QIIME 2 Jupyter extension with:<br />' +\n",
       "                        '<code>jupyter serverextension enable --py qiime2' +\n",
       "                        ' --sys-prefix</code><br />then restart your server.' +\n",
       "                        '<br /><br />(Interactive output not available on ' +\n",
       "                        'static notebook viewer services like nbviewer.)';\n",
       "    } else if (res.status === 409) {\n",
       "        div.innerHTML = 'Visualization no longer in scope. Re-run this cell' +\n",
       "                        ' to see the visualization.';\n",
       "    } else if (res.ok) {\n",
       "        url = res.url;\n",
       "        div.innerHTML = '<iframe src=\\'' + url + '\\' style=\\'' +\n",
       "                        'width: 100%; height: 700px; border: 0;\\'>' +\n",
       "                        '</iframe><hr />Open in a: <a href=\\'' + url + '\\'' +\n",
       "                        ' target=\\'_blank\\'>new window</a>'\n",
       "    } else {\n",
       "        div.innerHTML = 'Something has gone wrong. Check notebook server for' +\n",
       "                        ' errors.';\n",
       "    }\n",
       "});\n",
       "})(this.parentElement, '/qiime2/redirect?location=/tmp/qiime2-archive-untgtod_')\" src=\"data:image/gif;base64,R0lGODlhAQABAIAAAP///wAAACH5BAEAAAAALAAAAAABAAEAAAICRAEAOw==\" /></div>"
      ],
      "text/plain": [
       "<visualization: Visualization uuid: 7e88d072-7188-4257-8cb3-d5c028afb6d2>"
      ]
     },
     "execution_count": 5,
     "metadata": {},
     "output_type": "execute_result"
    }
   ],
   "source": [
    "Visualization.load(f'{diff_abu}/ancom_SEX.qzv')"
   ]
  },
  {
   "cell_type": "markdown",
   "id": "7b4ea319-7836-4dff-8852-6506e423ec2d",
   "metadata": {},
   "source": [
    "By looking at the ANCOM Volcano we can see only one statistically significant ASV at the right corner of the plot. This is **77c2dc197e6b3dbebc4ee240c6a1c559** with a **W=140**. Then we look the same feature in the table of percentile abundances of features by group:\n",
    "    **1)** in 75% of the samples in the female group, 18 or fewer sequences were observed and assigned to this feature\n",
    "    **2)** in 75% of the samples in the male group, 1 sequences were assigned to this feature\n",
    "That would suggest that this feature is more abundant in the female samples. To further investigate these results that we have done in an ASV level we are going to see the taxa down to the species and genus level."
   ]
  },
  {
   "cell_type": "code",
   "execution_count": 6,
   "id": "b7871831-ff89-4f7b-82a1-ec6279f3599b",
   "metadata": {},
   "outputs": [
    {
     "name": "stdout",
     "output_type": "stream",
     "text": [
      "\u001b[32mSaved FeatureTable[Frequency] to: poop_data/Differential_abundance/table_abund_species.qza\u001b[0m\n",
      "\u001b[0m\u001b[32mSaved FeatureTable[Frequency] to: poop_data/Differential_abundance/table_abund_F_M_spec.qza\u001b[0m\n",
      "\u001b[0m\u001b[32mSaved FeatureTable[Composition] to: poop_data/Differential_abundance/table_abund_F_M_spec_comp.qza\u001b[0m\n",
      "\u001b[0m\u001b[32mSaved Visualization to: poop_data/Differential_abundance/ancom_GEN_sex_spec.qzv\u001b[0m\n",
      "\u001b[0m"
     ]
    }
   ],
   "source": [
    "! qiime taxa collapse \\\n",
    "    --i-table $diff_abu/table_abund.qza \\\n",
    "    --i-taxonomy $tox_dir/taxonomy.qza \\\n",
    "    --p-level 7 \\\n",
    "    --o-collapsed-table $diff_abu/table_abund_species.qza\n",
    "\n",
    "! qiime feature-table filter-samples \\\n",
    "    --i-table $diff_abu/table_abund_species.qza \\\n",
    "    --m-metadata-file $data_dir/metadata.tsv \\\n",
    "    --p-where \"[GEN_sex]='male' or [GEN_sex]='female'\" \\\n",
    "    --o-filtered-table $diff_abu/table_abund_F_M_spec.qza\n",
    "\n",
    "! qiime composition add-pseudocount \\\n",
    "    --i-table $diff_abu/table_abund_F_M_spec.qza \\\n",
    "    --o-composition-table $diff_abu/table_abund_F_M_spec_comp.qza\n",
    "\n",
    "! qiime composition ancom \\\n",
    "    --i-table $diff_abu/table_abund_F_M_spec_comp.qza \\\n",
    "    --m-metadata-file $data_dir/metadata.tsv \\\n",
    "    --m-metadata-column GEN_sex \\\n",
    "    --o-visualization $diff_abu/ancom_GEN_sex_spec.qzv"
   ]
  },
  {
   "cell_type": "code",
   "execution_count": 7,
   "id": "abd58332-a6a3-43de-9a38-6bfcd8c0d16c",
   "metadata": {
    "tags": []
   },
   "outputs": [
    {
     "data": {
      "text/html": [
       "<div><img onload=\"(function(div, url){\n",
       "if (typeof require !== 'undefined') {\n",
       "    var baseURL = require.toUrl('').split('/').slice(0, -2).join('/');\n",
       "} else {\n",
       "    var baseURL = JSON.parse(\n",
       "        document.getElementById('jupyter-config-data').innerHTML\n",
       "    ).baseUrl.slice(0, -1);\n",
       "}\n",
       "url = baseURL + url;\n",
       "fetch(url).then(function(res) {\n",
       "    if (res.status === 404) {\n",
       "        div.innerHTML = 'Install QIIME 2 Jupyter extension with:<br />' +\n",
       "                        '<code>jupyter serverextension enable --py qiime2' +\n",
       "                        ' --sys-prefix</code><br />then restart your server.' +\n",
       "                        '<br /><br />(Interactive output not available on ' +\n",
       "                        'static notebook viewer services like nbviewer.)';\n",
       "    } else if (res.status === 409) {\n",
       "        div.innerHTML = 'Visualization no longer in scope. Re-run this cell' +\n",
       "                        ' to see the visualization.';\n",
       "    } else if (res.ok) {\n",
       "        url = res.url;\n",
       "        div.innerHTML = '<iframe src=\\'' + url + '\\' style=\\'' +\n",
       "                        'width: 100%; height: 700px; border: 0;\\'>' +\n",
       "                        '</iframe><hr />Open in a: <a href=\\'' + url + '\\'' +\n",
       "                        ' target=\\'_blank\\'>new window</a>'\n",
       "    } else {\n",
       "        div.innerHTML = 'Something has gone wrong. Check notebook server for' +\n",
       "                        ' errors.';\n",
       "    }\n",
       "});\n",
       "})(this.parentElement, '/qiime2/redirect?location=/tmp/qiime2-archive-yalj9e98')\" src=\"data:image/gif;base64,R0lGODlhAQABAIAAAP///wAAACH5BAEAAAAALAAAAAABAAEAAAICRAEAOw==\" /></div>"
      ],
      "text/plain": [
       "<visualization: Visualization uuid: a6ffab39-e440-41c4-bc55-31d527e829a0>"
      ]
     },
     "execution_count": 7,
     "metadata": {},
     "output_type": "execute_result"
    }
   ],
   "source": [
    "Visualization.load(f'{diff_abu}/ancom_GEN_sex_spec.qzv') # by species level no significant features were found"
   ]
  },
  {
   "cell_type": "code",
   "execution_count": 8,
   "id": "a2cf841c-de6a-4890-a6c9-8dde1291528b",
   "metadata": {},
   "outputs": [
    {
     "name": "stdout",
     "output_type": "stream",
     "text": [
      "\u001b[32mSaved FeatureTable[Frequency] to: poop_data/Differential_abundance/table_abund_genus.qza\u001b[0m\n",
      "\u001b[0m\u001b[32mSaved FeatureTable[Frequency] to: poop_data/Differential_abundance/table_abund_F_M_gen.qza\u001b[0m\n",
      "\u001b[0m\u001b[32mSaved FeatureTable[Composition] to: poop_data/Differential_abundance/table_abund_F_M_gen_comp.qza\u001b[0m\n",
      "\u001b[0m\u001b[32mSaved Visualization to: poop_data/Differential_abundance/ancom_GEN_sex_gen.qzv\u001b[0m\n",
      "\u001b[0m"
     ]
    }
   ],
   "source": [
    "! qiime taxa collapse \\\n",
    "    --i-table $diff_abu/table_abund.qza \\\n",
    "    --i-taxonomy $tox_dir/taxonomy.qza \\\n",
    "    --p-level 6 \\\n",
    "    --o-collapsed-table $diff_abu/table_abund_genus.qza\n",
    "\n",
    "! qiime feature-table filter-samples \\\n",
    "    --i-table $diff_abu/table_abund_genus.qza \\\n",
    "    --m-metadata-file $data_dir/metadata.tsv \\\n",
    "    --p-where \"[GEN_sex]='male' or [GEN_sex]='female'\" \\\n",
    "    --o-filtered-table $diff_abu/table_abund_F_M_gen.qza\n",
    "\n",
    "! qiime composition add-pseudocount \\\n",
    "    --i-table $diff_abu/table_abund_F_M_gen.qza \\\n",
    "    --o-composition-table $diff_abu/table_abund_F_M_gen_comp.qza\n",
    "\n",
    "! qiime composition ancom \\\n",
    "    --i-table $diff_abu/table_abund_F_M_gen_comp.qza \\\n",
    "    --m-metadata-file $data_dir/metadata.tsv \\\n",
    "    --m-metadata-column GEN_sex \\\n",
    "    --o-visualization $diff_abu/ancom_GEN_sex_gen.qzv"
   ]
  },
  {
   "cell_type": "code",
   "execution_count": 9,
   "id": "6db72d5f-0383-44e1-ae74-bf9679730a5d",
   "metadata": {
    "tags": []
   },
   "outputs": [
    {
     "data": {
      "text/html": [
       "<div><img onload=\"(function(div, url){\n",
       "if (typeof require !== 'undefined') {\n",
       "    var baseURL = require.toUrl('').split('/').slice(0, -2).join('/');\n",
       "} else {\n",
       "    var baseURL = JSON.parse(\n",
       "        document.getElementById('jupyter-config-data').innerHTML\n",
       "    ).baseUrl.slice(0, -1);\n",
       "}\n",
       "url = baseURL + url;\n",
       "fetch(url).then(function(res) {\n",
       "    if (res.status === 404) {\n",
       "        div.innerHTML = 'Install QIIME 2 Jupyter extension with:<br />' +\n",
       "                        '<code>jupyter serverextension enable --py qiime2' +\n",
       "                        ' --sys-prefix</code><br />then restart your server.' +\n",
       "                        '<br /><br />(Interactive output not available on ' +\n",
       "                        'static notebook viewer services like nbviewer.)';\n",
       "    } else if (res.status === 409) {\n",
       "        div.innerHTML = 'Visualization no longer in scope. Re-run this cell' +\n",
       "                        ' to see the visualization.';\n",
       "    } else if (res.ok) {\n",
       "        url = res.url;\n",
       "        div.innerHTML = '<iframe src=\\'' + url + '\\' style=\\'' +\n",
       "                        'width: 100%; height: 700px; border: 0;\\'>' +\n",
       "                        '</iframe><hr />Open in a: <a href=\\'' + url + '\\'' +\n",
       "                        ' target=\\'_blank\\'>new window</a>'\n",
       "    } else {\n",
       "        div.innerHTML = 'Something has gone wrong. Check notebook server for' +\n",
       "                        ' errors.';\n",
       "    }\n",
       "});\n",
       "})(this.parentElement, '/qiime2/redirect?location=/tmp/qiime2-archive-qlp336ir')\" src=\"data:image/gif;base64,R0lGODlhAQABAIAAAP///wAAACH5BAEAAAAALAAAAAABAAEAAAICRAEAOw==\" /></div>"
      ],
      "text/plain": [
       "<visualization: Visualization uuid: ef248bf2-2afa-4e34-bd74-234b1d344d6e>"
      ]
     },
     "execution_count": 9,
     "metadata": {},
     "output_type": "execute_result"
    }
   ],
   "source": [
    "Visualization.load(f'{diff_abu}/ancom_GEN_sex_gen.qzv') "
   ]
  },
  {
   "cell_type": "markdown",
   "id": "379a8e33-30cb-4547-88bc-f30891c57403",
   "metadata": {},
   "source": [
    "Now by looking at the ANCOM Volcano we can see an higher tatistically significant difference between the two gender at the both corner of the plot. \n",
    "Also by looking to this Percentile abundances of features by group we can confirm the previous assumption that would suggest that this feature is more abundant in the female samples. ( Females eat more vegetables? )"
   ]
  },
  {
   "cell_type": "markdown",
   "id": "a5269f57-cc1c-4dbb-96ac-e6d1cd448f0d",
   "metadata": {},
   "source": [
    "##  ANCOM: GEN_bmi_cat"
   ]
  },
  {
   "cell_type": "code",
   "execution_count": 10,
   "id": "f2dbb7cb-4036-4c2a-b933-27a36abf0dec",
   "metadata": {},
   "outputs": [
    {
     "name": "stdout",
     "output_type": "stream",
     "text": [
      "\u001b[32mSaved FeatureTable[Frequency] to: poop_data/Differential_abundance/table_abund_bmi_gen.qza\u001b[0m\n",
      "\u001b[0m\u001b[32mSaved FeatureTable[Composition] to: poop_data/Differential_abundance/table_abund_bmi_gen_comp.qza\u001b[0m\n",
      "\u001b[0m\u001b[32mSaved Visualization to: poop_data/Differential_abundance/ancom_GEN_bmi_gen.qzv\u001b[0m\n",
      "\u001b[0m"
     ]
    }
   ],
   "source": [
    "! qiime feature-table filter-samples \\\n",
    "    --i-table $diff_abu/table_abund_genus.qza \\\n",
    "    --m-metadata-file $data_dir/metadata.tsv \\\n",
    "    --p-where \"[GEN_bmi_cat]='Overweight' or [GEN_bmi_cat]='Normal'\" \\\n",
    "    --o-filtered-table $diff_abu/table_abund_bmi_gen.qza\n",
    "\n",
    "! qiime composition add-pseudocount \\\n",
    "    --i-table $diff_abu/table_abund_bmi_gen.qza \\\n",
    "    --o-composition-table $diff_abu/table_abund_bmi_gen_comp.qza\n",
    "\n",
    "! qiime composition ancom \\\n",
    "    --i-table $diff_abu/table_abund_bmi_gen_comp.qza \\\n",
    "    --m-metadata-file $data_dir/metadata.tsv \\\n",
    "    --m-metadata-column GEN_bmi_cat \\\n",
    "    --o-visualization $diff_abu/ancom_GEN_bmi_gen.qzv"
   ]
  },
  {
   "cell_type": "code",
   "execution_count": 11,
   "id": "03fe95c9-fb0e-42d7-a90f-9d99cee2272a",
   "metadata": {
    "tags": []
   },
   "outputs": [
    {
     "data": {
      "text/html": [
       "<div><img onload=\"(function(div, url){\n",
       "if (typeof require !== 'undefined') {\n",
       "    var baseURL = require.toUrl('').split('/').slice(0, -2).join('/');\n",
       "} else {\n",
       "    var baseURL = JSON.parse(\n",
       "        document.getElementById('jupyter-config-data').innerHTML\n",
       "    ).baseUrl.slice(0, -1);\n",
       "}\n",
       "url = baseURL + url;\n",
       "fetch(url).then(function(res) {\n",
       "    if (res.status === 404) {\n",
       "        div.innerHTML = 'Install QIIME 2 Jupyter extension with:<br />' +\n",
       "                        '<code>jupyter serverextension enable --py qiime2' +\n",
       "                        ' --sys-prefix</code><br />then restart your server.' +\n",
       "                        '<br /><br />(Interactive output not available on ' +\n",
       "                        'static notebook viewer services like nbviewer.)';\n",
       "    } else if (res.status === 409) {\n",
       "        div.innerHTML = 'Visualization no longer in scope. Re-run this cell' +\n",
       "                        ' to see the visualization.';\n",
       "    } else if (res.ok) {\n",
       "        url = res.url;\n",
       "        div.innerHTML = '<iframe src=\\'' + url + '\\' style=\\'' +\n",
       "                        'width: 100%; height: 700px; border: 0;\\'>' +\n",
       "                        '</iframe><hr />Open in a: <a href=\\'' + url + '\\'' +\n",
       "                        ' target=\\'_blank\\'>new window</a>'\n",
       "    } else {\n",
       "        div.innerHTML = 'Something has gone wrong. Check notebook server for' +\n",
       "                        ' errors.';\n",
       "    }\n",
       "});\n",
       "})(this.parentElement, '/qiime2/redirect?location=/tmp/qiime2-archive-hz307e24')\" src=\"data:image/gif;base64,R0lGODlhAQABAIAAAP///wAAACH5BAEAAAAALAAAAAABAAEAAAICRAEAOw==\" /></div>"
      ],
      "text/plain": [
       "<visualization: Visualization uuid: d65ff0c7-7a54-44ec-b83b-b62ef70f5f40>"
      ]
     },
     "execution_count": 11,
     "metadata": {},
     "output_type": "execute_result"
    }
   ],
   "source": [
    "Visualization.load(f'{diff_abu}/ancom_GEN_bmi_gen.qzv') "
   ]
  },
  {
   "cell_type": "markdown",
   "id": "0352f4e7-c198-4065-b89f-5a19147d4567",
   "metadata": {},
   "source": [
    "No significant features found"
   ]
  },
  {
   "cell_type": "markdown",
   "id": "5e5d3d2c-b79a-4913-9f57-351d3ad29cac",
   "metadata": {},
   "source": [
    "##  ANCOM: HEA_..."
   ]
  },
  {
   "cell_type": "code",
   "execution_count": 22,
   "id": "860ae0b2-bc19-4d4e-b07f-42f60c06f5df",
   "metadata": {},
   "outputs": [
    {
     "data": {
      "text/plain": [
       "Index(['sampleid', 'GEN_age_cat', 'GEN_age_corrected', 'GEN_bmi_cat',\n",
       "       'GEN_bmi_corrected', 'GEN_cat', 'GEN_collection_timestamp',\n",
       "       'GEN_country', 'GEN_dog', 'GEN_elevation', 'GEN_geo_loc_name',\n",
       "       'GEN_height_cm', 'GEN_host_common_name', 'GEN_last_move',\n",
       "       'GEN_last_travel', 'GEN_latitude', 'GEN_level_of_education',\n",
       "       'GEN_longitude', 'GEN_race', 'GEN_sample_type', 'GEN_sex',\n",
       "       'GEN_weight_kg', 'HEA_acid_reflux', 'HEA_add_adhd',\n",
       "       'HEA_allergic_to_peanuts', 'HEA_antibiotic_history',\n",
       "       'HEA_appendix_removed', 'HEA_autoimmune',\n",
       "       'HEA_bowel_movement_frequency', 'HEA_bowel_movement_quality',\n",
       "       'HEA_cancer', 'HEA_cancer_treatment', 'HEA_cardiovascular_disease',\n",
       "       'HEA_cdiff', 'HEA_chickenpox', 'HEA_contraceptive', 'HEA_csection',\n",
       "       'HEA_diabetes', 'HEA_exercise_frequency', 'HEA_ibd', 'HEA_ibs',\n",
       "       'HEA_liver_disease', 'HEA_lung_disease', 'HEA_mental_illness',\n",
       "       'HEA_migraine', 'HEA_seasonal_allergies', 'HEA_sibo',\n",
       "       'HEA_skin_condition', 'HEA_sleep_duration', 'HEA_smoking_frequency',\n",
       "       'HEA_thyroid', 'HEA_weight_change'],\n",
       "      dtype='object')"
      ]
     },
     "execution_count": 22,
     "metadata": {},
     "output_type": "execute_result"
    }
   ],
   "source": [
    "df_metadata = pd.read_csv('poop_data/metadata.tsv', sep = '\\t')\n",
    "df_metadata.columns"
   ]
  },
  {
   "cell_type": "code",
   "execution_count": 23,
   "id": "cca81f44-d696-40fc-a1f7-907e641e57ed",
   "metadata": {},
   "outputs": [
    {
     "name": "stdout",
     "output_type": "stream",
     "text": [
      "\u001b[32mSaved FeatureTable[Frequency] to: poop_data/Differential_abundance/table_abund_genus.qza\u001b[0m\n",
      "\u001b[0m\u001b[32mSaved FeatureTable[Frequency] to: poop_data/Differential_abundance/table_abund_cdiff.qza\u001b[0m\n",
      "\u001b[0m\u001b[32mSaved FeatureTable[Composition] to: poop_data/Differential_abundance/table_abund_cdiff_comp.qza\u001b[0m\n",
      "\u001b[0m\u001b[32mSaved Visualization to: poop_data/Differential_abundance/ancom_cdiff.qzv\u001b[0m\n",
      "\u001b[0m"
     ]
    }
   ],
   "source": [
    "! qiime taxa collapse \\\n",
    "    --i-table $diff_abu/table_abund.qza \\\n",
    "    --i-taxonomy $tox_dir/taxonomy.qza \\\n",
    "    --p-level 7 \\\n",
    "    --o-collapsed-table $diff_abu/table_abund_genus.qza\n",
    "\n",
    "! qiime feature-table filter-samples \\\n",
    "    --i-table $diff_abu/table_abund_genus.qza \\\n",
    "    --m-metadata-file $data_dir/metadata.tsv \\\n",
    "    --p-where \"[HEA_cdiff]='True' or [HEA_cdiff]='False'\" \\\n",
    "    --o-filtered-table $diff_abu/table_abund_cdiff.qza\n",
    "\n",
    "! qiime composition add-pseudocount \\\n",
    "    --i-table $diff_abu/table_abund_cdiff.qza \\\n",
    "    --o-composition-table $diff_abu/table_abund_cdiff_comp.qza\n",
    "\n",
    "! qiime composition ancom \\\n",
    "    --i-table $diff_abu/table_abund_cdiff_comp.qza \\\n",
    "    --m-metadata-file $data_dir/metadata.tsv \\\n",
    "    --m-metadata-column HEA_cdiff \\\n",
    "    --o-visualization $diff_abu/ancom_cdiff.qzv"
   ]
  },
  {
   "cell_type": "code",
   "execution_count": 1,
   "id": "e9ba6e47-4ebd-41f4-a12b-a79323ded7c0",
   "metadata": {},
   "outputs": [
    {
     "ename": "NameError",
     "evalue": "name 'Visualization' is not defined",
     "output_type": "error",
     "traceback": [
      "\u001b[0;31m---------------------------------------------------------------------------\u001b[0m",
      "\u001b[0;31mNameError\u001b[0m                                 Traceback (most recent call last)",
      "Input \u001b[0;32mIn [1]\u001b[0m, in \u001b[0;36m<cell line: 1>\u001b[0;34m()\u001b[0m\n\u001b[0;32m----> 1\u001b[0m \u001b[43mVisualization\u001b[49m\u001b[38;5;241m.\u001b[39mload(\u001b[38;5;124mf\u001b[39m\u001b[38;5;124m'\u001b[39m\u001b[38;5;132;01m{\u001b[39;00mdiff_abu\u001b[38;5;132;01m}\u001b[39;00m\u001b[38;5;124m/ancom_cdiff.qzv\u001b[39m\u001b[38;5;124m'\u001b[39m)\n",
      "\u001b[0;31mNameError\u001b[0m: name 'Visualization' is not defined"
     ]
    }
   ],
   "source": [
    "Visualization.load(f'{diff_abu}/ancom_cdiff.qzv') "
   ]
  },
  {
   "cell_type": "markdown",
   "id": "9beb6a4b-aa45-4653-b049-4689faec23e4",
   "metadata": {},
   "source": [
    "columns were significant differences were found:\n",
    "\n",
    "\n",
    "columns were no significant differences were found:\n",
    "HEA_migraine, mental illness, sibo, cdiff"
   ]
  },
  {
   "cell_type": "code",
   "execution_count": null,
   "id": "aef6f106-0ea8-4103-8bd1-c610f12ad087",
   "metadata": {},
   "outputs": [],
   "source": []
  }
 ],
 "metadata": {
  "kernelspec": {
   "display_name": "Python 3 (ipykernel)",
   "language": "python",
   "name": "python3"
  },
  "language_info": {
   "codemirror_mode": {
    "name": "ipython",
    "version": 3
   },
   "file_extension": ".py",
   "mimetype": "text/x-python",
   "name": "python",
   "nbconvert_exporter": "python",
   "pygments_lexer": "ipython3",
   "version": "3.8.13"
  }
 },
 "nbformat": 4,
 "nbformat_minor": 5
}
